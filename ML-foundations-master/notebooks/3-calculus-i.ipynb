{
 "cells": [
  {
   "cell_type": "markdown",
   "metadata": {
    "colab_type": "text",
    "id": "view-in-github"
   },
   "source": [
    "<a href=\"https://colab.research.google.com/github/jonkrohn/ML-foundations/blob/master/notebooks/3-calculus-i.ipynb\" target=\"_parent\"><img src=\"https://colab.research.google.com/assets/colab-badge.svg\" alt=\"Open In Colab\"/></a>"
   ]
  },
  {
   "cell_type": "markdown",
   "metadata": {
    "id": "aTOLgsbN69-P"
   },
   "source": [
    "# Calculus I: Limits & Derivatives"
   ]
  },
  {
   "cell_type": "markdown",
   "metadata": {
    "id": "yqUB9FTRAxd-"
   },
   "source": [
    "This topic, *Calculus I: Limits & Derivatives*, introduces the mathematical field of calculus -- the study of rates of change -- from the ground up. It is essential because computing derivatives via differentiation is the basis of optimizing most machine learning algorithms, including those used in deep learning such as backpropagation and stochastic gradient descent. \n",
    "\n",
    "Through the measured exposition of theory paired with interactive examples, you’ll develop a working understanding of how calculus is used to compute limits and differentiate functions. You’ll also learn how to apply automatic differentiation within the popular TensorFlow 2 and PyTorch machine learning libraries. The content covered in this class is itself foundational for several other topics in the *Machine Learning Foundations* series, especially *Calculus II* and *Optimization*."
   ]
  },
  {
   "cell_type": "markdown",
   "metadata": {
    "id": "d4tBvI88BheF"
   },
   "source": [
    "Over the course of studying this topic, you'll: \n",
    "\n",
    "* Develop an understanding of what’s going on beneath the hood of machine learning algorithms, including those used for deep learning. \n",
    "* Be able to more intimately grasp the details of machine learning papers as well as many of the other subjects that underlie ML, including partial-derivative calculus, statistics and optimization algorithms. \n",
    "* Compute the derivatives of functions, including by using AutoDiff in the popular TensorFlow 2 and PyTorch libraries."
   ]
  },
  {
   "cell_type": "markdown",
   "metadata": {
    "id": "Z68nQ0ekCYhF"
   },
   "source": [
    "**Note that this Jupyter notebook is not intended to stand alone. It is the companion code to a lecture or to videos from Jon Krohn's [Machine Learning Foundations](https://github.com/jonkrohn/ML-foundations) series, which offer detail on the following:**\n",
    "\n",
    "*Segment 1: Limits*\n",
    "\n",
    "* What Calculus Is\n",
    "* A Brief History of Calculus\n",
    "* The Method of Exhaustion \n",
    "* Calculating Limits \n",
    "\n",
    "*Segment 2: Computing Derivatives with Differentiation*\n",
    "* The Delta Method\n",
    "* The Differentiation Equation\n",
    "* Derivative Notation\n",
    "* The Power Rule\n",
    "* The Constant Multiple Rule\n",
    "* The Sum Rule\n",
    "* The Product Rule\n",
    "* The Quotient Rule\n",
    "* The Chain Rule\n",
    "\n",
    "*Segment 3: Automatic Differentiation*\n",
    "* AutoDiff with PyTorch\n",
    "* AutoDiff with TensorFlow 2\n",
    "* Machine Learning via Differentiation \n",
    "* Cost (or Loss) Functions\n",
    "* The Future: Differentiable Programming \n"
   ]
  },
  {
   "cell_type": "markdown",
   "metadata": {
    "id": "1SHRQmz0cxYw"
   },
   "source": [
    "## Segment 1: Limits"
   ]
  },
  {
   "cell_type": "markdown",
   "metadata": {
    "id": "ab2YePNtcxYx"
   },
   "source": [
    "### The Calculus of Infinitesimals"
   ]
  },
  {
   "cell_type": "code",
   "execution_count": 2,
   "metadata": {
    "id": "Bzug184ZcxYx"
   },
   "outputs": [],
   "source": [
    "import numpy as np\n",
    "import matplotlib.pyplot as plt"
   ]
  },
  {
   "cell_type": "code",
   "execution_count": 3,
   "metadata": {
    "id": "Kgjg4q4kcxY1"
   },
   "outputs": [],
   "source": [
    "x = np.linspace(-10, 10, 10000) # start, finish, n points"
   ]
  },
  {
   "cell_type": "markdown",
   "metadata": {
    "id": "MHWrqwBacxY4"
   },
   "source": [
    "If $y = x^2 + 2x + 2$: "
   ]
  },
  {
   "cell_type": "code",
   "execution_count": 4,
   "metadata": {
    "id": "y4oTgUY_cxY5"
   },
   "outputs": [],
   "source": [
    "y = x**2 + 2*x + 2"
   ]
  },
  {
   "cell_type": "code",
   "execution_count": 5,
   "metadata": {
    "colab": {
     "base_uri": "https://localhost:8080/",
     "height": 265
    },
    "id": "5OxJjePDcxY8",
    "outputId": "9ffb0b81-c1e3-4634-f552-c22713f36ed5"
   },
   "outputs": [
    {
     "data": {
      "image/png": "[encoded data removed]",
      "text/plain": [
       "<Figure size 432x288 with 1 Axes>"
      ]
     },
     "metadata": {
      "needs_background": "light"
     },
     "output_type": "display_data"
    }
   ],
   "source": [
    "fig, ax = plt.subplots()\n",
    "_ = ax.plot(x,y)"
   ]
  },
  {
   "cell_type": "markdown",
   "metadata": {
    "id": "5IjlYM5LcxY_"
   },
   "source": [
    "* There are no straight lines on the curve. \n",
    "* If we zoom in _infinitely_ close, however, we observe curves that _approach_ lines. \n",
    "* This enables us to find a slope $m$ (tangent) anywhere on the curve, including to identify where $m = 0$: "
   ]
  },
  {
   "cell_type": "code",
   "execution_count": null,
   "metadata": {
    "colab": {
     "base_uri": "https://localhost:8080/",
     "height": 269
    },
    "id": "nJ1n043-cxZA",
    "outputId": "ca8a8659-68d2-41cd-e7c3-14770e02123d"
   },
   "outputs": [],
   "source": [
    "fig, ax = plt.subplots()\n",
    "ax.set_xlim([-2, -0])\n",
    "ax.set_ylim([0, 2])\n",
    "_ = ax.plot(x,y)"
   ]
  },
  {
   "cell_type": "code",
   "execution_count": null,
   "metadata": {
    "colab": {
     "base_uri": "https://localhost:8080/",
     "height": 265
    },
    "id": "tgrXcqfScxZD",
    "outputId": "2f9bac4e-cba5-4511-b33d-492d98c35fd8"
   },
   "outputs": [],
   "source": [
    "fig, ax = plt.subplots()\n",
    "ax.set_xlim([-1.5, -0.5])\n",
    "ax.set_ylim([0.5, 1.5])\n",
    "_ = ax.plot(x,y)"
   ]
  },
  {
   "cell_type": "code",
   "execution_count": null,
   "metadata": {
    "colab": {
     "base_uri": "https://localhost:8080/",
     "height": 269
    },
    "id": "8osTRq2AcxZG",
    "outputId": "e3bf3dcf-9bfd-4db9-d6c9-e3e36b090121"
   },
   "outputs": [],
   "source": [
    "fig, ax = plt.subplots()\n",
    "ax.set_xlim([-1.1, -0.9])\n",
    "ax.set_ylim([0.9, 1.1])\n",
    "_ = ax.plot(x,y)"
   ]
  },
  {
   "cell_type": "code",
   "execution_count": null,
   "metadata": {
    "colab": {
     "base_uri": "https://localhost:8080/",
     "height": 269
    },
    "id": "tpcDMwpDcxZJ",
    "outputId": "c8ae08bf-c360-454d-901c-ff931b747cdf"
   },
   "outputs": [],
   "source": [
    "fig, ax = plt.subplots()\n",
    "ax.set_xlim([-1.01, -0.99])\n",
    "ax.set_ylim([0.99, 1.01])\n",
    "_ = ax.plot(x,y)"
   ]
  },
  {
   "cell_type": "markdown",
   "metadata": {
    "id": "BJ0B4YNPcxZL"
   },
   "source": [
    "**Return to slides here.**"
   ]
  },
  {
   "cell_type": "markdown",
   "metadata": {
    "id": "38-6wbQocxZL"
   },
   "source": [
    "### Limits"
   ]
  },
  {
   "cell_type": "code",
   "execution_count": null,
   "metadata": {
    "colab": {
     "base_uri": "https://localhost:8080/",
     "height": 269
    },
    "id": "S7GSdz-ucxZM",
    "outputId": "3686163d-44c8-4698-da51-be594c100f3a"
   },
   "outputs": [],
   "source": [
    "fig, ax = plt.subplots()\n",
    "plt.axvline(x=0, color='lightgray')\n",
    "plt.axhline(y=0, color='lightgray')\n",
    "plt.xlim(-5, 10)\n",
    "plt.ylim(-10, 80)\n",
    "plt.axvline(x=5, color='purple', linestyle='--')\n",
    "plt.axhline(y=37, color='purple', linestyle='--')\n",
    "_ = ax.plot(x,y)"
   ]
  },
  {
   "cell_type": "markdown",
   "metadata": {
    "id": "AaRfRUYtcxZO"
   },
   "source": [
    "$$\\lim_{x \\to 1} \\frac{x^2 - 1}{x - 1}$$"
   ]
  },
  {
   "cell_type": "code",
   "execution_count": null,
   "metadata": {
    "id": "ZdDhpdiPcxZO"
   },
   "outputs": [],
   "source": [
    "def my_fxn(my_x):\n",
    "    my_y = (my_x**2 - 1)/(my_x - 1)\n",
    "    return my_y"
   ]
  },
  {
   "cell_type": "code",
   "execution_count": null,
   "metadata": {
    "colab": {
     "base_uri": "https://localhost:8080/"
    },
    "id": "5xKbepf445LM",
    "outputId": "8c8fac8a-9026-45d6-9476-906cd80111ad"
   },
   "outputs": [],
   "source": [
    "my_fxn(2)"
   ]
  },
  {
   "cell_type": "code",
   "execution_count": null,
   "metadata": {
    "id": "umrgvf3BcxZQ"
   },
   "outputs": [],
   "source": [
    "# Uncommenting the following line results in a 'division by zero' error:\n",
    "# my_fxn(1)"
   ]
  },
  {
   "cell_type": "code",
   "execution_count": null,
   "metadata": {
    "colab": {
     "base_uri": "https://localhost:8080/"
    },
    "id": "yeGqX8oscxZS",
    "outputId": "041d14a7-d67c-4302-f05d-3527ade11ab2"
   },
   "outputs": [],
   "source": [
    "my_fxn(0.9)"
   ]
  },
  {
   "cell_type": "code",
   "execution_count": null,
   "metadata": {
    "colab": {
     "base_uri": "https://localhost:8080/"
    },
    "id": "4unTKbu8cxZU",
    "outputId": "58b57aa7-7550-471e-bb3f-9827307db589"
   },
   "outputs": [],
   "source": [
    "my_fxn(0.999)"
   ]
  },
  {
   "cell_type": "code",
   "execution_count": null,
   "metadata": {
    "colab": {
     "base_uri": "https://localhost:8080/"
    },
    "id": "YuVfXKa5cxZW",
    "outputId": "4a63cee9-c029-477d-a7cb-fd805a08653b"
   },
   "outputs": [],
   "source": [
    "my_fxn(1.1)"
   ]
  },
  {
   "cell_type": "code",
   "execution_count": null,
   "metadata": {
    "colab": {
     "base_uri": "https://localhost:8080/"
    },
    "id": "x4eY1qWEcxZY",
    "outputId": "1c1a6d44-0137-44f4-e7cf-cb5a701f5006"
   },
   "outputs": [],
   "source": [
    "my_fxn(1.001)"
   ]
  },
  {
   "cell_type": "code",
   "execution_count": null,
   "metadata": {
    "id": "pjUtPQwAcxZb"
   },
   "outputs": [],
   "source": [
    "y = my_fxn(x)"
   ]
  },
  {
   "cell_type": "code",
   "execution_count": null,
   "metadata": {
    "colab": {
     "base_uri": "https://localhost:8080/",
     "height": 269
    },
    "id": "Tg4Ow8k3cxZe",
    "outputId": "3a13c87a-7eb0-47da-d959-a1b4bdedb65c"
   },
   "outputs": [],
   "source": [
    "fig, ax = plt.subplots()\n",
    "plt.axvline(x=0, color='lightgray')\n",
    "plt.axhline(y=0, color='lightgray')\n",
    "plt.xlim(-1, 5)\n",
    "plt.ylim(-1, 5)\n",
    "plt.axvline(x=1, color='purple', linestyle='--')\n",
    "plt.axhline(y=2, color='purple', linestyle='--')\n",
    "_ = ax.plot(x,y)"
   ]
  },
  {
   "cell_type": "markdown",
   "metadata": {
    "id": "VQWYjKjVcxZf"
   },
   "source": [
    "**Return to slides here.**"
   ]
  },
  {
   "cell_type": "markdown",
   "metadata": {
    "id": "hc3PDahDcxZg"
   },
   "source": [
    "$$\\lim_{x \\to 0} \\frac{\\text{sin } x}{x}$$"
   ]
  },
  {
   "cell_type": "code",
   "execution_count": null,
   "metadata": {
    "id": "XDLZLagKcxZg"
   },
   "outputs": [],
   "source": [
    "def sin_fxn(my_x):\n",
    "    my_y = np.sin(my_x)/my_x\n",
    "    return my_y"
   ]
  },
  {
   "cell_type": "code",
   "execution_count": null,
   "metadata": {
    "id": "HU-B5ebBcxZi"
   },
   "outputs": [],
   "source": [
    "# Uncommenting the following line results in a 'division by zero' error:\n",
    "# y = sin_fxn(0)"
   ]
  },
  {
   "cell_type": "code",
   "execution_count": null,
   "metadata": {
    "colab": {
     "base_uri": "https://localhost:8080/"
    },
    "id": "YjIqAWnwcxZk",
    "outputId": "f9760170-6248-444d-c8a5-e2a817100298"
   },
   "outputs": [],
   "source": [
    "sin_fxn(0.1)"
   ]
  },
  {
   "cell_type": "code",
   "execution_count": null,
   "metadata": {
    "colab": {
     "base_uri": "https://localhost:8080/"
    },
    "id": "mmTAnugUcxZm",
    "outputId": "b73c423a-cd63-4fdd-aa72-8e0a922e9e28"
   },
   "outputs": [],
   "source": [
    "sin_fxn(0.001)"
   ]
  },
  {
   "cell_type": "code",
   "execution_count": null,
   "metadata": {
    "colab": {
     "base_uri": "https://localhost:8080/"
    },
    "id": "UFM_c1t_cxZp",
    "outputId": "5f082cc3-a1e1-4f3f-926f-b3a4a18b4490"
   },
   "outputs": [],
   "source": [
    "sin_fxn(-0.1)"
   ]
  },
  {
   "cell_type": "code",
   "execution_count": null,
   "metadata": {
    "colab": {
     "base_uri": "https://localhost:8080/"
    },
    "id": "xrSXdv0ScxZr",
    "outputId": "8c66240a-ec06-400f-ddf7-02e0d1c8fc48"
   },
   "outputs": [],
   "source": [
    "sin_fxn(-0.001)"
   ]
  },
  {
   "cell_type": "code",
   "execution_count": null,
   "metadata": {
    "id": "5nhhRmJTcxZs"
   },
   "outputs": [],
   "source": [
    "y = sin_fxn(x)"
   ]
  },
  {
   "cell_type": "code",
   "execution_count": null,
   "metadata": {
    "colab": {
     "base_uri": "https://localhost:8080/",
     "height": 269
    },
    "id": "bolWRmXmcxZu",
    "outputId": "f06aec8a-ffcd-4110-da53-41b517ab8b95"
   },
   "outputs": [],
   "source": [
    "fig, ax = plt.subplots()\n",
    "plt.axvline(x=0, color='lightgray')\n",
    "plt.axhline(y=0, color='lightgray')\n",
    "plt.xlim(-10, 10)\n",
    "plt.ylim(-1, 2)\n",
    "plt.axvline(x=0, color='purple', linestyle='--')\n",
    "plt.axhline(y=1, color='purple', linestyle='--')\n",
    "_ = ax.plot(x,y)"
   ]
  },
  {
   "cell_type": "markdown",
   "metadata": {
    "id": "2OI8JVY6cxZw"
   },
   "source": [
    "**Return to slides here.**"
   ]
  },
  {
   "cell_type": "markdown",
   "metadata": {
    "id": "ly5b30kjcxZx"
   },
   "source": [
    "$$ \\lim_{x \\to \\infty} \\frac{25}{x} $$"
   ]
  },
  {
   "cell_type": "code",
   "execution_count": null,
   "metadata": {
    "id": "-WbP-XFncxZy"
   },
   "outputs": [],
   "source": [
    "def inf_fxn(my_x):\n",
    "    my_y = 25/my_x\n",
    "    return my_y"
   ]
  },
  {
   "cell_type": "code",
   "execution_count": null,
   "metadata": {
    "colab": {
     "base_uri": "https://localhost:8080/"
    },
    "id": "C-35M67YcxZ3",
    "outputId": "c6f52cd5-d3a4-4fa5-b15e-79d6aa4e981a"
   },
   "outputs": [],
   "source": [
    "inf_fxn(1e3)"
   ]
  },
  {
   "cell_type": "code",
   "execution_count": null,
   "metadata": {
    "colab": {
     "base_uri": "https://localhost:8080/"
    },
    "id": "jZ88FSTfcxZ5",
    "outputId": "e7313985-aa06-4730-eab9-382cc307fd14"
   },
   "outputs": [],
   "source": [
    "inf_fxn(1e6)"
   ]
  },
  {
   "cell_type": "code",
   "execution_count": null,
   "metadata": {
    "id": "PwTJXJWWeDZT"
   },
   "outputs": [],
   "source": [
    "y = inf_fxn(x)"
   ]
  },
  {
   "cell_type": "code",
   "execution_count": null,
   "metadata": {
    "colab": {
     "base_uri": "https://localhost:8080/",
     "height": 269
    },
    "id": "AwwKi3RMeBjV",
    "outputId": "e364db18-17e4-4fc6-ea04-b667a5f9965e"
   },
   "outputs": [],
   "source": [
    "fig, ax = plt.subplots()\n",
    "plt.axvline(x=0, color='lightgray')\n",
    "plt.axhline(y=0, color='lightgray')\n",
    "plt.xlim(-10, 10)\n",
    "plt.ylim(-300, 300)\n",
    "_ = ax.plot(x, y)"
   ]
  },
  {
   "cell_type": "code",
   "execution_count": null,
   "metadata": {
    "id": "2Rjoo4OKbmnB"
   },
   "outputs": [],
   "source": [
    "left_x = x[x<0]\n",
    "right_x = x[x>0]"
   ]
  },
  {
   "cell_type": "code",
   "execution_count": null,
   "metadata": {
    "id": "sb9QiH6vcxZ0"
   },
   "outputs": [],
   "source": [
    "left_y = inf_fxn(left_x)\n",
    "right_y = inf_fxn(right_x)"
   ]
  },
  {
   "cell_type": "code",
   "execution_count": null,
   "metadata": {
    "colab": {
     "base_uri": "https://localhost:8080/",
     "height": 269
    },
    "id": "vleskD0VcxZ7",
    "outputId": "a1e13c1c-378e-40de-d0b1-9c32569c78ee"
   },
   "outputs": [],
   "source": [
    "fig, ax = plt.subplots()\n",
    "plt.axvline(x=0, color='lightgray')\n",
    "plt.axhline(y=0, color='lightgray')\n",
    "plt.xlim(-10, 10)\n",
    "plt.ylim(-300, 300)\n",
    "ax.plot(left_x, left_y, c='C0')\n",
    "_ = ax.plot(right_x, right_y, c='C0')"
   ]
  },
  {
   "cell_type": "markdown",
   "metadata": {
    "id": "bA2xg33LcxZ8"
   },
   "source": [
    "**Exercises:**\n",
    "\n",
    "Evaluate the limits below using techniques from the slides or above.\n",
    "\n",
    "1. $$ \\lim_{x \\to 0} \\frac{x^2-1}{x-1} $$\n",
    "2. $$ \\lim_{x \\to -5} \\frac{x^2-25}{x+5} $$\n",
    "3. $$ \\lim_{x \\to 4} \\frac{x^2 -2x -8}{x-4} $$\n",
    "4. $$ \\lim_{x \\to -\\infty} \\frac{25}{x} $$\n",
    "5. $$ \\lim_{x \\to 0} \\frac{25}{x} $$"
   ]
  },
  {
   "cell_type": "markdown",
   "metadata": {
    "id": "zIhHIcmzLTQQ"
   },
   "source": [
    "FYI: While not necessary for ML nor for this *ML Foundations* curriculum, the `SymPy` [symbolic mathematics library](https://www.sympy.org/en/index.html) includes a `limits()` method. You can read about applying it to evaluate limits of expressions [here](https://www.geeksforgeeks.org/python-sympy-limit-method/)."
   ]
  },
  {
   "cell_type": "markdown",
   "metadata": {
    "id": "AbAn1ChdcxZ9"
   },
   "source": [
    "**Return to slides here.**"
   ]
  },
  {
   "cell_type": "markdown",
   "metadata": {
    "id": "e7cnhfOYcxZ9"
   },
   "source": [
    "## Segment 2: Computing Derivatives with Differentiation"
   ]
  },
  {
   "cell_type": "markdown",
   "metadata": {
    "id": "CDn8BeCDcxZ9"
   },
   "source": [
    "Let's bring back our ol' buddy $y = x^2 + 2x + 2$:"
   ]
  },
  {
   "cell_type": "code",
   "execution_count": null,
   "metadata": {
    "id": "Dk2EXlqccxZ-"
   },
   "outputs": [],
   "source": [
    "def f(my_x):\n",
    "    my_y = my_x**2 + 2*my_x + 2\n",
    "    return my_y"
   ]
  },
  {
   "cell_type": "code",
   "execution_count": null,
   "metadata": {
    "id": "SLmyyYdEcxaA"
   },
   "outputs": [],
   "source": [
    "y = f(x)"
   ]
  },
  {
   "cell_type": "code",
   "execution_count": null,
   "metadata": {
    "colab": {
     "base_uri": "https://localhost:8080/",
     "height": 265
    },
    "id": "eNIlXWeQcxaC",
    "outputId": "0fef978e-f7ed-40cc-e353-2759a0297b73"
   },
   "outputs": [],
   "source": [
    "fig, ax = plt.subplots()\n",
    "plt.axvline(x=0, color='lightgray')\n",
    "plt.axhline(y=0, color='lightgray')\n",
    "_ = ax.plot(x,y)"
   ]
  },
  {
   "cell_type": "markdown",
   "metadata": {
    "id": "h7C7nPEhcxaD"
   },
   "source": [
    "Let's identify the slope where, say, $x = 2$."
   ]
  },
  {
   "cell_type": "markdown",
   "metadata": {
    "id": "DeVa3RrtcxaE"
   },
   "source": [
    "First, let's determine what $y$ is: "
   ]
  },
  {
   "cell_type": "code",
   "execution_count": null,
   "metadata": {
    "colab": {
     "base_uri": "https://localhost:8080/"
    },
    "id": "hz5oolNEcxaE",
    "outputId": "8dd78728-b4ed-49d6-fc05-f5a65bbc7bed"
   },
   "outputs": [],
   "source": [
    "f(2)"
   ]
  },
  {
   "cell_type": "markdown",
   "metadata": {
    "id": "7fkzBRR5cxaF"
   },
   "source": [
    "Cool. Let's call this point $P$, which is located at (2, 10):"
   ]
  },
  {
   "cell_type": "code",
   "execution_count": null,
   "metadata": {
    "colab": {
     "base_uri": "https://localhost:8080/",
     "height": 265
    },
    "id": "IOI2oxj2cxaG",
    "outputId": "f60d568f-c926-4a70-d5ca-2783fc50082c"
   },
   "outputs": [],
   "source": [
    "fig, ax = plt.subplots()\n",
    "plt.axvline(x=0, color='lightgray')\n",
    "plt.axhline(y=0, color='lightgray')\n",
    "plt.scatter(2, 10) # new\n",
    "_ = ax.plot(x,y)"
   ]
  },
  {
   "cell_type": "markdown",
   "metadata": {
    "id": "PPCiF6CacxaI"
   },
   "source": [
    "The _delta method_ uses the difference between two points to calculate slope. To illustrate this, let's define another point, $Q$ where, say, $x = 5$."
   ]
  },
  {
   "cell_type": "code",
   "execution_count": null,
   "metadata": {
    "colab": {
     "base_uri": "https://localhost:8080/"
    },
    "id": "YAP0LJnxcxaI",
    "outputId": "7d340508-1c97-4d88-bcb9-cf48bdcac524"
   },
   "outputs": [],
   "source": [
    "f(5)"
   ]
  },
  {
   "cell_type": "code",
   "execution_count": null,
   "metadata": {
    "colab": {
     "base_uri": "https://localhost:8080/",
     "height": 265
    },
    "id": "usfMMyTvcxaK",
    "outputId": "a11a27e7-704c-4819-b920-cd0813f8b86a"
   },
   "outputs": [],
   "source": [
    "fig, ax = plt.subplots()\n",
    "plt.axvline(x=0, color='lightgray')\n",
    "plt.axhline(y=0, color='lightgray')\n",
    "plt.scatter(2, 10)\n",
    "plt.scatter(5, 37, c = 'orange', zorder=3) # new\n",
    "_ = ax.plot(x,y)"
   ]
  },
  {
   "cell_type": "markdown",
   "metadata": {
    "id": "kdony9sucxaM"
   },
   "source": [
    "To find the slope $m$ between points $P$ and $Q$: \n",
    "$$m = \\frac{\\text{change in }y}{\\text{change in }x} = \\frac{\\Delta y}{\\Delta x} = \\frac{y_2 - y_1}{x_2 - x_1} = \\frac{37-10}{5-2} = \\frac{27}{3} = 9$$"
   ]
  },
  {
   "cell_type": "code",
   "execution_count": null,
   "metadata": {
    "colab": {
     "base_uri": "https://localhost:8080/"
    },
    "id": "kgoU-_wzcxaM",
    "outputId": "a44c6af7-fe97-4a90-fafa-7228c5b44982"
   },
   "outputs": [],
   "source": [
    "m = (37-10)/(5-2)\n",
    "m"
   ]
  },
  {
   "cell_type": "markdown",
   "metadata": {
    "id": "ZWtSUfLVcxaP"
   },
   "source": [
    "To plot the line that passes through $P$ and $Q$, we can rearrange the equation of a line $y = mx + b$ to solve for $b$: \n",
    "$$b = y - mx$$"
   ]
  },
  {
   "cell_type": "code",
   "execution_count": null,
   "metadata": {
    "colab": {
     "base_uri": "https://localhost:8080/"
    },
    "id": "UuYXrltscxaP",
    "outputId": "4aa81301-d991-4288-d314-2ea828c8f53a"
   },
   "outputs": [],
   "source": [
    "b = 37-m*5\n",
    "b"
   ]
  },
  {
   "cell_type": "code",
   "execution_count": null,
   "metadata": {
    "id": "AwawB1LLcxaR"
   },
   "outputs": [],
   "source": [
    "line_y = m*x + b"
   ]
  },
  {
   "cell_type": "code",
   "execution_count": null,
   "metadata": {
    "colab": {
     "base_uri": "https://localhost:8080/",
     "height": 265
    },
    "id": "Lkg2Bl7TcxaT",
    "outputId": "89e9c6a9-5e5b-45b7-8091-98a09f1ae21f"
   },
   "outputs": [],
   "source": [
    "fig, ax = plt.subplots()\n",
    "plt.axvline(x=0, color='lightgray')\n",
    "plt.axhline(y=0, color='lightgray')\n",
    "plt.scatter(2, 10)\n",
    "plt.scatter(5, 37, c='orange', zorder=3)\n",
    "plt.ylim(-5, 150) # new\n",
    "plt.plot(x, line_y, c='orange') # new\n",
    "_ = ax.plot(x,y)"
   ]
  },
  {
   "cell_type": "markdown",
   "metadata": {
    "id": "RGEaUT_OcxaV"
   },
   "source": [
    "The closer $Q$ becomes to $P$, the closer the slope $m$ comes to being the true tangent of the point $P$. Let's demonstrate this with another point $Q$ at $x = 2.1$."
   ]
  },
  {
   "cell_type": "markdown",
   "metadata": {
    "id": "xWAJUiEbcxaV"
   },
   "source": [
    "Previously, our $\\Delta x$ between $Q$ and $P$ was equal to 3. Now it is much smaller: $$\\Delta x = x_2 - x_1 = 2.1 - 2 = 0.1 $$"
   ]
  },
  {
   "cell_type": "code",
   "execution_count": null,
   "metadata": {
    "colab": {
     "base_uri": "https://localhost:8080/"
    },
    "id": "-XDEG_o7cxaV",
    "outputId": "6c6c7666-257b-405c-eaac-0cb721957e53"
   },
   "outputs": [],
   "source": [
    "f(2.1)"
   ]
  },
  {
   "cell_type": "code",
   "execution_count": null,
   "metadata": {
    "colab": {
     "base_uri": "https://localhost:8080/",
     "height": 265
    },
    "id": "85n3ApTmcxaX",
    "outputId": "9ac2ffd7-8eaf-40c3-e815-d87ae6b783c3"
   },
   "outputs": [],
   "source": [
    "fig, ax = plt.subplots()\n",
    "plt.axvline(x=0, color='lightgray')\n",
    "plt.axhline(y=0, color='lightgray')\n",
    "plt.scatter(2, 10)\n",
    "plt.scatter(2.1, 10.61, c = 'orange', zorder=3)\n",
    "_ = ax.plot(x,y)"
   ]
  },
  {
   "cell_type": "code",
   "execution_count": null,
   "metadata": {
    "colab": {
     "base_uri": "https://localhost:8080/"
    },
    "id": "YlWhoumBcxaY",
    "outputId": "5edba389-0ca7-4d46-dd51-076c0a3e2622"
   },
   "outputs": [],
   "source": [
    "m = (10.61-10)/(2.1-2)\n",
    "m"
   ]
  },
  {
   "cell_type": "code",
   "execution_count": null,
   "metadata": {
    "colab": {
     "base_uri": "https://localhost:8080/"
    },
    "id": "KHMZNdjQcxaa",
    "outputId": "a49f1b35-05c4-402f-fcf2-bb666a3c5a9c"
   },
   "outputs": [],
   "source": [
    "b = 10.61-m*2.1\n",
    "b"
   ]
  },
  {
   "cell_type": "code",
   "execution_count": null,
   "metadata": {
    "id": "J1-_0DBJcxab"
   },
   "outputs": [],
   "source": [
    "line_y = m*x + b"
   ]
  },
  {
   "cell_type": "code",
   "execution_count": null,
   "metadata": {
    "colab": {
     "base_uri": "https://localhost:8080/",
     "height": 265
    },
    "id": "eDtjdRYQcxad",
    "outputId": "aab8a88c-df28-4d2e-e5f9-79bcf70942c9"
   },
   "outputs": [],
   "source": [
    "fig, ax = plt.subplots()\n",
    "plt.axvline(x=0, color='lightgray')\n",
    "plt.axhline(y=0, color='lightgray')\n",
    "plt.scatter(2, 10)\n",
    "plt.scatter(2.1, 10.61, c='orange', zorder=3)\n",
    "plt.ylim(-5, 150)\n",
    "plt.plot(x, line_y, c='orange', zorder=3)\n",
    "_ = ax.plot(x,y)"
   ]
  },
  {
   "cell_type": "markdown",
   "metadata": {
    "id": "elxPRnoTcxae"
   },
   "source": [
    "The closer $Q$ becomes to $P$ (i.e., $\\Delta x$ approaches 0), the clearer it becomes that the slope $m$ at point $P$ = (2, 10) is equal to 6."
   ]
  },
  {
   "cell_type": "markdown",
   "metadata": {
    "id": "srMjU62xcxaf"
   },
   "source": [
    "Let's make $\\Delta x$ extremely small, 0.000001, to illustrate this:"
   ]
  },
  {
   "cell_type": "code",
   "execution_count": null,
   "metadata": {
    "colab": {
     "base_uri": "https://localhost:8080/"
    },
    "id": "c_B0wY47cxaf",
    "outputId": "88d748a1-8ae1-4913-f995-82c03f61ab87"
   },
   "outputs": [],
   "source": [
    "delta_x = 0.000001\n",
    "delta_x"
   ]
  },
  {
   "cell_type": "code",
   "execution_count": null,
   "metadata": {
    "id": "g8LSgemacxai"
   },
   "outputs": [],
   "source": [
    "x1 = 2\n",
    "y1 = 10"
   ]
  },
  {
   "cell_type": "markdown",
   "metadata": {
    "id": "gsa2I2Jxcxaj"
   },
   "source": [
    "Rearranging $\\Delta x = x_2 - x_1$, we can calculate $x_2$ for our point $Q$, which is now extremely close to $P$: \n",
    "$$x_2 = x_1 + \\Delta x$$"
   ]
  },
  {
   "cell_type": "code",
   "execution_count": null,
   "metadata": {
    "colab": {
     "base_uri": "https://localhost:8080/"
    },
    "id": "4PgqVCZVcxak",
    "outputId": "9efbfa02-c14b-416a-da25-d7e07c44e1ed"
   },
   "outputs": [],
   "source": [
    "x2 = x1 + delta_x\n",
    "x2"
   ]
  },
  {
   "cell_type": "markdown",
   "metadata": {
    "id": "FoBqhu1zcxan"
   },
   "source": [
    "$y_2$ for our point $Q$ can be obtained with the usual function $f(x)$: \n",
    "$$y_2 = f(x_2)$$"
   ]
  },
  {
   "cell_type": "code",
   "execution_count": null,
   "metadata": {
    "colab": {
     "base_uri": "https://localhost:8080/"
    },
    "id": "9_2mjm1Ycxan",
    "outputId": "8d908d59-7e94-4648-8867-9950ea7b3661"
   },
   "outputs": [],
   "source": [
    "y2 = f(x2)\n",
    "y2"
   ]
  },
  {
   "cell_type": "markdown",
   "metadata": {
    "id": "Eekls7AIcxap"
   },
   "source": [
    "To find the slope $m$, we continue to use $$m = \\frac{\\Delta y}{\\Delta x} = \\frac{y_2 - y_1}{x_2 - x_1}$$"
   ]
  },
  {
   "cell_type": "code",
   "execution_count": null,
   "metadata": {
    "colab": {
     "base_uri": "https://localhost:8080/"
    },
    "id": "yQAwKXPUcxap",
    "outputId": "c07ba5e1-2cec-489f-aa71-3a40db79f0b7"
   },
   "outputs": [],
   "source": [
    "m = (y2 - y1)/(x2 - x1)\n",
    "m"
   ]
  },
  {
   "cell_type": "markdown",
   "metadata": {
    "id": "IEy7jMVpcxar"
   },
   "source": [
    "Boom! Using the delta method, we've shown that at point $P$, the slope of the curve is 6. "
   ]
  },
  {
   "cell_type": "markdown",
   "metadata": {
    "id": "GJ7bRkBvcxar"
   },
   "source": [
    "**Exercise**: Using the delta method, find the slope of the tangent where $x = -1$."
   ]
  },
  {
   "cell_type": "markdown",
   "metadata": {
    "id": "pV8Vpgvdcxar"
   },
   "source": [
    "**Spoiler alert! The solution's below.**"
   ]
  },
  {
   "cell_type": "code",
   "execution_count": null,
   "metadata": {
    "id": "65FeJSRocxaz"
   },
   "outputs": [],
   "source": [
    "x1 = -1"
   ]
  },
  {
   "cell_type": "code",
   "execution_count": null,
   "metadata": {
    "colab": {
     "base_uri": "https://localhost:8080/"
    },
    "id": "fAIGLk8Mcxa0",
    "outputId": "85a2864a-dc7a-45a1-fce9-1fc164ab90fe"
   },
   "outputs": [],
   "source": [
    "y1 = f(x1)\n",
    "y1"
   ]
  },
  {
   "cell_type": "markdown",
   "metadata": {
    "id": "SZowMdIQcxa1"
   },
   "source": [
    "Point $P$ is located at (-1, 1)"
   ]
  },
  {
   "cell_type": "code",
   "execution_count": null,
   "metadata": {
    "colab": {
     "base_uri": "https://localhost:8080/"
    },
    "id": "-CPHl783cxa1",
    "outputId": "e74a4347-652e-4e40-a7e1-83f87a51f776"
   },
   "outputs": [],
   "source": [
    "delta_x"
   ]
  },
  {
   "cell_type": "code",
   "execution_count": null,
   "metadata": {
    "colab": {
     "base_uri": "https://localhost:8080/"
    },
    "id": "jzw0J1n9cxa2",
    "outputId": "53c6056e-caec-4c33-fe0b-8369ec1cc0bd"
   },
   "outputs": [],
   "source": [
    "x2 = x1 + delta_x\n",
    "x2"
   ]
  },
  {
   "cell_type": "code",
   "execution_count": null,
   "metadata": {
    "colab": {
     "base_uri": "https://localhost:8080/"
    },
    "id": "WaynVKiwcxa3",
    "outputId": "f5c682ad-93bb-49b2-f171-952f521e45c9"
   },
   "outputs": [],
   "source": [
    "y2 = f(x2)\n",
    "y2"
   ]
  },
  {
   "cell_type": "markdown",
   "metadata": {
    "id": "rApig2ipcxa4"
   },
   "source": [
    "Quick aside: Pertinent to defining differentiation as an equation, an alternative way to calculate $y_2$ is $f(x + \\Delta x)$"
   ]
  },
  {
   "cell_type": "code",
   "execution_count": null,
   "metadata": {
    "colab": {
     "base_uri": "https://localhost:8080/"
    },
    "id": "yCW283sZcxa4",
    "outputId": "87008c5f-0184-4262-edc4-b571d533f2c4"
   },
   "outputs": [],
   "source": [
    "y2 = f(x1 + delta_x)\n",
    "y2"
   ]
  },
  {
   "cell_type": "markdown",
   "metadata": {
    "id": "S1Dr3Ankcxa7"
   },
   "source": [
    "Point $Q$ is at (-0.999999, 1.000000000001), extremely close to $P$."
   ]
  },
  {
   "cell_type": "code",
   "execution_count": null,
   "metadata": {
    "colab": {
     "base_uri": "https://localhost:8080/"
    },
    "id": "ZtokXlMncxa7",
    "outputId": "676f0135-60cc-44b1-f1c0-adaf6def3395"
   },
   "outputs": [],
   "source": [
    "m = (y2-y1)/(x2-x1)\n",
    "m"
   ]
  },
  {
   "cell_type": "markdown",
   "metadata": {
    "id": "91slg8F4cxa8"
   },
   "source": [
    "Therefore, as $x_2$ becomes infinitely close to $x_1$, it becomes clear that the slope $m$ at $x_1 = -1$ is equal to zero. Let's plot it out: "
   ]
  },
  {
   "cell_type": "code",
   "execution_count": null,
   "metadata": {
    "colab": {
     "base_uri": "https://localhost:8080/"
    },
    "id": "2WToJBOhcxa8",
    "outputId": "722eab24-e3da-4180-9e51-ac003be91f41"
   },
   "outputs": [],
   "source": [
    "b = y2-m*x2\n",
    "b"
   ]
  },
  {
   "cell_type": "code",
   "execution_count": null,
   "metadata": {
    "id": "ah0cXRhrcxa9"
   },
   "outputs": [],
   "source": [
    "line_y = m*x + b"
   ]
  },
  {
   "cell_type": "code",
   "execution_count": null,
   "metadata": {
    "colab": {
     "base_uri": "https://localhost:8080/",
     "height": 265
    },
    "id": "MjLttDg9cxa-",
    "outputId": "e3827009-0d8f-46a1-81cd-c2425c2b308b"
   },
   "outputs": [],
   "source": [
    "fig, ax = plt.subplots()\n",
    "plt.axvline(x=0, color='lightgray')\n",
    "plt.axhline(y=0, color='lightgray')\n",
    "plt.scatter(x1, y1)\n",
    "plt.scatter(x2, y2, c='orange', zorder=3)\n",
    "plt.ylim(-5, 150)\n",
    "plt.plot(x, line_y, c='orange', zorder=3)\n",
    "_ = ax.plot(x,y)"
   ]
  },
  {
   "cell_type": "markdown",
   "metadata": {
    "id": "hqmMtmpGcxbA"
   },
   "source": [
    "As $Q$ becomes infinitely close to $P$:\n",
    "* $x_2$ - $x_1$ approaches 0\n",
    "* In other words, $\\Delta x$ approaches 0\n",
    "* This can be denoted as $\\Delta x \\to 0$"
   ]
  },
  {
   "cell_type": "markdown",
   "metadata": {
    "id": "nsh_7o7kcxbA"
   },
   "source": [
    "Using the delta method, we've derived the definition of differentiation from first principles. The derivative of $y$ (denoted $dy$) with respect to $x$ (denoted $dx$) can be represented as: \n",
    "$$\\frac{dy}{dx} = \\lim_{\\Delta x \\to 0} \\frac{\\Delta y}{\\Delta x}$$"
   ]
  },
  {
   "cell_type": "markdown",
   "metadata": {
    "id": "UxuWTEKlcxbA"
   },
   "source": [
    "Expanding $\\Delta y$ out to $y_2 - y_1$: \n",
    "$$\\frac{dy}{dx} = \\lim_{\\Delta x \\to 0} \\frac{y_2 - y_1}{\\Delta x}$$"
   ]
  },
  {
   "cell_type": "markdown",
   "metadata": {
    "id": "b0H4kFkYcxbB"
   },
   "source": [
    "Finally, replacing $y_1$ with $f(x)$ and replacing $y_2$ with $f(x + \\Delta x)$, we obtain a common representation of differentiation:\n",
    "$$\\frac{dy}{dx} = \\lim_{\\Delta x \\to 0} \\frac{f(x + \\Delta x) - f(x)}{\\Delta x}$$"
   ]
  },
  {
   "cell_type": "markdown",
   "metadata": {
    "id": "SuYWQ9e1cxbB"
   },
   "source": [
    "Let's observe the differentiation equation in action: "
   ]
  },
  {
   "cell_type": "code",
   "execution_count": null,
   "metadata": {
    "id": "Do6EHZfHcxbB"
   },
   "outputs": [],
   "source": [
    "def diff_demo(my_f, my_x, my_delta):\n",
    "    return (my_f(my_x + my_delta) - my_f(my_x)) / my_delta"
   ]
  },
  {
   "cell_type": "code",
   "execution_count": null,
   "metadata": {
    "id": "hXbAgWvrcxbC"
   },
   "outputs": [],
   "source": [
    "deltas = [1, 0.1, 0.01, 0.001, 0.0001, 0.00001, 0.000001]"
   ]
  },
  {
   "cell_type": "code",
   "execution_count": null,
   "metadata": {
    "colab": {
     "base_uri": "https://localhost:8080/"
    },
    "id": "iYtlA3S5cxbD",
    "outputId": "ea82a37a-e15a-4343-ccd1-73e459070f08"
   },
   "outputs": [],
   "source": [
    "for delta in deltas:\n",
    "    print(diff_demo(f, 2, delta))"
   ]
  },
  {
   "cell_type": "code",
   "execution_count": null,
   "metadata": {
    "colab": {
     "base_uri": "https://localhost:8080/"
    },
    "id": "CMW45DQmcxbF",
    "outputId": "307410ee-4154-4b91-f9a3-ff6263557a38",
    "scrolled": true
   },
   "outputs": [],
   "source": [
    "for delta in deltas:\n",
    "    print(diff_demo(f, -1, delta))"
   ]
  },
  {
   "cell_type": "markdown",
   "metadata": {
    "id": "Kh8vawMMcxbG"
   },
   "source": [
    "**Return to slides here.**"
   ]
  },
  {
   "cell_type": "markdown",
   "metadata": {
    "id": "Ez8pKj_lcxbG"
   },
   "source": [
    "## Segment 3: Automatic Differentiation"
   ]
  },
  {
   "cell_type": "markdown",
   "metadata": {
    "id": "laWM6cgvcxbG"
   },
   "source": [
    "**TensorFlow** and **PyTorch** are the two most popular automatic differentiation libraries."
   ]
  },
  {
   "cell_type": "markdown",
   "metadata": {
    "id": "RLi7jwLEzaDB"
   },
   "source": [
    "Let's use them to calculate $dy/dx$ at $x = 5$ where: "
   ]
  },
  {
   "cell_type": "markdown",
   "metadata": {
    "id": "qmgeCDWycxbL"
   },
   "source": [
    "$$y = x^2$$"
   ]
  },
  {
   "cell_type": "markdown",
   "metadata": {
    "id": "MhMxT9oQcxbL"
   },
   "source": [
    "$$ \\frac{dy}{dx} = 2x = 2(5) = 10 $$"
   ]
  },
  {
   "cell_type": "markdown",
   "metadata": {
    "id": "Zg-PepdncxbN"
   },
   "source": [
    "### Autodiff with PyTorch"
   ]
  },
  {
   "cell_type": "code",
   "execution_count": null,
   "metadata": {
    "id": "n8FJ1OkWcxbN"
   },
   "outputs": [],
   "source": [
    "import torch"
   ]
  },
  {
   "cell_type": "code",
   "execution_count": null,
   "metadata": {
    "id": "DTYVufujcxbP"
   },
   "outputs": [],
   "source": [
    "x = torch.tensor(5.0)"
   ]
  },
  {
   "cell_type": "code",
   "execution_count": null,
   "metadata": {
    "colab": {
     "base_uri": "https://localhost:8080/"
    },
    "id": "13j9vFZgcxbP",
    "outputId": "982fb7b9-cd4a-4d6d-dcfb-397626d30ca5"
   },
   "outputs": [],
   "source": [
    "x"
   ]
  },
  {
   "cell_type": "code",
   "execution_count": null,
   "metadata": {
    "colab": {
     "base_uri": "https://localhost:8080/"
    },
    "id": "PBLvpsCWcxbQ",
    "outputId": "6f50d93d-6e9d-40b2-f66a-2190b2b1e445"
   },
   "outputs": [],
   "source": [
    "x.requires_grad_() # contagiously track gradients through forward pass"
   ]
  },
  {
   "cell_type": "code",
   "execution_count": null,
   "metadata": {
    "id": "zper8WoVcxbR"
   },
   "outputs": [],
   "source": [
    "y = x**2"
   ]
  },
  {
   "cell_type": "code",
   "execution_count": null,
   "metadata": {
    "id": "1Pbdg7zVcxbS"
   },
   "outputs": [],
   "source": [
    "y.backward() # use autodiff"
   ]
  },
  {
   "cell_type": "code",
   "execution_count": null,
   "metadata": {
    "colab": {
     "base_uri": "https://localhost:8080/"
    },
    "id": "UbV3BecacxbT",
    "outputId": "9d3f5270-a22c-40cc-dede-e51d75209c6a"
   },
   "outputs": [],
   "source": [
    "x.grad"
   ]
  },
  {
   "cell_type": "markdown",
   "metadata": {
    "id": "dyB3FghkcxbG"
   },
   "source": [
    "### Autodiff with TensorFlow"
   ]
  },
  {
   "cell_type": "code",
   "execution_count": null,
   "metadata": {
    "id": "4D12um9kcxbH"
   },
   "outputs": [],
   "source": [
    "import tensorflow as tf"
   ]
  },
  {
   "cell_type": "code",
   "execution_count": null,
   "metadata": {
    "id": "f7mQuelZcxbJ"
   },
   "outputs": [],
   "source": [
    "x = tf.Variable(5.0)"
   ]
  },
  {
   "cell_type": "code",
   "execution_count": null,
   "metadata": {
    "id": "M-WeFuBfcxbK"
   },
   "outputs": [],
   "source": [
    "with tf.GradientTape() as t:\n",
    "    t.watch(x) # track forward pass\n",
    "    y = x**2"
   ]
  },
  {
   "cell_type": "code",
   "execution_count": null,
   "metadata": {
    "colab": {
     "base_uri": "https://localhost:8080/"
    },
    "id": "Txjp5NBNcxbL",
    "outputId": "00862329-4eae-4129-f6e7-971c718039f5"
   },
   "outputs": [],
   "source": [
    "t.gradient(y, x) # use autodiff"
   ]
  },
  {
   "cell_type": "markdown",
   "metadata": {
    "id": "dS--vwVWzaDD"
   },
   "source": [
    "**Return to slides here.**"
   ]
  },
  {
   "cell_type": "markdown",
   "metadata": {
    "id": "l599s7vacxbV"
   },
   "source": [
    "As usual, PyTorch feels more intuitive and pythonic than TensorFlow. See the standalone [*Regression in PyTorch*](https://github.com/jonkrohn/ML-foundations/blob/master/notebooks/regression-in-pytorch.ipynb) notebook for an example of autodiff paired with gradient descent in order to fit a simple regression line."
   ]
  }
 ],
 "metadata": {
  "colab": {
   "include_colab_link": true,
   "name": "3-calculus-i.ipynb",
   "provenance": []
  },
  "kernelspec": {
   "display_name": "Python 3",
   "language": "python",
   "name": "python3"
  },
  "language_info": {
   "codemirror_mode": {
    "name": "ipython",
    "version": 3
   },
   "file_extension": ".py",
   "mimetype": "text/x-python",
   "name": "python",
   "nbconvert_exporter": "python",
   "pygments_lexer": "ipython3",
   "version": "3.9.7"
  }
 },
 "nbformat": 4,
 "nbformat_minor": 0
}