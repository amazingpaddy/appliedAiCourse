{
  "cells": [
    {
      "cell_type": "markdown",
      "metadata": {
        "colab_type": "text",
        "id": "view-in-github"
      },
      "source": [
        "<a href=\"https://colab.research.google.com/github/jonkrohn/ML-foundations/blob/master/notebooks/6-statistics.ipynb\" target=\"_parent\"><img src=\"https://colab.research.google.com/assets/colab-badge.svg\" alt=\"Open In Colab\"/></a>"
      ]
    },
    {
      "cell_type": "markdown",
      "metadata": {
        "id": "aTOLgsbN69-P"
      },
      "source": [
        "# Intro to Statistics"
      ]
    },
    {
      "cell_type": "markdown",
      "metadata": {
        "id": "yqUB9FTRAxd-"
      },
      "source": [
        "This class, *Intro to Statistics*, builds on probability theory to enable us to quantify our confidence about how distributions of data are related to one another. \n",
        "\n",
        "Through the measured exposition of theory paired with interactive examples, you’ll develop a working understanding of all of the essential statistical tests for assessing whether data are correlated with each other or sampled from different populations -- tests which frequently come in handy for critically evaluating the inputs and outputs of machine learning algorithms. You’ll also learn how to use regression to make predictions about the future based on training data. \n",
        "\n",
        "The content covered in this class builds on the content of other classes in the *Machine Learning Foundations* series (linear algebra, calculus, and probability theory) and is itself foundational for the *Optimization* class. "
      ]
    },
    {
      "cell_type": "markdown",
      "metadata": {
        "id": "d4tBvI88BheF"
      },
      "source": [
        "Over the course of studying this topic, you'll: \n",
        "\n",
        "* Develop an understanding of what’s going on beneath the hood of predictive statistical models and machine learning algorithms, including those used for deep learning. \n",
        "* Hypothesize about and critically evaluate the inputs and outputs of machine learning algorithms using essential statistical tools such as the t-test, ANOVA, and R-squared. \n",
        "* Use historical data to predict the future using regression models that take advantage of frequentist statistical theory (for smaller data sets) and modern machine learning theory (for larger data sets), including why we may want to consider applying deep learning to a given problem.\n"
      ]
    },
    {
      "cell_type": "markdown",
      "metadata": {
        "id": "Z68nQ0ekCYhF"
      },
      "source": [
        "**Note that this Jupyter notebook is not intended to stand alone. It is the companion code to a lecture or to videos from Jon Krohn's [Machine Learning Foundations](https://github.com/jonkrohn/ML-foundations) series, which offer detail on the following:**\n",
        "\n",
        "*Segment 1: Frequentist Statistics*\n",
        "\n",
        "* Frequentist vs Bayesian Statistics\n",
        "* Review of Relevant Probability Theory\n",
        "* *z*-scores and Outliers\n",
        "* *p*-values\n",
        "* Comparing Means with t-tests\n",
        "* Confidence Intervals\n",
        "* ANOVA: Analysis of Variance\n",
        "* Pearson Correlation Coefficient\n",
        "* R-Squared Coefficient of Determination\n",
        "* Correlation vs Causation\n",
        "* Correcting for Multiple Comparisons \n",
        "\n",
        "*Segment 2: Regression*\n",
        "\n",
        "* Features: Independent vs Dependent Variables\n",
        "* Linear Regression to Predict Continuous Values \n",
        "* Fitting a Line to Points on a Cartesian Plane\n",
        "* Ordinary Least Squares\n",
        "* Logistic Regression to Predict Categories \n",
        "\n",
        "*Segment 3: Bayesian Statistics*\n",
        "\n",
        "* (Deep) ML vs Frequentist Statistics\n",
        "* When to use Bayesian Statistics\n",
        "* Prior Probabilities\n",
        "* Bayes’ Theorem\n",
        "* PyMC3 Notebook\n",
        "* Resources for Further Study of Probability and Statistics"
      ]
    },
    {
      "cell_type": "markdown",
      "metadata": {
        "id": "tctnFC_RJy94"
      },
      "source": [
        "## Segment 1: Frequentist Statistics"
      ]
    },
    {
      "cell_type": "code",
      "execution_count": 1,
      "metadata": {
        "id": "Aq53QtfZJy94"
      },
      "outputs": [],
      "source": [
        "import numpy as np\n",
        "import scipy.stats as st\n",
        "import matplotlib.pyplot as plt\n",
        "import seaborn as sns"
      ]
    },
    {
      "cell_type": "code",
      "execution_count": 2,
      "metadata": {
        "id": "ZTBb1QFuJy94"
      },
      "outputs": [],
      "source": [
        "np.random.seed(42)"
      ]
    },
    {
      "cell_type": "markdown",
      "metadata": {
        "id": "mWFzBgwKJy95"
      },
      "source": [
        "### Measures of Central Tendency"
      ]
    },
    {
      "cell_type": "markdown",
      "metadata": {
        "id": "2wAeml4zJy95"
      },
      "source": [
        "Measures of central tendency provide a summary statistic on the center of a given distribution, a.k.a., the \"average\" value of the distribution."
      ]
    },
    {
      "cell_type": "code",
      "execution_count": 3,
      "metadata": {
        "id": "4GYvSKu9Jy95"
      },
      "outputs": [],
      "source": [
        "x = st.skewnorm.rvs(10, size=1000)"
      ]
    },
    {
      "cell_type": "code",
      "execution_count": 4,
      "metadata": {
        "colab": {
          "base_uri": "https://localhost:8080/"
        },
        "id": "NfkkNUXcJy95",
        "outputId": "5ae048d9-965c-456d-d428-d5f654b2ff74"
      },
      "outputs": [
        {
          "data": {
            "text/plain": [
              "array([0.63349013, 0.04557363, 0.65040763, 1.45109873, 0.1635155 ,\n",
              "       0.19382172, 1.66045054, 0.82682805, 0.36271008, 0.48660953,\n",
              "       0.33003223, 0.44375653, 0.44725763, 1.97236175, 1.54362254,\n",
              "       0.53980414, 1.07262315, 0.26453934, 0.93539347, 1.36308862])"
            ]
          },
          "execution_count": 4,
          "metadata": {},
          "output_type": "execute_result"
        }
      ],
      "source": [
        "x[0:20]"
      ]
    },
    {
      "cell_type": "code",
      "execution_count": 5,
      "metadata": {
        "colab": {
          "base_uri": "https://localhost:8080/",
          "height": 265
        },
        "id": "R9rXZm5pJy96",
        "outputId": "0aa1de04-ae5f-4f75-c9a7-4da06cff7735"
      },
      "outputs": [
        {
          "data": {
            "image/png": "[encoded data removed]",
            "text/plain": [
              "<Figure size 432x288 with 1 Axes>"
            ]
          },
          "metadata": {
            "needs_background": "light"
          },
          "output_type": "display_data"
        }
      ],
      "source": [
        "fig, ax = plt.subplots()\n",
        "_ = plt.hist(x, color = 'lightgray')"
      ]
    },
    {
      "cell_type": "markdown",
      "metadata": {
        "id": "z8wAQUQaJy97"
      },
      "source": [
        "#### Mean"
      ]
    },
    {
      "cell_type": "markdown",
      "metadata": {
        "id": "JVzPrg7AJy97"
      },
      "source": [
        "The most common measure of central tendency, synonomous with the term \"average\", is the **mean**, often symbolized with $\\mu$ (population) or $\\bar{x}$ (sample):"
      ]
    },
    {
      "cell_type": "markdown",
      "metadata": {
        "id": "UoVZlrXkJy97"
      },
      "source": [
        "$$ \\bar{x} = \\frac{\\sum_{i=1}^n x_i}{n} $$"
      ]
    },
    {
      "cell_type": "code",
      "execution_count": 6,
      "metadata": {
        "colab": {
          "base_uri": "https://localhost:8080/"
        },
        "id": "lnHaPyx4Jy97",
        "outputId": "205d21f0-b7c4-4eb8-8f76-390dfc27374e"
      },
      "outputs": [
        {
          "data": {
            "text/plain": [
              "0.7719211854654121"
            ]
          },
          "execution_count": 6,
          "metadata": {},
          "output_type": "execute_result"
        }
      ],
      "source": [
        "xbar = x.mean()\n",
        "xbar"
      ]
    },
    {
      "cell_type": "code",
      "execution_count": 7,
      "metadata": {
        "colab": {
          "base_uri": "https://localhost:8080/",
          "height": 265
        },
        "id": "4lSu__LtJy97",
        "outputId": "4a5a8d6c-6010-401f-b8ac-8b166d4a188f"
      },
      "outputs": [
        {
          "data": {
            "image/png": "[encoded data removed]",
            "text/plain": [
              "<Figure size 432x288 with 1 Axes>"
            ]
          },
          "metadata": {
            "needs_background": "light"
          },
          "output_type": "display_data"
        }
      ],
      "source": [
        "fig, ax = plt.subplots()\n",
        "plt.axvline(x = x.mean(), color='orange')\n",
        "_ = plt.hist(x, color = 'lightgray')"
      ]
    },
    {
      "cell_type": "markdown",
      "metadata": {
        "id": "MN9OBSxfJy98"
      },
      "source": [
        "#### Median"
      ]
    },
    {
      "cell_type": "markdown",
      "metadata": {
        "id": "EwGeNSC5Jy98"
      },
      "source": [
        "The second most common measure of central tendency is the **median**, the midpoint value in the distribution: "
      ]
    },
    {
      "cell_type": "code",
      "execution_count": 8,
      "metadata": {
        "colab": {
          "base_uri": "https://localhost:8080/"
        },
        "id": "uS_asMcbJy98",
        "outputId": "bd980696-5db3-41d8-ad0c-d9a163bbfbad"
      },
      "outputs": [
        {
          "data": {
            "text/plain": [
              "0.651420257427958"
            ]
          },
          "execution_count": 8,
          "metadata": {},
          "output_type": "execute_result"
        }
      ],
      "source": [
        "np.median(x) "
      ]
    },
    {
      "cell_type": "markdown",
      "metadata": {
        "id": "Hr3dHF0NJy98"
      },
      "source": [
        "The **mode** is least impacted by skew, but is typically only applicable to discrete distributions. For continuous distributions with skew (e.g., salary data), median is typically the choice measure of central tendency:"
      ]
    },
    {
      "cell_type": "code",
      "execution_count": 9,
      "metadata": {
        "colab": {
          "base_uri": "https://localhost:8080/",
          "height": 0
        },
        "id": "OzX0e9HLJy98",
        "outputId": "0d514cda-89da-4de5-bb0e-2dc970eda959"
      },
      "outputs": [
        {
          "data": {
            "image/png": "[encoded data removed]",
            "text/plain": [
              "<Figure size 432x288 with 1 Axes>"
            ]
          },
          "metadata": {
            "needs_background": "light"
          },
          "output_type": "display_data"
        }
      ],
      "source": [
        "fig, ax = plt.subplots()\n",
        "plt.axvline(x = np.mean(x), color='orange')\n",
        "plt.axvline(x = np.median(x), color='green')\n",
        "_ = plt.hist(x, color = 'lightgray')"
      ]
    },
    {
      "cell_type": "markdown",
      "metadata": {
        "id": "1m-KJ5kPJy99"
      },
      "source": [
        "### Measures of Dispersion"
      ]
    },
    {
      "cell_type": "markdown",
      "metadata": {
        "id": "PKJQU3eNJy99"
      },
      "source": [
        "#### Variance"
      ]
    },
    {
      "cell_type": "markdown",
      "metadata": {
        "id": "ZtkXiVFVJy99"
      },
      "source": [
        "$$ \\sigma^2 = \\frac{\\sum_{i=1}^n (x_i-\\bar{x})^2}{n} $$"
      ]
    },
    {
      "cell_type": "code",
      "execution_count": 10,
      "metadata": {
        "colab": {
          "base_uri": "https://localhost:8080/"
        },
        "id": "FlC38ygXJy99",
        "outputId": "0a76c080-bafd-43ad-ac86-8a5a696fe3f2"
      },
      "outputs": [
        {
          "data": {
            "text/plain": [
              "0.35528419278021617"
            ]
          },
          "execution_count": 10,
          "metadata": {},
          "output_type": "execute_result"
        }
      ],
      "source": [
        "x.var()"
      ]
    },
    {
      "cell_type": "markdown",
      "metadata": {
        "id": "g07LUlduJy99"
      },
      "source": [
        "#### Standard Deviation"
      ]
    },
    {
      "cell_type": "markdown",
      "metadata": {
        "id": "I1VTosKFJy99"
      },
      "source": [
        "A straightforward derivative of variance is **standard deviation** (denoted with $\\sigma$), which is convenient because its units are on the same scale as the values in the distribution: \n",
        "$$ \\sigma = \\sqrt{\\sigma^2} $$"
      ]
    },
    {
      "cell_type": "code",
      "execution_count": 11,
      "metadata": {
        "colab": {
          "base_uri": "https://localhost:8080/"
        },
        "id": "stPfptc7Jy9-",
        "outputId": "f322cae9-be18-4a53-d362-f0d591244204"
      },
      "outputs": [
        {
          "data": {
            "text/plain": [
              "0.5960572059628305"
            ]
          },
          "execution_count": 11,
          "metadata": {},
          "output_type": "execute_result"
        }
      ],
      "source": [
        "x.var()**(1/2)"
      ]
    },
    {
      "cell_type": "code",
      "execution_count": 12,
      "metadata": {
        "colab": {
          "base_uri": "https://localhost:8080/"
        },
        "id": "JLCQyWcjJy9-",
        "outputId": "9bb80a65-f179-480a-c880-4ccd9f11b469"
      },
      "outputs": [
        {
          "data": {
            "text/plain": [
              "0.5960572059628305"
            ]
          },
          "execution_count": 12,
          "metadata": {},
          "output_type": "execute_result"
        }
      ],
      "source": [
        "sigma = x.std()\n",
        "sigma"
      ]
    },
    {
      "cell_type": "code",
      "execution_count": 13,
      "metadata": {
        "colab": {
          "base_uri": "https://localhost:8080/",
          "height": 0
        },
        "id": "PO_q9fL7Jy9-",
        "outputId": "544db6ab-3ec3-46aa-a99a-51467535af10"
      },
      "outputs": [
        {
          "data": {
            "image/png": "[encoded data removed]",
            "text/plain": [
              "<Figure size 432x288 with 1 Axes>"
            ]
          },
          "metadata": {
            "needs_background": "light"
          },
          "output_type": "display_data"
        }
      ],
      "source": [
        "fig, ax = plt.subplots()\n",
        "plt.axvline(x = xbar, color='orange')\n",
        "plt.axvline(x = xbar+sigma, color='olivedrab')\n",
        "plt.axvline(x = xbar-sigma, color='olivedrab')\n",
        "_ = plt.hist(x, color = 'lightgray')"
      ]
    },
    {
      "cell_type": "markdown",
      "metadata": {
        "id": "MtQ3n34PJy9-"
      },
      "source": [
        "#### Standard Error"
      ]
    },
    {
      "cell_type": "markdown",
      "metadata": {
        "id": "waS0PbnYJy9-"
      },
      "source": [
        "A further derivation of standard deviation is **standard error**, which is denoted with $\\sigma_\\bar{x}$:\n",
        "$$ \\sigma_\\bar{x} = \\frac{\\sigma}{\\sqrt{n}} $$"
      ]
    },
    {
      "cell_type": "code",
      "execution_count": 14,
      "metadata": {
        "colab": {
          "base_uri": "https://localhost:8080/"
        },
        "id": "W9f9__wlJy9_",
        "outputId": "f9721901-3319-4318-b970-0d3409200e4d"
      },
      "outputs": [
        {
          "data": {
            "text/plain": [
              "0.018848983865986414"
            ]
          },
          "execution_count": 14,
          "metadata": {},
          "output_type": "execute_result"
        }
      ],
      "source": [
        "sigma/(x.size)**(1/2)"
      ]
    },
    {
      "cell_type": "code",
      "execution_count": 15,
      "metadata": {
        "colab": {
          "base_uri": "https://localhost:8080/"
        },
        "id": "toH48k6TJy9_",
        "outputId": "37b83fd7-83d5-4dca-8403-9c4c5cd4445a"
      },
      "outputs": [
        {
          "data": {
            "text/plain": [
              "0.018858415432183823"
            ]
          },
          "execution_count": 15,
          "metadata": {},
          "output_type": "execute_result"
        }
      ],
      "source": [
        "st.sem(x) # defaults to 1 degree of freedom, which can be ignored with the larger data sets of ML"
      ]
    },
    {
      "cell_type": "code",
      "execution_count": 16,
      "metadata": {
        "colab": {
          "base_uri": "https://localhost:8080/"
        },
        "id": "OeYF2Zh2Jy9_",
        "outputId": "1cce5a38-0ecd-48a9-b6b4-343ab246a32c"
      },
      "outputs": [
        {
          "data": {
            "text/plain": [
              "0.018848983865986414"
            ]
          },
          "execution_count": 16,
          "metadata": {},
          "output_type": "execute_result"
        }
      ],
      "source": [
        "st.sem(x, ddof=0)"
      ]
    },
    {
      "cell_type": "markdown",
      "metadata": {
        "id": "18G3AEvTJy9_"
      },
      "source": [
        "Standard error enables us to compare whether the means of two distributions differ *significantly*, a focus of *Intro to Stats*."
      ]
    },
    {
      "cell_type": "markdown",
      "metadata": {
        "id": "W8d9xMvcJy9_"
      },
      "source": [
        "### Gaussian Distribution"
      ]
    },
    {
      "cell_type": "markdown",
      "metadata": {
        "id": "LG3mP9v-Jy9_"
      },
      "source": [
        "After Carl Friedrich Gauss. Also known as **normal distribution**: "
      ]
    },
    {
      "cell_type": "code",
      "execution_count": 17,
      "metadata": {
        "id": "3SsBbCQ1Jy-A"
      },
      "outputs": [],
      "source": [
        "x = np.random.normal(size=10000)"
      ]
    },
    {
      "cell_type": "code",
      "execution_count": 18,
      "metadata": {
        "id": "aWlsZ80_Jy-A"
      },
      "outputs": [],
      "source": [
        "sns.set_style('ticks')"
      ]
    },
    {
      "cell_type": "code",
      "execution_count": 19,
      "metadata": {
        "colab": {
          "base_uri": "https://localhost:8080/",
          "height": 0
        },
        "id": "EYkD9BQsJy-A",
        "outputId": "5468ec8c-43fb-4a11-ebe0-f1b52b664fd6"
      },
      "outputs": [
        {
          "data": {
            "image/png": "[encoded data removed]",
            "text/plain": [
              "<Figure size 360x360 with 1 Axes>"
            ]
          },
          "metadata": {},
          "output_type": "display_data"
        }
      ],
      "source": [
        "_ = sns.displot(x, kde=True)"
      ]
    },
    {
      "cell_type": "markdown",
      "metadata": {
        "id": "bQULpJasJy-A"
      },
      "source": [
        "When the normal distribution has a mean ($\\mu$) of zero and standard deviation ($\\sigma$) of one, as it does by default with the NumPy `normal()` method..."
      ]
    },
    {
      "cell_type": "code",
      "execution_count": 20,
      "metadata": {
        "colab": {
          "base_uri": "https://localhost:8080/"
        },
        "id": "kF2vyBE5Jy-A",
        "outputId": "12ffdce0-9505-4702-e438-d0d8e8067f7b"
      },
      "outputs": [
        {
          "data": {
            "text/plain": [
              "-0.01626305454909193"
            ]
          },
          "execution_count": 20,
          "metadata": {},
          "output_type": "execute_result"
        }
      ],
      "source": [
        "x.mean()"
      ]
    },
    {
      "cell_type": "code",
      "execution_count": 21,
      "metadata": {
        "colab": {
          "base_uri": "https://localhost:8080/"
        },
        "id": "BBfTSFSLJy-A",
        "outputId": "17ebfc93-fb87-4030-ddd7-ce58b68fb7e7",
        "scrolled": true
      },
      "outputs": [
        {
          "data": {
            "text/plain": [
              "1.0039756140435032"
            ]
          },
          "execution_count": 21,
          "metadata": {},
          "output_type": "execute_result"
        }
      ],
      "source": [
        "x.std()"
      ]
    },
    {
      "cell_type": "markdown",
      "metadata": {
        "id": "b36uZPgYJy-B"
      },
      "source": [
        "...it is a **standard normal distribution** (a.k.a., standard Gaussian distribution or ***z*-distribution**), which can be denoted as $\\mathcal{N}(\\mu, \\sigma^2) = \\mathcal{N}(0, 1)$ (noting that $\\sigma^2 = \\sigma$ here because $1^2 = 1$)."
      ]
    },
    {
      "cell_type": "markdown",
      "metadata": {
        "id": "yghrt7snJy-B"
      },
      "source": [
        "Normal distributions are by far the most common distribution in statistics and machine learning. They are typically the default option, particularly if you have limited information about the random process you're modeling, because: \n",
        "\n",
        "1. Normal distributions assume the greatest possible uncertainty about the random variable they represent (relative to any other distribution of equivalent variance). Details of this are beyond the scope of this tutorial. \n",
        "2. Simple and very complex random processes alike are, under all common conditions, normally distributed when we sample values from the process. Since we sample data for statistical and machine learning models alike, this so-called **central limit theorem** (covered next) is a critically important concept. "
      ]
    },
    {
      "cell_type": "markdown",
      "metadata": {
        "id": "i_o6lW48Jy-B"
      },
      "source": [
        "### The Central Limit Theorem"
      ]
    },
    {
      "cell_type": "markdown",
      "metadata": {
        "id": "eGcUitnfJy-B"
      },
      "source": [
        "To develop a functional understanding of the CLT, let's sample some values from our normal distribution:"
      ]
    },
    {
      "cell_type": "code",
      "execution_count": 22,
      "metadata": {
        "colab": {
          "base_uri": "https://localhost:8080/"
        },
        "id": "Zde5lo4oJy-B",
        "outputId": "ecfab54f-5012-42f1-fc2d-535476dd3480"
      },
      "outputs": [
        {
          "data": {
            "text/plain": [
              "array([-0.10069587,  1.35557294,  0.66536894, -3.17042574,  0.43948605,\n",
              "        0.53629091, -1.04552949, -0.99434937, -0.74023225, -0.54129909])"
            ]
          },
          "execution_count": 22,
          "metadata": {},
          "output_type": "execute_result"
        }
      ],
      "source": [
        "x_sample = np.random.choice(x, size=10, replace=False)\n",
        "x_sample"
      ]
    },
    {
      "cell_type": "markdown",
      "metadata": {
        "id": "AHPHlFhHJy-B"
      },
      "source": [
        "The mean of a sample isn't always going to be close to zero with such a small sample:"
      ]
    },
    {
      "cell_type": "code",
      "execution_count": 23,
      "metadata": {
        "colab": {
          "base_uri": "https://localhost:8080/"
        },
        "id": "JlQhC9RrJy-C",
        "outputId": "756b0a18-e0c0-48f8-c468-e607618c0b61"
      },
      "outputs": [
        {
          "data": {
            "text/plain": [
              "-0.35958129882198664"
            ]
          },
          "execution_count": 23,
          "metadata": {},
          "output_type": "execute_result"
        }
      ],
      "source": [
        "x_sample.mean()"
      ]
    },
    {
      "cell_type": "markdown",
      "metadata": {
        "id": "Z5CMNU_MJy-C"
      },
      "source": [
        "Let's define a function for generating **sampling distributions** of the mean of a given input distribution:"
      ]
    },
    {
      "cell_type": "code",
      "execution_count": 24,
      "metadata": {
        "id": "RSUYBNRlJy-C"
      },
      "outputs": [],
      "source": [
        "def sample_mean_calculator(input_dist, sample_size, n_samples):\n",
        "    sample_means = []\n",
        "    for i in range(n_samples):\n",
        "        sample = np.random.choice(input_dist, size=sample_size, replace=False)\n",
        "        sample_means.append(sample.mean())\n",
        "    return sample_means"
      ]
    },
    {
      "cell_type": "code",
      "execution_count": 25,
      "metadata": {
        "colab": {
          "base_uri": "https://localhost:8080/",
          "height": 0
        },
        "id": "oI18ruGRJy-C",
        "outputId": "a123a1c5-cfb3-4bf5-b562-f680c7ecb19c"
      },
      "outputs": [
        {
          "data": {
            "image/png": "[encoded data removed]",
            "text/plain": [
              "<Figure size 360x360 with 1 Axes>"
            ]
          },
          "metadata": {},
          "output_type": "display_data"
        }
      ],
      "source": [
        "sns.displot(sample_mean_calculator(x, 10, 10), color='green', kde=True)\n",
        "_ = plt.xlim(-1.5, 1.5)"
      ]
    },
    {
      "cell_type": "markdown",
      "metadata": {
        "id": "xHGa07YxJy-C"
      },
      "source": [
        "The more samples we take, the more likely that the sampling distribution of the means will be normally distributed: "
      ]
    },
    {
      "cell_type": "code",
      "execution_count": 26,
      "metadata": {
        "colab": {
          "base_uri": "https://localhost:8080/",
          "height": 0
        },
        "id": "OPT9azuTJy-C",
        "outputId": "21cf4015-bb01-416b-c50b-749c8685068f"
      },
      "outputs": [
        {
          "data": {
            "image/png": "[encoded data removed]",
            "text/plain": [
              "<Figure size 360x360 with 1 Axes>"
            ]
          },
          "metadata": {},
          "output_type": "display_data"
        }
      ],
      "source": [
        "sns.displot(sample_mean_calculator(x, 10, 1000), color='green', kde=True)\n",
        "_ = plt.xlim(-1.5, 1.5)"
      ]
    },
    {
      "cell_type": "markdown",
      "metadata": {
        "id": "JhYHcSXSJy-C"
      },
      "source": [
        "The larger the sample, the tighter the sample means will tend to be around the population mean:"
      ]
    },
    {
      "cell_type": "code",
      "execution_count": 27,
      "metadata": {
        "colab": {
          "base_uri": "https://localhost:8080/",
          "height": 0
        },
        "id": "Bx3AvY5GJy-D",
        "outputId": "a99351bb-c718-4ea3-88a3-f4b59f682e32"
      },
      "outputs": [
        {
          "data": {
            "image/png": "[encoded data removed]",
            "text/plain": [
              "<Figure size 360x360 with 1 Axes>"
            ]
          },
          "metadata": {},
          "output_type": "display_data"
        }
      ],
      "source": [
        "sns.displot(sample_mean_calculator(x, 100, 1000), color='green', kde=True)\n",
        "_ = plt.xlim(-1.5, 1.5)"
      ]
    },
    {
      "cell_type": "code",
      "execution_count": 28,
      "metadata": {
        "colab": {
          "base_uri": "https://localhost:8080/",
          "height": 0
        },
        "id": "EhsVc9EUJy-D",
        "outputId": "2c3b633b-561a-490a-c814-84442fc5aaad"
      },
      "outputs": [
        {
          "data": {
            "image/png": "[encoded data removed]",
            "text/plain": [
              "<Figure size 360x360 with 1 Axes>"
            ]
          },
          "metadata": {},
          "output_type": "display_data"
        }
      ],
      "source": [
        "sns.displot(sample_mean_calculator(x, 1000, 1000), color='green', kde=True)\n",
        "_ = plt.xlim(-1.5, 1.5)"
      ]
    },
    {
      "cell_type": "markdown",
      "metadata": {
        "id": "uwW98i_MJy-E"
      },
      "source": [
        "#### Sampling from a skewed distribution"
      ]
    },
    {
      "cell_type": "code",
      "execution_count": 29,
      "metadata": {
        "id": "ZcAhyVlfJy-E"
      },
      "outputs": [],
      "source": [
        "s = st.skewnorm.rvs(10, size=10000)"
      ]
    },
    {
      "cell_type": "code",
      "execution_count": 30,
      "metadata": {
        "colab": {
          "base_uri": "https://localhost:8080/",
          "height": 0
        },
        "id": "5agwbQu-Jy-E",
        "outputId": "6e635cfd-5c2e-430a-c2ff-15d3661bfb21"
      },
      "outputs": [
        {
          "data": {
            "image/png": "[encoded data removed]",
            "text/plain": [
              "<Figure size 360x360 with 1 Axes>"
            ]
          },
          "metadata": {},
          "output_type": "display_data"
        }
      ],
      "source": [
        "_ = sns.displot(s, kde=True)"
      ]
    },
    {
      "cell_type": "code",
      "execution_count": 31,
      "metadata": {
        "colab": {
          "base_uri": "https://localhost:8080/",
          "height": 0
        },
        "id": "1rU7N_XIJy-F",
        "outputId": "f96792be-9f21-4391-e1a7-a3d3bcd5973b"
      },
      "outputs": [
        {
          "data": {
            "image/png": "[encoded data removed]",
            "text/plain": [
              "<Figure size 360x360 with 1 Axes>"
            ]
          },
          "metadata": {},
          "output_type": "display_data"
        }
      ],
      "source": [
        "_ = sns.displot(sample_mean_calculator(s, 10, 1000), color='green', kde=True)"
      ]
    },
    {
      "cell_type": "code",
      "execution_count": 32,
      "metadata": {
        "colab": {
          "base_uri": "https://localhost:8080/",
          "height": 0
        },
        "id": "Gf8z-zWnJy-F",
        "outputId": "3e587c4b-53c9-4c11-da00-2d4721045da3"
      },
      "outputs": [
        {
          "data": {
            "image/png": "[encoded data removed]",
            "text/plain": [
              "<Figure size 360x360 with 1 Axes>"
            ]
          },
          "metadata": {},
          "output_type": "display_data"
        }
      ],
      "source": [
        "_ = sns.displot(sample_mean_calculator(s, 1000, 1000), color='green', kde=True)"
      ]
    },
    {
      "cell_type": "markdown",
      "metadata": {
        "id": "khgxd4kKJy-F"
      },
      "source": [
        "#### Sampling from a multimodal distribution"
      ]
    },
    {
      "cell_type": "code",
      "execution_count": 33,
      "metadata": {
        "id": "BwddoyHZJy-F"
      },
      "outputs": [],
      "source": [
        "m = np.concatenate((np.random.normal(size=5000), np.random.normal(loc = 4.0, size=5000)))"
      ]
    },
    {
      "cell_type": "code",
      "execution_count": 34,
      "metadata": {
        "colab": {
          "base_uri": "https://localhost:8080/",
          "height": 0
        },
        "id": "b7-jIOsKJy-F",
        "outputId": "8405559c-28d4-46c8-a28a-57832c121312"
      },
      "outputs": [
        {
          "data": {
            "image/png": "[encoded data removed]",
            "text/plain": [
              "<Figure size 360x360 with 1 Axes>"
            ]
          },
          "metadata": {},
          "output_type": "display_data"
        }
      ],
      "source": [
        "_ = sns.displot(m, kde=True)"
      ]
    },
    {
      "cell_type": "code",
      "execution_count": 35,
      "metadata": {
        "colab": {
          "base_uri": "https://localhost:8080/",
          "height": 0
        },
        "id": "FgDJbhHNJy-G",
        "outputId": "0a91e774-9f0a-48a7-c117-b710dc03dff0"
      },
      "outputs": [
        {
          "data": {
            "image/png": "[encoded data removed]",
            "text/plain": [
              "<Figure size 360x360 with 1 Axes>"
            ]
          },
          "metadata": {},
          "output_type": "display_data"
        }
      ],
      "source": [
        "_ = sns.displot(sample_mean_calculator(m, 1000, 1000), color='green', kde=True)"
      ]
    },
    {
      "cell_type": "markdown",
      "metadata": {
        "id": "O1xAAvNsJy-G"
      },
      "source": [
        "#### Sampling from uniform"
      ]
    },
    {
      "cell_type": "markdown",
      "metadata": {
        "id": "GPGNikM2Jy-G"
      },
      "source": [
        "Even sampling from the highly non-normal uniform distribution, the sampling distribution comes out normal: "
      ]
    },
    {
      "cell_type": "code",
      "execution_count": 36,
      "metadata": {
        "id": "P72RDUP_Jy-G"
      },
      "outputs": [],
      "source": [
        "u = np.random.uniform(size=10000)"
      ]
    },
    {
      "cell_type": "code",
      "execution_count": 37,
      "metadata": {
        "colab": {
          "base_uri": "https://localhost:8080/",
          "height": 0
        },
        "id": "NnSaVMzzJy-G",
        "outputId": "21da9796-494f-42ac-983a-214766bf524f"
      },
      "outputs": [
        {
          "data": {
            "image/png": "[encoded data removed]",
            "text/plain": [
              "<Figure size 360x360 with 1 Axes>"
            ]
          },
          "metadata": {},
          "output_type": "display_data"
        }
      ],
      "source": [
        "_ = sns.displot(u)"
      ]
    },
    {
      "cell_type": "code",
      "execution_count": 38,
      "metadata": {
        "colab": {
          "base_uri": "https://localhost:8080/",
          "height": 0
        },
        "id": "6ofAl-bXJy-G",
        "outputId": "7ea6e56c-d221-48f9-aacf-de224b7458e3"
      },
      "outputs": [
        {
          "data": {
            "image/png": "[encoded data removed]",
            "text/plain": [
              "<Figure size 360x360 with 1 Axes>"
            ]
          },
          "metadata": {},
          "output_type": "display_data"
        }
      ],
      "source": [
        "_ = sns.displot(sample_mean_calculator(u, 1000, 1000), color='green', kde=True)"
      ]
    },
    {
      "cell_type": "markdown",
      "metadata": {
        "id": "CzsGWDvgJy-G"
      },
      "source": [
        "Therefore, with large enough sample sizes, we can assume the sampling distribution of the means will be normally distributed, allowing us to apply statistical and ML models that are configured for normally distributed noise, which is often the default assumption.\n",
        "\n",
        "As an example, the \"*t*-test\" (covered shortly in *Intro to Stats*) allows us to infer whether two samples come from different populations (say, an experimental group that receives a treatment and a control group that receives a placebo). Thanks to the CLT, we can use this test even if we have no idea what the underlying distributions of the populations being tested are, which may be the case more frequently than not. "
      ]
    },
    {
      "cell_type": "markdown",
      "metadata": {
        "id": "qdoH1h1cJy-H"
      },
      "source": [
        "### z-scores"
      ]
    },
    {
      "cell_type": "markdown",
      "metadata": {
        "id": "amWbtyvMJy-H"
      },
      "source": [
        "Assuming normally-distributed data, a z-score indicates how many standard deviations away from the mean a data point (say, $x_i$) is: \n",
        "$$ z = \\frac{x_i-\\mu}{\\sigma} $$"
      ]
    },
    {
      "cell_type": "markdown",
      "metadata": {
        "id": "MR7WaPXEJy-H"
      },
      "source": [
        "That is, the formula *standardizes* a given score $x_i$ to the (standard normal) *z*-distribution. (As we covered in *Probability & Information Theory*, you could standardize any normal distribution to a mean of zero and standard deviation of one by subtracting its original mean and then dividing by its original standard deviation.)"
      ]
    },
    {
      "cell_type": "markdown",
      "metadata": {
        "id": "hTAg32LLJy-H"
      },
      "source": [
        "For example, let's say you get 85% on a CS101 exam. Sounds like a pretty good score and you did extremely well relative to your peers if the mean was 60% with a standard deviation of 10%:"
      ]
    },
    {
      "cell_type": "code",
      "execution_count": 39,
      "metadata": {},
      "outputs": [],
      "source": [
        "def z_score(x_i, mu, sigma):\n",
        "    return (x_i - mu)/sigma"
      ]
    },
    {
      "cell_type": "code",
      "execution_count": 40,
      "metadata": {
        "id": "nCN9Lrc5Jy-H"
      },
      "outputs": [],
      "source": [
        "x_i = 85\n",
        "mu = 60\n",
        "sigma = 10"
      ]
    },
    {
      "cell_type": "code",
      "execution_count": 41,
      "metadata": {
        "id": "oTVMKmYwJy-H"
      },
      "outputs": [],
      "source": [
        "x = np.random.normal(mu, sigma, 10000)"
      ]
    },
    {
      "cell_type": "code",
      "execution_count": 42,
      "metadata": {
        "colab": {
          "base_uri": "https://localhost:8080/",
          "height": 0
        },
        "id": "JiCkR-4YJy-H",
        "outputId": "a2d017d6-4649-4192-a491-8620e0c810bc"
      },
      "outputs": [
        {
          "data": {
            "image/png": "[encoded data removed]",
            "text/plain": [
              "<Figure size 360x360 with 1 Axes>"
            ]
          },
          "metadata": {},
          "output_type": "display_data"
        }
      ],
      "source": [
        "sns.displot(x, color='gray')\n",
        "ax.set_xlim(0, 100)\n",
        "plt.axvline(mu, color='orange')\n",
        "for v in [-3, -2, -1, 1, 2, 3]:\n",
        "    plt.axvline(mu+v*sigma, color='olivedrab')\n",
        "_ = plt.axvline(x_i, color='purple')"
      ]
    },
    {
      "cell_type": "markdown",
      "metadata": {
        "id": "xWcxcmDlJy-I"
      },
      "source": [
        "Your z-score is 2.5 standard deviations above the mean: "
      ]
    },
    {
      "cell_type": "code",
      "execution_count": 43,
      "metadata": {
        "colab": {
          "base_uri": "https://localhost:8080/"
        },
        "id": "63mlk5oEJy-I",
        "outputId": "20bb0e2e-3eb2-419e-c3bc-55a390fa2fdc"
      },
      "outputs": [
        {
          "data": {
            "text/plain": [
              "2.5"
            ]
          },
          "execution_count": 43,
          "metadata": {},
          "output_type": "execute_result"
        }
      ],
      "source": [
        "z = z_score(x_i, mu, sigma)\n",
        "z"
      ]
    },
    {
      "cell_type": "markdown",
      "metadata": {
        "id": "zh2fhCRDJy-I"
      },
      "source": [
        "Or using our simulated class of 10k CS101 students: "
      ]
    },
    {
      "cell_type": "code",
      "execution_count": 44,
      "metadata": {
        "colab": {
          "base_uri": "https://localhost:8080/"
        },
        "id": "XwbcdpwYJy-I",
        "outputId": "ec8f80ab-ef46-44e2-a672-94c639e5ca97"
      },
      "outputs": [
        {
          "data": {
            "text/plain": [
              "2.5063103401632336"
            ]
          },
          "execution_count": 44,
          "metadata": {},
          "output_type": "execute_result"
        }
      ],
      "source": [
        "z = z_score(x_i, np.mean(x), np.std(x))\n",
        "z"
      ]
    },
    {
      "cell_type": "markdown",
      "metadata": {
        "id": "Iw7tDGYCJy-J"
      },
      "source": [
        "Less than one percent of the class outperformed you: "
      ]
    },
    {
      "cell_type": "code",
      "execution_count": 45,
      "metadata": {
        "colab": {
          "base_uri": "https://localhost:8080/"
        },
        "id": "EeVjREfhJy-J",
        "outputId": "d6be22db-5e79-4ac5-d007-80714a5fc8ea"
      },
      "outputs": [
        {
          "data": {
            "text/plain": [
              "69"
            ]
          },
          "execution_count": 45,
          "metadata": {},
          "output_type": "execute_result"
        }
      ],
      "source": [
        "len(np.where(x > 85)[0])"
      ]
    },
    {
      "cell_type": "code",
      "execution_count": 46,
      "metadata": {
        "colab": {
          "base_uri": "https://localhost:8080/"
        },
        "id": "pcJS3YIRJy-J",
        "outputId": "2f5a66ff-c4df-4ad1-8cd6-9e6c6c0def6f"
      },
      "outputs": [
        {
          "data": {
            "text/plain": [
              "0.69"
            ]
          },
          "execution_count": 46,
          "metadata": {},
          "output_type": "execute_result"
        }
      ],
      "source": [
        "100*69/10000"
      ]
    },
    {
      "cell_type": "code",
      "execution_count": 47,
      "metadata": {
        "colab": {
          "base_uri": "https://localhost:8080/"
        },
        "id": "biFn-h76Jy-J",
        "outputId": "ff9d6a4a-ae09-4709-a098-81ca11279744"
      },
      "outputs": [
        {
          "data": {
            "text/plain": [
              "83.35787058294662"
            ]
          },
          "execution_count": 47,
          "metadata": {},
          "output_type": "execute_result"
        }
      ],
      "source": [
        "np.percentile(x, 99)"
      ]
    },
    {
      "cell_type": "markdown",
      "metadata": {
        "id": "cAZhJMenJy-J"
      },
      "source": [
        "In contrast, if the mean score of your peers is 90 and the standard deviation is 2: "
      ]
    },
    {
      "cell_type": "code",
      "execution_count": 48,
      "metadata": {
        "id": "fZj22bDfJy-J"
      },
      "outputs": [],
      "source": [
        "mu = 90\n",
        "sigma = 2"
      ]
    },
    {
      "cell_type": "code",
      "execution_count": 49,
      "metadata": {
        "id": "6M0zc3PKJy-K"
      },
      "outputs": [],
      "source": [
        "y = np.random.normal(mu, sigma, 10000)"
      ]
    },
    {
      "cell_type": "code",
      "execution_count": 50,
      "metadata": {
        "colab": {
          "base_uri": "https://localhost:8080/",
          "height": 0
        },
        "id": "dj2CWs5kJy-K",
        "outputId": "30b84dd2-b347-4d1b-b510-2d6fd59e219e"
      },
      "outputs": [
        {
          "data": {
            "image/png": "[encoded data removed]",
            "text/plain": [
              "<Figure size 360x360 with 1 Axes>"
            ]
          },
          "metadata": {},
          "output_type": "display_data"
        }
      ],
      "source": [
        "sns.displot(y, color='gray')\n",
        "plt.axvline(mu, color='orange')\n",
        "for v in [-3, -2, -1, 1, 2, 3]:\n",
        "    plt.axvline(mu+v*sigma, color='olivedrab')\n",
        "_ = plt.axvline(x_i, color='purple')"
      ]
    },
    {
      "cell_type": "markdown",
      "metadata": {
        "id": "z1b5fEFZJy-K"
      },
      "source": [
        "Your z-score is 2.5 standard deviations *below* the mean (!): "
      ]
    },
    {
      "cell_type": "code",
      "execution_count": 51,
      "metadata": {
        "colab": {
          "base_uri": "https://localhost:8080/"
        },
        "id": "tnDjdaP2Jy-L",
        "outputId": "5f4cb60e-85a5-441c-f543-0c473a4d60a8"
      },
      "outputs": [
        {
          "data": {
            "text/plain": [
              "-2.5"
            ]
          },
          "execution_count": 51,
          "metadata": {},
          "output_type": "execute_result"
        }
      ],
      "source": [
        "z = (x_i - mu)/sigma\n",
        "z"
      ]
    },
    {
      "cell_type": "markdown",
      "metadata": {
        "id": "VWZ7yvTZJy-L"
      },
      "source": [
        "Or using our simulated class of 10k CS101 students: "
      ]
    },
    {
      "cell_type": "code",
      "execution_count": 52,
      "metadata": {
        "colab": {
          "base_uri": "https://localhost:8080/"
        },
        "id": "TgBIWccvJy-L",
        "outputId": "a82feb8a-d70d-4a1f-a977-781f2cdc6e63"
      },
      "outputs": [
        {
          "data": {
            "text/plain": [
              "-2.479852596293303"
            ]
          },
          "execution_count": 52,
          "metadata": {},
          "output_type": "execute_result"
        }
      ],
      "source": [
        "z = (x_i - np.mean(y))/np.std(y)\n",
        "z"
      ]
    },
    {
      "cell_type": "markdown",
      "metadata": {
        "id": "VR6cZOCVJy-L"
      },
      "source": [
        "In which case, over 99% of the class outperformed you: "
      ]
    },
    {
      "cell_type": "code",
      "execution_count": 53,
      "metadata": {
        "colab": {
          "base_uri": "https://localhost:8080/"
        },
        "id": "7y4fP6U-Jy-L",
        "outputId": "7a91eb1a-0a16-4ff1-c186-72d45972bc93"
      },
      "outputs": [
        {
          "data": {
            "text/plain": [
              "9933"
            ]
          },
          "execution_count": 53,
          "metadata": {},
          "output_type": "execute_result"
        }
      ],
      "source": [
        "len(np.where(y > 85)[0])"
      ]
    },
    {
      "cell_type": "code",
      "execution_count": 54,
      "metadata": {
        "colab": {
          "base_uri": "https://localhost:8080/"
        },
        "id": "KLH3RI-yJy-L",
        "outputId": "943895e1-fc4e-4b41-e609-60244ce17362"
      },
      "outputs": [
        {
          "data": {
            "text/plain": [
              "99.33"
            ]
          },
          "execution_count": 54,
          "metadata": {},
          "output_type": "execute_result"
        }
      ],
      "source": [
        "100*9933/10000"
      ]
    },
    {
      "cell_type": "markdown",
      "metadata": {
        "id": "bFacTGGvJy-M"
      },
      "source": [
        "A mere 67 folks attained worse: "
      ]
    },
    {
      "cell_type": "code",
      "execution_count": 55,
      "metadata": {
        "colab": {
          "base_uri": "https://localhost:8080/"
        },
        "id": "cgc7QrXxJy-M",
        "outputId": "bf9fb82b-599d-4224-bf95-b167b8690b6c"
      },
      "outputs": [
        {
          "data": {
            "text/plain": [
              "67"
            ]
          },
          "execution_count": 55,
          "metadata": {},
          "output_type": "execute_result"
        }
      ],
      "source": [
        "10000-9933"
      ]
    },
    {
      "cell_type": "code",
      "execution_count": 56,
      "metadata": {
        "colab": {
          "base_uri": "https://localhost:8080/"
        },
        "id": "aY7HDwhkJy-M",
        "outputId": "704b7afe-8408-4edb-b927-be064dfd5e5c"
      },
      "outputs": [
        {
          "data": {
            "text/plain": [
              "85.3781445632019"
            ]
          },
          "execution_count": 56,
          "metadata": {},
          "output_type": "execute_result"
        }
      ],
      "source": [
        "np.percentile(y, 1)"
      ]
    },
    {
      "cell_type": "markdown",
      "metadata": {
        "id": "aoqKrAPOJy-M"
      },
      "source": [
        "A frequentist convention is to consider a data point that lies further than three standard deviations from the mean to be an **outlier**. \n",
        "\n",
        "It's a good idea to individually investigate outliers in your data as they may represent an erroneous data point (e.g., some data by accident, a data-entry error, or a failed experiment) that perhaps should be removed from further analysis (especially, as outliers can have an outsized impact on statistics including mean and correlation). It may even tip you off to a major issue with your data-collection methodology or your ML model that can be resolved or that you could have a unit test for."
      ]
    },
    {
      "cell_type": "markdown",
      "metadata": {
        "id": "VeTGuUJnJy-M"
      },
      "source": [
        "**Exercises**\n",
        "\n",
        "1. You clean and jerk 100kg in a weightlifting competition. The mean C&J weight at the competition is 100kg. What's your z-score for the C&J?\n",
        "2. You snatch 100kg in the same competition. The mean snatch weight is 80kg with a standard deviation of 10kg. What's your z-score for the snatch? \n",
        "3. In olympic weightlifting, your overall score is the sum total of your C&J and snatch weights. The mean of these totals across competitors is 180kg with a standard deviation of 5kg. What's your overall z-score in the competition? \n",
        "\n",
        "**Spoiler alert**: Solutions below"
      ]
    },
    {
      "cell_type": "code",
      "execution_count": 57,
      "metadata": {
        "id": "yZxLOlbAJy-N"
      },
      "outputs": [
        {
          "data": {
            "text/plain": [
              "0.0"
            ]
          },
          "execution_count": 57,
          "metadata": {},
          "output_type": "execute_result"
        }
      ],
      "source": [
        "z = z_score(100, 100, 1)\n",
        "z"
      ]
    },
    {
      "cell_type": "code",
      "execution_count": 58,
      "metadata": {
        "id": "7By8Gc4TJy-N"
      },
      "outputs": [
        {
          "data": {
            "text/plain": [
              "2.0"
            ]
          },
          "execution_count": 58,
          "metadata": {},
          "output_type": "execute_result"
        }
      ],
      "source": [
        "z = z_score(100, 80, 10)\n",
        "z"
      ]
    },
    {
      "cell_type": "code",
      "execution_count": 59,
      "metadata": {
        "id": "Zl4Rnr5JJy-P"
      },
      "outputs": [
        {
          "data": {
            "text/plain": [
              "4.0"
            ]
          },
          "execution_count": 59,
          "metadata": {},
          "output_type": "execute_result"
        }
      ],
      "source": [
        "z = z_score(200, 180, 5)\n",
        "z"
      ]
    },
    {
      "cell_type": "markdown",
      "metadata": {
        "id": "NlFugQ1VJy-P"
      },
      "source": [
        "**Solutions**\n",
        "1. zero\n",
        "2. two\n",
        "3. four (you may have won the meet!)"
      ]
    },
    {
      "cell_type": "markdown",
      "metadata": {
        "id": "PNB9TnHgJy-P"
      },
      "source": [
        "### *p*-values"
      ]
    },
    {
      "cell_type": "markdown",
      "metadata": {
        "id": "JFpWDfhPJy-P"
      },
      "source": [
        "These quantify the *p*robability that a given observation would occur by chance alone. \n",
        "\n",
        "For example, we saw above that with our simulated 10k exam results, only 69 folks attained a *z*-score above 2.5 and only 67 (=10000-9993) attained a *z*-score below -2.5. Thus, if we were to randomly sample one of the 10k CS101 exam results, we would expect it to be outside of 2.5 (i.e., +/- 2.5) standard deviations only 1.36% of the time: \n",
        "$$ \\frac{69+67}{10000} = 0.0136 = 1.36\\% $$"
      ]
    },
    {
      "cell_type": "markdown",
      "metadata": {
        "id": "uZGJqELvJy-Q"
      },
      "source": [
        "Equivalent to increasing our CS101 class size from 10k toward infinity, the probability of a score being further than 2.5 standard deviations from the mean of a normal distribution can be determined with the distribution's *cumulative distribution function* (CDF): "
      ]
    },
    {
      "cell_type": "code",
      "execution_count": 87,
      "metadata": {
        "colab": {
          "base_uri": "https://localhost:8080/"
        },
        "id": "5s-ySScTJy-Q",
        "outputId": "b5dcbc31-fb81-4a51-dbb2-6e60e390dd6c"
      },
      "outputs": [
        {
          "data": {
            "text/plain": [
              "0.006209665325776132"
            ]
          },
          "execution_count": 87,
          "metadata": {},
          "output_type": "execute_result"
        }
      ],
      "source": [
        "p_below = st.norm.cdf(-2.5)\n",
        "p_below"
      ]
    },
    {
      "cell_type": "code",
      "execution_count": 88,
      "metadata": {
        "colab": {
          "base_uri": "https://localhost:8080/"
        },
        "id": "u62I9OjtJy-Q",
        "outputId": "4af35254-12e2-4ea4-e711-e2726731a3ce"
      },
      "outputs": [
        {
          "data": {
            "text/plain": [
              "62.096653257761325"
            ]
          },
          "execution_count": 88,
          "metadata": {},
          "output_type": "execute_result"
        }
      ],
      "source": [
        "p_below*10000"
      ]
    },
    {
      "cell_type": "code",
      "execution_count": 89,
      "metadata": {
        "colab": {
          "base_uri": "https://localhost:8080/",
          "height": 0
        },
        "id": "0-AGIPvRJy-Q",
        "outputId": "a90e8608-316a-4e48-beac-9d5911f2f54e"
      },
      "outputs": [
        {
          "data": {
            "image/png": "[encoded data removed]",
            "text/plain": [
              "<Figure size 360x360 with 1 Axes>"
            ]
          },
          "metadata": {},
          "output_type": "display_data"
        }
      ],
      "source": [
        "sns.displot(y, color='gray')\n",
        "_ = plt.axvline(mu-2.5*sigma, color='blue')"
      ]
    },
    {
      "cell_type": "code",
      "execution_count": 90,
      "metadata": {
        "colab": {
          "base_uri": "https://localhost:8080/"
        },
        "id": "nI18Ajo-Jy-Q",
        "outputId": "09c2c13b-11ef-4c59-a360-04e2b66eae78"
      },
      "outputs": [
        {
          "data": {
            "text/plain": [
              "0.9937903346742238"
            ]
          },
          "execution_count": 90,
          "metadata": {},
          "output_type": "execute_result"
        }
      ],
      "source": [
        "st.norm.cdf(2.5)"
      ]
    },
    {
      "cell_type": "code",
      "execution_count": 91,
      "metadata": {
        "colab": {
          "base_uri": "https://localhost:8080/"
        },
        "id": "XeX3OfokJy-Q",
        "outputId": "c44ee03f-8fa7-4548-89bb-ca2420ba9b7e"
      },
      "outputs": [
        {
          "data": {
            "text/plain": [
              "0.006209665325776159"
            ]
          },
          "execution_count": 91,
          "metadata": {},
          "output_type": "execute_result"
        }
      ],
      "source": [
        "p_above = 1-st.norm.cdf(2.5)\n",
        "p_above"
      ]
    },
    {
      "cell_type": "code",
      "execution_count": 92,
      "metadata": {
        "colab": {
          "base_uri": "https://localhost:8080/"
        },
        "id": "GQ4fjiJZJy-Q",
        "outputId": "60507c9e-0059-46bf-9caa-ad0488273155"
      },
      "outputs": [
        {
          "data": {
            "text/plain": [
              "62.09665325776159"
            ]
          },
          "execution_count": 92,
          "metadata": {},
          "output_type": "execute_result"
        }
      ],
      "source": [
        "p_above*10000"
      ]
    },
    {
      "cell_type": "code",
      "execution_count": 93,
      "metadata": {
        "colab": {
          "base_uri": "https://localhost:8080/",
          "height": 0
        },
        "id": "e8-QvwuNJy-R",
        "outputId": "656fa027-74ae-40b9-ebab-bc7fe1b68486"
      },
      "outputs": [
        {
          "data": {
            "image/png": "[encoded data removed]",
            "text/plain": [
              "<Figure size 360x360 with 1 Axes>"
            ]
          },
          "metadata": {},
          "output_type": "display_data"
        }
      ],
      "source": [
        "sns.displot(y, color='gray')\n",
        "_ = plt.axvline(mu+2.5*sigma, color='blue')"
      ]
    },
    {
      "cell_type": "code",
      "execution_count": 94,
      "metadata": {
        "colab": {
          "base_uri": "https://localhost:8080/"
        },
        "id": "GYllm_UaJy-R",
        "outputId": "c8d07035-d2de-46f3-9690-ebc2bf1e62a7"
      },
      "outputs": [
        {
          "data": {
            "text/plain": [
              "0.01241933065155229"
            ]
          },
          "execution_count": 94,
          "metadata": {},
          "output_type": "execute_result"
        }
      ],
      "source": [
        "p_outside = p_below + p_above\n",
        "p_outside"
      ]
    },
    {
      "cell_type": "code",
      "execution_count": 95,
      "metadata": {
        "colab": {
          "base_uri": "https://localhost:8080/"
        },
        "id": "44Cq4EtKJy-R",
        "outputId": "e5997c6f-4c2a-4057-b77d-ece314b83b68"
      },
      "outputs": [
        {
          "data": {
            "text/plain": [
              "124.1933065155229"
            ]
          },
          "execution_count": 95,
          "metadata": {},
          "output_type": "execute_result"
        }
      ],
      "source": [
        "p_outside*10000"
      ]
    },
    {
      "cell_type": "code",
      "execution_count": 96,
      "metadata": {
        "colab": {
          "base_uri": "https://localhost:8080/",
          "height": 0
        },
        "id": "6zdZEbPmJy-R",
        "outputId": "f07c46fc-3049-4994-9abc-de4e44a3324f"
      },
      "outputs": [
        {
          "data": {
            "image/png": "[encoded data removed]",
            "text/plain": [
              "<Figure size 360x360 with 1 Axes>"
            ]
          },
          "metadata": {},
          "output_type": "display_data"
        }
      ],
      "source": [
        "sns.displot(y, color='gray')\n",
        "plt.axvline(mu+2.5*sigma, color='blue')\n",
        "_ = plt.axvline(mu-2.5*sigma, color='blue')"
      ]
    },
    {
      "cell_type": "markdown",
      "metadata": {
        "id": "I0TSl17uJy-R"
      },
      "source": [
        "In other words, assuming a normal distribution, the probability (the *p*-value) of a sampled value being at least 2.5 standard deviations away from the mean by chance alone is $p \\approx .0124$."
      ]
    },
    {
      "cell_type": "markdown",
      "metadata": {
        "id": "4syN_b9hJy-R"
      },
      "source": [
        "The frequentist convention is that if a *p*-value is less than .05, we can say that it is a \"statistically significant\" observation. We typically denote this significance threshold with $\\alpha$, e.g., $\\alpha = .05$.\n",
        "\n",
        "For example, with a fair coin, the probability of throwing six heads *or* six tails in a six-coin-flip experiment is 0.03125 ($p = 0.015625$ for *either of* six heads or six tails). Refer back to the `coinflip_prob()` method from the [*Probability* notebook](https://github.com/jonkrohn/ML-foundations/blob/master/notebooks/5-probability.ipynb) for proof.\n",
        "\n",
        "If a friend of yours hands you a coin, the **null hypothesis** (the baseline assumed by the fair-toss distribution) would be that the coin is fair. If you test this coin by flipping it six times and it comes up heads on all six or tails on all six, this observation would suggest that you should *reject the null hypothesis* because chance alone would facilitate such an observation less than 5% of the time, i.e., $p < .05$."
      ]
    },
    {
      "cell_type": "markdown",
      "metadata": {
        "id": "KMt6x7BQJy-S"
      },
      "source": [
        "The *z*-scores corresponding to $\\alpha = .05$ can be obtained from the normal distribution's *percent point function* (PPF), which facilitates the inverse of the CDF. To capture 95% of the values around the mean, we leave 2.5% at the bottom of the distribution and 2.5% at the top: "
      ]
    },
    {
      "cell_type": "code",
      "execution_count": 70,
      "metadata": {
        "colab": {
          "base_uri": "https://localhost:8080/"
        },
        "id": "y3ZqdV9WJy-S",
        "outputId": "450df01c-3b14-4e20-f935-f36dff8a3865"
      },
      "outputs": [
        {
          "data": {
            "text/plain": [
              "-1.9599639845400545"
            ]
          },
          "execution_count": 70,
          "metadata": {},
          "output_type": "execute_result"
        }
      ],
      "source": [
        "st.norm.ppf(.025)"
      ]
    },
    {
      "cell_type": "code",
      "execution_count": 71,
      "metadata": {
        "colab": {
          "base_uri": "https://localhost:8080/"
        },
        "id": "VJGV5em-Jy-S",
        "outputId": "bd8fc443-844f-45c4-b521-b84bdce061e7"
      },
      "outputs": [
        {
          "data": {
            "text/plain": [
              "1.959963984540054"
            ]
          },
          "execution_count": 71,
          "metadata": {},
          "output_type": "execute_result"
        }
      ],
      "source": [
        "st.norm.ppf(.975)"
      ]
    },
    {
      "cell_type": "markdown",
      "metadata": {
        "id": "RObWUObeJy-S"
      },
      "source": [
        "Thus, at the traditional $\\alpha = .05$, a sampled value with *z*-score less than -1.96 or greater than 1.96 would be considered statistically significant."
      ]
    },
    {
      "cell_type": "code",
      "execution_count": 72,
      "metadata": {
        "colab": {
          "base_uri": "https://localhost:8080/",
          "height": 0
        },
        "id": "a7yRDzN-Jy-S",
        "outputId": "9ade82e9-b05d-4174-852f-6ad78e6935a0"
      },
      "outputs": [
        {
          "data": {
            "image/png": "[encoded data removed]",
            "text/plain": [
              "<Figure size 360x360 with 1 Axes>"
            ]
          },
          "metadata": {},
          "output_type": "display_data"
        }
      ],
      "source": [
        "sns.displot(y, color='gray')\n",
        "plt.axvline(mu+1.96*sigma, color='darkred')\n",
        "_ = plt.axvline(mu-1.96*sigma, color='darkred')"
      ]
    },
    {
      "cell_type": "markdown",
      "metadata": {
        "id": "esOQED5oqLSL"
      },
      "source": [
        "With a stricter threshold, say $\\alpha = .01$:"
      ]
    },
    {
      "cell_type": "code",
      "execution_count": 73,
      "metadata": {
        "colab": {
          "base_uri": "https://localhost:8080/"
        },
        "id": "2J1meOTUqIcG",
        "outputId": "eb1d33da-2369-44ce-bfa1-7feb4437ea4d"
      },
      "outputs": [
        {
          "data": {
            "text/plain": [
              "-2.575829303548901"
            ]
          },
          "execution_count": 73,
          "metadata": {},
          "output_type": "execute_result"
        }
      ],
      "source": [
        "st.norm.ppf(.005)"
      ]
    },
    {
      "cell_type": "code",
      "execution_count": 74,
      "metadata": {
        "colab": {
          "base_uri": "https://localhost:8080/"
        },
        "id": "DYqpw9SpqQNc",
        "outputId": "37b05eab-9fba-412e-fd46-845be12ee9f7"
      },
      "outputs": [
        {
          "data": {
            "text/plain": [
              "2.5758293035489004"
            ]
          },
          "execution_count": 74,
          "metadata": {},
          "output_type": "execute_result"
        }
      ],
      "source": [
        "st.norm.ppf(.995)"
      ]
    },
    {
      "cell_type": "code",
      "execution_count": 75,
      "metadata": {
        "colab": {
          "base_uri": "https://localhost:8080/",
          "height": 0
        },
        "id": "H5JqPoSdqSlp",
        "outputId": "003f1bed-6541-47c5-8a85-9e60ba603679"
      },
      "outputs": [
        {
          "data": {
            "image/png": "[encoded data removed]",
            "text/plain": [
              "<Figure size 360x360 with 1 Axes>"
            ]
          },
          "metadata": {},
          "output_type": "display_data"
        }
      ],
      "source": [
        "sns.displot(y, color='gray')\n",
        "\n",
        "plt.axvline(mu+1.96*sigma, color='darkred')\n",
        "plt.axvline(mu-1.96*sigma, color='darkred')\n",
        "\n",
        "plt.axvline(mu+2.56*sigma, color='black')\n",
        "_ = plt.axvline(mu-2.56*sigma, color='black')"
      ]
    },
    {
      "cell_type": "markdown",
      "metadata": {
        "id": "jOK4j775Jy-S"
      },
      "source": [
        "(Time-permitting, a discussion of two-tailed vs one-tailed *p*-value tests would be informative here.)"
      ]
    },
    {
      "cell_type": "markdown",
      "metadata": {
        "id": "eUO9cKo7Jy-S"
      },
      "source": [
        "**Exercises**\n",
        "\n",
        "1. What are the *p*-values associated with your weightlifting results from the three preceding exercises? \n",
        "2. With the standard $\\alpha = .05$, which of the three weightlifting results are \"statistically significant\"?\n",
        "\n",
        "**Spoiler alert**: Solutions below"
      ]
    },
    {
      "cell_type": "code",
      "execution_count": null,
      "metadata": {
        "id": "SmvS5AMBJy-T"
      },
      "outputs": [],
      "source": []
    },
    {
      "cell_type": "code",
      "execution_count": null,
      "metadata": {
        "id": "bsfF7aFkJy-T"
      },
      "outputs": [],
      "source": []
    },
    {
      "cell_type": "code",
      "execution_count": null,
      "metadata": {
        "id": "og_a_F-vJy-T"
      },
      "outputs": [],
      "source": []
    },
    {
      "cell_type": "markdown",
      "metadata": {
        "id": "CWQrcJOYJy-T"
      },
      "source": [
        "**Solutions**"
      ]
    },
    {
      "cell_type": "markdown",
      "metadata": {
        "id": "OGa9SFweJy-T"
      },
      "source": [
        "1a. This result is at the mean, which is also the median for a normal distribution; exactly half of the values are above as they are below. This corresponds to the highest possible $p$-value, $p=1$, because any value in the distribution is guaranteed to be above it or below it: "
      ]
    },
    {
      "cell_type": "code",
      "execution_count": 76,
      "metadata": {
        "colab": {
          "base_uri": "https://localhost:8080/"
        },
        "id": "ZQKATPPkJy-T",
        "outputId": "a52764bc-6334-4252-8c55-dbfc33cc419b"
      },
      "outputs": [
        {
          "data": {
            "text/plain": [
              "0.5"
            ]
          },
          "execution_count": 76,
          "metadata": {},
          "output_type": "execute_result"
        }
      ],
      "source": [
        "p_below = st.norm.cdf(0)\n",
        "p_below"
      ]
    },
    {
      "cell_type": "code",
      "execution_count": 77,
      "metadata": {
        "colab": {
          "base_uri": "https://localhost:8080/"
        },
        "id": "dmqPNWSqJy-U",
        "outputId": "06a17123-2980-4d8e-ab4e-41dfd064a137"
      },
      "outputs": [
        {
          "data": {
            "text/plain": [
              "0.5"
            ]
          },
          "execution_count": 77,
          "metadata": {},
          "output_type": "execute_result"
        }
      ],
      "source": [
        "p_above = 1-st.norm.cdf(0)\n",
        "p_above"
      ]
    },
    {
      "cell_type": "code",
      "execution_count": 78,
      "metadata": {
        "colab": {
          "base_uri": "https://localhost:8080/"
        },
        "id": "Fn6BF8RbJy-U",
        "outputId": "0886653c-29c8-4230-9a0b-5881a6ea1053"
      },
      "outputs": [
        {
          "data": {
            "text/plain": [
              "1.0"
            ]
          },
          "execution_count": 78,
          "metadata": {},
          "output_type": "execute_result"
        }
      ],
      "source": [
        "p_below + p_above"
      ]
    },
    {
      "cell_type": "markdown",
      "metadata": {
        "id": "RWdGMzQ0Jy-U"
      },
      "source": [
        "More generally: "
      ]
    },
    {
      "cell_type": "code",
      "execution_count": 79,
      "metadata": {
        "id": "BlWSYNYEJy-U"
      },
      "outputs": [],
      "source": [
        "def p_from_z(my_z):\n",
        "    return 2 * st.norm.cdf(-abs(my_z))"
      ]
    },
    {
      "cell_type": "code",
      "execution_count": 80,
      "metadata": {
        "colab": {
          "base_uri": "https://localhost:8080/"
        },
        "id": "V-wR64UTJy-V",
        "outputId": "d69c0d74-a715-4389-8f64-079517bdf740"
      },
      "outputs": [
        {
          "data": {
            "text/plain": [
              "1.0"
            ]
          },
          "execution_count": 80,
          "metadata": {},
          "output_type": "execute_result"
        }
      ],
      "source": [
        "p_from_z(0)"
      ]
    },
    {
      "cell_type": "markdown",
      "metadata": {
        "id": "jXZzO-nUJy-V"
      },
      "source": [
        "1b. The probability of a value being below $z = -2$ is:"
      ]
    },
    {
      "cell_type": "code",
      "execution_count": 81,
      "metadata": {
        "colab": {
          "base_uri": "https://localhost:8080/"
        },
        "id": "kmVVA_Z-Jy-V",
        "outputId": "cc961360-6981-4d17-fea5-143f8a421255"
      },
      "outputs": [
        {
          "data": {
            "text/plain": [
              "0.022750131948179195"
            ]
          },
          "execution_count": 81,
          "metadata": {},
          "output_type": "execute_result"
        }
      ],
      "source": [
        "p_below = st.norm.cdf(-2)\n",
        "p_below"
      ]
    },
    {
      "cell_type": "markdown",
      "metadata": {
        "id": "uqHYBMw9Jy-V"
      },
      "source": [
        "...and the probability of a value being above $z=2$ is the same: "
      ]
    },
    {
      "cell_type": "code",
      "execution_count": 82,
      "metadata": {
        "colab": {
          "base_uri": "https://localhost:8080/"
        },
        "id": "UFk8qbOYJy-V",
        "outputId": "763a00af-ebc5-4c2d-f109-3c94a88afc29"
      },
      "outputs": [
        {
          "data": {
            "text/plain": [
              "0.02275013194817921"
            ]
          },
          "execution_count": 82,
          "metadata": {},
          "output_type": "execute_result"
        }
      ],
      "source": [
        "p_above = 1-st.norm.cdf(2)\n",
        "p_above"
      ]
    },
    {
      "cell_type": "markdown",
      "metadata": {
        "id": "LYa0XOgUJy-V"
      },
      "source": [
        "Therefore, the *p*-value -- the probability that a value is below $z=-2$ or above $z=2$ -- is:"
      ]
    },
    {
      "cell_type": "code",
      "execution_count": 83,
      "metadata": {
        "colab": {
          "base_uri": "https://localhost:8080/"
        },
        "id": "qur84VgxJy-W",
        "outputId": "e4297f1b-913d-421d-be7b-0d788d357e97"
      },
      "outputs": [
        {
          "data": {
            "text/plain": [
              "0.0455002638963584"
            ]
          },
          "execution_count": 83,
          "metadata": {},
          "output_type": "execute_result"
        }
      ],
      "source": [
        "p_below + p_above"
      ]
    },
    {
      "cell_type": "code",
      "execution_count": 84,
      "metadata": {
        "colab": {
          "base_uri": "https://localhost:8080/"
        },
        "id": "3RJV4nIJJy-W",
        "outputId": "7dca3eed-dc74-431a-8ad6-1f50c2027293"
      },
      "outputs": [
        {
          "data": {
            "text/plain": [
              "0.04550026389635839"
            ]
          },
          "execution_count": 84,
          "metadata": {},
          "output_type": "execute_result"
        }
      ],
      "source": [
        "p_from_z(2)"
      ]
    },
    {
      "cell_type": "markdown",
      "metadata": {
        "id": "xwimaURKJy-W"
      },
      "source": [
        "1c. Following the same calculations as we did for 1b, the *p*-value for an observation 4 standard deviations away from the mean is: "
      ]
    },
    {
      "cell_type": "code",
      "execution_count": 85,
      "metadata": {
        "colab": {
          "base_uri": "https://localhost:8080/"
        },
        "id": "S8NL5ziVJy-W",
        "outputId": "6e790ec7-0dc4-4b16-d245-7ece385d66fd"
      },
      "outputs": [
        {
          "data": {
            "text/plain": [
              "6.334248366623973e-05"
            ]
          },
          "execution_count": 85,
          "metadata": {},
          "output_type": "execute_result"
        }
      ],
      "source": [
        "p_from_z(4)"
      ]
    },
    {
      "cell_type": "markdown",
      "metadata": {
        "id": "ePMcdC6AJy-W"
      },
      "source": [
        "...which is about 0.0000633: "
      ]
    },
    {
      "cell_type": "code",
      "execution_count": 86,
      "metadata": {
        "colab": {
          "base_uri": "https://localhost:8080/"
        },
        "id": "blFPCwJLJy-W",
        "outputId": "c2dc1a26-6658-455e-a6b0-a52197def7a7"
      },
      "outputs": [
        {
          "data": {
            "text/plain": [
              "6.33e-05"
            ]
          },
          "execution_count": 86,
          "metadata": {},
          "output_type": "execute_result"
        }
      ],
      "source": [
        "0.0000633"
      ]
    },
    {
      "cell_type": "markdown",
      "metadata": {
        "id": "5DcLWbVQJy-X"
      },
      "source": [
        "(Incidentally, very small *p* values are often reported as **negative log *P*** values as these are much easier to read...)"
      ]
    },
    {
      "cell_type": "code",
      "execution_count": 88,
      "metadata": {
        "colab": {
          "base_uri": "https://localhost:8080/"
        },
        "id": "vpmwsw5OJy-X",
        "outputId": "bc243259-9233-4f66-f3b9-c40b0b1b8fe2"
      },
      "outputs": [
        {
          "data": {
            "text/plain": [
              "4.198596289982645"
            ]
          },
          "execution_count": 88,
          "metadata": {},
          "output_type": "execute_result"
        }
      ],
      "source": [
        "-np.log10(6.33e-05)"
      ]
    },
    {
      "cell_type": "markdown",
      "metadata": {
        "id": "xzmOYl6xJy-X"
      },
      "source": [
        "2. The absolute value of the *z*-score for your snatch as well as your combined score is greater than 1.96 so they're both \"statistically significant\". Your performance on the clean and jerk could not have been less significant! "
      ]
    },
    {
      "cell_type": "markdown",
      "metadata": {
        "id": "HA3mbmo4Jy-X"
      },
      "source": [
        "### Comparing Means with *t*-tests"
      ]
    },
    {
      "cell_type": "markdown",
      "metadata": {
        "id": "OBARGrHjJy-X"
      },
      "source": [
        "Where *z*-scores apply to *individual values* only, *t*-tests enables us to compare (the mean of) a sample of *multiple values* to a reference mean."
      ]
    },
    {
      "cell_type": "markdown",
      "metadata": {
        "id": "FFS2GmrxJy-X"
      },
      "source": [
        "#### Student's Single-Sample *t*-test"
      ]
    },
    {
      "cell_type": "markdown",
      "metadata": {
        "id": "OEkXJ94nJy-X"
      },
      "source": [
        "Named after William Sealy Gosset, an Oxford-trained scientist and mathematician, who became a stout yield statistician for Guinness in Dublin (from 1899 to his fatal heart attack in 1937 shortly after being promoted to head brewer). Alongside sabbaticals in Karl Pearson's UCL Biometric Laboratory, Gosset published under the pseudonym Student (including on the *t*-test, starting in 1908) as it was against Guinness policy to publish."
      ]
    },
    {
      "cell_type": "markdown",
      "metadata": {
        "id": "ShlPrRtVJy-X"
      },
      "source": [
        "Recalling the formula for calculating a *z*-score: \n",
        "$$ z = \\frac{x_i-\\mu}{\\sigma} $$"
      ]
    },
    {
      "cell_type": "markdown",
      "metadata": {
        "id": "BoXBaK4WJy-Y"
      },
      "source": [
        "The **single-sample *t*-test** is a variation on the theme and is defined by: \n",
        "$$ t = \\frac{\\bar{x} - \\mu_0}{s_{\\bar{x}}} $$\n",
        "Where: \n",
        "* $\\bar{x}$ is the sample mean\n",
        "* $\\mu_0$ is a reference mean, e.g., known population mean or \"null hypothesis\" mean\n",
        "* $s_{\\bar{x}}$ is the sample standard error"
      ]
    },
    {
      "cell_type": "markdown",
      "metadata": {
        "id": "lqnCyHq6Jy-Y"
      },
      "source": [
        "Let's say you're the head brewer at Guinness. Your baseline brewing process yields 50L of stout. Using a new genetically-modified yeast, you obtain the following yields (all in liters) in four separate experiments: "
      ]
    },
    {
      "cell_type": "code",
      "execution_count": null,
      "metadata": {
        "id": "2Lo8ozG5Jy-Y"
      },
      "outputs": [],
      "source": [
        "x = [48, 50, 54, 60]"
      ]
    },
    {
      "cell_type": "markdown",
      "metadata": {
        "id": "oov4H2IvJy-Y"
      },
      "source": [
        "We can obtain the *t*-statistic for this sample as follows: "
      ]
    },
    {
      "cell_type": "code",
      "execution_count": null,
      "metadata": {
        "colab": {
          "base_uri": "https://localhost:8080/"
        },
        "id": "JR_0S3KyJy-Y",
        "outputId": "3cd69091-3a96-456d-e9f8-22e4a641d8de"
      },
      "outputs": [],
      "source": [
        "xbar = np.mean(x)\n",
        "xbar"
      ]
    },
    {
      "cell_type": "code",
      "execution_count": null,
      "metadata": {
        "colab": {
          "base_uri": "https://localhost:8080/"
        },
        "id": "2OFpbkOlJy-Y",
        "outputId": "450b13e6-5835-48c6-fb07-ec5db7988a9d"
      },
      "outputs": [],
      "source": [
        "sx = st.sem(x)\n",
        "sx"
      ]
    },
    {
      "cell_type": "code",
      "execution_count": null,
      "metadata": {
        "colab": {
          "base_uri": "https://localhost:8080/"
        },
        "id": "YSX1KZ2nJy-Y",
        "outputId": "bce2a1e9-c29b-4803-d0d0-ebb1e26f6973"
      },
      "outputs": [],
      "source": [
        "t = (xbar-50)/sx\n",
        "t"
      ]
    },
    {
      "cell_type": "markdown",
      "metadata": {
        "id": "1KAvQMTUJy-Z"
      },
      "source": [
        "We can convert the *t*-value into a *p*-value using Student's *t*-distribution (similar to the normal *z*-distribution, but varies based on number of data points in sample; see [here](https://en.wikipedia.org/wiki/Student%27s_t-distribution) for more detail):"
      ]
    },
    {
      "cell_type": "code",
      "execution_count": null,
      "metadata": {
        "id": "yqled1DnJy-Z"
      },
      "outputs": [],
      "source": [
        "def p_from_t(my_t, my_n):\n",
        "    return 2 * st.t.cdf(-abs(my_t), my_n-1) # 2nd arg to t.cdf() is \"degrees of freedom\""
      ]
    },
    {
      "cell_type": "code",
      "execution_count": null,
      "metadata": {
        "colab": {
          "base_uri": "https://localhost:8080/"
        },
        "id": "b_l4p5YwJy-Z",
        "outputId": "5c04fa3b-f6ca-4e15-c85c-1b5929b28a2e"
      },
      "outputs": [],
      "source": [
        "p_from_t(t, len(x))"
      ]
    },
    {
      "cell_type": "markdown",
      "metadata": {
        "id": "x0BPjLnwJy-Z"
      },
      "source": [
        "(An illustration of **degrees of freedom**: If we know the mean of the array `x`, three of its four values can vary freely. That is, if we know three of the values in the array, the fourth has no \"freedom\"; it must be a specific value. Thus, the most common situation with statistical tests is that we have *n*-1 degrees of freedom.)"
      ]
    },
    {
      "cell_type": "markdown",
      "metadata": {
        "id": "z4-b2kfJJy-Z"
      },
      "source": [
        "For everyday usage, however, we can rely on the SciPy `ttest_1samp()` method: "
      ]
    },
    {
      "cell_type": "code",
      "execution_count": null,
      "metadata": {
        "colab": {
          "base_uri": "https://localhost:8080/"
        },
        "id": "ZhHgjupDJy-Z",
        "outputId": "fd0301e2-ffbe-4b09-a930-85c0284cce95"
      },
      "outputs": [],
      "source": [
        "st.ttest_1samp(x, 50)"
      ]
    },
    {
      "cell_type": "markdown",
      "metadata": {
        "id": "7yB8zKkOJy-a"
      },
      "source": [
        "#### Welch's Independent *t*-test"
      ]
    },
    {
      "cell_type": "markdown",
      "metadata": {
        "id": "LHhP5rBJJy-a"
      },
      "source": [
        "In ordinary circumstances, if we have two samples whose means we'd like to compare, we use an **independent *t*-test**. "
      ]
    },
    {
      "cell_type": "code",
      "execution_count": null,
      "metadata": {
        "id": "43W0pLTKJy-a"
      },
      "outputs": [],
      "source": [
        "penguins = sns.load_dataset('penguins').dropna() # some rows are missing data"
      ]
    },
    {
      "cell_type": "code",
      "execution_count": null,
      "metadata": {
        "colab": {
          "base_uri": "https://localhost:8080/",
          "height": 0
        },
        "id": "uzhbtPXzJy-a",
        "outputId": "0f934f6d-1940-48c2-e6f1-8abbdd28db29"
      },
      "outputs": [],
      "source": [
        "penguins"
      ]
    },
    {
      "cell_type": "code",
      "execution_count": null,
      "metadata": {
        "colab": {
          "base_uri": "https://localhost:8080/"
        },
        "id": "QiN2SlJPJy-a",
        "outputId": "d2d4b52a-f112-453d-a5a3-339f232e70ab"
      },
      "outputs": [],
      "source": [
        "np.unique(penguins.species, return_counts=True)"
      ]
    },
    {
      "cell_type": "code",
      "execution_count": null,
      "metadata": {
        "id": "oYNbPQ6aJy-a"
      },
      "outputs": [],
      "source": [
        "adelie = penguins[penguins.species == 'Adelie']"
      ]
    },
    {
      "cell_type": "code",
      "execution_count": null,
      "metadata": {
        "colab": {
          "base_uri": "https://localhost:8080/",
          "height": 0
        },
        "id": "izX0Q8CXJy-b",
        "outputId": "85b2ccc9-7086-4bae-97ff-074f9777716b"
      },
      "outputs": [],
      "source": [
        "adelie"
      ]
    },
    {
      "cell_type": "code",
      "execution_count": null,
      "metadata": {
        "colab": {
          "base_uri": "https://localhost:8080/"
        },
        "id": "nO8GBeloJy-b",
        "outputId": "658b29bd-e9ca-4285-b622-227da698adac"
      },
      "outputs": [],
      "source": [
        "np.unique(adelie.island, return_counts=True)"
      ]
    },
    {
      "cell_type": "code",
      "execution_count": null,
      "metadata": {
        "colab": {
          "base_uri": "https://localhost:8080/"
        },
        "id": "7OYSleCKJy-b",
        "outputId": "5af65b06-004d-4a7c-8490-2a2d3f55f3e8"
      },
      "outputs": [],
      "source": [
        "np.unique(adelie.sex, return_counts=True)"
      ]
    },
    {
      "cell_type": "code",
      "execution_count": null,
      "metadata": {
        "colab": {
          "base_uri": "https://localhost:8080/",
          "height": 0
        },
        "id": "lsOZu9s9Jy-b",
        "outputId": "ae76828e-1a4b-402f-cdf4-d9778fecf327"
      },
      "outputs": [],
      "source": [
        "_ = sns.boxplot(x='island', y='body_mass_g', hue='sex', data=adelie)"
      ]
    },
    {
      "cell_type": "markdown",
      "metadata": {
        "id": "2VaIivkrJy-b"
      },
      "source": [
        "Mass doesn't appear to vary by island, so we can feel comfortable grouping the data together by island. Weight does, however, appear to vary by sex so let's take a closer look: "
      ]
    },
    {
      "cell_type": "code",
      "execution_count": null,
      "metadata": {
        "colab": {
          "base_uri": "https://localhost:8080/"
        },
        "id": "kx904jk5Jy-b",
        "outputId": "df57b926-9265-4c68-c758-0155253f54a7"
      },
      "outputs": [],
      "source": [
        "f = adelie[adelie.sex == 'Female']['body_mass_g'].to_numpy()/1000\n",
        "f"
      ]
    },
    {
      "cell_type": "code",
      "execution_count": null,
      "metadata": {
        "colab": {
          "base_uri": "https://localhost:8080/"
        },
        "id": "s_geKklTJy-c",
        "outputId": "e11f2dec-f9a1-4756-c142-a7c78abce6b5"
      },
      "outputs": [],
      "source": [
        "m = adelie[adelie.sex == 'Male']['body_mass_g'].to_numpy()/1000\n",
        "m"
      ]
    },
    {
      "cell_type": "code",
      "execution_count": null,
      "metadata": {
        "colab": {
          "base_uri": "https://localhost:8080/"
        },
        "id": "XfpowzzfJy-c",
        "outputId": "9083157f-966e-45b7-8824-191d22104322"
      },
      "outputs": [],
      "source": [
        "fbar = f.mean()\n",
        "fbar"
      ]
    },
    {
      "cell_type": "code",
      "execution_count": null,
      "metadata": {
        "colab": {
          "base_uri": "https://localhost:8080/"
        },
        "id": "tMzJ6hpTJy-c",
        "outputId": "2acd0a87-0081-4421-b1da-163665756912"
      },
      "outputs": [],
      "source": [
        "mbar = m.mean()\n",
        "mbar"
      ]
    },
    {
      "cell_type": "markdown",
      "metadata": {
        "id": "8y2BYap9Jy-c"
      },
      "source": [
        "To quantify whether males weigh significantly more than females, we can use the **Welch *t*-test**, devised by the 20th c. British statistician Bernard Lewis Welch:\n",
        "$$ t = \\frac{\\bar{x} - \\bar{y}}{\\sqrt{\\frac{s^2_x}{n_x} + \\frac{s^2_y}{n_y}}} $$\n",
        "Where: \n",
        "* $\\bar{x}$ and $\\bar{y}$ are the sample means\n",
        "* $s^2_x$ and $s^2_y$ are the sample variances\n",
        "* $n_x$ and $n_y$ are the sample sizes"
      ]
    },
    {
      "cell_type": "markdown",
      "metadata": {
        "id": "8W_RnYsCJy-d"
      },
      "source": [
        "**N.B.**: Student's independent *t*-test is markedly more popular than Welch's, but Student's assumes equal population variances (i.e., $\\sigma^2_x \\approx \\sigma^2_y$), making it less robust. In case you're curious, Student's formula is the same as Welch's, except that it uses a pooled variance $s^2_p$ in place of individual sample variances ($s^2_x$ and $s^2_y$). You can read more about it [here](https://en.wikipedia.org/wiki/Student%27s_t-test#Independent_two-sample_t-test)."
      ]
    },
    {
      "cell_type": "code",
      "execution_count": null,
      "metadata": {
        "id": "cl3g6CmrJy-d"
      },
      "outputs": [],
      "source": [
        "sf = f.var(ddof=1)\n",
        "sm = m.var(ddof=1)"
      ]
    },
    {
      "cell_type": "code",
      "execution_count": null,
      "metadata": {
        "id": "qCThyw6ZJy-d"
      },
      "outputs": [],
      "source": [
        "nf = f.size\n",
        "nm = m.size"
      ]
    },
    {
      "cell_type": "code",
      "execution_count": null,
      "metadata": {
        "colab": {
          "base_uri": "https://localhost:8080/"
        },
        "id": "7oApFUC_Jy-d",
        "outputId": "154b5c0c-6754-4bb7-b6a2-55a2ddc80341"
      },
      "outputs": [],
      "source": [
        "t = (fbar-mbar)/(sf/nf + sm/nm)**(1/2)\n",
        "t"
      ]
    },
    {
      "cell_type": "markdown",
      "metadata": {
        "id": "04QiVOYcJy-d"
      },
      "source": [
        "Degrees of freedom for calculating the *p*-value are estimated using the [Welch–Satterthwaite equation](https://en.wikipedia.org/wiki/Welch–Satterthwaite_equation), which we won't detail but is defined as: "
      ]
    },
    {
      "cell_type": "code",
      "execution_count": null,
      "metadata": {
        "id": "GXyapE2pJy-d"
      },
      "outputs": [],
      "source": [
        "def ws_eqn(sx, sy, nx, ny):\n",
        "    return (sx / nx + sy / ny)**2 / (sx**2 / (nx**2 * (nx - 1)) + sy**2 / (ny**2 * (ny - 1)))"
      ]
    },
    {
      "cell_type": "code",
      "execution_count": null,
      "metadata": {
        "colab": {
          "base_uri": "https://localhost:8080/"
        },
        "id": "bhiKHnxXJy-d",
        "outputId": "c51859a9-03f6-491e-b0e6-f21ff98a3c0b"
      },
      "outputs": [],
      "source": [
        "df = ws_eqn(sf, sm, nf, nm)\n",
        "df"
      ]
    },
    {
      "cell_type": "code",
      "execution_count": null,
      "metadata": {
        "colab": {
          "base_uri": "https://localhost:8080/"
        },
        "id": "uA-751AVJy-e",
        "outputId": "3e84ac77-d6d6-45be-c7ea-1f1055b51404"
      },
      "outputs": [],
      "source": [
        "p = 2 * st.t.cdf(-abs(t), df) # or p_from_t(t, df+1)\n",
        "p"
      ]
    },
    {
      "cell_type": "code",
      "execution_count": null,
      "metadata": {
        "colab": {
          "base_uri": "https://localhost:8080/"
        },
        "id": "yKrUZU9oSylp",
        "outputId": "51f32cf6-0bf6-4752-ba4a-eb6f198a88a2"
      },
      "outputs": [],
      "source": [
        "p_from_t(t, df+1)"
      ]
    },
    {
      "cell_type": "code",
      "execution_count": null,
      "metadata": {
        "colab": {
          "base_uri": "https://localhost:8080/"
        },
        "id": "3Ug3l4vNJy-e",
        "outputId": "4fd21b23-f95a-4239-c766-63b45814acea"
      },
      "outputs": [],
      "source": [
        "-np.log10(p)"
      ]
    },
    {
      "cell_type": "code",
      "execution_count": null,
      "metadata": {
        "colab": {
          "base_uri": "https://localhost:8080/"
        },
        "id": "Fj1klL8RJy-e",
        "outputId": "109d5c46-05d0-4264-ad4d-2628cf7707b9"
      },
      "outputs": [],
      "source": [
        "st.ttest_ind(f, m, equal_var=False) "
      ]
    },
    {
      "cell_type": "markdown",
      "metadata": {
        "id": "mz_5pa7WJy-e"
      },
      "source": [
        "#### Student's Paired *t*-test"
      ]
    },
    {
      "cell_type": "markdown",
      "metadata": {
        "id": "kaomPLqyJy-e"
      },
      "source": [
        "Occasionally, we have two vectors where each element in vector *x* has a corresponding element in vector *y*. \n",
        "\n",
        "For example, we could run an experiment where Alzheimer's disease patients receive a drug on one day (experimental condition) and a sugar pill placebo (control condition) on another day. We can then measure the patients' forgetfulness on both days to test whether the drug has a significant impact on memory.\n",
        "\n",
        "For a given sample size, such a paired *t*-test is more powerful relative to an unpaired (independent) *t*-test because the variance of *x* is directly related to the variance in *y*: A severe Alzheimer's patient will tend to be relatively forgetful on both days, while a mild Alzheimer's patient will tend to be relatively unforgetful on both days. With paired samples, we capture this power by comparing the *difference* between *x* and *y*, e.g., the difference in forgetfulness for a given patient when given the drug relative to when given the sugar pill.\n",
        "\n",
        "In contrast, consider the penguin dataset, wherein we wouldn't be able to obviously pair a given male penguin with a correponding female penguin. Or consider a situation where we provide a drug to one set of Alzheimer's patients while we provide a placebo to an entire different (an independent) group of patients. Indeed, with an independent *t*-test we could even have different sample sizes in the two groups whereas this is impossible with a paired *t*-test. "
      ]
    },
    {
      "cell_type": "markdown",
      "metadata": {
        "id": "mRknH0rPJy-e"
      },
      "source": [
        "Here's an example: "
      ]
    },
    {
      "cell_type": "code",
      "execution_count": null,
      "metadata": {
        "colab": {
          "base_uri": "https://localhost:8080/",
          "height": 0
        },
        "id": "I5OLpqPvJy-f",
        "outputId": "df5f319c-4d95-4bc9-f56b-e9c45a7328d2"
      },
      "outputs": [],
      "source": [
        "exercise = sns.load_dataset('exercise')\n",
        "exercise"
      ]
    },
    {
      "cell_type": "markdown",
      "metadata": {
        "id": "NYi9P-nIJy-f"
      },
      "source": [
        "There are 30 people in the dataset, with their pulse taken at three different time points in an experiment (i.e, after one, 15, and 30 minutes). Ten people were assigned to each of three activity groups: "
      ]
    },
    {
      "cell_type": "code",
      "execution_count": null,
      "metadata": {
        "colab": {
          "base_uri": "https://localhost:8080/"
        },
        "id": "8ZmmIMPEJy-f",
        "outputId": "40048b38-22fd-4096-851c-d5ca45329b13"
      },
      "outputs": [],
      "source": [
        "np.unique(exercise.kind, return_counts=True)"
      ]
    },
    {
      "cell_type": "markdown",
      "metadata": {
        "id": "49PjJ7U2Jy-g"
      },
      "source": [
        "Within each of those activity groups, half of the participants are on a low-fat diet while the other half are on a no-fat diet: "
      ]
    },
    {
      "cell_type": "code",
      "execution_count": null,
      "metadata": {
        "colab": {
          "base_uri": "https://localhost:8080/"
        },
        "id": "0L3Ez96QJy-g",
        "outputId": "ad7d5fc3-d4f9-4971-d3aa-65d23180ca5b"
      },
      "outputs": [],
      "source": [
        "np.unique(exercise.diet, return_counts=True)"
      ]
    },
    {
      "cell_type": "markdown",
      "metadata": {
        "id": "CLMGo8KNJy-g"
      },
      "source": [
        "For simplicity, let's only consider one of the six experimental groups, say the walking, no-fat dieters: "
      ]
    },
    {
      "cell_type": "code",
      "execution_count": null,
      "metadata": {
        "colab": {
          "base_uri": "https://localhost:8080/",
          "height": 0
        },
        "id": "i6a8K8bwJy-g",
        "outputId": "e65e0745-0880-415e-9242-9dcc2f264628"
      },
      "outputs": [],
      "source": [
        "walk_no = exercise[(exercise.diet == 'no fat') & (exercise.kind == 'walking')]\n",
        "walk_no"
      ]
    },
    {
      "cell_type": "markdown",
      "metadata": {
        "id": "wkNKuo-UJy-g"
      },
      "source": [
        "(Note how participant 16 has a relatively low heart rate at all three timepoints, whereas participant 20 has a relatively high heart rate at all three timepoints.)"
      ]
    },
    {
      "cell_type": "code",
      "execution_count": null,
      "metadata": {
        "colab": {
          "base_uri": "https://localhost:8080/",
          "height": 0
        },
        "id": "8mJ_Bzz5Jy-g",
        "outputId": "001f48d7-1cf4-475a-c9d3-2fabead73e83"
      },
      "outputs": [],
      "source": [
        "_ = sns.boxplot(x='time', y='pulse', data=walk_no)"
      ]
    },
    {
      "cell_type": "code",
      "execution_count": null,
      "metadata": {
        "colab": {
          "base_uri": "https://localhost:8080/"
        },
        "id": "u8IgFK6KJy-h",
        "outputId": "240ff222-3b76-4334-83ae-bd34fc8ff77c"
      },
      "outputs": [],
      "source": [
        "min1 = walk_no[walk_no.time == '1 min']['pulse'].to_numpy()\n",
        "min1"
      ]
    },
    {
      "cell_type": "code",
      "execution_count": null,
      "metadata": {
        "colab": {
          "base_uri": "https://localhost:8080/"
        },
        "id": "o_LOW8VFJy-h",
        "outputId": "87420c4d-c6b7-489f-81be-a57ece3640a6"
      },
      "outputs": [],
      "source": [
        "min1.mean()"
      ]
    },
    {
      "cell_type": "code",
      "execution_count": null,
      "metadata": {
        "colab": {
          "base_uri": "https://localhost:8080/"
        },
        "id": "9H8GdBZoJy-h",
        "outputId": "aa3d93ef-2abc-4c8f-e040-abdceb9bf1e0"
      },
      "outputs": [],
      "source": [
        "min15 = walk_no[walk_no.time == '15 min']['pulse'].to_numpy()\n",
        "min15"
      ]
    },
    {
      "cell_type": "code",
      "execution_count": null,
      "metadata": {
        "colab": {
          "base_uri": "https://localhost:8080/"
        },
        "id": "D0QZlQl8Jy-h",
        "outputId": "f041cd4c-137b-4ff4-ddd2-1a3c7761de30"
      },
      "outputs": [],
      "source": [
        "min15.mean()"
      ]
    },
    {
      "cell_type": "code",
      "execution_count": null,
      "metadata": {
        "colab": {
          "base_uri": "https://localhost:8080/"
        },
        "id": "rkCzRQnwJy-h",
        "outputId": "d0b02bcc-d703-4dfb-c72d-ad8dcedda1fb"
      },
      "outputs": [],
      "source": [
        "min30 = walk_no[walk_no.time == '30 min']['pulse'].to_numpy()\n",
        "min30"
      ]
    },
    {
      "cell_type": "code",
      "execution_count": null,
      "metadata": {
        "colab": {
          "base_uri": "https://localhost:8080/"
        },
        "id": "yWmnohV5Jy-h",
        "outputId": "c8b7bca9-0ce7-402e-d765-7c7aee736307"
      },
      "outputs": [],
      "source": [
        "min30.mean()"
      ]
    },
    {
      "cell_type": "markdown",
      "metadata": {
        "id": "2IPyQq9iJy-i"
      },
      "source": [
        "(With paired samples, we can plot the values in a scatterplot, which wouldn't make any sense for independent samples, e.g.:)"
      ]
    },
    {
      "cell_type": "code",
      "execution_count": null,
      "metadata": {
        "colab": {
          "base_uri": "https://localhost:8080/",
          "height": 0
        },
        "id": "rNPRuNaDJy-i",
        "outputId": "ed4f26a8-d232-4ed3-84bc-5f280a0da782"
      },
      "outputs": [],
      "source": [
        "sns.scatterplot(x=min1, y=min15)\n",
        "plt.title('Heart rate of no-fat dieters (beats per minute)')\n",
        "plt.xlabel('After 1 minute walking')\n",
        "_ = plt.ylabel('After 15 minutes walking')"
      ]
    },
    {
      "cell_type": "markdown",
      "metadata": {
        "id": "7ah_p_eVJy-i"
      },
      "source": [
        "To assess whether the mean heart rate varies significantly after one minute of walking relative to after 15 minutes, we can use Student's **paired-sample** (a.k.a., **dependent**) *t*-test: \n",
        "$$ t = \\frac{\\bar{d} - \\mu_0}{s_\\bar{d}} $$ \n",
        "Where: \n",
        "* $d$ is a vector of the differences between paired samples $x$ and $y$\n",
        "* $\\bar{d}$ is the mean of the differences\n",
        "* $\\mu_0$ will typically be zero, meaning the null hypothesis is that there is no difference between $x$ and $y$\n",
        "* $s_\\bar{d}$ is the standard error of the differences"
      ]
    },
    {
      "cell_type": "markdown",
      "metadata": {
        "id": "5w618u07Jy-i"
      },
      "source": [
        "(Note how similar to single-sample *t*-test formula.)"
      ]
    },
    {
      "cell_type": "code",
      "execution_count": null,
      "metadata": {
        "colab": {
          "base_uri": "https://localhost:8080/"
        },
        "id": "GSaoJW5IJy-i",
        "outputId": "7d8f15bf-b182-434f-e01f-db3c4cc1c9d5"
      },
      "outputs": [],
      "source": [
        "d = min15 - min1\n",
        "d"
      ]
    },
    {
      "cell_type": "code",
      "execution_count": null,
      "metadata": {
        "colab": {
          "base_uri": "https://localhost:8080/"
        },
        "id": "elsBVr9AJy-i",
        "outputId": "04e28316-5545-4ed0-b3d8-f961bbbe59df"
      },
      "outputs": [],
      "source": [
        "dbar = d.mean()\n",
        "dbar"
      ]
    },
    {
      "cell_type": "code",
      "execution_count": null,
      "metadata": {
        "colab": {
          "base_uri": "https://localhost:8080/"
        },
        "id": "yD8KOL3EJy-j",
        "outputId": "8c1fedc8-875a-4663-8bbc-9a7a90d5d716"
      },
      "outputs": [],
      "source": [
        "sd = st.sem(d)\n",
        "sd"
      ]
    },
    {
      "cell_type": "code",
      "execution_count": null,
      "metadata": {
        "colab": {
          "base_uri": "https://localhost:8080/"
        },
        "id": "uJglNA37Jy-j",
        "outputId": "3e4b1a7c-9b30-462a-a0a8-070f53a9fbda"
      },
      "outputs": [],
      "source": [
        "t = (dbar-0)/sd\n",
        "t"
      ]
    },
    {
      "cell_type": "code",
      "execution_count": null,
      "metadata": {
        "colab": {
          "base_uri": "https://localhost:8080/"
        },
        "id": "6Mcq9LALJy-j",
        "outputId": "177698d7-92fe-4953-848e-14dbc4a3a97f"
      },
      "outputs": [],
      "source": [
        "p_from_t(t, d.size)"
      ]
    },
    {
      "cell_type": "code",
      "execution_count": null,
      "metadata": {
        "colab": {
          "base_uri": "https://localhost:8080/"
        },
        "id": "7SZqWeDSJy-j",
        "outputId": "14b8234b-9751-4e11-dfcb-8e7ebf7a354d"
      },
      "outputs": [],
      "source": [
        "st.ttest_rel(min15, min1)"
      ]
    },
    {
      "cell_type": "markdown",
      "metadata": {
        "id": "oZy5OPUcJy-j"
      },
      "source": [
        "In contrast, if we were to put the same values into an independent *t*-test..."
      ]
    },
    {
      "cell_type": "code",
      "execution_count": null,
      "metadata": {
        "colab": {
          "base_uri": "https://localhost:8080/"
        },
        "id": "-Zxlb9MjJy-j",
        "outputId": "bea9e93c-1f55-4a57-8abc-28584150cdbd"
      },
      "outputs": [],
      "source": [
        "st.ttest_ind(min15, min1, equal_var=False)"
      ]
    },
    {
      "cell_type": "markdown",
      "metadata": {
        "id": "3Qq6CwH2Jy-k"
      },
      "source": [
        "#### Machine Learning Examples"
      ]
    },
    {
      "cell_type": "markdown",
      "metadata": {
        "id": "QKsOq0Q2Jy-k"
      },
      "source": [
        "* Single-sample: Does my stochastic model tend to be more accurate than an established benchmark? \n",
        "* Independent samples: Does my model have unwanted bias in it, e.g., do white men score higher than other demographic groups with HR model? \n",
        "* Paired samples: Is new TensorFlow.js model significantly faster? (paired by browser / device)"
      ]
    },
    {
      "cell_type": "markdown",
      "metadata": {
        "id": "bVKNILucJy-k"
      },
      "source": [
        "**Exercises**\n",
        "1. You run four additional experiments with your GMO brewing yeast and now have the following eight stout yields: `[48, 50, 54, 60, 49, 55, 59, 62]`. What is the *t*-statistic and is it significantly different from the 50L-yielding baseline process? \n",
        "2. Does the flipper length of Adélie penguins from Dream island vary significantly by sex? \n",
        "2. Was the heart rate of low-fat dieters different after one minute of rest relative to after 15 minutes of rest? \n",
        "\n",
        "**Spoiler alert**: Solutions below"
      ]
    },
    {
      "cell_type": "code",
      "execution_count": null,
      "metadata": {
        "id": "G4HjJ33AJy-k"
      },
      "outputs": [],
      "source": []
    },
    {
      "cell_type": "code",
      "execution_count": null,
      "metadata": {
        "id": "xDcxxEsGJy-k"
      },
      "outputs": [],
      "source": []
    },
    {
      "cell_type": "code",
      "execution_count": null,
      "metadata": {
        "id": "6HL_gZyZJy-k"
      },
      "outputs": [],
      "source": []
    },
    {
      "cell_type": "markdown",
      "metadata": {
        "id": "EBk3r0Q_Jy-k"
      },
      "source": [
        "**Solutions**\n",
        "1. The GMO yeast yields a mean of 54.6L, which is significantly more stout than the baseline process, *t*(7) = 2.45, $p < .05$."
      ]
    },
    {
      "cell_type": "code",
      "execution_count": null,
      "metadata": {
        "colab": {
          "base_uri": "https://localhost:8080/"
        },
        "id": "h8K4hhf0Jy-l",
        "outputId": "a4d66128-4c04-4eaa-8318-d9c6c78b2b3d"
      },
      "outputs": [],
      "source": [
        "st.ttest_1samp([48, 50, 54, 60, 49, 55, 59, 62], 50)"
      ]
    },
    {
      "cell_type": "markdown",
      "metadata": {
        "id": "2uSTVC7PJy-l"
      },
      "source": [
        "2. On Dream island, the flippers of male Adélie penguins (191.9 mm) are significantly longer than those of females (187.9 mm), *t* = 2.4, *p* < .05."
      ]
    },
    {
      "cell_type": "code",
      "execution_count": null,
      "metadata": {
        "colab": {
          "base_uri": "https://localhost:8080/",
          "height": 0
        },
        "id": "wVvnWp-nJy-l",
        "outputId": "48eca2e6-b7d4-497d-ece6-bf78bc36e71c"
      },
      "outputs": [],
      "source": [
        "_ = sns.boxplot(x='island', y='flipper_length_mm', hue='sex', data=adelie)"
      ]
    },
    {
      "cell_type": "code",
      "execution_count": null,
      "metadata": {
        "id": "6NQmdBuxJy-l"
      },
      "outputs": [],
      "source": [
        "f = adelie[(adelie.sex == 'Female') & (adelie.island == 'Dream')]['flipper_length_mm'].to_numpy()\n",
        "m = adelie[(adelie.sex == 'Male') & (adelie.island == 'Dream')]['flipper_length_mm'].to_numpy()"
      ]
    },
    {
      "cell_type": "code",
      "execution_count": null,
      "metadata": {
        "colab": {
          "base_uri": "https://localhost:8080/"
        },
        "id": "087RkPOgJy-l",
        "outputId": "0aaf40a0-0aff-41d4-fe78-143405602919"
      },
      "outputs": [],
      "source": [
        "f.mean()"
      ]
    },
    {
      "cell_type": "code",
      "execution_count": null,
      "metadata": {
        "colab": {
          "base_uri": "https://localhost:8080/"
        },
        "id": "bTpJdjU-Jy-m",
        "outputId": "6a0220c5-0ce5-4694-c21d-d6eeb20caa2b"
      },
      "outputs": [],
      "source": [
        "m.mean()"
      ]
    },
    {
      "cell_type": "code",
      "execution_count": null,
      "metadata": {
        "colab": {
          "base_uri": "https://localhost:8080/"
        },
        "id": "gDK9V7pTJy-m",
        "outputId": "f5382a8f-30b3-42d5-e820-3ba45d9c13a2"
      },
      "outputs": [],
      "source": [
        "tp = st.ttest_ind(f, m, equal_var=False)\n",
        "tp"
      ]
    },
    {
      "cell_type": "code",
      "execution_count": null,
      "metadata": {
        "colab": {
          "base_uri": "https://localhost:8080/"
        },
        "id": "3xPeCr7jJy-m",
        "outputId": "229db25d-a01f-48a5-cc6f-fd29fd88986e"
      },
      "outputs": [],
      "source": [
        "tp.pvalue"
      ]
    },
    {
      "cell_type": "markdown",
      "metadata": {
        "id": "7sGchromJy-m"
      },
      "source": [
        "3. The heart rate of low-fat dieters did not change significantly after one minute of rest (88.6 bpm) relative to after 15 minutes of rest (89.6 bpm), *t*=2.2, *p* = .09."
      ]
    },
    {
      "cell_type": "code",
      "execution_count": null,
      "metadata": {
        "id": "ZL0ZiOjaJy-n"
      },
      "outputs": [],
      "source": [
        "rest_lo = exercise[(exercise.diet == 'low fat') & (exercise.kind == 'rest')]"
      ]
    },
    {
      "cell_type": "code",
      "execution_count": null,
      "metadata": {
        "colab": {
          "base_uri": "https://localhost:8080/",
          "height": 0
        },
        "id": "L6TswIXmcJjM",
        "outputId": "4a8ae12f-30ab-4f87-ae09-53282b430327"
      },
      "outputs": [],
      "source": [
        "_ = sns.boxplot(x='time', y='pulse', data=rest_lo)"
      ]
    },
    {
      "cell_type": "code",
      "execution_count": null,
      "metadata": {
        "colab": {
          "base_uri": "https://localhost:8080/"
        },
        "id": "DrFCIU5oJy-n",
        "outputId": "044052c3-075e-41d1-afb0-4085a29d9ded"
      },
      "outputs": [],
      "source": [
        "min1 = rest_lo[rest_lo.time == '1 min']['pulse'].to_numpy()\n",
        "min1.mean()"
      ]
    },
    {
      "cell_type": "code",
      "execution_count": null,
      "metadata": {
        "colab": {
          "base_uri": "https://localhost:8080/"
        },
        "id": "LKBkGXAeJy-n",
        "outputId": "452f871a-01e0-480c-8bb6-4e1f27161b91"
      },
      "outputs": [],
      "source": [
        "min15 = rest_lo[rest_lo.time == '15 min']['pulse'].to_numpy()\n",
        "min15.mean()"
      ]
    },
    {
      "cell_type": "code",
      "execution_count": null,
      "metadata": {
        "colab": {
          "base_uri": "https://localhost:8080/"
        },
        "id": "H0s2me3RJy-n",
        "outputId": "2d4dd06e-2228-4a7b-8837-fada14c2c997"
      },
      "outputs": [],
      "source": [
        "st.ttest_rel(min15, min1)"
      ]
    },
    {
      "cell_type": "markdown",
      "metadata": {
        "id": "MkAeEk4PJy-n"
      },
      "source": [
        "### Confidence Intervals"
      ]
    },
    {
      "cell_type": "markdown",
      "metadata": {
        "id": "8IdBn7D6Jy-n"
      },
      "source": [
        "When examining sample means as we have been for the *t*-test, a useful statistical tool is the **confidence interval** (CI), which we for example often see associated with polling results when there's an upcoming election. CIs allow us to make statements such as \"there is a 95% chance that the population mean lies within this particular range of values\"."
      ]
    },
    {
      "cell_type": "markdown",
      "metadata": {
        "id": "Nk_XsypkJy-o"
      },
      "source": [
        "We can calculate a CI by rearranging the *z*-score formula: \n",
        "$$ \\text{C.I.} = \\bar{x} \\pm z \\frac{s}{\\sqrt{n}} $$\n",
        "Where: \n",
        "* $\\bar{x}$ is the sample mean\n",
        "* $s$ is the sample standard deviation\n",
        "* $n$ is the sample size\n",
        "* $z$ corresponds to a *z*-score threshold (e.g., the most common 95% CI is $z \\pm 1.960$; other popular ones are the 90% CI at $z \\pm 1.645$ and the 99% CI at $z \\pm 2.576$)"
      ]
    },
    {
      "cell_type": "markdown",
      "metadata": {
        "id": "0FZRFc_tJy-o"
      },
      "source": [
        "For example, to find the 95% confidence interval for the true mean yield of our GMO yeast: "
      ]
    },
    {
      "cell_type": "code",
      "execution_count": null,
      "metadata": {
        "id": "JoiW9cZmJy-o"
      },
      "outputs": [],
      "source": [
        "x = np.array([48, 50, 54, 60, 49, 55, 59, 62])"
      ]
    },
    {
      "cell_type": "code",
      "execution_count": null,
      "metadata": {
        "id": "sF4Oxn-KJy-o"
      },
      "outputs": [],
      "source": [
        "xbar = x.mean()\n",
        "s = x.std()\n",
        "n = x.size"
      ]
    },
    {
      "cell_type": "code",
      "execution_count": null,
      "metadata": {
        "id": "ZI7gS9CUJy-o"
      },
      "outputs": [],
      "source": [
        "z = 1.96"
      ]
    },
    {
      "cell_type": "code",
      "execution_count": null,
      "metadata": {
        "id": "ghR6ySR5Jy-o"
      },
      "outputs": [],
      "source": [
        "def CIerr_calc(my_z, my_s, my_n):\n",
        "    return my_z*(my_s/my_n**(1/2))"
      ]
    },
    {
      "cell_type": "code",
      "execution_count": null,
      "metadata": {
        "id": "zUnONG0FJy-o"
      },
      "outputs": [],
      "source": [
        "CIerr = CIerr_calc(z, s, n)"
      ]
    },
    {
      "cell_type": "code",
      "execution_count": null,
      "metadata": {
        "colab": {
          "base_uri": "https://localhost:8080/"
        },
        "id": "wJy0oR0PhPe4",
        "outputId": "939fb006-30d6-4398-e447-9107d3529859"
      },
      "outputs": [],
      "source": [
        "CIerr"
      ]
    },
    {
      "cell_type": "code",
      "execution_count": null,
      "metadata": {
        "colab": {
          "base_uri": "https://localhost:8080/"
        },
        "id": "eUgR-OumJy-o",
        "outputId": "78111d18-c4ac-4b2b-ee7b-50136e91287a"
      },
      "outputs": [],
      "source": [
        "xbar + CIerr"
      ]
    },
    {
      "cell_type": "code",
      "execution_count": null,
      "metadata": {
        "colab": {
          "base_uri": "https://localhost:8080/"
        },
        "id": "dcSAZBArJy-p",
        "outputId": "a56b454f-6a83-43e5-f58e-48323d2284fa"
      },
      "outputs": [],
      "source": [
        "xbar - CIerr"
      ]
    },
    {
      "cell_type": "markdown",
      "metadata": {
        "id": "9ILUj-4vJy-p"
      },
      "source": [
        "Therefore, there's a 95% chance that the true mean yield of our GMO yeast lies in the range of 51.2 to 58.1 liters. Since this CI doesn't overlap with the established baseline mean of 50L, this corresponds to stating that the GMO yield is significantly greater than the baseline where $\\alpha = .05$, as we already determined: "
      ]
    },
    {
      "cell_type": "code",
      "execution_count": null,
      "metadata": {
        "colab": {
          "base_uri": "https://localhost:8080/",
          "height": 0
        },
        "id": "XzL2woRiJy-p",
        "outputId": "668d1369-0334-41e7-d874-c1e1d13f78e3"
      },
      "outputs": [],
      "source": [
        "fig, ax = plt.subplots()\n",
        "plt.ylabel('Stout Yield (L)')\n",
        "plt.grid(axis='y')\n",
        "ax.errorbar(['GMO'], [xbar], [CIerr], fmt='o', color='green')\n",
        "_ = ax.axhline(50, color='orange')"
      ]
    },
    {
      "cell_type": "markdown",
      "metadata": {
        "id": "VNhOA10fJy-p"
      },
      "source": [
        "Similarly, we can compare several sample means with CIs. Using our penguins again: "
      ]
    },
    {
      "cell_type": "code",
      "execution_count": null,
      "metadata": {
        "id": "IRyeB9TQJy-p"
      },
      "outputs": [],
      "source": [
        "fCIerr = CIerr_calc(z, sf, nf)\n",
        "mCIerr = CIerr_calc(z, sm, nm)"
      ]
    },
    {
      "cell_type": "code",
      "execution_count": null,
      "metadata": {
        "colab": {
          "base_uri": "https://localhost:8080/",
          "height": 0
        },
        "id": "b_xJOcVYJy-p",
        "outputId": "f674b792-f821-4a28-82fe-fd6f5a30e7e8"
      },
      "outputs": [],
      "source": [
        "fig, ax = plt.subplots()\n",
        "plt.title('Adélie Penguins')\n",
        "plt.ylabel('Weight (kg)')\n",
        "plt.grid(axis='y')\n",
        "_ = ax.errorbar(['female', 'male'], [fbar, mbar], [fCIerr, mCIerr], \n",
        "                fmt='.', color='green')"
      ]
    },
    {
      "cell_type": "markdown",
      "metadata": {
        "id": "xNBdDo13Jy-p"
      },
      "source": [
        "The CIs are nowhere near overlapping, corresponding to the extremely significant (-log*P* $\\approx 25$) difference in penguin weight."
      ]
    },
    {
      "cell_type": "markdown",
      "metadata": {
        "id": "__UUzJKhJy-q"
      },
      "source": [
        "In contrast, the CIs for female penguins from the three islands..."
      ]
    },
    {
      "cell_type": "code",
      "execution_count": null,
      "metadata": {
        "id": "-I5QSiz1Jy-q"
      },
      "outputs": [],
      "source": [
        "t = adelie[(adelie.sex == 'Female') & (adelie.island == 'Torgersen')]['body_mass_g'].to_numpy()/1000\n",
        "b = adelie[(adelie.sex == 'Female') & (adelie.island == 'Biscoe')]['body_mass_g'].to_numpy()/1000\n",
        "d = adelie[(adelie.sex == 'Female') & (adelie.island == 'Dream')]['body_mass_g'].to_numpy()/1000"
      ]
    },
    {
      "cell_type": "code",
      "execution_count": null,
      "metadata": {
        "id": "bSl86d2CJy-q"
      },
      "outputs": [],
      "source": [
        "means = [t.mean(), b.mean(), d.mean()]"
      ]
    },
    {
      "cell_type": "code",
      "execution_count": null,
      "metadata": {
        "id": "oUW9l3FeJy-q"
      },
      "outputs": [],
      "source": [
        "s_t, sb, sd = t.var(ddof=1), b.var(ddof=1), d.var(ddof=1) # s_t to disambiguate stats package"
      ]
    },
    {
      "cell_type": "code",
      "execution_count": null,
      "metadata": {
        "id": "d6OLKRJGJy-q"
      },
      "outputs": [],
      "source": [
        "nt, nb, nd = t.size, b.size, d.size"
      ]
    },
    {
      "cell_type": "code",
      "execution_count": null,
      "metadata": {
        "id": "0JVMu-zmJy-q"
      },
      "outputs": [],
      "source": [
        "CIerrs = [CIerr_calc(z, s_t, nt), CIerr_calc(z, sb, nb), CIerr_calc(z, sd, nd)]"
      ]
    },
    {
      "cell_type": "code",
      "execution_count": null,
      "metadata": {
        "colab": {
          "base_uri": "https://localhost:8080/",
          "height": 0
        },
        "id": "s3-yrx0IJy-q",
        "outputId": "70de4b2f-11e9-4397-cb2d-0fbd3bb3c371"
      },
      "outputs": [],
      "source": [
        "fig, ax = plt.subplots()\n",
        "plt.title('Female Adélie Penguins')\n",
        "plt.ylabel('Weight (kg)')\n",
        "plt.grid(axis='y')\n",
        "_ = ax.errorbar(['Torgersen', 'Biscoe', 'Dream'], means, CIerrs, \n",
        "                fmt='o', color='green')"
      ]
    },
    {
      "cell_type": "markdown",
      "metadata": {
        "id": "c_mv-Q3oJy-q"
      },
      "source": [
        "### ANOVA: Analysis of Variance"
      ]
    },
    {
      "cell_type": "markdown",
      "metadata": {
        "id": "y5I-yTOAJy-r"
      },
      "source": [
        "**Analysis of variance** (ANOVA) enables us to compare more than two samples (e.g., all three islands in the case of penguin weight) in a single statistical test."
      ]
    },
    {
      "cell_type": "markdown",
      "metadata": {
        "id": "0jAvOMmwJy-r"
      },
      "source": [
        "To apply ANOVA, we must make three assumptions: \n",
        "1. Independent samples\n",
        "2. Normally-distributed populations\n",
        "3. *Homoscedasticity*: Population standard deviations are equal"
      ]
    },
    {
      "cell_type": "markdown",
      "metadata": {
        "id": "2MdpZtTcJy-r"
      },
      "source": [
        "While not especially complicated under the hood (you can dig into the formulae [here](https://en.wikipedia.org/wiki/Analysis_of_variance#Logic)), ANOVA might be the least widely-applicable topic within *Intro to Stats* to ML so in the interest of time, we'll skip straight to the Python code: "
      ]
    },
    {
      "cell_type": "code",
      "execution_count": null,
      "metadata": {
        "colab": {
          "base_uri": "https://localhost:8080/"
        },
        "id": "rlCB3yAeJy-r",
        "outputId": "0bf2ce30-0414-4f5a-92de-7d6fe6fd0e90"
      },
      "outputs": [],
      "source": [
        "st.f_oneway(t, b, d)"
      ]
    },
    {
      "cell_type": "markdown",
      "metadata": {
        "id": "1iiTah2uJy-r"
      },
      "source": [
        "### Pearson Correlation Coefficient"
      ]
    },
    {
      "cell_type": "markdown",
      "metadata": {
        "id": "Q-yMENfQJy-r"
      },
      "source": [
        "If we have two vectors of the same length, $x$ and $y$, where each element of $x$ is paired with the corresponding element of $y$, **covariance** provides a measure of how related the variables are to each other:\n",
        "$$ \\text{cov}(x, y) = \\frac{\\sum_{i=1}^n (x_i - \\bar{x})(y_i - \\bar{y}) }{n} $$"
      ]
    },
    {
      "cell_type": "markdown",
      "metadata": {
        "id": "K1OsRpDXJy-r"
      },
      "source": [
        "A drawback of covariance is that it confounds the relative scale of two variables with a measure of the variables' relatedness. **Correlation** builds on covariance and overcomes this drawback via rescaling, thereby measuring (linear) relatedness exclusively. Correlation is much more common because of this difference. \n",
        "\n",
        "The correlation coefficient (developed by Karl Pearson in the 20th c. though known in the 19th c.) is often denoted with $r$ or $\\rho$ and is defined by: \n",
        "$$ \\rho_{x,y} = \\frac{\\text{cov}(x,y)}{\\sigma_x \\sigma_y} $$"
      ]
    },
    {
      "cell_type": "code",
      "execution_count": null,
      "metadata": {
        "colab": {
          "base_uri": "https://localhost:8080/",
          "height": 0
        },
        "id": "YZvTV6dAJy-r",
        "outputId": "ded82a5a-d55c-4c59-c2fa-3be9f2719850"
      },
      "outputs": [],
      "source": [
        "iris = sns.load_dataset('iris')\n",
        "iris"
      ]
    },
    {
      "cell_type": "code",
      "execution_count": null,
      "metadata": {
        "id": "UnrJjhx0Jy-s"
      },
      "outputs": [],
      "source": [
        "x = iris.sepal_length\n",
        "y = iris.petal_length"
      ]
    },
    {
      "cell_type": "code",
      "execution_count": null,
      "metadata": {
        "id": "hPE0FcBTJy-s"
      },
      "outputs": [],
      "source": [
        "sns.set_style('darkgrid')"
      ]
    },
    {
      "cell_type": "code",
      "execution_count": null,
      "metadata": {
        "colab": {
          "base_uri": "https://localhost:8080/",
          "height": 0
        },
        "id": "VVEf2DoBJy-s",
        "outputId": "7b6e1cff-f708-4864-c9d3-1ae58d32e6f0"
      },
      "outputs": [],
      "source": [
        "_ = sns.scatterplot(x=x, y=y)"
      ]
    },
    {
      "cell_type": "code",
      "execution_count": null,
      "metadata": {
        "id": "-BMruFjYJy-s"
      },
      "outputs": [],
      "source": [
        "n = iris.sepal_width.size"
      ]
    },
    {
      "cell_type": "code",
      "execution_count": null,
      "metadata": {
        "id": "OWjlIrqxJy-s"
      },
      "outputs": [],
      "source": [
        "xbar, ybar = x.mean(), y.mean()"
      ]
    },
    {
      "cell_type": "code",
      "execution_count": null,
      "metadata": {
        "id": "J1K3jIeoJy-s"
      },
      "outputs": [],
      "source": [
        "product = []\n",
        "for i in range(n):\n",
        "    product.append((x[i]-xbar)*(y[i]-ybar))"
      ]
    },
    {
      "cell_type": "code",
      "execution_count": null,
      "metadata": {
        "colab": {
          "base_uri": "https://localhost:8080/"
        },
        "id": "Z6o2_0xqJy-s",
        "outputId": "9d716abe-0fdc-4413-b973-f16f804f1c55"
      },
      "outputs": [],
      "source": [
        "cov = sum(product)/n\n",
        "cov"
      ]
    },
    {
      "cell_type": "code",
      "execution_count": null,
      "metadata": {
        "colab": {
          "base_uri": "https://localhost:8080/"
        },
        "id": "sNrADHruJy-t",
        "outputId": "6a7e4fcd-4d8a-49e3-d612-23749f725404"
      },
      "outputs": [],
      "source": [
        "r = cov/(np.std(x)*np.std(y))\n",
        "r"
      ]
    },
    {
      "cell_type": "markdown",
      "metadata": {
        "id": "TrfrcRSRJy-t"
      },
      "source": [
        "We reached this point in *Probability*. Now, as for how to determine a *p*-value, we first calculate the *t*-statistic...\n",
        "$$ t = r \\sqrt{\\frac{n-2}{1-r^2}} $$"
      ]
    },
    {
      "cell_type": "code",
      "execution_count": null,
      "metadata": {
        "colab": {
          "base_uri": "https://localhost:8080/"
        },
        "id": "jriXvRsfJy-t",
        "outputId": "708c58f0-872f-4605-a121-b45895a56769"
      },
      "outputs": [],
      "source": [
        "t = r*((n-2)/(1-r**2))**(1/2)\n",
        "t"
      ]
    },
    {
      "cell_type": "markdown",
      "metadata": {
        "id": "0478RJCXJy-t"
      },
      "source": [
        "...which we can convert to a *p*-value as we've done several times above: "
      ]
    },
    {
      "cell_type": "code",
      "execution_count": null,
      "metadata": {
        "colab": {
          "base_uri": "https://localhost:8080/"
        },
        "id": "ZyPsXHR3Jy-t",
        "outputId": "2ab162a1-0a3e-44b1-8735-96db55869f13"
      },
      "outputs": [],
      "source": [
        "p = p_from_t(t, n-1) \n",
        "p"
      ]
    },
    {
      "cell_type": "code",
      "execution_count": null,
      "metadata": {
        "colab": {
          "base_uri": "https://localhost:8080/"
        },
        "id": "duzLjTGmJy-t",
        "outputId": "bff821ad-ab17-472d-a3c2-a32705dfd363"
      },
      "outputs": [],
      "source": [
        "-np.log10(p)"
      ]
    },
    {
      "cell_type": "markdown",
      "metadata": {
        "id": "MKrnu6iZJy-u"
      },
      "source": [
        "This confirms that iris sepal length is extremely positively correlated with petal length."
      ]
    },
    {
      "cell_type": "markdown",
      "metadata": {
        "id": "mBNh5oBPJy-u"
      },
      "source": [
        "All of the above can be done in a single line with SciPy's `pearsonr()` method: "
      ]
    },
    {
      "cell_type": "code",
      "execution_count": null,
      "metadata": {
        "colab": {
          "base_uri": "https://localhost:8080/"
        },
        "id": "wsCA5H9zJy-u",
        "outputId": "c7a8614e-2da3-4a75-9d06-808db38595d7"
      },
      "outputs": [],
      "source": [
        "st.pearsonr(x, y)"
      ]
    },
    {
      "cell_type": "markdown",
      "metadata": {
        "id": "-_UNB98rJy-u"
      },
      "source": [
        "And, for reference, here's a correlation that is not significant ($r \\approx 0$): "
      ]
    },
    {
      "cell_type": "code",
      "execution_count": null,
      "metadata": {
        "colab": {
          "base_uri": "https://localhost:8080/",
          "height": 0
        },
        "id": "hM12XzeQJy-u",
        "outputId": "ee03b371-4e96-44fe-bb5d-36edfa95bd92"
      },
      "outputs": [],
      "source": [
        "_ = sns.scatterplot(x=iris.sepal_length, y=iris.sepal_width)"
      ]
    },
    {
      "cell_type": "code",
      "execution_count": null,
      "metadata": {
        "colab": {
          "base_uri": "https://localhost:8080/"
        },
        "id": "G9ILTCGkJy-u",
        "outputId": "5ecee7b6-ef06-482a-d7e2-0035357cdf6c"
      },
      "outputs": [],
      "source": [
        "st.pearsonr(iris.sepal_length, iris.sepal_width)"
      ]
    },
    {
      "cell_type": "markdown",
      "metadata": {
        "id": "RpgrOtddJy-u"
      },
      "source": [
        "### The Coefficient of Determination"
      ]
    },
    {
      "cell_type": "markdown",
      "metadata": {
        "id": "QpwA6dZIJy-v"
      },
      "source": [
        "...also known as $r^2$, this is the proportion of variance in one variable explained by another. \n",
        "\n",
        "It can range from 0 to 1 and it is simply the square of the Pearson $r$:"
      ]
    },
    {
      "cell_type": "code",
      "execution_count": null,
      "metadata": {
        "colab": {
          "base_uri": "https://localhost:8080/"
        },
        "id": "1Dq-99gWJy-v",
        "outputId": "47ec1717-af16-4c5f-82dd-c38c48eed8e3"
      },
      "outputs": [],
      "source": [
        "rsq = r**2\n",
        "rsq"
      ]
    },
    {
      "cell_type": "markdown",
      "metadata": {
        "id": "2dsLJOK-Jy-v"
      },
      "source": [
        "In this case, it indicates that 76% of the variance in iris petal length can be explained by sepal length. (This is easier to understand where one variable could straightforwardly drive variation in the other; more on that in Segment 2.)"
      ]
    },
    {
      "cell_type": "markdown",
      "metadata": {
        "id": "Dyt_nWhZJy-v"
      },
      "source": [
        "For comparison, only 1.4% of the variance in sepal width can be explained by sepal length: "
      ]
    },
    {
      "cell_type": "code",
      "execution_count": null,
      "metadata": {
        "colab": {
          "base_uri": "https://localhost:8080/"
        },
        "id": "jqoRP7sIJy-v",
        "outputId": "23bacd8d-8f58-4809-f6fb-6067cca9bb2b"
      },
      "outputs": [],
      "source": [
        "st.pearsonr(iris.sepal_length, iris.sepal_width)[0]**2"
      ]
    },
    {
      "cell_type": "markdown",
      "metadata": {
        "id": "DAzNEPfMJy-v"
      },
      "source": [
        "### Correlation vs Causation"
      ]
    },
    {
      "cell_type": "markdown",
      "metadata": {
        "id": "1mQAauNGJy-v"
      },
      "source": [
        "Correlation doesn't imply **causation** on its own. E.g., sepal length and petal length are extremely highly correlated, but this doesn't imply that sepal length causes petal length or vice versa. "
      ]
    },
    {
      "cell_type": "markdown",
      "metadata": {
        "id": "eiRZEHl8Jy-v"
      },
      "source": [
        "There is a lot to causality and I recommend Judea Pearl's [*Causality*](http://bayes.cs.ucla.edu/BOOK-2K/), the classic technical text on the topic, if you're keen to explore this in depth. [*The Book of Why*](http://bayes.cs.ucla.edu/WHY/) is an exceptional lay alternative by the same author."
      ]
    },
    {
      "cell_type": "markdown",
      "metadata": {
        "id": "Wh7hRf-NJy-w"
      },
      "source": [
        "In brief, three criteria are required for inferring causal relationships: \n",
        "\n",
        "1. **Covariation**: Two variables vary together (this criterion is satisfied by sepal and petal length)\n",
        "2. **Temporal precedence**: The affected variable must vary *after* the causal variable is varied. \n",
        "3. **Elimination of extraneous variables**: We must be sure no third variable is causing the variation. This can be tricky for data we obtained through observation alone, but easier when we can control the causal variable, e.g., with (ideally double-blind) randomized control trials. "
      ]
    },
    {
      "cell_type": "markdown",
      "metadata": {
        "id": "PrZMto2nJy-w"
      },
      "source": [
        "Some examples of where we could infer causality from correlation in ML: \n",
        "* Additional neurons --> higher accuracy\n",
        "* Additional servers or RAM --> shorter inference time\n",
        "* Removal of pronouns --> less unwanted bias"
      ]
    },
    {
      "cell_type": "markdown",
      "metadata": {
        "id": "uuSMxo6uJy-w"
      },
      "source": [
        "### Correcting for Multiple Comparisons"
      ]
    },
    {
      "cell_type": "markdown",
      "metadata": {
        "id": "eVGXGnYTJy-w"
      },
      "source": [
        "A major issue with frequentist statistics is the issue of multiple comparisons:\n",
        "\n",
        "* If you perform 20 statistical tests where there is no real effect (i.e., the null hypothesis is true), then we would expect one of them to come up significant by chance alone (i.e., a *false positive* or *Type I error*).\n",
        "* If you perform a hundred tests in such a circumstance, then you should expect five false positives."
      ]
    },
    {
      "cell_type": "markdown",
      "metadata": {
        "id": "HjCTRjYWJy-w"
      },
      "source": [
        "The most straightforward, and indeed the most widely-used, solution is the **Bonferroni correction** (named after the 20th c. Italian mathematician Carlo Emilio Bonferroni). Assuming, we'd like an overall $\\alpha = .05$: \n",
        "\n",
        "* If we're planning on conducting ten tests ($m=10$), the significance threshold for each individual test is $\\frac{\\alpha}{m} = \\frac{.05}{10} = .005$\n",
        "* With 20 tests, it's $\\frac{\\alpha}{m} = \\frac{.05}{20} = .0025$\n",
        "* With 100 tests, it's $\\frac{\\alpha}{m} = \\frac{.05}{100} = .0005$"
      ]
    },
    {
      "cell_type": "markdown",
      "metadata": {
        "id": "yzexynOdJy-w"
      },
      "source": [
        "(Other, less straightforward, approaches for adjusting $\\alpha$ for multiple comparisons exist. They're beyond our scope, but the major ones are listed under the *General methods of alpha adjustment for multiple comparisons* heading [here](https://en.wikipedia.org/wiki/Multiple_comparisons_problem#See_also).)"
      ]
    },
    {
      "cell_type": "markdown",
      "metadata": {
        "id": "-x-fZ2_gJy-w"
      },
      "source": [
        "**Return to slides here.**"
      ]
    },
    {
      "cell_type": "markdown",
      "metadata": {
        "id": "eCf6c3OSJy-w"
      },
      "source": [
        "## Segment 2: Regression"
      ]
    },
    {
      "cell_type": "markdown",
      "metadata": {
        "id": "RxcUrV5EJy-w"
      },
      "source": [
        "### Linear Least Squares for Fitting a Line to Points on a Cartesian Plane"
      ]
    },
    {
      "cell_type": "code",
      "execution_count": null,
      "metadata": {
        "colab": {
          "base_uri": "https://localhost:8080/",
          "height": 0
        },
        "id": "xt2m2UdYJy-x",
        "outputId": "0c58fa5a-c83b-4703-b43c-3dec95759537"
      },
      "outputs": [],
      "source": [
        "_ = sns.scatterplot(x=x, y=y)"
      ]
    },
    {
      "cell_type": "markdown",
      "metadata": {
        "id": "_JFRDiSHJy-x"
      },
      "source": [
        "Consider fitting a line to points on a **Cartesian plane** (2-D surface, with $y$-axis perpendicular to horizontal $x$-axis). To fit such a line, the only parameters we require are a $y$-intercept (say, $\\beta_0$) and a slope (say, $\\beta_1$): \n",
        "\n",
        "$$ y = \\beta_0 + \\beta_1 x $$\n",
        "\n",
        "This corresponds to the case where we have a single feature (a single predictor variable, $x$) in a regression model: \n",
        "\n",
        "$$ y = \\beta_0 + \\beta_1 x + \\epsilon $$\n",
        "\n",
        "The $\\epsilon$ term denotes **error**. For a given instance $i$, $\\epsilon_i$ is a measure of the difference between the true $y_i$ and the model's estimate, $\\hat{y}_i$. If the model predicts $y_i$ perfectly, then $\\epsilon_i = 0$. \n",
        "\n",
        "Our objective is to find the parameters $\\beta_0$ and $\\beta_1$ that minimize $\\epsilon$ across all the available data points. \n",
        "\n",
        "(Note that sepal length may not be an ideal example of a predictor variable, but these iris data are conveniently available at this stage of the notebook.)"
      ]
    },
    {
      "cell_type": "markdown",
      "metadata": {
        "id": "9O_ZEib_Jy-x"
      },
      "source": [
        "In the case of a model with a single predictor $x$, there is a fairly straightforward **linear least squares** formula we can use to estimate $\\beta_1$: \n",
        "$$ \\hat{\\beta}_1 = \\frac{\\text{cov}(x,y)}{\\sigma^2_x} $$"
      ]
    },
    {
      "cell_type": "markdown",
      "metadata": {
        "id": "USupBWpjJy-x"
      },
      "source": [
        "(We'll dig further into the \"least squares\" concept in the next section, for now we can think of it as minimizing the squared error $(\\hat{y}_i - y_i)^2$, which we isolate from $\\text{cov}(x,y)$ via division by $\\sigma^2_x$)"
      ]
    },
    {
      "cell_type": "code",
      "execution_count": null,
      "metadata": {
        "colab": {
          "base_uri": "https://localhost:8080/"
        },
        "id": "wE0qSO0LJy-x",
        "outputId": "447087e4-87fa-4999-c910-79457945f23d"
      },
      "outputs": [],
      "source": [
        "cov"
      ]
    },
    {
      "cell_type": "code",
      "execution_count": null,
      "metadata": {
        "colab": {
          "base_uri": "https://localhost:8080/"
        },
        "id": "lkpIm5ZeJy-y",
        "outputId": "256849d3-020c-4512-c967-5acdb958c73b"
      },
      "outputs": [],
      "source": [
        "beta1 = cov/np.var(x) \n",
        "beta1"
      ]
    },
    {
      "cell_type": "markdown",
      "metadata": {
        "id": "HiC4PvwPJy-y"
      },
      "source": [
        "With $\\hat{\\beta}_1$ in hand, we can then rearrange the line equation ($y = \\beta_0 + \\beta_1 x$) to estimate $\\beta_0$:\n",
        "$$ \\hat{\\beta}_0 = \\bar{y} - \\hat{\\beta}_1 \\bar{x} $$"
      ]
    },
    {
      "cell_type": "code",
      "execution_count": null,
      "metadata": {
        "colab": {
          "base_uri": "https://localhost:8080/"
        },
        "id": "DMo0_f7DJy-y",
        "outputId": "2c068e05-6e21-4e45-ca36-55853adec26e"
      },
      "outputs": [],
      "source": [
        "beta0 = ybar - beta1*xbar \n",
        "beta0"
      ]
    },
    {
      "cell_type": "code",
      "execution_count": null,
      "metadata": {
        "id": "3j9GFB4OJy-y"
      },
      "outputs": [],
      "source": [
        "xline = np.linspace(4, 8, 1000)\n",
        "yline = beta0 + beta1*xline"
      ]
    },
    {
      "cell_type": "code",
      "execution_count": null,
      "metadata": {
        "colab": {
          "base_uri": "https://localhost:8080/",
          "height": 0
        },
        "id": "1x-YTnpHJy-y",
        "outputId": "64ea968c-2e93-4851-9dd3-856e53f0a1a1"
      },
      "outputs": [],
      "source": [
        "sns.scatterplot(x=x, y=y)\n",
        "_ = plt.plot(xline, yline, color='orange')"
      ]
    },
    {
      "cell_type": "markdown",
      "metadata": {
        "id": "8XzKSflaJy-y"
      },
      "source": [
        "In regression model terms, if we were provided with an sepal length $x_i$ we could now use the parameter estimates $\\hat{\\beta}_0$ and $\\hat{\\beta}_1$ to predict the petal length of an iris:\n",
        "$$ \\hat{y}_i = \\hat{\\beta}_0 + \\hat{\\beta}_1 x_i $$"
      ]
    },
    {
      "cell_type": "markdown",
      "metadata": {
        "id": "lFOcI346Jy-z"
      },
      "source": [
        "For instance, our model predicts that an iris with a 5.5cm-long sepal would have 3.1cm-long petal: "
      ]
    },
    {
      "cell_type": "code",
      "execution_count": null,
      "metadata": {
        "id": "hnFtPTnHJy-z"
      },
      "outputs": [],
      "source": [
        "x_i = 5.5"
      ]
    },
    {
      "cell_type": "code",
      "execution_count": null,
      "metadata": {
        "colab": {
          "base_uri": "https://localhost:8080/"
        },
        "id": "5eUHYRQnJy-z",
        "outputId": "c6a54aca-0ed9-452a-98b1-cabcb408e7c8"
      },
      "outputs": [],
      "source": [
        "y_i = beta0 + beta1*x_i\n",
        "y_i"
      ]
    },
    {
      "cell_type": "code",
      "execution_count": null,
      "metadata": {
        "colab": {
          "base_uri": "https://localhost:8080/",
          "height": 0
        },
        "id": "7EdyXhVPJy-z",
        "outputId": "6af973c1-9c13-41ee-eec0-54ed20244905"
      },
      "outputs": [],
      "source": [
        "sns.scatterplot(x=x, y=y)\n",
        "plt.plot(xline, yline, color='orange')\n",
        "_ = plt.scatter(x_i, y_i, marker='o', color='purple')"
      ]
    },
    {
      "cell_type": "markdown",
      "metadata": {
        "id": "HrSoRDT1Jy-z"
      },
      "source": [
        "As a second example, using the same simulated \"Alzheimer's drug\" data as the [*Regression in PyTorch* notebook](https://github.com/jonkrohn/ML-foundations/blob/master/notebooks/regression-in-pytorch.ipynb) and several others in the *ML Foundations* series: "
      ]
    },
    {
      "cell_type": "code",
      "execution_count": null,
      "metadata": {
        "id": "t6H35qYXJy-z"
      },
      "outputs": [],
      "source": [
        "x = np.array([0, 1, 2, 3, 4, 5, 6, 7.])\n",
        "y = np.array([1.86, 1.31, .62, .33, .09, -.67, -1.23, -1.37])"
      ]
    },
    {
      "cell_type": "code",
      "execution_count": null,
      "metadata": {
        "colab": {
          "base_uri": "https://localhost:8080/",
          "height": 0
        },
        "id": "uhPksXevJy-z",
        "outputId": "1a2af8b9-56b3-474f-85c9-fb69af09d420"
      },
      "outputs": [],
      "source": [
        "sns.scatterplot(x=x, y=y)\n",
        "plt.title(\"Clinical Trial\")\n",
        "plt.xlabel(\"Drug dosage (mL)\")\n",
        "_ = plt.ylabel(\"Forgetfulness\")"
      ]
    },
    {
      "cell_type": "code",
      "execution_count": null,
      "metadata": {
        "colab": {
          "base_uri": "https://localhost:8080/"
        },
        "id": "wlJ8-81iJy-z",
        "outputId": "d3141c63-7f1c-45ba-bf5f-5e3951512fe9"
      },
      "outputs": [],
      "source": [
        "cov_mat = np.cov(x, y)\n",
        "cov_mat"
      ]
    },
    {
      "cell_type": "code",
      "execution_count": null,
      "metadata": {
        "colab": {
          "base_uri": "https://localhost:8080/"
        },
        "id": "cVIviYSUJy-0",
        "outputId": "53814dda-5d1e-4d45-b738-67ed94c0b6fd"
      },
      "outputs": [],
      "source": [
        "beta1 = cov_mat[0,1]/cov_mat[0,0]\n",
        "beta1"
      ]
    },
    {
      "cell_type": "code",
      "execution_count": null,
      "metadata": {
        "colab": {
          "base_uri": "https://localhost:8080/"
        },
        "id": "YrQUCrxkJy-0",
        "outputId": "77300fcf-10d2-44a6-e671-91e0abdf720c"
      },
      "outputs": [],
      "source": [
        "beta0 = y.mean() - beta1*x.mean()\n",
        "beta0"
      ]
    },
    {
      "cell_type": "code",
      "execution_count": null,
      "metadata": {
        "id": "h2WTwF-mJy-0"
      },
      "outputs": [],
      "source": [
        "xline = np.linspace(0, 7, 1000)\n",
        "yline = beta0 + beta1*xline"
      ]
    },
    {
      "cell_type": "markdown",
      "metadata": {
        "id": "XMx4vEgxJy-0"
      },
      "source": [
        "By administering 4.5mL of the drug, our model predicts a forgetfulness score of -0.35:"
      ]
    },
    {
      "cell_type": "code",
      "execution_count": null,
      "metadata": {
        "id": "_OoPnTyaJy-1"
      },
      "outputs": [],
      "source": [
        "x_i = 4.5"
      ]
    },
    {
      "cell_type": "code",
      "execution_count": null,
      "metadata": {
        "colab": {
          "base_uri": "https://localhost:8080/"
        },
        "id": "DvFBImXcJy-1",
        "outputId": "578ed746-eeaa-4b62-9d90-dd597db83c81"
      },
      "outputs": [],
      "source": [
        "y_i = beta0 + beta1*x_i\n",
        "y_i"
      ]
    },
    {
      "cell_type": "code",
      "execution_count": null,
      "metadata": {
        "colab": {
          "base_uri": "https://localhost:8080/",
          "height": 0
        },
        "id": "8_e_U2jiJy-1",
        "outputId": "e009df28-09f6-439a-a1ae-795d3ad1dbb5"
      },
      "outputs": [],
      "source": [
        "sns.scatterplot(x=x, y=y)\n",
        "plt.title(\"Clinical Trial\")\n",
        "plt.xlabel(\"Drug dosage (mL)\")\n",
        "plt.ylabel(\"Forgetfulness\")\n",
        "plt.plot(xline, yline, color='orange')\n",
        "_ = plt.scatter(x_i, y_i, marker='o', color='purple')"
      ]
    },
    {
      "cell_type": "markdown",
      "metadata": {
        "id": "UoSetfajJy-2"
      },
      "source": [
        "**Exercise**: With data from female Adélie penguins, create a linear least squares model that predicts body mass with flipper length. Predict the mass of a female Adélie penguin that has a flipper length of 197mm."
      ]
    },
    {
      "cell_type": "code",
      "execution_count": null,
      "metadata": {
        "colab": {
          "base_uri": "https://localhost:8080/",
          "height": 0
        },
        "id": "bAHMnL66lFqC",
        "outputId": "eef47f1a-f7a3-43d6-83ed-b5749107ec58"
      },
      "outputs": [],
      "source": [
        "adelie.head()"
      ]
    },
    {
      "cell_type": "code",
      "execution_count": null,
      "metadata": {
        "id": "ez3YcuanhuHI"
      },
      "outputs": [],
      "source": [
        "x = adelie[adelie.sex == 'Female']['flipper_length_mm'].to_numpy()\n",
        "y = adelie[adelie.sex == 'Female']['body_mass_g'].to_numpy()/1000"
      ]
    },
    {
      "cell_type": "code",
      "execution_count": null,
      "metadata": {
        "colab": {
          "base_uri": "https://localhost:8080/",
          "height": 0
        },
        "id": "U7piwPvujy_S",
        "outputId": "ec4f0be4-4e5a-476c-c8f3-69efeff98458"
      },
      "outputs": [],
      "source": [
        "_ = sns.scatterplot(x=x, y=y)"
      ]
    },
    {
      "cell_type": "code",
      "execution_count": null,
      "metadata": {
        "colab": {
          "base_uri": "https://localhost:8080/"
        },
        "id": "gqUW4gVailR5",
        "outputId": "f21df053-5529-433c-c992-1ea7bf676f52"
      },
      "outputs": [],
      "source": [
        "cov_mat = np.cov(x, y)\n",
        "cov_mat"
      ]
    },
    {
      "cell_type": "code",
      "execution_count": null,
      "metadata": {
        "colab": {
          "base_uri": "https://localhost:8080/"
        },
        "id": "UyX0jsOVjD6V",
        "outputId": "0b41cf5e-9b19-44a8-d0a7-c4a96269cb29"
      },
      "outputs": [],
      "source": [
        "beta1 = cov_mat[0,1]/cov_mat[0,0]\n",
        "beta1"
      ]
    },
    {
      "cell_type": "code",
      "execution_count": null,
      "metadata": {
        "colab": {
          "base_uri": "https://localhost:8080/"
        },
        "id": "0JO7HmUgjEYd",
        "outputId": "b3823402-ea3a-4154-9a3f-23c1fa9a3f89"
      },
      "outputs": [],
      "source": [
        "beta0 = y.mean() - beta1*x.mean()\n",
        "beta0"
      ]
    },
    {
      "cell_type": "code",
      "execution_count": null,
      "metadata": {
        "id": "o2ZfBlXUnFrL"
      },
      "outputs": [],
      "source": [
        "x_i = 197"
      ]
    },
    {
      "cell_type": "code",
      "execution_count": null,
      "metadata": {
        "colab": {
          "base_uri": "https://localhost:8080/"
        },
        "id": "iOEfmJ7Um9Zz",
        "outputId": "3ee0a90c-14c0-4d53-86f3-00d3cc160fc5"
      },
      "outputs": [],
      "source": [
        "y_i = beta0 + beta1*x_i\n",
        "y_i"
      ]
    },
    {
      "cell_type": "code",
      "execution_count": null,
      "metadata": {
        "id": "QuGxsnomjHau"
      },
      "outputs": [],
      "source": [
        "xline = np.linspace(170, 205, 1000)\n",
        "yline = beta0 + beta1*xline"
      ]
    },
    {
      "cell_type": "code",
      "execution_count": null,
      "metadata": {
        "colab": {
          "base_uri": "https://localhost:8080/",
          "height": 0
        },
        "id": "6_muUi5rkCoM",
        "outputId": "d886108a-19dd-4d29-efae-e12c1178e301"
      },
      "outputs": [],
      "source": [
        "sns.scatterplot(x=x, y=y)\n",
        "plt.title(\"Female Adélie Penguins\")\n",
        "plt.xlabel(\"Flipper Length (mm)\")\n",
        "plt.ylabel(\"Body Mass (kg)\")\n",
        "plt.plot(xline, yline, color='orange')\n",
        "_ = plt.scatter(x_i, y_i, marker='o', color='purple')"
      ]
    },
    {
      "cell_type": "markdown",
      "metadata": {
        "id": "ovzVhcUEJy-2"
      },
      "source": [
        "### Ordinary Least Squares"
      ]
    },
    {
      "cell_type": "markdown",
      "metadata": {
        "id": "_zqiEXPQJy-2"
      },
      "source": [
        "**Ordinary least squares** (OLS) is a linear least squares method we can use to estimate the parameters of regression models that have more than one predictor variable, e.g.: \n",
        "\n",
        "$$ y = \\beta_0 + \\beta_1 x_1 + \\beta_2 x_2 + \\beta_3 x_3 + \\epsilon $$"
      ]
    },
    {
      "cell_type": "markdown",
      "metadata": {
        "id": "QOD7BK_LJy-2"
      },
      "source": [
        "Generalizing to $m$ predictors: \n",
        "$$ y = \\beta_0 + \\sum_{j=1}^m \\beta_j x_j + \\epsilon $$"
      ]
    },
    {
      "cell_type": "markdown",
      "metadata": {
        "id": "fMFhZs13Jy-2"
      },
      "source": [
        "To keep the calculations as simple as possible, however, for now we'll stick with a single predictor $x$ (in an example adapted from [here](https://en.wikipedia.org/wiki/Linear_least_squares#Example)):"
      ]
    },
    {
      "cell_type": "code",
      "execution_count": null,
      "metadata": {
        "id": "goSmSa_9Jy-2"
      },
      "outputs": [],
      "source": [
        "x = np.array([1, 2, 3, 4.])\n",
        "y = np.array([6, 5, 7, 10.])"
      ]
    },
    {
      "cell_type": "code",
      "execution_count": null,
      "metadata": {
        "id": "YvHavKI0Jy-2"
      },
      "outputs": [],
      "source": [
        "sns.set_style('whitegrid')"
      ]
    },
    {
      "cell_type": "code",
      "execution_count": null,
      "metadata": {
        "colab": {
          "base_uri": "https://localhost:8080/",
          "height": 0
        },
        "id": "w66cj3ubJy-3",
        "outputId": "9cc227aa-676f-43ec-bd4c-b8634834abae"
      },
      "outputs": [],
      "source": [
        "fig, ax = plt.subplots()\n",
        "plt.title('Generative Adversarial Network')\n",
        "plt.xlabel('Number of convolutional layers')\n",
        "plt.ylabel('Image realism (out of 10)')\n",
        "_ = ax.scatter(x, y)"
      ]
    },
    {
      "cell_type": "markdown",
      "metadata": {
        "id": "8xd-0t1kJy-3"
      },
      "source": [
        "As is typical in regression model-fitting, we have an *overdetermined* system of linear algebra equations. From the general regression equation $y = \\beta_0 + \\beta_1 x$, we have four equations (one for each instance $i$) with the two unknown parameters $\\beta_0$ and $\\beta_1$ shared across the system. \n",
        "$$ 6 = \\beta_0 + \\beta_1 $$\n",
        "$$ 5 = \\beta_0 + 2\\beta_1 $$\n",
        "$$ 7 = \\beta_0 + 3\\beta_1 $$\n",
        "$$ 10 = \\beta_0 + 4\\beta_1 $$"
      ]
    },
    {
      "cell_type": "markdown",
      "metadata": {
        "id": "SNsq_lXgJy-3"
      },
      "source": [
        "Since we have more equations than unknowns, we can't solve for the parameters through algebraic rearraging. We can, however, estimate parameters that approximately solve all of the equations with the *Moore-Penrose Pseudoinverse* (from [*Linear Algebra II*](https://github.com/jonkrohn/ML-foundations/blob/master/notebooks/2-linear-algebra-ii.ipynb)) or we could use partial-derivative calculus as we'll use here. Either way, with the OLS approach, our objective is to minimize the \"sum of squared errors\" (SSE). \n",
        "\n",
        "The squared error (a.k.a. quadratic cost, from *Calc II*) for a given instance $i$ is $(\\hat{y}_i-y_i)^2$.\n",
        "\n",
        "The SSE over $n$ instances is then: \n",
        "$$ \\sum_{i=1}^n (\\hat{y}_i-y_i)^2 $$"
      ]
    },
    {
      "cell_type": "markdown",
      "metadata": {
        "id": "uMaYVHomJy-3"
      },
      "source": [
        "In this case, where $\\hat{y}_i = \\beta_0 + \\beta_1 x_i$, we can define the SSE function as: \n",
        "$$ S(\\beta_0, \\beta_1) = \\sum_{i=1}^n (\\beta_0 + \\beta_1 x_i - y_i)^2 $$"
      ]
    },
    {
      "cell_type": "markdown",
      "metadata": {
        "id": "qHsXGivGJy-3"
      },
      "source": [
        "Expanding the summation out over the four instances of $i$: \n",
        "$$ S(\\beta_0, \\beta_1) = [\\beta_0 + \\beta_1 - 6]^2 + [\\beta_0 + 2\\beta_1 - 5]^2 + [\\beta_0 + 3\\beta_1 - 7]^2 + [\\beta_0 + 4\\beta_1 - 10]^2 $$"
      ]
    },
    {
      "cell_type": "markdown",
      "metadata": {
        "id": "TjIdKW_FJy-3"
      },
      "source": [
        "Then (rather laboriously) expanding out the squares and simplifying the result by combining like terms: \n",
        "$$ S(\\beta_0, \\beta_1) = 4\\beta_0^2 + 30\\beta_1^2 + 20\\beta_0\\beta_1 - 56\\beta_0 - 154\\beta_1 + 210 $$"
      ]
    },
    {
      "cell_type": "markdown",
      "metadata": {
        "id": "LlPdU9UkJy-3"
      },
      "source": [
        "To minimize SSE, we can now use partial derivatives. Specifically, to find where there is no slope of $S(\\beta_0, \\beta_1)$ with respect to $\\beta_0$: \n",
        "$$ \\frac{\\partial S}{\\partial \\beta_0} = 8\\beta_0 + 20\\beta_1 - 56 = 0 $$\n",
        "...and $\\beta_1$: \n",
        "$$ \\frac{\\partial S}{\\partial \\beta_1} = 20\\beta_0 + 60\\beta_1 - 154 = 0 $$"
      ]
    },
    {
      "cell_type": "markdown",
      "metadata": {
        "id": "DYE-egdwJy-3"
      },
      "source": [
        "Rearranging, we obtain a system of two linear equations called the **normal equations** (however many parameters are in the model is how many rows of equations we'll have in the system): \n",
        "$$ 8\\beta_0 + 20\\beta_1 = 56 $$\n",
        "$$ 20\\beta_0 + 60\\beta_1 = 154 $$"
      ]
    },
    {
      "cell_type": "markdown",
      "metadata": {
        "id": "xMP0yOeTJy-4"
      },
      "source": [
        "A handy numerical approach for solving for $\\beta_0$ and $\\beta_1$ is matrix inversion (which we covered in detail toward the end of the [*Intro to Linear Algebra* notebook](https://github.com/jonkrohn/ML-foundations/blob/master/notebooks/1-intro-to-linear-algebra.ipynb))."
      ]
    },
    {
      "cell_type": "markdown",
      "metadata": {
        "id": "HuKZjs-qJy-4"
      },
      "source": [
        "To avoid confusion with with the broader $x$ (number of GAN conv layers) and $y$ variables (image realism), let's use $A$ for the matrix of \"inputs\" and $z$ for the vector of \"outputs\", with the vector $w$ containing the unknown weights $\\beta_0$ and $\\beta_1$:\n",
        "$$ Aw = z $$"
      ]
    },
    {
      "cell_type": "code",
      "execution_count": null,
      "metadata": {
        "colab": {
          "base_uri": "https://localhost:8080/"
        },
        "id": "tIz8upBlJy-4",
        "outputId": "4783596f-d703-4ca1-c797-35ed7e1d1249"
      },
      "outputs": [],
      "source": [
        "A = np.array([[8, 20],[20, 60]])\n",
        "A"
      ]
    },
    {
      "cell_type": "code",
      "execution_count": null,
      "metadata": {
        "id": "JnFoYiYWJy-4"
      },
      "outputs": [],
      "source": [
        "z = np.array([56, 154])"
      ]
    },
    {
      "cell_type": "markdown",
      "metadata": {
        "id": "Z0TDmki1Jy-4"
      },
      "source": [
        "To solve for $w$, we can invert $A$ (assuming $A$ is not singular; i.e., all of its columns are independent): \n",
        "$$ w = A^{-1}z $$"
      ]
    },
    {
      "cell_type": "code",
      "execution_count": null,
      "metadata": {
        "colab": {
          "base_uri": "https://localhost:8080/"
        },
        "id": "vmCLVztvJy-4",
        "outputId": "1866ab97-4da5-46ab-eab6-ac61f570bc8f"
      },
      "outputs": [],
      "source": [
        "Ainv = np.linalg.inv(A)\n",
        "Ainv"
      ]
    },
    {
      "cell_type": "code",
      "execution_count": null,
      "metadata": {
        "colab": {
          "base_uri": "https://localhost:8080/"
        },
        "id": "QamyfcqrJy-4",
        "outputId": "5299570e-cb8c-4ee0-82b5-418b7d671de3"
      },
      "outputs": [],
      "source": [
        "w = np.dot(Ainv, z)\n",
        "w"
      ]
    },
    {
      "cell_type": "markdown",
      "metadata": {
        "id": "RSIHQkHFJy-4"
      },
      "source": [
        "Thus, the line that minimizes the squared error across all four equations has the parameters $\\hat{\\beta}_0 = 3.5$ and $\\hat{\\beta}_1 = 1.4$: \n",
        "$$ \\hat{y} = 3.5 + 1.4 x $$"
      ]
    },
    {
      "cell_type": "code",
      "execution_count": null,
      "metadata": {
        "id": "YPGKHyu4Jy-5"
      },
      "outputs": [],
      "source": [
        "xline = np.linspace(1, 4, 1000)\n",
        "yline = w[0] + w[1]*xline"
      ]
    },
    {
      "cell_type": "code",
      "execution_count": null,
      "metadata": {
        "colab": {
          "base_uri": "https://localhost:8080/",
          "height": 0
        },
        "id": "n3eNzrtrJy-5",
        "outputId": "5850541a-7817-4ca9-d992-1b76422d5ff4"
      },
      "outputs": [],
      "source": [
        "fig, ax = plt.subplots()\n",
        "plt.title('Generative Adversarial Network')\n",
        "plt.xlabel('Number of convolutional layers')\n",
        "plt.ylabel('Image realism (out of 10)')\n",
        "ax.scatter(x, y)\n",
        "_ = plt.plot(xline, yline, color='orange')"
      ]
    },
    {
      "cell_type": "markdown",
      "metadata": {
        "id": "d8fh1DK2Jy-5"
      },
      "source": [
        "For fun, following the linear algebra in the slides, we could output $\\hat{y}$ across all the instances $i$: \n",
        "$$ \\hat{y} = Xw $$"
      ]
    },
    {
      "cell_type": "code",
      "execution_count": null,
      "metadata": {
        "colab": {
          "base_uri": "https://localhost:8080/"
        },
        "id": "ruJ9QffyJy-5",
        "outputId": "b73b189c-d684-4c56-a068-0a0e6a708cb4"
      },
      "outputs": [],
      "source": [
        "X = np.concatenate([np.matrix(np.ones(x.size)).T, np.matrix(x).T], axis=1)\n",
        "X"
      ]
    },
    {
      "cell_type": "code",
      "execution_count": null,
      "metadata": {
        "colab": {
          "base_uri": "https://localhost:8080/"
        },
        "id": "AAXfIJwOJy-5",
        "outputId": "58d8adc4-c275-4020-bc06-11272a211504"
      },
      "outputs": [],
      "source": [
        "yhat = np.dot(X, w)\n",
        "yhat"
      ]
    },
    {
      "cell_type": "markdown",
      "metadata": {
        "id": "sI70M7PlJy-5"
      },
      "source": [
        "Incidentally, **residuals** are the distances between $\\hat{y}_i$ and $y_i$:"
      ]
    },
    {
      "cell_type": "code",
      "execution_count": null,
      "metadata": {
        "colab": {
          "base_uri": "https://localhost:8080/",
          "height": 0
        },
        "id": "9uRTgp4eJy-7",
        "outputId": "beb409b0-b674-452a-876f-6e485500094a"
      },
      "outputs": [],
      "source": [
        "fig, ax = plt.subplots()\n",
        "plt.title('Generative Adversarial Network')\n",
        "plt.xlabel('Number of convolutional layers')\n",
        "plt.ylabel('Image realism (out of 10)')\n",
        "ax.scatter(x, y)\n",
        "_ = plt.plot(xline, yline, color='orange')\n",
        "for i in range(x.size):\n",
        "    plt.plot([x[i],x[i]], [y[i],yhat[0,i]], color='darkred')"
      ]
    },
    {
      "cell_type": "markdown",
      "metadata": {
        "id": "1QqPBtCGJy-8"
      },
      "source": [
        "The square of these residuals is what we minimize with SSE in OLS regression."
      ]
    },
    {
      "cell_type": "markdown",
      "metadata": {
        "id": "KqnQ9EMWJy-8"
      },
      "source": [
        "The above OLS approach expands to a wide variety of circumstances: \n",
        "\n",
        "* Multiple features ($x$, the predictors)\n",
        "* Polynomial (typically quadratic) features, e.g., $y = \\beta_0 + \\beta_1 x + \\beta_2 x^2$\n",
        "* Interacting features, e.g., $y = \\beta_0 + \\beta_1 x_1 + \\beta_2 x_2 + \\beta_3 x_1 x_2$\n",
        "* Discrete, categorical features, incl. any combination of continuous and discrete features"
      ]
    },
    {
      "cell_type": "markdown",
      "metadata": {
        "id": "qqEd00gvJy-8"
      },
      "source": [
        "As an example of the latter..."
      ]
    },
    {
      "cell_type": "code",
      "execution_count": null,
      "metadata": {
        "colab": {
          "base_uri": "https://localhost:8080/",
          "height": 0
        },
        "id": "6ctHcVDXJy-8",
        "outputId": "6768cf21-8c9f-45e5-cf02-92dc847d77b6"
      },
      "outputs": [],
      "source": [
        "iris"
      ]
    },
    {
      "cell_type": "code",
      "execution_count": null,
      "metadata": {
        "id": "TXE21UwBJy-8"
      },
      "outputs": [],
      "source": [
        "sns.set_style('darkgrid')"
      ]
    },
    {
      "cell_type": "code",
      "execution_count": null,
      "metadata": {
        "colab": {
          "base_uri": "https://localhost:8080/",
          "height": 0
        },
        "id": "dAasq6klJy-9",
        "outputId": "a973bd0e-a641-4a3b-b0ef-476a07817f8a"
      },
      "outputs": [],
      "source": [
        "_ = sns.scatterplot(x='sepal_length', y='petal_length', hue='species', data=iris)"
      ]
    },
    {
      "cell_type": "code",
      "execution_count": null,
      "metadata": {
        "id": "rWjIb0itJy-9"
      },
      "outputs": [],
      "source": [
        "import pandas as pd"
      ]
    },
    {
      "cell_type": "code",
      "execution_count": null,
      "metadata": {
        "colab": {
          "base_uri": "https://localhost:8080/",
          "height": 0
        },
        "id": "7cBvXBE0Jy-9",
        "outputId": "2546c58d-6850-4c8a-9090-42ff1d762b4d"
      },
      "outputs": [],
      "source": [
        "dummy = pd.get_dummies(iris.species)\n",
        "dummy"
      ]
    },
    {
      "cell_type": "code",
      "execution_count": null,
      "metadata": {
        "id": "JTobklLmJy-9"
      },
      "outputs": [],
      "source": [
        "y = iris.petal_length"
      ]
    },
    {
      "cell_type": "code",
      "execution_count": null,
      "metadata": {
        "colab": {
          "base_uri": "https://localhost:8080/",
          "height": 0
        },
        "id": "vrBsPaVmJy-9",
        "outputId": "4a78bb1c-e918-4242-e65c-94770cc1b439"
      },
      "outputs": [],
      "source": [
        "X = pd.concat([iris.sepal_length, dummy.setosa, dummy.versicolor], axis=1)\n",
        "X # virginia as \"baseline\" where setosa and versicolor are both 0"
      ]
    },
    {
      "cell_type": "code",
      "execution_count": null,
      "metadata": {
        "colab": {
          "base_uri": "https://localhost:8080/"
        },
        "id": "0_7DhYr4Jy-9",
        "outputId": "6b90a733-7379-4a5a-ddaf-23b252fd449e"
      },
      "outputs": [],
      "source": [
        "import statsmodels.api as sm"
      ]
    },
    {
      "cell_type": "code",
      "execution_count": null,
      "metadata": {
        "colab": {
          "base_uri": "https://localhost:8080/",
          "height": 0
        },
        "id": "9PPA9mCEJy--",
        "outputId": "d91041f1-c973-4e7e-eca0-5c3f9d64a109"
      },
      "outputs": [],
      "source": [
        "X = sm.add_constant(X)\n",
        "X"
      ]
    },
    {
      "cell_type": "code",
      "execution_count": null,
      "metadata": {
        "id": "6wQJy4T3Jy--"
      },
      "outputs": [],
      "source": [
        "model = sm.OLS(y, X)"
      ]
    },
    {
      "cell_type": "code",
      "execution_count": null,
      "metadata": {
        "id": "Cbl_mTucJy--"
      },
      "outputs": [],
      "source": [
        "result = model.fit()"
      ]
    },
    {
      "cell_type": "code",
      "execution_count": null,
      "metadata": {
        "colab": {
          "base_uri": "https://localhost:8080/",
          "height": 0
        },
        "id": "Q3Gu75QLJy--",
        "outputId": "628ee16b-b7f0-4d67-bbc5-02b3c20a612e"
      },
      "outputs": [],
      "source": [
        "result.summary()"
      ]
    },
    {
      "cell_type": "markdown",
      "metadata": {
        "id": "65lhtfF3Jy-_"
      },
      "source": [
        "Our earlier iris model, with sepal length as the only predictor of petal length, had $r^2 = 0.76$. In our latest iris model, a whopping 97% of the variance in petal length is explained by the predictors."
      ]
    },
    {
      "cell_type": "code",
      "execution_count": null,
      "metadata": {
        "colab": {
          "base_uri": "https://localhost:8080/"
        },
        "id": "V3DZ86qDJy-_",
        "outputId": "f0fe44a7-7a23-4052-e5a1-459927ec650c"
      },
      "outputs": [],
      "source": [
        "beta = result.params\n",
        "beta"
      ]
    },
    {
      "cell_type": "code",
      "execution_count": null,
      "metadata": {
        "id": "n6oYpVuLJy-_"
      },
      "outputs": [],
      "source": [
        "xline = np.linspace(4, 8, 1000)\n",
        "vi_yline = beta[0] + beta[1]*xline\n",
        "se_yline = beta[0] + beta[1]*xline + beta[2]\n",
        "ve_yline = beta[0] + beta[1]*xline + beta[3]"
      ]
    },
    {
      "cell_type": "code",
      "execution_count": null,
      "metadata": {
        "colab": {
          "base_uri": "https://localhost:8080/",
          "height": 0
        },
        "id": "v9Pyh6ZLJy-_",
        "outputId": "b950331f-0234-4009-fd9a-f8140249fa29"
      },
      "outputs": [],
      "source": [
        "sns.scatterplot(x='sepal_length', y='petal_length', hue='species', data=iris)\n",
        "plt.plot(xline, vi_yline, color='darkgreen')\n",
        "plt.plot(xline, se_yline, color='darkblue')\n",
        "_ = plt.plot(xline, ve_yline, color='orange')"
      ]
    },
    {
      "cell_type": "markdown",
      "metadata": {
        "id": "70JLOJ5dJy-_"
      },
      "source": [
        "Now using our refined model, such that it predicts the petal length of a *versicolor* iris with a 5.5cm-long sepal: "
      ]
    },
    {
      "cell_type": "code",
      "execution_count": null,
      "metadata": {
        "id": "UL28fMYsJy-_"
      },
      "outputs": [],
      "source": [
        "x_sepall_i = 5.5\n",
        "x_setosa_i = 0\n",
        "x_versic_i = 1"
      ]
    },
    {
      "cell_type": "code",
      "execution_count": null,
      "metadata": {
        "id": "LA471NSkJy-_"
      },
      "outputs": [],
      "source": [
        "y_i = beta[0] + beta[1]*x_sepall_i + beta[2]*x_setosa_i + beta[3]*x_versic_i"
      ]
    },
    {
      "cell_type": "code",
      "execution_count": null,
      "metadata": {
        "colab": {
          "base_uri": "https://localhost:8080/"
        },
        "id": "v4tvO0dX5vJS",
        "outputId": "d2cd55da-49fb-468a-b6d4-739cf064acc3"
      },
      "outputs": [],
      "source": [
        "y_i"
      ]
    },
    {
      "cell_type": "code",
      "execution_count": null,
      "metadata": {
        "colab": {
          "base_uri": "https://localhost:8080/",
          "height": 0
        },
        "id": "kL34o98tJy_A",
        "outputId": "851e10b6-9013-4d7a-880a-51cf6ca7ce66"
      },
      "outputs": [],
      "source": [
        "sns.scatterplot(x='sepal_length', y='petal_length', hue='species', data=iris)\n",
        "plt.plot(xline, vi_yline, color='darkgreen')\n",
        "plt.plot(xline, se_yline, color='darkblue')\n",
        "plt.plot(xline, ve_yline, color='orange')\n",
        "_ = plt.scatter(x_sepall_i, y_i, marker='o', color='purple')"
      ]
    },
    {
      "cell_type": "markdown",
      "metadata": {
        "id": "i6t754nuJy_A"
      },
      "source": [
        "...or a *virginica* with a sepal of the same length: "
      ]
    },
    {
      "cell_type": "code",
      "execution_count": null,
      "metadata": {
        "id": "XXoMSuKQJy_A"
      },
      "outputs": [],
      "source": [
        "x_sepall_i = 5.5\n",
        "x_setosa_i = 0\n",
        "x_versic_i = 0 # the only change"
      ]
    },
    {
      "cell_type": "code",
      "execution_count": null,
      "metadata": {
        "id": "XKOTdNLnJy_A"
      },
      "outputs": [],
      "source": [
        "x_i = np.array([1, x_sepall_i, x_versic_i, x_versic_i])"
      ]
    },
    {
      "cell_type": "code",
      "execution_count": null,
      "metadata": {
        "id": "XaovpnHbJy_A"
      },
      "outputs": [],
      "source": [
        "y_i = np.dot(beta, x_i)"
      ]
    },
    {
      "cell_type": "code",
      "execution_count": null,
      "metadata": {
        "colab": {
          "base_uri": "https://localhost:8080/",
          "height": 0
        },
        "id": "04xK7r0IJy_A",
        "outputId": "46a79e6b-e671-4baf-bdb0-804babac33a0"
      },
      "outputs": [],
      "source": [
        "sns.scatterplot(x='sepal_length', y='petal_length', hue='species', data=iris)\n",
        "plt.plot(xline, vi_yline, color='darkgreen')\n",
        "plt.plot(xline, se_yline, color='darkblue')\n",
        "plt.plot(xline, ve_yline, color='orange')\n",
        "_ = plt.scatter(x_i[1], y_i, marker='o', color='purple')"
      ]
    },
    {
      "cell_type": "markdown",
      "metadata": {
        "id": "IJQ6gCplJy_A"
      },
      "source": [
        "(It is also possible to have the slope vary by categorical variable, not only the $y$-intercept. This is a *hierarchical linear model* and the classic text on it is [Gelman & Hill (2006)](https://amzn.to/3hoOevb).)"
      ]
    },
    {
      "cell_type": "markdown",
      "metadata": {
        "id": "YJS7SoqaJy_A"
      },
      "source": [
        "**Exercise**: \n",
        "Download the Boston dataset (process is immediately below) and use the statsmodels `OLS()` method to create a model that uses at least a few of the provided features to predict house price. "
      ]
    },
    {
      "cell_type": "code",
      "execution_count": null,
      "metadata": {
        "id": "74_NxZGHJy_A"
      },
      "outputs": [],
      "source": [
        "from sklearn.datasets import load_boston"
      ]
    },
    {
      "cell_type": "code",
      "execution_count": null,
      "metadata": {
        "id": "_Q7AZyDLJy_B"
      },
      "outputs": [],
      "source": [
        "boston = load_boston()"
      ]
    },
    {
      "cell_type": "code",
      "execution_count": null,
      "metadata": {
        "colab": {
          "base_uri": "https://localhost:8080/"
        },
        "id": "9km3mWx_Jy_B",
        "outputId": "a1fd146e-c0ed-4829-e2cf-64b0f2f09805"
      },
      "outputs": [],
      "source": [
        "# Median house price in a given neighborhood in $1000s (in the 1970s in Boston, MA): \n",
        "y = boston.target \n",
        "y[0:20]"
      ]
    },
    {
      "cell_type": "code",
      "execution_count": null,
      "metadata": {
        "colab": {
          "base_uri": "https://localhost:8080/",
          "height": 0
        },
        "id": "C9KctbIHJy_B",
        "outputId": "986d2a3f-2d82-4f14-8b4c-86f1ea559e35"
      },
      "outputs": [],
      "source": [
        "X = pd.DataFrame(boston.data)\n",
        "X.columns = boston.feature_names\n",
        "X # See variable descriptions at http://lib.stat.cmu.edu/datasets/boston"
      ]
    },
    {
      "cell_type": "code",
      "execution_count": null,
      "metadata": {
        "id": "vYbThtC1Jy_B"
      },
      "outputs": [],
      "source": []
    },
    {
      "cell_type": "code",
      "execution_count": null,
      "metadata": {
        "id": "u8dPMu4YJy_B"
      },
      "outputs": [],
      "source": []
    },
    {
      "cell_type": "code",
      "execution_count": null,
      "metadata": {
        "id": "J3LWG7aQJy_B"
      },
      "outputs": [],
      "source": []
    },
    {
      "cell_type": "markdown",
      "metadata": {
        "id": "jNC_ielmJy_B"
      },
      "source": [
        "### Logistic Regression"
      ]
    },
    {
      "cell_type": "markdown",
      "metadata": {
        "id": "nkdiAGZkJy_B"
      },
      "source": [
        "Reasonably often we'd like to have a regression model that predicts a binary outcome (e.g., identifying if a fast-food item is a hot dog or not a hot dog). This can be accomplished with **logistic regression**, which adapts linear regression by including the *logit* function: \n",
        "$$ x = \\text{log}(\\frac{p}{1-p}) $$\n",
        "This function uses the natural logarithm and maps a binary probability $p$ (which can only range from zero to one) to an unbounded range ($-\\infty$ to $\\infty$)."
      ]
    },
    {
      "cell_type": "code",
      "execution_count": null,
      "metadata": {
        "id": "1QHfbdr9Jy_B"
      },
      "outputs": [],
      "source": [
        "def logit(my_p): # this is also available as scipy.special.logit()\n",
        "    return np.log(my_p/(1-my_p))"
      ]
    },
    {
      "cell_type": "code",
      "execution_count": null,
      "metadata": {
        "colab": {
          "base_uri": "https://localhost:8080/"
        },
        "id": "FylSgRYKJy_C",
        "outputId": "c0ef32f9-e015-49c7-eff9-06156352375c"
      },
      "outputs": [],
      "source": [
        "logit(0.5)"
      ]
    },
    {
      "cell_type": "code",
      "execution_count": null,
      "metadata": {
        "colab": {
          "base_uri": "https://localhost:8080/"
        },
        "id": "GUXecvBTJy_C",
        "outputId": "40c9361e-0c78-44d6-fdf8-0c5414ab901e"
      },
      "outputs": [],
      "source": [
        "logit(0.1) "
      ]
    },
    {
      "cell_type": "code",
      "execution_count": null,
      "metadata": {
        "colab": {
          "base_uri": "https://localhost:8080/"
        },
        "id": "IIHMqIIlJy_C",
        "outputId": "1eaafe04-d885-4fd1-a381-b018e6431160"
      },
      "outputs": [],
      "source": [
        "logit(0.01) # closer to zero approaches negative infinity"
      ]
    },
    {
      "cell_type": "code",
      "execution_count": null,
      "metadata": {
        "colab": {
          "base_uri": "https://localhost:8080/"
        },
        "id": "mgGSPPqrJy_C",
        "outputId": "37fc434e-40de-4dc4-dbc2-7847acbfd3ce"
      },
      "outputs": [],
      "source": [
        "logit(0.99) # closer to one approaches positive infinity"
      ]
    },
    {
      "cell_type": "markdown",
      "metadata": {
        "id": "BIEdZbLCJy_C"
      },
      "source": [
        "More specifically, logistic regression makes use of the *expit* function (a.k.a., logistic function), which is the inverse of the logit. That is, it returns a probability $p$ when passed some unbounded input $x$: \n",
        "$$ p = \\frac{1}{1+e^{-x}} $$"
      ]
    },
    {
      "cell_type": "code",
      "execution_count": null,
      "metadata": {
        "id": "fP3ZQh6bJy_C"
      },
      "outputs": [],
      "source": [
        "def expit(my_x): # this is also available as scipy.special.expit()\n",
        "    return 1/(1+np.exp(-my_x))"
      ]
    },
    {
      "cell_type": "code",
      "execution_count": null,
      "metadata": {
        "colab": {
          "base_uri": "https://localhost:8080/"
        },
        "id": "kF34B4WIJy_C",
        "outputId": "1300b576-cd32-48ed-f910-53a72ad36e46"
      },
      "outputs": [],
      "source": [
        "expit(4.59512)"
      ]
    },
    {
      "cell_type": "markdown",
      "metadata": {
        "id": "OSiGgXvKJy_C"
      },
      "source": [
        "This logistic function allows us to map the unbounded output of a linear regression model to a probability ranging from zero to one."
      ]
    },
    {
      "cell_type": "markdown",
      "metadata": {
        "id": "oR9WuLJ3Jy_D"
      },
      "source": [
        "Let's dig right into a hands-on example: "
      ]
    },
    {
      "cell_type": "code",
      "execution_count": null,
      "metadata": {
        "id": "FZMvYipCJy_D"
      },
      "outputs": [],
      "source": [
        "titanic = sns.load_dataset('titanic')"
      ]
    },
    {
      "cell_type": "code",
      "execution_count": null,
      "metadata": {
        "colab": {
          "base_uri": "https://localhost:8080/",
          "height": 443
        },
        "id": "UplF90zYJy_D",
        "outputId": "646767e0-911c-49aa-d2cd-0c80a0c98abb"
      },
      "outputs": [],
      "source": [
        "titanic"
      ]
    },
    {
      "cell_type": "code",
      "execution_count": null,
      "metadata": {
        "colab": {
          "base_uri": "https://localhost:8080/"
        },
        "id": "ZLeqmztuJy_D",
        "outputId": "d9e99954-a1c1-4b94-e3d3-37b7be1a9cde"
      },
      "outputs": [],
      "source": [
        "np.unique(titanic['survived'], return_counts=True)"
      ]
    },
    {
      "cell_type": "code",
      "execution_count": null,
      "metadata": {
        "colab": {
          "base_uri": "https://localhost:8080/"
        },
        "id": "8UyZ-7wvJy_D",
        "outputId": "9af0765c-1967-4909-e533-0ae67948e929"
      },
      "outputs": [],
      "source": [
        "np.unique(titanic['sex'], return_counts=True)"
      ]
    },
    {
      "cell_type": "code",
      "execution_count": null,
      "metadata": {
        "colab": {
          "base_uri": "https://localhost:8080/"
        },
        "id": "qyg_zJ5aJy_D",
        "outputId": "f6ec6ed9-70b8-4218-9bec-ccfe922488be"
      },
      "outputs": [],
      "source": [
        "np.unique(titanic['class'], return_counts=True)"
      ]
    },
    {
      "cell_type": "code",
      "execution_count": null,
      "metadata": {
        "colab": {
          "base_uri": "https://localhost:8080/",
          "height": 369
        },
        "id": "-0ghxWLaJy_D",
        "outputId": "f191c2da-57b5-407d-920e-ee8a2ae6091f"
      },
      "outputs": [],
      "source": [
        "_ = sns.displot(titanic['age'], kde=True)"
      ]
    },
    {
      "cell_type": "code",
      "execution_count": null,
      "metadata": {
        "colab": {
          "base_uri": "https://localhost:8080/",
          "height": 423
        },
        "id": "5o89M9q1Jy_E",
        "outputId": "71ae28e6-9d00-4912-8719-d0234a0a3359"
      },
      "outputs": [],
      "source": [
        "gender = pd.get_dummies(titanic['sex'])\n",
        "gender"
      ]
    },
    {
      "cell_type": "code",
      "execution_count": null,
      "metadata": {
        "colab": {
          "base_uri": "https://localhost:8080/",
          "height": 423
        },
        "id": "wEFtmF-fJy_E",
        "outputId": "384afa69-e539-4180-c824-e59bd5bc175c"
      },
      "outputs": [],
      "source": [
        "clas = pd.get_dummies(titanic['class'])\n",
        "clas"
      ]
    },
    {
      "cell_type": "code",
      "execution_count": null,
      "metadata": {
        "id": "Ys7aYr2BJy_E"
      },
      "outputs": [],
      "source": [
        "y = titanic.survived"
      ]
    },
    {
      "cell_type": "code",
      "execution_count": null,
      "metadata": {
        "colab": {
          "base_uri": "https://localhost:8080/",
          "height": 423
        },
        "id": "ACwwT2IkJy_E",
        "outputId": "c26fcc07-013b-42d4-d447-0a7d4c216157"
      },
      "outputs": [],
      "source": [
        "X = pd.concat([clas.First, clas.Second, gender.female, titanic.age], axis=1)\n",
        "X = sm.add_constant(X)\n",
        "X"
      ]
    },
    {
      "cell_type": "code",
      "execution_count": null,
      "metadata": {
        "id": "5yKDLf6CJy_E"
      },
      "outputs": [],
      "source": [
        "model = sm.Logit(y, X, missing='drop') # some rows contain NaN"
      ]
    },
    {
      "cell_type": "code",
      "execution_count": null,
      "metadata": {
        "colab": {
          "base_uri": "https://localhost:8080/"
        },
        "id": "NhjaF4_9Jy_E",
        "outputId": "516e57b1-8d86-492e-9376-6d2966d19817"
      },
      "outputs": [],
      "source": [
        "result = model.fit()"
      ]
    },
    {
      "cell_type": "code",
      "execution_count": null,
      "metadata": {
        "colab": {
          "base_uri": "https://localhost:8080/",
          "height": 316
        },
        "id": "JFnwNlvCJy_E",
        "outputId": "49a2ad4b-7477-4ff8-adb7-8ec41be7f8f0"
      },
      "outputs": [],
      "source": [
        "result.summary()"
      ]
    },
    {
      "cell_type": "code",
      "execution_count": null,
      "metadata": {
        "colab": {
          "base_uri": "https://localhost:8080/"
        },
        "id": "AXRuEbwlJy_F",
        "outputId": "9f224fca-1cd6-4454-ca5a-79ce7fab86db"
      },
      "outputs": [],
      "source": [
        "beta = result.params\n",
        "beta"
      ]
    },
    {
      "cell_type": "markdown",
      "metadata": {
        "id": "5Cz9h93HJy_F"
      },
      "source": [
        "As an example, our model suggests a 17-year-old female traveling in first class (such as Rose in the 1997 James Cameron film) had a 95.9% of chance of surviving: "
      ]
    },
    {
      "cell_type": "code",
      "execution_count": null,
      "metadata": {
        "colab": {
          "base_uri": "https://localhost:8080/"
        },
        "id": "lFp-lcp2Jy_F",
        "outputId": "121e81f6-daf9-4187-e91e-af27eed7c379"
      },
      "outputs": [],
      "source": [
        "linear_out = beta[0] + beta[1]*1 + beta[2]*0 + beta[3]*1 + beta[4]*17\n",
        "linear_out"
      ]
    },
    {
      "cell_type": "code",
      "execution_count": null,
      "metadata": {
        "colab": {
          "base_uri": "https://localhost:8080/"
        },
        "id": "t0IjDWDiJy_F",
        "outputId": "b65671c1-0af4-47ef-a1a0-5df8d409755d"
      },
      "outputs": [],
      "source": [
        "expit(linear_out)"
      ]
    },
    {
      "cell_type": "markdown",
      "metadata": {
        "id": "UWAtt2TbJy_G"
      },
      "source": [
        "In contrast, a 20-year-old male traveling in third class had an 11.2% chance of surviving: "
      ]
    },
    {
      "cell_type": "code",
      "execution_count": null,
      "metadata": {
        "id": "Kfas-sUyJy_G"
      },
      "outputs": [],
      "source": [
        "jack = np.array([1, 0, 0, 0, 20])"
      ]
    },
    {
      "cell_type": "code",
      "execution_count": null,
      "metadata": {
        "colab": {
          "base_uri": "https://localhost:8080/"
        },
        "id": "rp00iFOZJy_G",
        "outputId": "487678a3-37ed-4895-afe9-6e974631f6dd"
      },
      "outputs": [],
      "source": [
        "linear_out = np.dot(beta, jack)\n",
        "linear_out"
      ]
    },
    {
      "cell_type": "code",
      "execution_count": null,
      "metadata": {
        "colab": {
          "base_uri": "https://localhost:8080/"
        },
        "id": "R0JW2apJJy_H",
        "outputId": "da3b1c5e-ff68-4b0e-bef1-301b616b1d2d"
      },
      "outputs": [],
      "source": [
        "expit(linear_out)"
      ]
    },
    {
      "cell_type": "markdown",
      "metadata": {
        "id": "yWmyqE_UJy_H"
      },
      "source": [
        "**Exercises**\n",
        "\n",
        "1. Use the scikit-learn `train_test_split()` method ([documentation here](https://scikit-learn.org/stable/modules/generated/sklearn.model_selection.train_test_split.html)) to split the titanic data into a training data set (say, two thirds of the data) and a test data set (one third of the data). \n",
        "\n",
        "2. Re-train the OLS model above using your newly-created training data set. Using the test data set, test the model's quality, e.g., with respect to: \n",
        "\n",
        "    * Accuracy (using a standard 50% binary classification threshold) \n",
        "    * Area under the receiving operator characteristic curve (we covered this in [Calculus II](https://github.com/jonkrohn/ML-foundations/blob/master/notebooks/4-calculus-ii.ipynb)).\n",
        "\n",
        "3. Use your own creative whims to add additional features to an OLS model and train it using the training set. How does your new model compare on the test data set metrics relative to the baseline model? And how do they compare to the [Kaggle leaderboard](https://www.kaggle.com/c/titanic/leaderboard)? "
      ]
    },
    {
      "cell_type": "markdown",
      "metadata": {
        "id": "s6NFWUGrJy_H"
      },
      "source": [
        "**Return to slides here.**"
      ]
    },
    {
      "cell_type": "markdown",
      "metadata": {
        "id": "ZgGbPZ2zJy_H"
      },
      "source": [
        "## Segment 3: Bayesian Statistics"
      ]
    },
    {
      "cell_type": "markdown",
      "metadata": {
        "id": "KMTDDkc7Jy_I"
      },
      "source": [
        "### Bayes' Theorem"
      ]
    },
    {
      "cell_type": "markdown",
      "metadata": {
        "id": "QkUzJX_-Jy_I"
      },
      "source": [
        "...allows us to find $P(\\text{x}|\\text{y})$ when we have $P(\\text{y}|\\text{x})$: \n",
        "$$ P(\\text{x}|\\text{y}) = \\frac{P(\\text{x})P(\\text{y}|\\text{x})}{P(\\text{y})} $$"
      ]
    },
    {
      "cell_type": "markdown",
      "metadata": {
        "id": "UaTQn1CxJy_I"
      },
      "source": [
        "Let's use the *xkcd* [exploding sun cartoon](https://xkcd.com/1132/) as an example. Using a standard $\\alpha = .05$ threshold, the frequentist rejected the null hypothesis that the sun hadn't exploded because the probability the neutrino detector outputs `YES` when the sun hasn't exploded is $\\frac{1}{6} \\times \\frac{1}{6} = \\frac{1}{36} \\approx 0.0278$, which is $<.05$."
      ]
    },
    {
      "cell_type": "markdown",
      "metadata": {
        "id": "QscRBfKiJy_I"
      },
      "source": [
        "Using Bayes' theorem, the Bayesian statistician incorporates additional information -- largely related to the probability that the sun has exploded irrespective what the neutrino detector says -- to draw a different conclusion. \n",
        "\n",
        "Let's likewise use some back-of-the-envelope figures to estimate the probability the sun has exploded ($x = \\text{exploded}$) given the neutrino detector output `YES` ($y = \\text{YES}$); that is, $P(x|y)$. To find this, we'll need $P(y|x)$, $P(x)$, and $P(y)$.\n",
        "\n",
        "$P(y = \\text{YES} | x = \\text{exploded}) = \\frac{35}{36} \\approx 0.972 $.\n",
        "\n",
        "$P(x = \\text{exploded})$ can be roughly estimated. It is generous to assume a $\\frac{1}{1000}$ chance because for every thousand days that pass, the sun explodes far less often than once. Further, unless the sun had exploded only in the past few minutes, we'd already be dead. So, the probability that we are alive in an instant where the sun has exploded is extremely small. Anyway, let's go with $\\frac{1}{1000}$ because even with this exceedingly generous figure, we'll demonstrate the point. \n",
        "\n",
        "$P(y = \\text{YES})$: As is often the case, this probability in the Bayes' theorem denominator can be calculated with information we already have because: \n",
        "$$ P(\\text{y}) = \\sum_x P(\\text{y}|x)P(x) $$ \n",
        "Summing over the two possible states of x ($x =$ exploded, $x =$ not exploded): \n",
        "$$ P(y = \\text{YES}) = P(\\text{YES given exploded})P(\\text{exploded}) + P(\\text{YES given not exploded})P(\\text{not exploded}) $$\n",
        "$$ = \\left(\\frac{35}{36}\\right)\\left(\\frac{1}{1000}\\right) + \\left(\\frac{1}{36}\\right)\\left(\\frac{999}{1000}\\right) $$ \n",
        "...which comes out to $P(y = \\text{YES}) \\approx 0.0287$:"
      ]
    },
    {
      "cell_type": "code",
      "execution_count": null,
      "metadata": {
        "colab": {
          "base_uri": "https://localhost:8080/"
        },
        "id": "k5gMTD5eJy_I",
        "outputId": "cbc0374e-d323-42f1-fd3e-f8cc75b2f194"
      },
      "outputs": [],
      "source": [
        "py = (35/36.)*(1/1000.) + (1/36.)*(999/1000.)\n",
        "py"
      ]
    },
    {
      "cell_type": "markdown",
      "metadata": {
        "id": "VVPyAmD2Jy_I"
      },
      "source": [
        "Now we have everything we need to apply Bayes' theorem: "
      ]
    },
    {
      "cell_type": "code",
      "execution_count": null,
      "metadata": {
        "id": "ZF_lXnPXJy_J"
      },
      "outputs": [],
      "source": [
        "py_givenx = 0.972\n",
        "px = .0001"
      ]
    },
    {
      "cell_type": "code",
      "execution_count": null,
      "metadata": {
        "id": "Q6cjzMN6Jy_J"
      },
      "outputs": [],
      "source": [
        "def bayes(my_px, my_pygivenx, my_py):\n",
        "    return (my_px*my_pygivenx)/my_py"
      ]
    },
    {
      "cell_type": "code",
      "execution_count": null,
      "metadata": {
        "colab": {
          "base_uri": "https://localhost:8080/"
        },
        "id": "_mrMcIC2Jy_J",
        "outputId": "9c9b2d2d-8eb3-454a-c45e-0283bab7ba15"
      },
      "outputs": [],
      "source": [
        "bayes(px, py_givenx, py)"
      ]
    },
    {
      "cell_type": "markdown",
      "metadata": {
        "id": "leJ0TyubJy_J"
      },
      "source": [
        "Therefore, even with our generous baseline estimate of a $\\frac{1}{1000}$ chance of the sun having exploded, Bayes' rule enables us to find a 0.3% chance the sun has exploded given the neutrino detector output `YES`. Certainly odds that merit making a $50 bet! "
      ]
    },
    {
      "cell_type": "markdown",
      "metadata": {
        "id": "R00WGeGBJy_J"
      },
      "source": [
        "It would require several hours to describe Bayesian inference beyond Bayes' theorem (e.g., training on a dataset with the `PyMC3` library) so it's beyond our current scope, but for a taste check out [this blog post](https://towardsdatascience.com/estimating-probabilities-with-bayesian-modeling-in-python-7144be007815) and [associated Jupyter notebook](https://github.com/WillKoehrsen/probabilistic-programming/blob/master/Estimating%20Probabilities%20with%20Bayesian%20Inference.ipynb) from Will Koehrsen. "
      ]
    },
    {
      "cell_type": "markdown",
      "metadata": {
        "id": "Lj0nvE0tJy_J"
      },
      "source": [
        "**Return to slides here.**"
      ]
    }
  ],
  "metadata": {
    "colab": {
      "include_colab_link": true,
      "name": "6-statistics.ipynb",
      "provenance": []
    },
    "kernelspec": {
      "display_name": "Python 3",
      "language": "python",
      "name": "python3"
    },
    "language_info": {
      "codemirror_mode": {
        "name": "ipython",
        "version": 3
      },
      "file_extension": ".py",
      "mimetype": "text/x-python",
      "name": "python",
      "nbconvert_exporter": "python",
      "pygments_lexer": "ipython3",
      "version": "3.9.7"
    }
  },
  "nbformat": 4,
  "nbformat_minor": 0
}
