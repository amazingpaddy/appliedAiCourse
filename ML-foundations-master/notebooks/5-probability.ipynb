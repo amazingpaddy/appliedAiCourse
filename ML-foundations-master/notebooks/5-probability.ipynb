{
  "cells": [
    {
      "cell_type": "markdown",
      "metadata": {
        "colab_type": "text",
        "id": "view-in-github"
      },
      "source": [
        "<a href=\"https://colab.research.google.com/github/jonkrohn/ML-foundations/blob/master/notebooks/5-probability.ipynb\" target=\"_parent\"><img src=\"https://colab.research.google.com/assets/colab-badge.svg\" alt=\"Open In Colab\"/></a>"
      ]
    },
    {
      "cell_type": "markdown",
      "metadata": {
        "id": "aTOLgsbN69-P"
      },
      "source": [
        "# Probability & Information Theory"
      ]
    },
    {
      "cell_type": "markdown",
      "metadata": {
        "id": "yqUB9FTRAxd-"
      },
      "source": [
        "This class, *Probability & Information Theory*, introduces the mathematical fields that enable us to quantify uncertainty as well as to make predictions despite uncertainty. These fields are essential because machine learning algorithms are both trained by imperfect data and deployed into noisy, real-world scenarios they haven’t encountered before. \n",
        "\n",
        "Through the measured exposition of theory paired with interactive examples, you’ll develop a working understanding of variables, probability distributions, metrics for assessing distributions, and graphical models. You’ll also learn how to use information theory to measure how much meaningful signal there is within some given data. The content covered in this class is itself foundational for several other classes in the *Machine Learning Foundations* series, especially *Intro to Statistics* and *Optimization*."
      ]
    },
    {
      "cell_type": "markdown",
      "metadata": {
        "id": "d4tBvI88BheF"
      },
      "source": [
        "Over the course of studying this topic, you'll: \n",
        "\n",
        "* Develop an understanding of what’s going on beneath the hood of predictive statistical models and machine learning algorithms, including those used for deep learning. \n",
        "* Understand the appropriate variable type and probability distribution for representing a given class of data, as well as the standard techniques for assessing the relationships between distributions.\n",
        "* Apply information theory to quantify the proportion of valuable signal that’s present amongst the noise of a given probability distribution. \n"
      ]
    },
    {
      "cell_type": "markdown",
      "metadata": {
        "id": "Z68nQ0ekCYhF"
      },
      "source": [
        "**Note that this Jupyter notebook is not intended to stand alone. It is the companion code to a lecture or to videos from Jon Krohn's [Machine Learning Foundations](https://github.com/jonkrohn/ML-foundations) series, which offer detail on the following:**\n",
        "\n",
        "*Segment 1: Introduction to Probability*\n",
        "* What Probability Theory Is\n",
        "* A Brief History: Frequentists vs Bayesians\n",
        "* Applications of Probability to Machine Learning\n",
        "* Random Variables\n",
        "* Discrete vs Continuous Variables\n",
        "* Probability Mass and Probability Density Functions\n",
        "* Expected Value\n",
        "* Measures of Central Tendency: Mean, Median, and Mode\n",
        "* Quantiles: Quartiles, Deciles, and Percentiles\n",
        "* The Box-and-Whisker Plot\n",
        "* Measures of Dispersion: Variance, Standard Deviation, and Standard Error\n",
        "* Measures of Relatedness: Covariance and Correlation\n",
        "* Marginal and Conditional Probabilities\n",
        "* Independence and Conditional Independence\n",
        "\n",
        "*Segment 2: Distributions in Machine Learning*\n",
        "* Uniform\n",
        "* Gaussian: Normal and Standard Normal\n",
        "* The Central Limit Theorem\n",
        "* Log-Normal\n",
        "* Exponential and Laplace\n",
        "* Binomial and Multinomial\n",
        "* Poisson\n",
        "* Mixture Distributions\n",
        "* Preprocessing Data for Model Input\n",
        "\n",
        "*Segment 3: Information Theory*\n",
        "* What Information Theory Is\n",
        "* Self-Information\n",
        "* Nats, Bits and Shannons\n",
        "* Shannon and Differential Entropy\n",
        "* Kullback-Leibler Divergence\n",
        "* Cross-Entropy"
      ]
    },
    {
      "cell_type": "markdown",
      "metadata": {
        "id": "HDE74CXX5ChI"
      },
      "source": [
        "## Segment 1: Introduction to Probability"
      ]
    },
    {
      "cell_type": "code",
      "execution_count": 1,
      "metadata": {
        "id": "kzRpCm2a5ChJ"
      },
      "outputs": [],
      "source": [
        "import numpy as np\n",
        "import scipy.stats as st\n",
        "import matplotlib.pyplot as plt\n",
        "import seaborn as sns"
      ]
    },
    {
      "cell_type": "markdown",
      "metadata": {
        "id": "U_680ypO5ChJ"
      },
      "source": [
        "### What Probability Theory Is"
      ]
    },
    {
      "cell_type": "markdown",
      "metadata": {
        "id": "fwEAqIqR5ChJ"
      },
      "source": [
        "Let's assume we have a fair coin, which is equally likely to come up heads (H) or tails (T)."
      ]
    },
    {
      "cell_type": "markdown",
      "metadata": {
        "id": "kFl3g0GW5ChK"
      },
      "source": [
        "In instances like this, where the two outcomes are equally likely, we can use probability theory to express the likelihood of a particular **event** by comparing it with the **sample space** (the set of all possible outcomes; can be denoted as $\\Omega$): "
      ]
    },
    {
      "cell_type": "markdown",
      "metadata": {
        "id": "X82RIGz15ChK"
      },
      "source": [
        "$$ P(\\text{event}) = \\frac{\\text{no. of outcomes of event}}{\\text{no. of outcomes in }\\Omega} $$"
      ]
    },
    {
      "cell_type": "markdown",
      "metadata": {
        "id": "VuVWT8NI5ChK"
      },
      "source": [
        "If we're only flipping the coin once, then there are only two possible outcomes in the sample space $\\Omega$: it will either be H or T (using set notation, we could write this as $\\Omega$ = {H, T})."
      ]
    },
    {
      "cell_type": "markdown",
      "metadata": {
        "id": "9W5MsKt15ChK"
      },
      "source": [
        "Therefore: $$ P(H) = \\frac{1}{2} = 0.5 $$"
      ]
    },
    {
      "cell_type": "markdown",
      "metadata": {
        "id": "V_bzjMvs5ChK"
      },
      "source": [
        "Equally: $$ P(T) = \\frac{1}{2} = 0.5 $$"
      ]
    },
    {
      "cell_type": "markdown",
      "metadata": {
        "id": "PfHEQzcd5ChL"
      },
      "source": [
        "As a separate example, consider drawing a single card from a standard deck of 52 playing cards. In this case, the number of possible outcomes in the sample space $\\Omega$ is 52. "
      ]
    },
    {
      "cell_type": "markdown",
      "metadata": {
        "id": "qtAa3aRW5ChL"
      },
      "source": [
        "There is only one ace of spades in the deck, so the probability of drawing it is: $$ P(\\text{ace of spades}) = \\frac{1}{52} \\approx 0.019 $$"
      ]
    },
    {
      "cell_type": "markdown",
      "metadata": {
        "id": "81-uQ4ug5ChL"
      },
      "source": [
        "In contrast there are four aces, so the probability of drawing an ace is: $$ P(\\text{ace}) = \\frac{4}{52} \\approx 0.077 $$"
      ]
    },
    {
      "cell_type": "markdown",
      "metadata": {
        "id": "uqco79Cd5ChL"
      },
      "source": [
        "Some additional examples: \n",
        "$$ P(\\text{spade}) = \\frac{13}{52} = 0.25 $$\n",
        "$$ P(\\text{ace OR spade}) = \\frac{16}{52} \\approx 0.307 $$\n",
        "$$ P(\\text{card}) = \\frac{52}{52} = 1 $$\n",
        "$$ P(\\text{turnip}) = \\frac{0}{52} = 0 $$"
      ]
    },
    {
      "cell_type": "markdown",
      "metadata": {
        "id": "snINg1tz5ChL"
      },
      "source": [
        "#### Multiple independent observations"
      ]
    },
    {
      "cell_type": "markdown",
      "metadata": {
        "id": "gIPR6og95ChL"
      },
      "source": [
        "Let's return to coin flipping to illustrate situations where we have an event consisting of multiple independent observations. For example, the probability of throwing two consecutive heads is: $$ P(\\text{HH}) = \\frac{1}{4} = 0.25 $$ ...because there is one HH event in the sample set of four possible events ($\\Omega$ = {HH, HT, TH, TT})."
      ]
    },
    {
      "cell_type": "markdown",
      "metadata": {
        "id": "rT11_oHg5ChM"
      },
      "source": [
        "Likewise, the probability of throwing *three* consecutive heads is: $$ P(\\text{HHH}) = \\frac{1}{8} = 0.125 $$ ...because there is one HHH event in the sample set of eight possible events ($\\Omega$ = {HHH, HHT, HTH, THH, HTT, THT, TTH, TTT})."
      ]
    },
    {
      "cell_type": "markdown",
      "metadata": {
        "id": "ru44PKUe5ChM"
      },
      "source": [
        "As final examples, the probability of throwing exactly two heads in three tosses is $ P = \\frac{3}{8} = 0.375 $ while the probability of throwing at least two heads in three tosses is $ P = \\frac{4}{8} = 0.5 $."
      ]
    },
    {
      "cell_type": "markdown",
      "metadata": {
        "id": "vh3WnRhm5ChM"
      },
      "source": [
        "#### Combining probabilities"
      ]
    },
    {
      "cell_type": "markdown",
      "metadata": {
        "id": "YInbLu1i5ChM"
      },
      "source": [
        "In order to combine probabilities, we can multiply them. So the probability of throwing five consecutive heads, for example, is the product of probabilities we've already calculated: $$ P(\\text{HHHHH}) = P(\\text{HH}) \\times P(\\text{HHH}) = \\frac{1}{4} \\times \\frac{1}{8} = \\frac{1}{32} \\approx 0.031 $$"
      ]
    },
    {
      "cell_type": "markdown",
      "metadata": {
        "id": "w-wlHpI05ChM"
      },
      "source": [
        "#### Combinatorics"
      ]
    },
    {
      "cell_type": "markdown",
      "metadata": {
        "id": "1ckSVU3p5ChM"
      },
      "source": [
        "*Combinatorics* is a field of mathematics devoted to counting that can be helpful to studying probabilities. We can use **factorials** (e.g., $4! = 4 \\times 3 \\times 2 \\times 1 = 24$), which feature prominently in combinatorics, to calculate probabilities instead of painstakingly determining all of the members of the sample space $\\Omega$ and counting subsets within $\\Omega$. "
      ]
    },
    {
      "cell_type": "markdown",
      "metadata": {
        "id": "zYL4ODP75ChN"
      },
      "source": [
        "More specifically, we can calculate the number of outcomes of an event using the \"number of combinations\" equation: $$ {n \\choose k} = \\frac{n!}{k!(n - k)!} $$"
      ]
    },
    {
      "cell_type": "markdown",
      "metadata": {
        "id": "kQhpdNEL5ChN"
      },
      "source": [
        "The left-hand side of the equation is read \"$n$ choose $k$\" and is most quickly understood via an example: If we have three coin flips, $n = 3$, and if we're interested in the number of ways to get two head flips (or two tail flips, for that matter), $k = 2$. We would read this as \"3 choose 2\" and calculate it as:\n",
        "$$ {n \\choose k} = {3 \\choose 2} = \\frac{3!}{2!(3 - 2)!} = \\frac{3!}{(2!)(1!)} = \\frac{3 \\times 2 \\times 1}{(2 \\times 1)(1)} = \\frac{6}{(2)(1)} = \\frac{6}{2} = 3 $$"
      ]
    },
    {
      "cell_type": "markdown",
      "metadata": {
        "id": "PoPfNW275ChN"
      },
      "source": [
        "This provide us with the numerator for event-probability equation from above: $$ P(\\text{event}) = \\frac{\\text{no. of outcomes of event}}{\\text{no. of outcomes in }\\Omega} $$"
      ]
    },
    {
      "cell_type": "markdown",
      "metadata": {
        "id": "ThoyCpl35ChO"
      },
      "source": [
        "In the case of coin-flipping (or any binary process with equally probable outcomes), the denominator can be calculated with $2^n$ (where $n$ is again the number of coin flips), so: $$ \\frac{\\text{no. of outcomes of event}}{\\text{no. of outcomes in }\\Omega} = \\frac{3}{2^n} = \\frac{3}{2^3} = \\frac{3}{8} = 0.375 $$"
      ]
    },
    {
      "cell_type": "markdown",
      "metadata": {
        "id": "QKRugWrQ5ChO"
      },
      "source": [
        "**Exercises**:\n",
        "\n",
        "1. What is the probability of drawing the ace of spades twice in a row? (Assume that any card drawn on the first draw will be put back in the deck before the second draw.)\n",
        "2. You draw a card from a deck of cards. After replacing the drawn card back in the deck and shuffling thoroughly, what is the probability of drawing the same card again? \n",
        "3. Use $n \\choose k$ to calculate the probability of throwing three heads in five coin tosses.\n",
        "4. Create a Python method that solves exercise 3 and incorporates the $n \\choose k$ formula $\\frac{n!}{k!(n - k)!}$. With the method in hand, calculate the probability of -- in five tosses -- throwing each of zero, one, two, three, four, and five heads."
      ]
    },
    {
      "cell_type": "markdown",
      "metadata": {
        "id": "X1d1mBjR5ChO"
      },
      "source": [
        "**Spoiler alert**: Solutions are below so scroll carefully..."
      ]
    },
    {
      "cell_type": "code",
      "execution_count": null,
      "metadata": {
        "id": "_ZzjXjHy5ChO"
      },
      "outputs": [],
      "source": []
    },
    {
      "cell_type": "code",
      "execution_count": null,
      "metadata": {
        "id": "sbq5esRv5ChO"
      },
      "outputs": [],
      "source": []
    },
    {
      "cell_type": "code",
      "execution_count": null,
      "metadata": {
        "id": "oPtm03U95ChO"
      },
      "outputs": [],
      "source": []
    },
    {
      "cell_type": "markdown",
      "metadata": {
        "id": "U7IgNJwV5ChO"
      },
      "source": [
        "**Solutions**:"
      ]
    },
    {
      "cell_type": "markdown",
      "metadata": {
        "id": "qiSjQ1mR5ChP"
      },
      "source": [
        "1. $$ P(\\text{ace of spades}) \\times P(\\text{ace of spades}) = \\left(\\frac{1}{52}\\right)^2 = \\frac{1}{2704} = 0.00037 = 0.037\\% $$"
      ]
    },
    {
      "cell_type": "markdown",
      "metadata": {
        "id": "R3aUyZvi5ChP"
      },
      "source": [
        "2. $$ P(\\text{any card}) = \\frac{52}{52} = 1 $$\n",
        "$$ P(\\text{same card as first draw}) = \\frac{1}{52} \\approx 0.019 $$\n",
        "$$ P(\\text{any card})P(\\text{same card as first draw}) = (1)(\\frac{1}{52}) = \\frac{1}{52} \\approx 0.019$$"
      ]
    },
    {
      "cell_type": "markdown",
      "metadata": {
        "id": "S8tA4XlQ5ChP"
      },
      "source": [
        "3. $$ {n \\choose k} = {5 \\choose 3} = \\frac{5!}{3!(5 - 3)!} = \\frac{5!}{(3!)(2!)} = \\frac{5 \\times 4 \\times 3 \\times 2 \\times 1}{(3 \\times 2 \\times 1)(2 \\times 1)} = \\frac{120}{(6)(2)} = \\frac{120}{12} = 10 $$"
      ]
    },
    {
      "cell_type": "markdown",
      "metadata": {
        "id": "aS4bc83U5ChP"
      },
      "source": [
        "$$P = \\frac{10}{2^n} = \\frac{10}{2^5} = \\frac{10}{32} = 0.3125 $$"
      ]
    },
    {
      "cell_type": "code",
      "execution_count": 2,
      "metadata": {
        "id": "0_3pRRTX5ChP"
      },
      "outputs": [],
      "source": [
        "from math import factorial"
      ]
    },
    {
      "cell_type": "code",
      "execution_count": 3,
      "metadata": {
        "id": "MgdCyK805ChP"
      },
      "outputs": [],
      "source": [
        "def coinflip_prob(n, k):\n",
        "    n_choose_k = factorial(n)/(factorial(k)*factorial(n-k))\n",
        "    return n_choose_k/2**n"
      ]
    },
    {
      "cell_type": "code",
      "execution_count": 4,
      "metadata": {
        "colab": {
          "base_uri": "https://localhost:8080/"
        },
        "id": "4N3_Ebkum1Vh",
        "outputId": "72187c55-1762-426a-9018-4de46b0949a2"
      },
      "outputs": [
        {
          "data": {
            "text/plain": [
              "0.3125"
            ]
          },
          "execution_count": 4,
          "metadata": {},
          "output_type": "execute_result"
        }
      ],
      "source": [
        "coinflip_prob(5, 3)"
      ]
    },
    {
      "cell_type": "code",
      "execution_count": 5,
      "metadata": {
        "colab": {
          "base_uri": "https://localhost:8080/"
        },
        "id": "6UO8q5N45ChQ",
        "outputId": "ae6b418a-aa75-4f2a-d4e0-ca4cd748ada8"
      },
      "outputs": [
        {
          "data": {
            "text/plain": [
              "[0.03125, 0.15625, 0.3125, 0.3125, 0.15625, 0.03125]"
            ]
          },
          "execution_count": 5,
          "metadata": {},
          "output_type": "execute_result"
        }
      ],
      "source": [
        "[coinflip_prob(5, h) for h in range(6)]"
      ]
    },
    {
      "cell_type": "markdown",
      "metadata": {
        "id": "gjSkHJ8r5ChQ"
      },
      "source": [
        "#### The Law of Large Numbers"
      ]
    },
    {
      "cell_type": "markdown",
      "metadata": {
        "id": "U9NDLpfo5ChR"
      },
      "source": [
        "While a fair coin should land heads up 50% of the time, as we've seen above, with small sample sizes, there is a non-trivial possibility that in a given experiment we could flip heads on all of the tosses. For example, we've calculated that there's a 3.1% chance that we'll get heads on every toss in a small five-toss experiment. "
      ]
    },
    {
      "cell_type": "markdown",
      "metadata": {
        "id": "7rfVQfP55ChR"
      },
      "source": [
        "The **law of large numbers** states that the more experiments we run, the closer we will tend to get to the expected probability. "
      ]
    },
    {
      "cell_type": "markdown",
      "metadata": {
        "id": "7A3Va-dB5ChR"
      },
      "source": [
        "Let's run some code to examine this in practice. To start, we'll create a vector of exponentially increasing $n$umbers of coin tosses per experiment: "
      ]
    },
    {
      "cell_type": "code",
      "execution_count": 6,
      "metadata": {
        "id": "ymsouctT5ChR"
      },
      "outputs": [],
      "source": [
        "ns = np.array([2, 4, 8, 16, 32, 64, 128, 256, 512, 1024, 2048, 4096]) "
      ]
    },
    {
      "cell_type": "code",
      "execution_count": 7,
      "metadata": {
        "id": "hgmoAn2g5ChR"
      },
      "outputs": [],
      "source": [
        "np.random.seed(42) # for reproducibility"
      ]
    },
    {
      "cell_type": "markdown",
      "metadata": {
        "id": "hKtZzZKK5ChR"
      },
      "source": [
        "We will discuss the `binomial()` method in more detail in *Segment 2*. For now it suffices to think of its two arguments as *number of coin flips in experiment* and *probability of heads*, while it returns the number of flips that are heads in the experiment."
      ]
    },
    {
      "cell_type": "code",
      "execution_count": 8,
      "metadata": {
        "colab": {
          "base_uri": "https://localhost:8080/"
        },
        "id": "xRQh-0iG5ChS",
        "outputId": "ff056a15-cfc1-43fd-dda1-7ba5ca1c661b"
      },
      "outputs": [
        {
          "data": {
            "text/plain": [
              "0"
            ]
          },
          "execution_count": 8,
          "metadata": {},
          "output_type": "execute_result"
        }
      ],
      "source": [
        "np.random.binomial(1, 0.5)"
      ]
    },
    {
      "cell_type": "code",
      "execution_count": 9,
      "metadata": {
        "colab": {
          "base_uri": "https://localhost:8080/"
        },
        "id": "OwfWWhFm5ChS",
        "outputId": "b6ad355c-36e3-4be6-8836-15fa78ae6172"
      },
      "outputs": [
        {
          "data": {
            "text/plain": [
              "[2, 3, 4, 6, 13, 27, 54, 136, 258, 509, 1038, 2094]"
            ]
          },
          "execution_count": 9,
          "metadata": {},
          "output_type": "execute_result"
        }
      ],
      "source": [
        "heads_count = [np.random.binomial(n, 0.5) for n in ns]\n",
        "heads_count"
      ]
    },
    {
      "cell_type": "code",
      "execution_count": 10,
      "metadata": {
        "colab": {
          "base_uri": "https://localhost:8080/"
        },
        "id": "rL4PbNmY5ChS",
        "outputId": "ef2e0569-a621-4628-ee15-e4cdc767e45e"
      },
      "outputs": [
        {
          "data": {
            "text/plain": [
              "array([1.        , 0.75      , 0.5       , 0.375     , 0.40625   ,\n",
              "       0.421875  , 0.421875  , 0.53125   , 0.50390625, 0.49707031,\n",
              "       0.50683594, 0.51123047])"
            ]
          },
          "execution_count": 10,
          "metadata": {},
          "output_type": "execute_result"
        }
      ],
      "source": [
        "proportion_heads = heads_count/ns\n",
        "proportion_heads"
      ]
    },
    {
      "cell_type": "code",
      "execution_count": 11,
      "metadata": {
        "colab": {
          "base_uri": "https://localhost:8080/",
          "height": 285
        },
        "id": "vlz7a5DU5ChS",
        "outputId": "cbb706c8-ce3a-4d42-ce11-69cb5f5cd7b0"
      },
      "outputs": [
        {
          "data": {
            "image/png": "[encoded data removed]",
            "text/plain": [
              "<Figure size 432x288 with 1 Axes>"
            ]
          },
          "metadata": {
            "needs_background": "light"
          },
          "output_type": "display_data"
        }
      ],
      "source": [
        "fig, ax = plt.subplots()\n",
        "plt.xlabel('Number of coin flips in experiment')\n",
        "plt.ylabel('Proportion of flips that are heads')\n",
        "plt.axhline(0.5, color='orange')\n",
        "_ = ax.scatter(ns, proportion_heads)"
      ]
    },
    {
      "cell_type": "markdown",
      "metadata": {
        "id": "RvrI0woM5ChS"
      },
      "source": [
        "It is important at this juncture to address the **gambler's fallacy**. It is a common misconception that the law of large numbers dictates that if, say, five heads have been flipped in a row, then the probability of tails is higher on the sixth flip. In fact, probability theory holds that each coin flip is completely independent of all others. Thus, every single flip of a fair coin has a 50% chance of being heads, no matter what happened on preceding flips."
      ]
    },
    {
      "cell_type": "markdown",
      "metadata": {
        "id": "j2-wA_6E5ChT"
      },
      "source": [
        "(To capitalize on this misunderstanding, roulette tables at casinos often have prominent displays tracking the history of red versus black even though there's a 47.4% chance of each on every spin of the roulette wheel no matter what happened on preceding spins. Gamblers will note, say, five reds in a row at a given table and flock to it to bet on black.) "
      ]
    },
    {
      "cell_type": "markdown",
      "metadata": {
        "id": "hKciO43C5ChT"
      },
      "source": [
        "#### Statistics"
      ]
    },
    {
      "cell_type": "markdown",
      "metadata": {
        "id": "WqitDIkk5ChT"
      },
      "source": [
        "The field of statistics applies probability theory to make inferences with a quantifiable degree of confidence. For example, let's say we ran the five-coin-flip experiment 1000 times with a fair coin: "
      ]
    },
    {
      "cell_type": "code",
      "execution_count": 34,
      "metadata": {
        "id": "Nvc9rCnq5ChT"
      },
      "outputs": [],
      "source": [
        "n_experiments = 100000000\n",
        "heads_count = np.random.binomial(5, 0.5, n_experiments)"
      ]
    },
    {
      "cell_type": "markdown",
      "metadata": {
        "id": "siW-zTqm5ChT"
      },
      "source": [
        "We can plot the results of our experiment to create a **probability distribution**: "
      ]
    },
    {
      "cell_type": "code",
      "execution_count": 35,
      "metadata": {
        "id": "FRiZSpwy5ChT"
      },
      "outputs": [],
      "source": [
        "heads, event_count = np.unique(heads_count, return_counts=True)"
      ]
    },
    {
      "cell_type": "code",
      "execution_count": 36,
      "metadata": {
        "colab": {
          "base_uri": "https://localhost:8080/"
        },
        "id": "8TEmy-_c5ChT",
        "outputId": "0ec5558e-9011-4c7f-cd4c-768d515001c2"
      },
      "outputs": [
        {
          "data": {
            "text/plain": [
              "array([0, 1, 2, 3, 4, 5])"
            ]
          },
          "execution_count": 36,
          "metadata": {},
          "output_type": "execute_result"
        }
      ],
      "source": [
        "heads"
      ]
    },
    {
      "cell_type": "code",
      "execution_count": 37,
      "metadata": {
        "colab": {
          "base_uri": "https://localhost:8080/"
        },
        "id": "Yn5wlP-A5ChU",
        "outputId": "a21f3138-a350-4dab-a284-c400bd7134c3"
      },
      "outputs": [
        {
          "data": {
            "text/plain": [
              "array([ 3126848, 15621673, 31255698, 31252414, 15620062,  3123305],\n",
              "      dtype=int64)"
            ]
          },
          "execution_count": 37,
          "metadata": {},
          "output_type": "execute_result"
        }
      ],
      "source": [
        "event_count"
      ]
    },
    {
      "cell_type": "code",
      "execution_count": 38,
      "metadata": {
        "colab": {
          "base_uri": "https://localhost:8080/"
        },
        "id": "LaBGlw-95ChU",
        "outputId": "6b572131-2b3c-4ebf-8d34-7ffe3eee6708"
      },
      "outputs": [
        {
          "data": {
            "text/plain": [
              "array([0.03126848, 0.15621673, 0.31255698, 0.31252414, 0.15620062,\n",
              "       0.03123305])"
            ]
          },
          "execution_count": 38,
          "metadata": {},
          "output_type": "execute_result"
        }
      ],
      "source": [
        "event_proba = event_count/n_experiments\n",
        "event_proba"
      ]
    },
    {
      "cell_type": "code",
      "execution_count": 39,
      "metadata": {
        "colab": {
          "base_uri": "https://localhost:8080/",
          "height": 285
        },
        "id": "ecU6IMfE5ChU",
        "outputId": "d9434f55-a4fb-4226-8a6b-7f77b0094c44"
      },
      "outputs": [
        {
          "data": {
            "image/png": "[encoded data removed]",
            "text/plain": [
              "<Figure size 432x288 with 1 Axes>"
            ]
          },
          "metadata": {
            "needs_background": "light"
          },
          "output_type": "display_data"
        }
      ],
      "source": [
        "plt.bar(heads, event_proba, color='mediumpurple')\n",
        "plt.xlabel('Heads flips (out of 5 tosses)')\n",
        "_ = plt.ylabel('Event probability')"
      ]
    },
    {
      "cell_type": "markdown",
      "metadata": {
        "id": "KwhO9Zn75ChU"
      },
      "source": [
        "Let's say we'd like to now test a coin as to whether it's fair or not. We flip it five times and all five times it comes up heads. Does this imply it's not a fair coin? Statistics arms us with tools to use the probability distribution above to answer this question with a particular degree of confidence. "
      ]
    },
    {
      "cell_type": "markdown",
      "metadata": {
        "id": "AENw26_O5ChU"
      },
      "source": [
        "**Return to slides here.**"
      ]
    },
    {
      "cell_type": "markdown",
      "metadata": {
        "id": "LMC_Cvs85ChV"
      },
      "source": [
        "### Expected Value"
      ]
    },
    {
      "cell_type": "code",
      "execution_count": 42,
      "metadata": {
        "colab": {
          "base_uri": "https://localhost:8080/"
        },
        "id": "XOyKNFZw5ChV",
        "outputId": "c4b00706-4351-4427-bff5-99e81f7e8053"
      },
      "outputs": [
        {
          "data": {
            "text/plain": [
              "[0.03125, 0.15625, 0.3125, 0.3125, 0.15625, 0.03125]"
            ]
          },
          "execution_count": 42,
          "metadata": {},
          "output_type": "execute_result"
        }
      ],
      "source": [
        "P = [coinflip_prob(5, x) for x in range(6)]\n",
        "P"
      ]
    },
    {
      "cell_type": "markdown",
      "metadata": {
        "id": "XCCclUvR5ChV"
      },
      "source": [
        "From the slides:\n",
        "$$ \\mathbb{E} = \\sum_x xP(x) $$"
      ]
    },
    {
      "cell_type": "code",
      "execution_count": 43,
      "metadata": {
        "colab": {
          "base_uri": "https://localhost:8080/"
        },
        "id": "37gjROzg5ChV",
        "outputId": "a7cd7980-ae88-4698-abe0-cfa566521d86"
      },
      "outputs": [
        {
          "data": {
            "text/plain": [
              "2.5"
            ]
          },
          "execution_count": 43,
          "metadata": {},
          "output_type": "execute_result"
        }
      ],
      "source": [
        "E = sum([P[x]*x for x in range(6)])\n",
        "E"
      ]
    },
    {
      "cell_type": "markdown",
      "metadata": {
        "id": "xOq8r0Ud5ChV"
      },
      "source": [
        "**Exercises**:\n",
        "\n",
        "1. Assuming heads = 1 and tails = 0, what’s the expected value of the toss of a fair coin? \n",
        "2. ...and of two tosses of a fair coin? \n",
        "3. You are one of a thousand people to purchase a lottery ticket. The ticket costs $10 and pays out $5000. What value should you expect from this transaction? \n"
      ]
    },
    {
      "cell_type": "markdown",
      "metadata": {
        "id": "uziVFQUR6A4x"
      },
      "source": [
        "**Spoiler Alert**: Solutions below"
      ]
    },
    {
      "cell_type": "code",
      "execution_count": null,
      "metadata": {
        "id": "vsl_1I3n5ChV"
      },
      "outputs": [],
      "source": []
    },
    {
      "cell_type": "code",
      "execution_count": null,
      "metadata": {
        "id": "sZLZtHsN5ChV"
      },
      "outputs": [],
      "source": []
    },
    {
      "cell_type": "code",
      "execution_count": null,
      "metadata": {
        "id": "q2Th7Qb-5ChW"
      },
      "outputs": [],
      "source": []
    },
    {
      "cell_type": "markdown",
      "metadata": {
        "id": "ZYyeFfVW5ChW"
      },
      "source": [
        "**Solutions**:\n",
        "\n",
        "1. (½)0 + (½)1 = 0 + ½ = ½ \n",
        "2. (¼)0 + (½)1 + (¼)2 = 0 + ½ + ½ = 1 \n",
        "\n",
        "3. \n",
        "(1/1000)(\\\\$5000-\\\\$10) + (999/1000)(-\\\\$10) \\\n",
        "= (1/1000)(\\\\$4990) + (999/1000)(-\\\\$10) \\\n",
        "= \\\\$4.99 + (\\\\$-9.99) \\\n",
        "= -\\\\$5\n"
      ]
    },
    {
      "cell_type": "markdown",
      "metadata": {
        "id": "IwCzvbE05ChW"
      },
      "source": [
        "### Measures of Central Tendency"
      ]
    },
    {
      "cell_type": "markdown",
      "metadata": {
        "id": "Nz_RAtEf5ChW"
      },
      "source": [
        "Measures of central tendency provide a summary statistic on the center of a given distribution, a.k.a., the \"average\" value of the distribution."
      ]
    },
    {
      "cell_type": "markdown",
      "metadata": {
        "id": "HrAt0oVb5ChW"
      },
      "source": [
        "#### Mean"
      ]
    },
    {
      "cell_type": "markdown",
      "metadata": {
        "id": "pCKs9uFF5ChW"
      },
      "source": [
        "The most common measure of central tendency, synonomous with the term \"average\", is the **mean**, often symbolized with $\\mu$ (population) or $\\bar{x}$ (sample):"
      ]
    },
    {
      "cell_type": "markdown",
      "metadata": {
        "id": "sBIObqs05ChW"
      },
      "source": [
        "$$ \\bar{x} = \\frac{\\sum_{i=1}^n x_i}{n} $$"
      ]
    },
    {
      "cell_type": "markdown",
      "metadata": {
        "id": "-O0hmQam5ChX"
      },
      "source": [
        "Expected value is in fact the long-term *mean* of some function (i.e., $\\mu = \\mathbb{E}$). Let's calculate how close the sample mean, $\\bar{x}$, of our five-coin-flip experiments comes to the expected value, $\\mathbb{E} = 2.5$."
      ]
    },
    {
      "cell_type": "code",
      "execution_count": 44,
      "metadata": {
        "colab": {
          "base_uri": "https://localhost:8080/"
        },
        "id": "fJY0mexL5ChX",
        "outputId": "14608989-92e0-4945-f1ec-07e3f8f1d655"
      },
      "outputs": [
        {
          "data": {
            "text/plain": [
              "100000000"
            ]
          },
          "execution_count": 44,
          "metadata": {},
          "output_type": "execute_result"
        }
      ],
      "source": [
        "len(heads_count)"
      ]
    },
    {
      "cell_type": "code",
      "execution_count": 45,
      "metadata": {
        "colab": {
          "base_uri": "https://localhost:8080/"
        },
        "id": "sU3-c-EJ5ChX",
        "outputId": "c2230a6e-4352-457e-9700-6831e5c035ef"
      },
      "outputs": [
        {
          "data": {
            "text/plain": [
              "array([3, 1, 2, 2, 1, 2, 3, 2, 3, 2, 3, 3, 3, 1, 2, 1, 2, 2, 2, 4])"
            ]
          },
          "execution_count": 45,
          "metadata": {},
          "output_type": "execute_result"
        }
      ],
      "source": [
        "heads_count[0:20]"
      ]
    },
    {
      "cell_type": "code",
      "execution_count": 46,
      "metadata": {
        "colab": {
          "base_uri": "https://localhost:8080/"
        },
        "id": "pA0ai4I45ChX",
        "outputId": "e476dd5e-2eb0-40be-9a04-1218ff02cf5d"
      },
      "outputs": [
        {
          "data": {
            "text/plain": [
              "2.49987084"
            ]
          },
          "execution_count": 46,
          "metadata": {},
          "output_type": "execute_result"
        }
      ],
      "source": [
        "sum(heads_count)/len(heads_count)"
      ]
    },
    {
      "cell_type": "markdown",
      "metadata": {
        "id": "fN9wBEb55ChX"
      },
      "source": [
        "Unsurprisingly, NumPy comes with a built-in function:"
      ]
    },
    {
      "cell_type": "code",
      "execution_count": 47,
      "metadata": {
        "colab": {
          "base_uri": "https://localhost:8080/"
        },
        "id": "OXRi9fki-5CB",
        "outputId": "b6d3446a-1e82-4909-b37f-3a8d1a219b8f"
      },
      "outputs": [
        {
          "data": {
            "text/plain": [
              "2.49987084"
            ]
          },
          "execution_count": 47,
          "metadata": {},
          "output_type": "execute_result"
        }
      ],
      "source": [
        "np.mean(heads_count)"
      ]
    },
    {
      "cell_type": "code",
      "execution_count": 48,
      "metadata": {
        "colab": {
          "base_uri": "https://localhost:8080/"
        },
        "id": "4c6p-UVK-aok",
        "outputId": "a4edc6bc-c77d-428b-fdd5-780121aaff9c"
      },
      "outputs": [
        {
          "data": {
            "text/plain": [
              "2.49987084"
            ]
          },
          "execution_count": 48,
          "metadata": {},
          "output_type": "execute_result"
        }
      ],
      "source": [
        "heads_count.mean() # fun!"
      ]
    },
    {
      "cell_type": "markdown",
      "metadata": {
        "id": "vD8bvjix5ChY"
      },
      "source": [
        "Pretty close! The law of large numbers implies that as we increase the number of experiments (e.g., to a million -- you're welcome to try it), we'll converge on $\\mathbb{E}=2.5$."
      ]
    },
    {
      "cell_type": "markdown",
      "metadata": {
        "id": "Q1qtow1O5ChY"
      },
      "source": [
        "#### Median"
      ]
    },
    {
      "cell_type": "markdown",
      "metadata": {
        "id": "4TZHQsES5ChY"
      },
      "source": [
        "The second most common measure of central tendency is the **median**, the midpoint value in the distribution: "
      ]
    },
    {
      "cell_type": "code",
      "execution_count": 49,
      "metadata": {
        "id": "Ff3aQam65ChY"
      },
      "outputs": [],
      "source": [
        "heads_count.sort()"
      ]
    },
    {
      "cell_type": "code",
      "execution_count": 50,
      "metadata": {
        "colab": {
          "base_uri": "https://localhost:8080/"
        },
        "id": "0ECSOjaA5ChY",
        "outputId": "36a903cb-c8e3-45e6-91e2-507f892a7ee4"
      },
      "outputs": [
        {
          "data": {
            "text/plain": [
              "array([0, 0, 0, 0, 0, 0, 0, 0, 0, 0, 0, 0, 0, 0, 0, 0, 0, 0, 0, 0])"
            ]
          },
          "execution_count": 50,
          "metadata": {},
          "output_type": "execute_result"
        }
      ],
      "source": [
        "heads_count[0:20]"
      ]
    },
    {
      "cell_type": "code",
      "execution_count": 51,
      "metadata": {
        "colab": {
          "base_uri": "https://localhost:8080/"
        },
        "id": "ySeyJ81I5ChY",
        "outputId": "ab23b26e-98ed-4513-e4e7-cc1c74cbde62"
      },
      "outputs": [
        {
          "data": {
            "text/plain": [
              "array([5, 5, 5, 5, 5, 5, 5, 5, 5, 5, 5, 5, 5, 5, 5, 5, 5, 5, 5, 5])"
            ]
          },
          "execution_count": 51,
          "metadata": {},
          "output_type": "execute_result"
        }
      ],
      "source": [
        "heads_count[-20:]"
      ]
    },
    {
      "cell_type": "code",
      "execution_count": 52,
      "metadata": {
        "colab": {
          "base_uri": "https://localhost:8080/"
        },
        "id": "SdeMf4RR5ChZ",
        "outputId": "cbc87b84-19b0-415c-c326-dacb0fb4ef4d"
      },
      "outputs": [
        {
          "data": {
            "text/plain": [
              "100000000"
            ]
          },
          "execution_count": 52,
          "metadata": {},
          "output_type": "execute_result"
        }
      ],
      "source": [
        "len(heads_count)"
      ]
    },
    {
      "cell_type": "markdown",
      "metadata": {
        "id": "WWfqQ4rI5ChZ"
      },
      "source": [
        "With an odd number of values in a distribution, we consider the single midpoint to be the median, e.g., the midpoint of the sorted array `[2, 4, 6, 9, 10]` is six.\n",
        "\n",
        "With an even number, we take the mean of the two values that straddle the midpoint: "
      ]
    },
    {
      "cell_type": "code",
      "execution_count": 53,
      "metadata": {
        "colab": {
          "base_uri": "https://localhost:8080/"
        },
        "id": "xQPz0RT45ChZ",
        "outputId": "d8eacfe5-cc2b-44ef-8f5a-5da36f03ff0a"
      },
      "outputs": [
        {
          "data": {
            "text/plain": [
              "0"
            ]
          },
          "execution_count": 53,
          "metadata": {},
          "output_type": "execute_result"
        }
      ],
      "source": [
        "heads_count[499]"
      ]
    },
    {
      "cell_type": "code",
      "execution_count": 54,
      "metadata": {
        "colab": {
          "base_uri": "https://localhost:8080/"
        },
        "id": "RavYR6JX5ChZ",
        "outputId": "a5ea31d2-5faa-43b5-f5b9-87c920a56ce8"
      },
      "outputs": [
        {
          "data": {
            "text/plain": [
              "0"
            ]
          },
          "execution_count": 54,
          "metadata": {},
          "output_type": "execute_result"
        }
      ],
      "source": [
        "heads_count[500]"
      ]
    },
    {
      "cell_type": "markdown",
      "metadata": {
        "id": "o7CLGD4z5ChZ"
      },
      "source": [
        "...which in this case is obviously three: "
      ]
    },
    {
      "cell_type": "code",
      "execution_count": 55,
      "metadata": {
        "colab": {
          "base_uri": "https://localhost:8080/"
        },
        "id": "MZ6cEUJ25ChZ",
        "outputId": "bf560ac7-2829-4ef5-9066-c76df108d94a"
      },
      "outputs": [
        {
          "data": {
            "text/plain": [
              "3.0"
            ]
          },
          "execution_count": 55,
          "metadata": {},
          "output_type": "execute_result"
        }
      ],
      "source": [
        "(3+3)/2"
      ]
    },
    {
      "cell_type": "markdown",
      "metadata": {
        "id": "udtzZf_X5Cha"
      },
      "source": [
        "Built-in method:"
      ]
    },
    {
      "cell_type": "code",
      "execution_count": 56,
      "metadata": {
        "colab": {
          "base_uri": "https://localhost:8080/"
        },
        "id": "dxxtSiCp5Cha",
        "outputId": "1d742957-f9a2-4c59-f5a5-da1e9b1b7506"
      },
      "outputs": [
        {
          "data": {
            "text/plain": [
              "2.0"
            ]
          },
          "execution_count": 56,
          "metadata": {},
          "output_type": "execute_result"
        }
      ],
      "source": [
        "np.median(heads_count)"
      ]
    },
    {
      "cell_type": "markdown",
      "metadata": {
        "id": "k3Fv1AMu5Cha"
      },
      "source": [
        "#### Mode"
      ]
    },
    {
      "cell_type": "markdown",
      "metadata": {
        "id": "RiUTOi3U5Cha"
      },
      "source": [
        "The **mode** is the final common measure of central tendency. It is simply the value in the distribution that occurs most frequently.\n",
        "\n",
        "As is clear in the most recently output chart, in the case of our five-coin-toss experiment, the mode is three. "
      ]
    },
    {
      "cell_type": "markdown",
      "metadata": {
        "id": "ukKeQScV5Cha"
      },
      "source": [
        "Method available in the SciPy `stats` module:"
      ]
    },
    {
      "cell_type": "code",
      "execution_count": 57,
      "metadata": {
        "colab": {
          "base_uri": "https://localhost:8080/"
        },
        "id": "FPrHiYh65Cha",
        "outputId": "c78a4daa-74ed-44db-9f6e-75fd69304e06"
      },
      "outputs": [
        {
          "data": {
            "text/plain": [
              "ModeResult(mode=array([2]), count=array([31255698]))"
            ]
          },
          "execution_count": 57,
          "metadata": {},
          "output_type": "execute_result"
        }
      ],
      "source": [
        "st.mode(heads_count)"
      ]
    },
    {
      "cell_type": "code",
      "execution_count": 58,
      "metadata": {
        "colab": {
          "base_uri": "https://localhost:8080/"
        },
        "id": "PFUn0iJX5Chb",
        "outputId": "59f138f3-f4df-4a16-c736-98b083db5719"
      },
      "outputs": [
        {
          "data": {
            "text/plain": [
              "2"
            ]
          },
          "execution_count": 58,
          "metadata": {},
          "output_type": "execute_result"
        }
      ],
      "source": [
        "st.mode(heads_count)[0][0]"
      ]
    },
    {
      "cell_type": "markdown",
      "metadata": {
        "id": "36qtYyry5Chb"
      },
      "source": [
        "With small sample sizes, the mean typically provides the most accurate measure of central tendency.\n",
        "\n",
        "With larger sample sizes, the mean, median, and mode will tend to coincide, as long as the distribution isn't skewed: "
      ]
    },
    {
      "cell_type": "code",
      "execution_count": 63,
      "metadata": {
        "id": "NcU6qKo35Chb"
      },
      "outputs": [
        {
          "data": {
            "text/plain": [
              "array([ 2.73825177e-01,  5.77445067e-01, -5.93451466e-01,  3.02680638e-01,\n",
              "       -7.11721431e-01,  1.29439806e+00, -1.29672196e+00,  1.15889095e+00,\n",
              "        1.12925447e+00, -1.26369882e+00, -7.26304283e-01, -1.73903870e+00,\n",
              "       -4.11037524e-01, -3.53909474e-01, -2.50564428e+00, -1.19034694e+00,\n",
              "       -1.56714281e+00, -4.84352213e-01, -6.71794844e-02, -7.58152404e-01,\n",
              "        7.00673108e-02,  1.55018154e-01,  6.74434014e-01,  1.70416444e+00,\n",
              "       -3.02338389e-01, -1.49324044e+00, -3.25610478e-01, -8.92146169e-01,\n",
              "        1.63022383e+00, -1.78930899e+00,  1.60844918e+00, -1.40443065e+00,\n",
              "       -2.90225007e+00, -6.88562358e-01,  4.51385695e-01, -1.16707324e+00,\n",
              "       -6.53738926e-02, -3.99512326e-01,  5.65528702e-01,  1.76953830e+00,\n",
              "       -3.78390929e-01, -4.41917255e-01, -1.29517744e+00,  8.97548402e-01,\n",
              "       -3.05471285e-01,  3.87675783e-01,  1.17022448e+00,  1.43352515e-02,\n",
              "       -2.02041531e+00, -3.83325450e-01, -1.62073334e+00,  1.26935977e+00,\n",
              "       -1.24813018e+00, -1.52982612e-01,  1.46214058e+00, -1.31531981e+00,\n",
              "       -5.89718443e-01, -1.79128636e+00,  4.65141443e-01,  1.33150159e-01,\n",
              "        1.77095700e-01,  4.64026281e-01,  1.22565886e+00, -1.12142315e+00,\n",
              "       -5.83353526e-01, -8.78670229e-01, -3.13227365e-01,  6.25453020e-01,\n",
              "       -8.47958455e-02,  1.24309351e+00,  9.91741273e-01,  3.92147252e-01,\n",
              "       -2.08959705e+00, -9.78253427e-01, -1.11926494e+00, -1.09726311e+00,\n",
              "        1.37714791e+00, -7.64117189e-01, -1.27273606e+00,  1.68251894e-01,\n",
              "        3.73602409e-01, -9.21226308e-02, -1.51011426e+00, -2.78113313e-01,\n",
              "        7.01677831e-01, -1.30051978e-01, -1.31903249e+00, -1.45759897e+00,\n",
              "        1.44702554e+00, -2.28426196e+00, -6.56415240e-01,  3.72766381e-01,\n",
              "        9.01823318e-01, -2.95286556e-01, -7.40239375e-01, -1.37889721e-01,\n",
              "       -4.31464992e-02,  9.47106522e-01, -7.83745675e-01,  6.94355617e-01,\n",
              "       -7.09803177e-01,  6.96712037e-01, -3.47249445e-01,  8.22246812e-01,\n",
              "        2.50096420e-01,  9.84859424e-01, -7.29817309e-02, -3.00962801e+00,\n",
              "       -1.43723789e+00,  7.26993074e-01, -1.41037965e-01,  2.55487015e-01,\n",
              "       -1.37442236e+00, -1.62290798e-02, -1.28347774e+00, -8.34340753e-01,\n",
              "        1.83734449e-01, -4.22712024e-01,  2.38979741e-01, -3.91144372e-02,\n",
              "       -5.52405660e-01, -2.26302234e+00, -5.14504481e-01,  9.44139634e-02,\n",
              "        4.56907411e-02, -1.31081008e+00,  8.41456423e-01,  7.26202608e-02,\n",
              "       -1.43125827e-01,  2.20346581e+00, -2.43859318e-01, -2.23883752e-01,\n",
              "        4.09642589e-01, -3.25838501e-01, -1.28594727e+00, -1.14552573e+00,\n",
              "        4.13092399e-01, -5.51919228e-01,  5.80920690e-01,  3.75950375e-01,\n",
              "       -5.63393839e-01,  5.93909580e-01, -5.72359231e-01, -3.27833855e-01,\n",
              "       -1.01787974e-01,  7.06362127e-01, -1.29215930e+00, -8.03905283e-01,\n",
              "       -2.00010240e+00,  9.78066507e-01,  2.21531485e+00, -5.46379036e-02,\n",
              "       -1.03689246e+00, -5.03312179e-01,  1.48531026e-01,  1.20366089e+00,\n",
              "        1.17228487e+00,  2.50661407e-01,  6.47543323e-01, -2.67766527e-01,\n",
              "       -1.08769614e+00,  1.76372892e+00, -3.71778381e-01,  7.39296292e-01,\n",
              "       -5.64160834e-02,  9.75123507e-01,  1.86996225e+00, -1.20759794e+00,\n",
              "       -1.10168623e+00,  1.08528504e+00,  1.19240770e+00,  9.13284996e-01,\n",
              "        8.87352117e-01, -1.11095350e+00, -2.04694018e-01,  8.17477356e-01,\n",
              "       -1.02340385e+00,  1.03055687e+00,  2.35007047e-01, -1.94727280e+00,\n",
              "        1.44045106e+00,  1.15240580e+00,  5.61108194e-01, -6.24969328e-01,\n",
              "        4.21759260e-01,  4.80946060e-01,  1.82573186e-01, -3.23513265e-01,\n",
              "        5.43688781e-01,  2.33144630e-01, -5.54318708e-01, -1.16656264e+00,\n",
              "       -3.47014140e-02,  8.86285521e-01, -9.59907367e-02,  4.80288631e-01,\n",
              "       -6.52896363e-01, -1.70675135e+00,  9.06996658e-01, -1.39147241e+00,\n",
              "        8.38835240e-01, -1.22577756e+00,  5.12162594e-01,  1.05820989e-01,\n",
              "        2.26314223e-01, -6.83628961e-03, -1.23367641e+00,  6.17880248e-01,\n",
              "       -2.69043783e-01, -1.56123039e+00,  3.03833039e-01, -8.59171581e-01,\n",
              "       -1.35742501e+00,  1.19516582e+00, -2.95264633e-02,  4.84030288e-01,\n",
              "       -1.19736713e+00, -1.19745337e+00, -7.59312051e-01,  3.07054450e-01,\n",
              "        4.50763257e-01, -1.14506948e+00,  6.25411830e-01,  1.22990622e+00,\n",
              "       -5.96196030e-01, -2.13964510e-01,  1.30304667e+00, -1.24380358e+00,\n",
              "       -1.37403511e+00,  1.41939461e+00,  7.83751115e-01,  7.31855274e-01,\n",
              "        1.06291624e-01, -6.58886344e-02,  9.26335751e-01,  1.35623151e-01,\n",
              "       -7.34569146e-01, -1.12574836e-01,  6.46665763e-01, -2.89768084e-01,\n",
              "       -1.08943409e+00,  2.70736481e-01, -2.67392863e-02, -4.26139055e-03,\n",
              "        4.75733363e-01, -3.42600033e-01,  8.08117423e-01,  1.66040224e+00,\n",
              "        9.86192092e-02, -1.84314102e+00, -2.93082642e-02,  7.69882760e-01,\n",
              "        1.08225766e+00,  1.43550295e+00,  1.91274133e-01,  1.00051265e+00,\n",
              "        1.65161404e-01,  1.22011713e+00,  1.70919162e+00,  1.79372601e-01,\n",
              "        3.81045956e-01, -1.00302483e+00,  1.21589907e+00,  5.73758684e-01,\n",
              "        1.34262955e+00, -1.94092157e-01, -9.51100996e-01,  1.62887856e+00,\n",
              "       -1.44137942e+00, -4.95405397e-01,  3.48777434e-01,  1.35847608e+00,\n",
              "        7.35325085e-01, -5.85778499e-01,  2.05734062e-01, -7.93844077e-01,\n",
              "        1.08538235e+00, -2.74909202e+00, -7.88063758e-02,  4.24049011e-01,\n",
              "        7.26217766e-01,  6.60261551e-01,  1.65874090e-01, -1.87723390e+00,\n",
              "        7.19446605e-01, -5.94466511e-01,  1.40932072e+00,  4.52174666e-01,\n",
              "       -1.32778614e+00, -5.38828852e-01, -2.92449830e-01, -1.27132614e+00,\n",
              "        1.48409196e-01, -1.61492746e-01,  3.52069743e-01, -1.77797497e-01,\n",
              "        2.61050361e-01,  7.22980435e-01,  1.30202606e+00, -2.87834212e-01,\n",
              "       -2.60034462e-02, -4.20121259e-01, -6.34395692e-01, -7.10077210e-01,\n",
              "       -4.37083772e-01, -2.77657544e-01,  9.54280944e-01, -5.25335581e-01,\n",
              "        3.90841663e-01,  2.30991810e-01, -2.02107767e-01,  9.14344616e-01,\n",
              "       -6.49441132e-01, -2.16754253e-01,  1.29064381e+00,  2.34328937e-01,\n",
              "        4.38170040e-01,  3.87570002e-01, -1.02198457e+00,  4.66238766e-01,\n",
              "       -6.38171036e-01, -3.54604477e-01,  7.75434913e-01,  6.98085972e-03,\n",
              "        1.01601777e+00, -2.03745522e-01,  8.70172778e-01, -6.54716052e-02,\n",
              "        8.64834601e-01,  7.83843318e-01, -2.76286858e-02,  1.51109071e+00,\n",
              "        2.11542661e-01,  3.99400244e-02, -1.79193318e+00, -1.47055520e-01,\n",
              "       -2.77807013e-01, -2.41382631e-01, -2.36942289e-01,  1.48258014e-01,\n",
              "        8.35968722e-02,  1.15816316e+00,  6.59547478e-02,  1.63644261e+00,\n",
              "        1.36399948e+00, -4.58478452e-01, -6.38599099e-01, -7.58119706e-01,\n",
              "        6.25649785e-01, -1.69559981e+00, -9.30067275e-01, -1.39525633e+00,\n",
              "        4.78694932e-01,  3.50165978e-01,  1.20805883e-01, -1.91193321e+00,\n",
              "        8.21587453e-01, -7.74042811e-02, -5.30384417e-01, -3.00061642e-01,\n",
              "        2.29182865e+00, -1.60182503e+00, -1.13116315e+00, -4.27877539e-02,\n",
              "       -1.13805885e+00,  1.79614016e-01,  8.82166231e-01,  7.03871085e-01,\n",
              "        2.53294459e+00, -8.74953345e-01,  2.43473593e-01,  1.45216800e+00,\n",
              "       -1.34527070e-01, -5.87130112e-01, -2.60455779e+00,  7.70104529e-01,\n",
              "       -1.46231556e+00, -9.53420220e-01,  6.90399065e-01, -1.11170949e+00,\n",
              "        1.31647107e+00,  4.62858624e-01, -8.76920476e-01, -6.24866996e-01,\n",
              "       -5.64762566e-01, -9.12304015e-01, -1.48087944e+00, -1.31666246e+00,\n",
              "        5.66568686e-01, -1.66590841e-01, -7.23374153e-01, -1.20549445e+00,\n",
              "        9.30533046e-01, -3.03212186e-02,  4.82568579e-01, -1.45203720e+00,\n",
              "        1.45898551e-01, -2.38363556e-01, -4.89575523e-01, -1.90079392e-01,\n",
              "        3.40856593e-01, -7.48213425e-01, -3.23424481e-01,  3.69909481e-02,\n",
              "       -1.13952870e+00, -8.94789166e-01, -3.37934092e-01, -1.35277282e+00,\n",
              "        2.67526686e-02,  1.59840339e+00,  3.30784455e-01,  4.30112041e-01,\n",
              "       -9.74378428e-01,  8.28989802e-01, -8.34882981e-01, -3.80818434e-01,\n",
              "       -1.44309735e-01, -2.60209303e-01, -5.05951703e-01,  1.55747562e+00,\n",
              "        4.64760726e-01,  1.42252742e-01,  1.68523784e+00,  5.05759572e-01,\n",
              "       -1.02736593e+00,  3.79413487e-01,  1.62827471e-01,  1.74751811e-01,\n",
              "       -2.53297487e-01,  7.59048414e-01, -1.79354344e+00,  3.81059753e-02,\n",
              "       -1.34525109e+00,  1.02491050e+00, -9.57330881e-01,  1.16961281e+00,\n",
              "        8.75862305e-01, -7.15955708e-03,  7.00603545e-01, -1.22364964e+00,\n",
              "        7.00492757e-01,  1.44240886e+00, -1.36422703e+00, -3.74866111e-01,\n",
              "       -7.53255402e-01, -5.58571259e-01,  8.89759926e-01,  1.37322465e-01,\n",
              "        1.41478530e+00,  3.89910287e-01,  4.03419937e-01,  8.91977093e-01,\n",
              "       -7.84015834e-01, -4.10501292e-01, -3.26979562e-01,  1.84210552e+00,\n",
              "        4.14854351e-02, -4.48281105e-01, -3.88510782e-01,  6.82146376e-01,\n",
              "        1.30557797e+00, -8.06753079e-04, -4.40982201e-01,  2.27812984e+00,\n",
              "        6.14261768e-01, -8.78259600e-02,  6.88157414e-01,  2.82129526e-01,\n",
              "       -9.94111283e-01, -1.65889831e+00,  1.24928314e+00,  1.74336841e-01,\n",
              "       -6.53106657e-01,  1.01396172e+00, -6.82416719e-01,  6.39521754e-01,\n",
              "       -5.97320910e-01, -4.25481834e-01, -5.06126289e-01, -1.33699779e+00,\n",
              "        5.42142748e-01,  2.04886458e+00, -2.87745510e-01, -1.50089308e+00,\n",
              "        8.67435623e-02,  3.22464612e-01,  1.02315464e+00,  5.53670524e-01,\n",
              "        1.54944965e-01, -4.76302971e-01, -1.07840503e+00, -1.99039606e-01,\n",
              "       -6.02322329e-01,  3.76239110e-01, -1.32311238e+00,  1.36486762e+00,\n",
              "       -6.06353825e-01,  9.62532842e-01, -8.60928708e-01,  1.19943866e+00,\n",
              "        8.73093864e-01, -4.10046185e-02,  2.17980180e-01,  8.12665435e-01,\n",
              "        8.26050518e-01, -1.00600392e+00, -4.77205233e-01, -1.43043122e-01,\n",
              "        1.96714012e+00, -8.65919610e-01,  1.81116177e-01, -4.85136014e-01,\n",
              "        1.31423149e+00,  7.97847141e-01, -1.57469383e-01, -4.25448512e-01,\n",
              "        7.76672068e-01, -1.19556913e+00, -1.43328472e+00, -6.10533331e-01,\n",
              "       -6.50120769e-01, -1.64856492e+00,  3.34158738e-01,  3.89642213e-01,\n",
              "        4.83659113e-01, -1.57038276e+00, -5.55558579e-01,  1.74487769e+00,\n",
              "        1.88954114e-01, -1.42717090e+00,  1.14617656e+00,  1.36807309e+00,\n",
              "        1.24768603e-01, -5.48818833e-01, -6.17750349e-01,  1.86428760e-01,\n",
              "        1.44348180e+00, -5.85980538e-01, -7.31105932e-01, -8.63864223e-03,\n",
              "       -5.94848043e-01, -1.04476721e+00, -3.52115518e-01,  1.02561899e+00,\n",
              "        4.18209482e-01,  1.56483403e+00,  1.55190026e-01, -9.04916832e-01,\n",
              "       -1.35875721e+00, -4.79529327e-01,  8.86524974e-01,  8.60283089e-01,\n",
              "        3.59926343e-01,  1.37036895e+00, -1.80785535e+00,  8.56829030e-01,\n",
              "        1.56067034e+00,  1.30048339e-01,  1.71418503e+00, -3.01142398e-01,\n",
              "       -1.06600415e+00, -8.82754382e-01, -1.23891961e+00, -2.68185963e-01,\n",
              "        1.09494968e+00,  5.19048288e-01, -4.45401072e-01, -3.44896009e-01,\n",
              "       -8.87706036e-01,  1.43956433e-01, -1.41561177e+00,  2.26207288e-01,\n",
              "        7.61146287e-01,  1.54594170e-01,  6.68371949e-02,  1.50745931e+00,\n",
              "       -1.05280591e+00, -9.73409607e-01, -6.55302668e-01, -6.02680695e-01,\n",
              "       -1.22102977e+00,  4.97528358e-01,  5.42972333e-01,  3.09208972e-01,\n",
              "        5.98120266e-01, -3.68822283e-01,  4.46170241e-01, -9.22318530e-02,\n",
              "        8.09275130e-01, -7.52807029e-01, -8.09775054e-01,  1.11685850e+00,\n",
              "       -3.50544778e-01,  1.29399684e+00, -1.78381155e+00, -1.15400382e-01,\n",
              "        3.24851955e-02, -4.60024019e-01, -7.84072759e-01, -2.04575704e-01,\n",
              "       -1.76478611e-01, -1.37236438e+00, -9.28235226e-01,  3.60867687e-01,\n",
              "       -1.34955189e+00, -3.04602649e-01,  1.99497832e-01,  3.44668822e-01,\n",
              "       -7.44321752e-01, -1.47423142e+00, -1.03728209e-01, -1.10729542e-01,\n",
              "       -9.09698172e-01, -1.29980556e+00, -3.77370215e-01,  7.84343990e-01,\n",
              "        3.58137741e-01,  6.60054673e-02, -7.91844559e-01,  8.43653318e-01,\n",
              "       -6.61072204e-01, -8.89334757e-01, -8.45801277e-01,  1.71747777e-01,\n",
              "        8.41688411e-01, -2.21057196e-01,  9.55391107e-01, -7.75308566e-01,\n",
              "        8.75897737e-01, -4.24958488e-01,  8.34403072e-01,  1.32349239e+00,\n",
              "        2.00228511e+00,  8.41402937e-02, -2.79741989e-01, -1.97571056e-01,\n",
              "        4.46758776e-01,  5.52213895e-01,  9.33656986e-01,  1.42572141e+00,\n",
              "        2.50826638e-01, -1.00002734e+00, -2.59125693e-01, -1.31653784e-01,\n",
              "        2.38798155e-01,  5.82023163e-01,  1.52754076e+00, -9.44202394e-01,\n",
              "        1.51236352e+00, -4.98987417e-01, -6.63587567e-01,  1.02203276e+00,\n",
              "       -3.76505123e-01, -2.06494555e+00,  2.67289815e-01,  1.98414044e+00,\n",
              "        1.91902336e-01,  6.51127944e-01,  1.94825389e-01, -1.35188088e+00,\n",
              "       -3.22132151e-01,  4.60046322e-02,  1.46923275e+00, -1.15579498e+00,\n",
              "       -7.33156807e-01, -1.27769436e+00,  3.58739015e-01,  2.71114300e-01,\n",
              "       -4.57849237e-01, -8.29835595e-01, -1.31488630e+00, -1.47377229e+00,\n",
              "       -1.66678303e-02,  9.96298711e-02, -1.94131271e+00,  1.75439293e+00,\n",
              "        2.51207002e-01, -8.02395520e-01,  1.31475853e-01, -5.10036238e-01,\n",
              "       -7.76907312e-01, -1.16656883e-01,  1.00304588e+00, -3.30867516e-01,\n",
              "       -7.85431770e-01,  2.08363408e-01,  7.73671153e-01,  3.13211796e-01,\n",
              "       -1.38269187e+00,  3.17448854e-01,  1.50723886e-01,  1.44114899e+00,\n",
              "       -1.12591398e+00, -5.71001869e-01, -4.25082553e-03, -1.56686727e-01,\n",
              "       -2.77983409e+00,  1.18736086e+00,  1.08877421e+00,  4.46808562e-01,\n",
              "       -7.36319588e-01, -4.88711063e-01,  4.31132429e-02,  3.13317094e-01,\n",
              "       -2.35456320e+00,  8.63286308e-01, -1.58055294e-01, -1.21245343e+00,\n",
              "       -7.33801493e-01, -8.74163289e-01,  5.50682988e-01,  1.64125458e+00,\n",
              "        2.03733719e+00, -1.55853425e+00,  1.61391435e+00,  5.55852837e-01,\n",
              "       -5.94995908e-02,  1.96858240e-01, -1.19755910e-01, -1.00330443e+00,\n",
              "       -1.56834879e+00,  2.27588875e-02, -1.35894447e-01, -2.01631047e+00,\n",
              "       -2.01934007e-02, -2.94198192e-01, -3.87001025e-01, -1.85775032e+00,\n",
              "        9.38163985e-01, -4.60341181e-01, -1.05895913e+00, -4.32398018e-02,\n",
              "       -2.93120695e-01, -3.26782441e-02,  2.41726894e+00,  7.76382532e-02,\n",
              "       -8.52223964e-01, -1.17633741e+00, -1.13515553e+00, -1.10839257e+00,\n",
              "        9.15967145e-01,  1.74020074e+00,  4.98996220e-01,  2.03881264e-01,\n",
              "       -4.50567537e-01,  6.17262669e-01,  8.92326665e-01,  1.48257628e+00,\n",
              "        3.92751702e-01,  1.79428573e-01, -2.09862128e-01, -1.59748848e+00,\n",
              "       -8.03944358e-01,  1.21878019e+00, -1.13968672e+00,  5.37139423e-01,\n",
              "       -8.35161058e-01, -7.55190162e-02, -1.28075060e+00, -2.27757936e-02,\n",
              "       -1.62240683e+00,  3.36664466e-01, -1.08444118e+00,  5.63430975e-02,\n",
              "        2.39268568e+00, -6.65995714e-01, -1.11588121e+00,  1.08455095e+00,\n",
              "       -2.44891140e+00, -1.21624015e-01, -1.45974741e+00,  9.20311418e-01,\n",
              "        5.01764676e-02, -2.98622149e-02, -8.46001536e-01,  2.86489712e-01,\n",
              "        1.72124839e+00,  6.28095933e-02,  3.94721417e-01, -3.09748274e-01,\n",
              "       -2.61315022e-01, -1.24790452e+00, -3.36504349e-01, -7.21593387e-01,\n",
              "       -7.12564230e-01, -7.71722664e-01,  2.51880769e+00, -1.04513315e+00,\n",
              "       -7.34162528e-01,  4.85452067e-01, -3.06417914e-01, -6.52823099e-01,\n",
              "        1.43590214e+00,  1.14309812e+00,  8.63970554e-01, -3.90445727e-01,\n",
              "       -1.72824129e+00,  5.13291141e-01,  1.70621792e+00,  1.02980460e-01,\n",
              "       -3.57580725e-01,  3.95958482e-01, -1.03966294e+00, -1.98845361e+00,\n",
              "        1.43595954e+00, -4.84635704e-02,  5.82895930e-01, -1.45998033e-01,\n",
              "        7.87967658e-01, -1.87047220e+00, -2.04871850e-01, -2.03225088e-01,\n",
              "        1.12272806e-01,  1.47193717e-01,  6.62067185e-01, -5.60605713e-01,\n",
              "        2.81219115e+00,  4.07248105e-01, -7.51780043e-01,  1.49961088e+00,\n",
              "        8.79187868e-01, -4.80718294e-01, -6.14156735e-01, -1.05515766e+00,\n",
              "       -1.65304624e-01,  5.43391333e-02,  1.11257801e+00, -6.20707556e-01,\n",
              "        1.49285326e-01,  4.56693217e-01,  2.12070829e-01, -8.44580537e-01,\n",
              "        5.21691313e-01,  8.82042253e-01,  2.48687639e-01,  1.48958716e+00,\n",
              "       -1.41712575e-01,  6.54540588e-01, -1.64909834e+00, -7.16085704e-02,\n",
              "       -8.64941827e-01, -1.25819097e+00,  1.04203516e+00,  1.14711308e+00,\n",
              "        1.56685152e+00, -5.27066898e-01, -7.22157079e-01,  6.38035606e-01,\n",
              "       -2.05309533e-01,  6.90070919e-01,  1.04822268e+00, -1.50596772e-01,\n",
              "        1.20222611e+00, -4.53652626e-01, -1.86780290e-01, -8.84950950e-01,\n",
              "       -3.37638897e-01,  9.76604975e-01, -6.99927221e-01,  4.72049623e-01,\n",
              "       -3.98706567e-01,  3.10425231e-01,  4.21537525e-01,  1.02816876e+00,\n",
              "       -2.65336452e-01, -1.21435491e+00,  1.30857237e+00,  1.84084235e+00,\n",
              "       -5.58280719e-01,  4.74430870e-01,  1.85515443e-01,  3.87008607e-01,\n",
              "        4.75356381e-04,  1.06602822e+00, -3.71497304e-01,  1.03555321e+00,\n",
              "        7.00612587e-02, -8.12880934e-01, -9.13565028e-01, -8.65090276e-01,\n",
              "       -8.98694658e-01, -9.18483937e-01, -1.33993240e+00,  3.67382346e-01,\n",
              "        8.00048169e-01, -6.80180413e-01, -3.23832585e-01,  2.07252425e-01,\n",
              "       -8.38469917e-01,  1.35202186e+00, -2.60420893e-01, -3.09415445e-01,\n",
              "       -3.89798181e-01, -6.18225555e-01, -8.51313691e-01,  8.02228874e-01,\n",
              "       -5.31079039e-01, -2.01115895e-01,  1.82621140e-02,  2.05510775e-02,\n",
              "        1.00672242e+00,  7.05519165e-01, -1.04740982e+00, -1.40393420e+00,\n",
              "       -6.86846589e-01,  8.17558007e-01, -2.32902106e+00, -5.78680746e-01,\n",
              "       -8.95509382e-01,  1.40908678e+00,  4.03297963e-01, -5.87379831e-01,\n",
              "       -2.22581896e-01,  1.66052664e+00,  6.94676711e-02, -6.68257663e-01,\n",
              "       -1.43023083e+00,  1.72228153e+00,  2.47694518e+00,  3.10682700e-01,\n",
              "       -1.79092933e-01,  1.43899840e+00, -4.52367158e-01,  8.38158071e-01,\n",
              "        1.24515337e+00,  1.01084906e+00,  5.67285711e-01, -4.02652407e-01,\n",
              "       -4.15252621e-01,  1.90979705e-01, -1.33619555e+00,  1.26085356e-01,\n",
              "        8.07109831e-01,  4.17019725e-01,  5.60524424e-01,  6.06564483e-01,\n",
              "        2.91556213e+00, -5.78798456e-01,  2.23868966e+00,  1.36331967e+00,\n",
              "       -4.74723215e-01, -1.48209187e+00,  3.88319408e-01,  1.09050402e+00,\n",
              "       -4.17313757e-01,  7.68195365e-01, -1.02143849e+00, -1.99778808e+00,\n",
              "        2.33425581e+00,  1.17046396e-01,  9.74044351e-01,  3.06056992e-01,\n",
              "       -5.09077196e-01,  4.03655718e-01,  9.20046257e-01,  6.43404790e-01,\n",
              "       -1.65485805e+00, -1.04759029e+00,  1.87262331e-01,  4.11640691e-01,\n",
              "       -1.00561438e+00, -2.31479679e-01, -8.32812438e-01,  1.22139513e+00,\n",
              "        1.25306504e+00, -2.61225126e+00,  7.52074054e-01, -1.56722101e+00,\n",
              "        4.67199245e-02,  9.55972249e-01, -1.28776586e+00,  6.75759346e-01,\n",
              "        2.87570980e-01,  1.10566274e+00,  2.57824915e+00,  4.64843441e-01,\n",
              "       -4.84491877e-01, -7.07875054e-01, -9.24330473e-01, -1.79741610e+00,\n",
              "        4.69109721e-01,  3.91686204e-02,  5.09312624e-01, -1.29944021e+00,\n",
              "       -1.09270633e+00,  7.75028031e-01, -5.39289219e-01,  4.71712129e-01,\n",
              "        3.99688191e-01, -5.10481155e-01,  6.75754279e-01, -1.16146960e+00,\n",
              "       -1.43356460e+00,  1.98778280e+00, -6.63886273e-01,  1.17385110e+00,\n",
              "        7.52524857e-02, -6.06222719e-01, -7.69823052e-02, -7.58684545e-02])"
            ]
          },
          "execution_count": 63,
          "metadata": {},
          "output_type": "execute_result"
        }
      ],
      "source": [
        "x = st.skewnorm.rvs(0, size=1000)\n",
        "x # first argument is \"skewness\"; 0 has no skew"
      ]
    },
    {
      "cell_type": "code",
      "execution_count": 60,
      "metadata": {
        "colab": {
          "base_uri": "https://localhost:8080/",
          "height": 268
        },
        "id": "c13nv_wO5Chb",
        "outputId": "d7207523-cbe5-4a1f-9f26-231f6a90cfbd"
      },
      "outputs": [
        {
          "data": {
            "image/png": "[encoded data removed]",
            "text/plain": [
              "<Figure size 432x288 with 1 Axes>"
            ]
          },
          "metadata": {
            "needs_background": "light"
          },
          "output_type": "display_data"
        }
      ],
      "source": [
        "fig, ax = plt.subplots()\n",
        "plt.axvline(x = np.mean(x), color='orange')\n",
        "plt.axvline(x = np.median(x), color='green')\n",
        "_ = plt.hist(x, color = 'lightgray')\n",
        "# Note: Mode typically only applies to PMFs; this is a PDF"
      ]
    },
    {
      "cell_type": "markdown",
      "metadata": {
        "id": "EdRT_Lme5Chb"
      },
      "source": [
        "Skewed distributions, in contrast, drag the mean away from the center and toward the tail: "
      ]
    },
    {
      "cell_type": "code",
      "execution_count": 64,
      "metadata": {
        "id": "85C_EFZZ5Chb"
      },
      "outputs": [],
      "source": [
        "x = st.skewnorm.rvs(10, size=1000) "
      ]
    },
    {
      "cell_type": "code",
      "execution_count": 65,
      "metadata": {
        "colab": {
          "base_uri": "https://localhost:8080/",
          "height": 268
        },
        "id": "pT0zxSPd5Chb",
        "outputId": "70cdec46-3bf2-4d3e-bc04-45c3d1a0b9ff"
      },
      "outputs": [
        {
          "data": {
            "image/png": "[encoded data removed]",
            "text/plain": [
              "<Figure size 432x288 with 1 Axes>"
            ]
          },
          "metadata": {
            "needs_background": "light"
          },
          "output_type": "display_data"
        }
      ],
      "source": [
        "fig, ax = plt.subplots()\n",
        "plt.axvline(x = np.mean(x), color='orange')\n",
        "_ = plt.hist(x, color = 'lightgray')"
      ]
    },
    {
      "cell_type": "markdown",
      "metadata": {
        "id": "-uDxp8YT5Chc"
      },
      "source": [
        "The mode is least impacted by skew, but is only applicable to discrete distributions. For continuous distributions with skew (e.g., salary data), median is typically the choice measure of central tendency:"
      ]
    },
    {
      "cell_type": "code",
      "execution_count": 66,
      "metadata": {
        "colab": {
          "base_uri": "https://localhost:8080/",
          "height": 268
        },
        "id": "zzrBO1fg5Chc",
        "outputId": "656c2b2b-5364-45d0-c506-8853850654d3"
      },
      "outputs": [
        {
          "data": {
            "image/png": "[encoded data removed]",
            "text/plain": [
              "<Figure size 432x288 with 1 Axes>"
            ]
          },
          "metadata": {
            "needs_background": "light"
          },
          "output_type": "display_data"
        }
      ],
      "source": [
        "fig, ax = plt.subplots()\n",
        "plt.axvline(x = np.mean(x), color='orange')\n",
        "plt.axvline(x = np.median(x), color='green')\n",
        "_ = plt.hist(x, color = 'lightgray')"
      ]
    },
    {
      "cell_type": "markdown",
      "metadata": {
        "id": "RRr8oPbC5Chc"
      },
      "source": [
        "### Quantiles"
      ]
    },
    {
      "cell_type": "markdown",
      "metadata": {
        "id": "Sorh-6kS5Chc"
      },
      "source": [
        "The median, which divides a distribution in two at its midpoint, is the most well-known example of a quantile:"
      ]
    },
    {
      "cell_type": "code",
      "execution_count": 67,
      "metadata": {
        "colab": {
          "base_uri": "https://localhost:8080/"
        },
        "id": "CZfX5qP95Chc",
        "outputId": "34fb02f2-be04-47d8-d466-b8826d9fcda8"
      },
      "outputs": [
        {
          "data": {
            "text/plain": [
              "0.7230843037831725"
            ]
          },
          "execution_count": 67,
          "metadata": {},
          "output_type": "execute_result"
        }
      ],
      "source": [
        "np.median(x)"
      ]
    },
    {
      "cell_type": "code",
      "execution_count": 68,
      "metadata": {
        "colab": {
          "base_uri": "https://localhost:8080/"
        },
        "id": "YqPFRjcO5Chc",
        "outputId": "8b60b364-f1f5-4ca8-89f0-41503e9cd1ec"
      },
      "outputs": [
        {
          "data": {
            "text/plain": [
              "0.7230843037831725"
            ]
          },
          "execution_count": 68,
          "metadata": {},
          "output_type": "execute_result"
        }
      ],
      "source": [
        "np.quantile(x, 0.5)"
      ]
    },
    {
      "cell_type": "markdown",
      "metadata": {
        "id": "HpK3wcmy5Chd"
      },
      "source": [
        "Generally speaking, quantiles divide up distributions and the most common are:\n",
        "\n",
        "* Percentiles, \n",
        "* Quartiles, and\n",
        "* Deciles."
      ]
    },
    {
      "cell_type": "markdown",
      "metadata": {
        "id": "kIB-rEJQ5Chd"
      },
      "source": [
        "**Percentiles** divide the distribution at any point out of one hundred (\"pour cent\" is French for \"out of a hundred\"). For example, if we'd like to identify the threshold for the top 5% of a distribution, we'd cut it at the 95th percentile. Or, for the top 1%, we'd cut at the 99th percentile."
      ]
    },
    {
      "cell_type": "code",
      "execution_count": 69,
      "metadata": {
        "colab": {
          "base_uri": "https://localhost:8080/"
        },
        "id": "3T9AE9aS5Chd",
        "outputId": "b84e3138-ae2c-4783-c199-9eeacb6346ff"
      },
      "outputs": [
        {
          "data": {
            "text/plain": [
              "array([1.9921046 , 2.65374847])"
            ]
          },
          "execution_count": 69,
          "metadata": {},
          "output_type": "execute_result"
        }
      ],
      "source": [
        "p = np.percentile(x, [95, 99])\n",
        "p"
      ]
    },
    {
      "cell_type": "code",
      "execution_count": 70,
      "metadata": {
        "colab": {
          "base_uri": "https://localhost:8080/",
          "height": 268
        },
        "id": "A_guMMCh5Chd",
        "outputId": "e34bbb23-87c9-4151-adea-64f4cfa6c3ae"
      },
      "outputs": [
        {
          "data": {
            "image/png": "[encoded data removed]",
            "text/plain": [
              "<Figure size 432x288 with 1 Axes>"
            ]
          },
          "metadata": {
            "needs_background": "light"
          },
          "output_type": "display_data"
        }
      ],
      "source": [
        "fig, ax = plt.subplots()\n",
        "plt.axvline(x = p[0], color='orange')\n",
        "plt.axvline(x = p[1], color='red')\n",
        "_ = plt.hist(x, color = 'lightgray')"
      ]
    },
    {
      "cell_type": "markdown",
      "metadata": {
        "id": "atT5Wbtn5Chd"
      },
      "source": [
        "Note that the Numpy `quantile()` method is identical to the `percentile()` method except we pass proportions (ranging from zero to one) into the former and percentages (ranging from zero to 100) into the latter: "
      ]
    },
    {
      "cell_type": "code",
      "execution_count": 71,
      "metadata": {
        "colab": {
          "base_uri": "https://localhost:8080/"
        },
        "id": "xEQo8y7u5Chd",
        "outputId": "05060988-b132-4e7a-c9a1-e08945559cde"
      },
      "outputs": [
        {
          "data": {
            "text/plain": [
              "array([1.9921046 , 2.65374847])"
            ]
          },
          "execution_count": 71,
          "metadata": {},
          "output_type": "execute_result"
        }
      ],
      "source": [
        "np.quantile(x, [.95, .99])"
      ]
    },
    {
      "cell_type": "markdown",
      "metadata": {
        "id": "vDhFcNWj5Che"
      },
      "source": [
        "**Quartiles**, as their name suggests, are quantiles that divide a distribution into quarters by splitting the distribution at the 25th percentile, the median (a.k.a. the 50th percentile), and the 75th percentile: "
      ]
    },
    {
      "cell_type": "code",
      "execution_count": 107,
      "metadata": {
        "colab": {
          "base_uri": "https://localhost:8080/"
        },
        "id": "miEwAsQV5Che",
        "outputId": "14991cd2-d6b2-47b8-8347-43af7fd8277e"
      },
      "outputs": [
        {
          "data": {
            "text/plain": [
              "array([0.34384782, 0.7230843 , 1.19721753, 1.9921046 , 3.22724613])"
            ]
          },
          "execution_count": 107,
          "metadata": {},
          "output_type": "execute_result"
        }
      ],
      "source": [
        "q = np.percentile(x, [25, 50, 75, 95, 100])\n",
        "q"
      ]
    },
    {
      "cell_type": "code",
      "execution_count": 108,
      "metadata": {
        "colab": {
          "base_uri": "https://localhost:8080/",
          "height": 268
        },
        "id": "kQvjcq3O5Che",
        "outputId": "bad6bed6-6116-4dc5-b1e2-bf05828c29c9"
      },
      "outputs": [
        {
          "data": {
            "image/png": "[encoded data removed]",
            "text/plain": [
              "<Figure size 432x288 with 1 Axes>"
            ]
          },
          "metadata": {},
          "output_type": "display_data"
        }
      ],
      "source": [
        "fig, ax = plt.subplots()\n",
        "plt.axvline(x = q[0], color='cornflowerblue')\n",
        "plt.axvline(x = q[1], color='green')\n",
        "plt.axvline(x = q[2], color='cornflowerblue')\n",
        "plt.axvline(x = q[3], color='orange')\n",
        "plt.axvline(x = q[4], color='red')\n",
        "_ = plt.hist(x, color = 'lightgray')"
      ]
    },
    {
      "cell_type": "markdown",
      "metadata": {
        "id": "JWVX933i5Che"
      },
      "source": [
        "Finally, **deciles** (from Latin *decimus*, meaning \"tenth\") divide a distribution into ten evenly-sized segments: "
      ]
    },
    {
      "cell_type": "code",
      "execution_count": 109,
      "metadata": {
        "colab": {
          "base_uri": "https://localhost:8080/"
        },
        "id": "SD59HmMa5Che",
        "outputId": "f5fd934f-b639-4593-eb5d-7fdf67094f2c"
      },
      "outputs": [
        {
          "data": {
            "text/plain": [
              "[10, 20, 30, 40, 50, 60, 70, 80, 90]"
            ]
          },
          "execution_count": 109,
          "metadata": {},
          "output_type": "execute_result"
        }
      ],
      "source": [
        "[i for i in range(10, 100, 10)]"
      ]
    },
    {
      "cell_type": "code",
      "execution_count": 110,
      "metadata": {
        "colab": {
          "base_uri": "https://localhost:8080/"
        },
        "id": "pVuo_iTo5Chf",
        "outputId": "e8ec24ac-c7ec-48c9-8105-7ea09073ae42"
      },
      "outputs": [
        {
          "data": {
            "text/plain": [
              "array([0.13310074, 0.27055246, 0.41539845, 0.56596274, 0.7230843 ,\n",
              "       0.89469339, 1.09188534, 1.32061526, 1.70024873])"
            ]
          },
          "execution_count": 110,
          "metadata": {},
          "output_type": "execute_result"
        }
      ],
      "source": [
        "d = np.percentile(x, range(10, 100, 10))\n",
        "d"
      ]
    },
    {
      "cell_type": "code",
      "execution_count": 111,
      "metadata": {
        "colab": {
          "base_uri": "https://localhost:8080/",
          "height": 268
        },
        "id": "wex6mxXx5Chf",
        "outputId": "53c1ac09-4fc8-47af-cfb6-be9fee3d5fc1"
      },
      "outputs": [
        {
          "data": {
            "image/png": "[encoded data removed]",
            "text/plain": [
              "<Figure size 432x288 with 1 Axes>"
            ]
          },
          "metadata": {},
          "output_type": "display_data"
        }
      ],
      "source": [
        "fig, ax = plt.subplots()\n",
        "[plt.axvline(x = d_i, color='cornflowerblue') for d_i in d]\n",
        "_ = plt.hist(x, color = 'lightgray')"
      ]
    },
    {
      "cell_type": "markdown",
      "metadata": {
        "id": "ul0eYeis5Chf"
      },
      "source": [
        "As examples, we can refer to the bottom 10% as the bottom decile or the first decile, while the top 10% is the top decile or tenth decile."
      ]
    },
    {
      "cell_type": "markdown",
      "metadata": {
        "id": "hW2cvXR45Chf"
      },
      "source": [
        "### The Box-and-Whisker Plot"
      ]
    },
    {
      "cell_type": "code",
      "execution_count": 113,
      "metadata": {
        "id": "hstuGQgw5Chf"
      },
      "outputs": [],
      "source": [
        "sns.set(style='whitegrid')"
      ]
    },
    {
      "cell_type": "code",
      "execution_count": 114,
      "metadata": {
        "colab": {
          "base_uri": "https://localhost:8080/",
          "height": 268
        },
        "id": "KTJsZfB25Chg",
        "outputId": "55ffe131-1b07-49b0-819e-a350766289c6"
      },
      "outputs": [
        {
          "data": {
            "image/png": "[encoded data removed]",
            "text/plain": [
              "<Figure size 432x288 with 1 Axes>"
            ]
          },
          "metadata": {},
          "output_type": "display_data"
        }
      ],
      "source": [
        "_ = sns.boxplot(x=x)"
      ]
    },
    {
      "cell_type": "markdown",
      "metadata": {
        "id": "LYTGM6aL5Chg"
      },
      "source": [
        "Box edges and median are determined by quartiles:"
      ]
    },
    {
      "cell_type": "code",
      "execution_count": 115,
      "metadata": {
        "colab": {
          "base_uri": "https://localhost:8080/"
        },
        "id": "cwobiHMQ5Chg",
        "outputId": "c4406d19-3047-400e-8583-ef46c897b995"
      },
      "outputs": [
        {
          "data": {
            "text/plain": [
              "array([0.34384782, 0.7230843 , 1.19721753, 1.9921046 , 3.22724613])"
            ]
          },
          "execution_count": 115,
          "metadata": {},
          "output_type": "execute_result"
        }
      ],
      "source": [
        "q"
      ]
    },
    {
      "cell_type": "markdown",
      "metadata": {
        "id": "87xWa_O25Chg"
      },
      "source": [
        "Box edges define the **inter-quartile range** (IQR): "
      ]
    },
    {
      "cell_type": "code",
      "execution_count": 116,
      "metadata": {
        "colab": {
          "base_uri": "https://localhost:8080/"
        },
        "id": "geDTr1LS5Chg",
        "outputId": "1360d383-690e-4a53-ed7f-3df3451bb0c9"
      },
      "outputs": [
        {
          "data": {
            "text/plain": [
              "0.869"
            ]
          },
          "execution_count": 116,
          "metadata": {},
          "output_type": "execute_result"
        }
      ],
      "source": [
        "r = 1.194 - 0.325\n",
        "r"
      ]
    },
    {
      "cell_type": "markdown",
      "metadata": {
        "id": "AoLruNpq5Chh"
      },
      "source": [
        "Whisker lengths are determined by furthest data points within $1.5 \\times \\text{IQR}$ of the box edges."
      ]
    },
    {
      "cell_type": "markdown",
      "metadata": {
        "id": "or6R8lpL5Chh"
      },
      "source": [
        "In this case, the lower whisker could stretch as far down (to the left in the plot) as:"
      ]
    },
    {
      "cell_type": "code",
      "execution_count": 117,
      "metadata": {
        "colab": {
          "base_uri": "https://localhost:8080/"
        },
        "id": "PgFCmy2g5Chh",
        "outputId": "d41d0952-f9f5-4c5a-f93e-662fba80d496"
      },
      "outputs": [
        {
          "data": {
            "text/plain": [
              "-0.9785000000000001"
            ]
          },
          "execution_count": 117,
          "metadata": {},
          "output_type": "execute_result"
        }
      ],
      "source": [
        "0.325 - 1.5*r"
      ]
    },
    {
      "cell_type": "markdown",
      "metadata": {
        "id": "1jGgu10C5Chh"
      },
      "source": [
        "The lowest value is inside of that so the whisker is plotted where that lowest value is: "
      ]
    },
    {
      "cell_type": "code",
      "execution_count": 118,
      "metadata": {
        "colab": {
          "base_uri": "https://localhost:8080/"
        },
        "id": "DoTmuS6h5Chh",
        "outputId": "18f9d9e6-c206-4fd1-d581-37ee2a10bb53"
      },
      "outputs": [
        {
          "data": {
            "text/plain": [
              "-0.20384077230796444"
            ]
          },
          "execution_count": 118,
          "metadata": {},
          "output_type": "execute_result"
        }
      ],
      "source": [
        "np.min(x)"
      ]
    },
    {
      "cell_type": "markdown",
      "metadata": {
        "id": "VAqf6jZ25Chi"
      },
      "source": [
        "The upper whisker could stretch as far up (to the right in the plot) as: "
      ]
    },
    {
      "cell_type": "code",
      "execution_count": 119,
      "metadata": {
        "colab": {
          "base_uri": "https://localhost:8080/"
        },
        "id": "owW6yEe75Chi",
        "outputId": "2215258f-b68e-4d1d-d4dc-af79637c2b49"
      },
      "outputs": [
        {
          "data": {
            "text/plain": [
              "2.4975"
            ]
          },
          "execution_count": 119,
          "metadata": {},
          "output_type": "execute_result"
        }
      ],
      "source": [
        "1.194 + 1.5*r"
      ]
    },
    {
      "cell_type": "markdown",
      "metadata": {
        "id": "wdC_HHjO5Chi"
      },
      "source": [
        "There are several (eleven) values beyond this threshold in the distribution. These values are considered **outliers** and are plotted as individual points:"
      ]
    },
    {
      "cell_type": "code",
      "execution_count": 120,
      "metadata": {
        "id": "MB1QCond5Chi"
      },
      "outputs": [],
      "source": [
        "x.sort()"
      ]
    },
    {
      "cell_type": "code",
      "execution_count": 121,
      "metadata": {
        "colab": {
          "base_uri": "https://localhost:8080/"
        },
        "id": "mrWngeiJ5Chi",
        "outputId": "7c524f07-3b91-4612-92b7-f7decd23f1fd"
      },
      "outputs": [
        {
          "data": {
            "text/plain": [
              "array([2.55256507, 2.58079175, 2.59416902, 2.60271747, 2.65362727,\n",
              "       2.66574663, 2.68420737, 2.69678561, 2.73393925, 2.74019667,\n",
              "       2.81888739, 2.83956415, 2.970324  , 3.03654527, 3.22724613])"
            ]
          },
          "execution_count": 121,
          "metadata": {},
          "output_type": "execute_result"
        }
      ],
      "source": [
        "x[-15:]"
      ]
    },
    {
      "cell_type": "markdown",
      "metadata": {
        "id": "myU38cQq5Chi"
      },
      "source": [
        "The twelth-highest value, 2.435, is the largest within the upper whisker's maximum reach and so the upper whisker is plotted there. "
      ]
    },
    {
      "cell_type": "markdown",
      "metadata": {
        "id": "plWdKLkK5Chj"
      },
      "source": [
        "Useful for examining distributions on their own, box-and-whisker plots are especially helpful for comparing distributions:"
      ]
    },
    {
      "cell_type": "code",
      "execution_count": 137,
      "metadata": {
        "colab": {
          "base_uri": "https://localhost:8080/",
          "height": 423
        },
        "id": "hU6gylwx5Chj",
        "outputId": "e47842a7-f615-433d-e671-0692bbc7fac8"
      },
      "outputs": [
        {
          "name": "stdout",
          "output_type": "stream",
          "text": [
            "<class 'pandas.core.frame.DataFrame'>\n"
          ]
        },
        {
          "data": {
            "text/html": [
              "<div>\n",
              "<style scoped>\n",
              "    .dataframe tbody tr th:only-of-type {\n",
              "        vertical-align: middle;\n",
              "    }\n",
              "\n",
              "    .dataframe tbody tr th {\n",
              "        vertical-align: top;\n",
              "    }\n",
              "\n",
              "    .dataframe thead th {\n",
              "        text-align: right;\n",
              "    }\n",
              "</style>\n",
              "<table border=\"1\" class=\"dataframe\">\n",
              "  <thead>\n",
              "    <tr style=\"text-align: right;\">\n",
              "      <th></th>\n",
              "      <th>sepal_length</th>\n",
              "      <th>sepal_width</th>\n",
              "      <th>petal_length</th>\n",
              "      <th>petal_width</th>\n",
              "      <th>species</th>\n",
              "    </tr>\n",
              "  </thead>\n",
              "  <tbody>\n",
              "    <tr>\n",
              "      <th>0</th>\n",
              "      <td>5.1</td>\n",
              "      <td>3.5</td>\n",
              "      <td>1.4</td>\n",
              "      <td>0.2</td>\n",
              "      <td>setosa</td>\n",
              "    </tr>\n",
              "    <tr>\n",
              "      <th>1</th>\n",
              "      <td>4.9</td>\n",
              "      <td>3.0</td>\n",
              "      <td>1.4</td>\n",
              "      <td>0.2</td>\n",
              "      <td>setosa</td>\n",
              "    </tr>\n",
              "    <tr>\n",
              "      <th>2</th>\n",
              "      <td>4.7</td>\n",
              "      <td>3.2</td>\n",
              "      <td>1.3</td>\n",
              "      <td>0.2</td>\n",
              "      <td>setosa</td>\n",
              "    </tr>\n",
              "    <tr>\n",
              "      <th>3</th>\n",
              "      <td>4.6</td>\n",
              "      <td>3.1</td>\n",
              "      <td>1.5</td>\n",
              "      <td>0.2</td>\n",
              "      <td>setosa</td>\n",
              "    </tr>\n",
              "    <tr>\n",
              "      <th>4</th>\n",
              "      <td>5.0</td>\n",
              "      <td>3.6</td>\n",
              "      <td>1.4</td>\n",
              "      <td>0.2</td>\n",
              "      <td>setosa</td>\n",
              "    </tr>\n",
              "    <tr>\n",
              "      <th>...</th>\n",
              "      <td>...</td>\n",
              "      <td>...</td>\n",
              "      <td>...</td>\n",
              "      <td>...</td>\n",
              "      <td>...</td>\n",
              "    </tr>\n",
              "    <tr>\n",
              "      <th>145</th>\n",
              "      <td>6.7</td>\n",
              "      <td>3.0</td>\n",
              "      <td>5.2</td>\n",
              "      <td>2.3</td>\n",
              "      <td>virginica</td>\n",
              "    </tr>\n",
              "    <tr>\n",
              "      <th>146</th>\n",
              "      <td>6.3</td>\n",
              "      <td>2.5</td>\n",
              "      <td>5.0</td>\n",
              "      <td>1.9</td>\n",
              "      <td>virginica</td>\n",
              "    </tr>\n",
              "    <tr>\n",
              "      <th>147</th>\n",
              "      <td>6.5</td>\n",
              "      <td>3.0</td>\n",
              "      <td>5.2</td>\n",
              "      <td>2.0</td>\n",
              "      <td>virginica</td>\n",
              "    </tr>\n",
              "    <tr>\n",
              "      <th>148</th>\n",
              "      <td>6.2</td>\n",
              "      <td>3.4</td>\n",
              "      <td>5.4</td>\n",
              "      <td>2.3</td>\n",
              "      <td>virginica</td>\n",
              "    </tr>\n",
              "    <tr>\n",
              "      <th>149</th>\n",
              "      <td>5.9</td>\n",
              "      <td>3.0</td>\n",
              "      <td>5.1</td>\n",
              "      <td>1.8</td>\n",
              "      <td>virginica</td>\n",
              "    </tr>\n",
              "  </tbody>\n",
              "</table>\n",
              "<p>150 rows × 5 columns</p>\n",
              "</div>"
            ],
            "text/plain": [
              "     sepal_length  sepal_width  petal_length  petal_width    species\n",
              "0             5.1          3.5           1.4          0.2     setosa\n",
              "1             4.9          3.0           1.4          0.2     setosa\n",
              "2             4.7          3.2           1.3          0.2     setosa\n",
              "3             4.6          3.1           1.5          0.2     setosa\n",
              "4             5.0          3.6           1.4          0.2     setosa\n",
              "..            ...          ...           ...          ...        ...\n",
              "145           6.7          3.0           5.2          2.3  virginica\n",
              "146           6.3          2.5           5.0          1.9  virginica\n",
              "147           6.5          3.0           5.2          2.0  virginica\n",
              "148           6.2          3.4           5.4          2.3  virginica\n",
              "149           5.9          3.0           5.1          1.8  virginica\n",
              "\n",
              "[150 rows x 5 columns]"
            ]
          },
          "execution_count": 137,
          "metadata": {},
          "output_type": "execute_result"
        }
      ],
      "source": [
        "iris = sns.load_dataset('iris')\n",
        "print(type(iris))\n",
        "iris"
      ]
    },
    {
      "cell_type": "code",
      "execution_count": 123,
      "metadata": {
        "colab": {
          "base_uri": "https://localhost:8080/",
          "height": 269
        },
        "id": "vKqPo2sn5Chj",
        "outputId": "fd4a5c17-3606-458e-f667-1a883ee43ce4"
      },
      "outputs": [
        {
          "data": {
            "image/png": "[encoded data removed]",
            "text/plain": [
              "<Figure size 432x288 with 1 Axes>"
            ]
          },
          "metadata": {},
          "output_type": "display_data"
        }
      ],
      "source": [
        "_ = sns.boxplot(data=iris)"
      ]
    },
    {
      "cell_type": "code",
      "execution_count": 124,
      "metadata": {
        "colab": {
          "base_uri": "https://localhost:8080/",
          "height": 423
        },
        "id": "lYtj4rTU5Chj",
        "outputId": "622b5ec2-4a2a-4195-913b-afb55650ae52"
      },
      "outputs": [
        {
          "data": {
            "text/html": [
              "<div>\n",
              "<style scoped>\n",
              "    .dataframe tbody tr th:only-of-type {\n",
              "        vertical-align: middle;\n",
              "    }\n",
              "\n",
              "    .dataframe tbody tr th {\n",
              "        vertical-align: top;\n",
              "    }\n",
              "\n",
              "    .dataframe thead th {\n",
              "        text-align: right;\n",
              "    }\n",
              "</style>\n",
              "<table border=\"1\" class=\"dataframe\">\n",
              "  <thead>\n",
              "    <tr style=\"text-align: right;\">\n",
              "      <th></th>\n",
              "      <th>total_bill</th>\n",
              "      <th>tip</th>\n",
              "      <th>sex</th>\n",
              "      <th>smoker</th>\n",
              "      <th>day</th>\n",
              "      <th>time</th>\n",
              "      <th>size</th>\n",
              "    </tr>\n",
              "  </thead>\n",
              "  <tbody>\n",
              "    <tr>\n",
              "      <th>0</th>\n",
              "      <td>16.99</td>\n",
              "      <td>1.01</td>\n",
              "      <td>Female</td>\n",
              "      <td>No</td>\n",
              "      <td>Sun</td>\n",
              "      <td>Dinner</td>\n",
              "      <td>2</td>\n",
              "    </tr>\n",
              "    <tr>\n",
              "      <th>1</th>\n",
              "      <td>10.34</td>\n",
              "      <td>1.66</td>\n",
              "      <td>Male</td>\n",
              "      <td>No</td>\n",
              "      <td>Sun</td>\n",
              "      <td>Dinner</td>\n",
              "      <td>3</td>\n",
              "    </tr>\n",
              "    <tr>\n",
              "      <th>2</th>\n",
              "      <td>21.01</td>\n",
              "      <td>3.50</td>\n",
              "      <td>Male</td>\n",
              "      <td>No</td>\n",
              "      <td>Sun</td>\n",
              "      <td>Dinner</td>\n",
              "      <td>3</td>\n",
              "    </tr>\n",
              "    <tr>\n",
              "      <th>3</th>\n",
              "      <td>23.68</td>\n",
              "      <td>3.31</td>\n",
              "      <td>Male</td>\n",
              "      <td>No</td>\n",
              "      <td>Sun</td>\n",
              "      <td>Dinner</td>\n",
              "      <td>2</td>\n",
              "    </tr>\n",
              "    <tr>\n",
              "      <th>4</th>\n",
              "      <td>24.59</td>\n",
              "      <td>3.61</td>\n",
              "      <td>Female</td>\n",
              "      <td>No</td>\n",
              "      <td>Sun</td>\n",
              "      <td>Dinner</td>\n",
              "      <td>4</td>\n",
              "    </tr>\n",
              "    <tr>\n",
              "      <th>...</th>\n",
              "      <td>...</td>\n",
              "      <td>...</td>\n",
              "      <td>...</td>\n",
              "      <td>...</td>\n",
              "      <td>...</td>\n",
              "      <td>...</td>\n",
              "      <td>...</td>\n",
              "    </tr>\n",
              "    <tr>\n",
              "      <th>239</th>\n",
              "      <td>29.03</td>\n",
              "      <td>5.92</td>\n",
              "      <td>Male</td>\n",
              "      <td>No</td>\n",
              "      <td>Sat</td>\n",
              "      <td>Dinner</td>\n",
              "      <td>3</td>\n",
              "    </tr>\n",
              "    <tr>\n",
              "      <th>240</th>\n",
              "      <td>27.18</td>\n",
              "      <td>2.00</td>\n",
              "      <td>Female</td>\n",
              "      <td>Yes</td>\n",
              "      <td>Sat</td>\n",
              "      <td>Dinner</td>\n",
              "      <td>2</td>\n",
              "    </tr>\n",
              "    <tr>\n",
              "      <th>241</th>\n",
              "      <td>22.67</td>\n",
              "      <td>2.00</td>\n",
              "      <td>Male</td>\n",
              "      <td>Yes</td>\n",
              "      <td>Sat</td>\n",
              "      <td>Dinner</td>\n",
              "      <td>2</td>\n",
              "    </tr>\n",
              "    <tr>\n",
              "      <th>242</th>\n",
              "      <td>17.82</td>\n",
              "      <td>1.75</td>\n",
              "      <td>Male</td>\n",
              "      <td>No</td>\n",
              "      <td>Sat</td>\n",
              "      <td>Dinner</td>\n",
              "      <td>2</td>\n",
              "    </tr>\n",
              "    <tr>\n",
              "      <th>243</th>\n",
              "      <td>18.78</td>\n",
              "      <td>3.00</td>\n",
              "      <td>Female</td>\n",
              "      <td>No</td>\n",
              "      <td>Thur</td>\n",
              "      <td>Dinner</td>\n",
              "      <td>2</td>\n",
              "    </tr>\n",
              "  </tbody>\n",
              "</table>\n",
              "<p>244 rows × 7 columns</p>\n",
              "</div>"
            ],
            "text/plain": [
              "     total_bill   tip     sex smoker   day    time  size\n",
              "0         16.99  1.01  Female     No   Sun  Dinner     2\n",
              "1         10.34  1.66    Male     No   Sun  Dinner     3\n",
              "2         21.01  3.50    Male     No   Sun  Dinner     3\n",
              "3         23.68  3.31    Male     No   Sun  Dinner     2\n",
              "4         24.59  3.61  Female     No   Sun  Dinner     4\n",
              "..          ...   ...     ...    ...   ...     ...   ...\n",
              "239       29.03  5.92    Male     No   Sat  Dinner     3\n",
              "240       27.18  2.00  Female    Yes   Sat  Dinner     2\n",
              "241       22.67  2.00    Male    Yes   Sat  Dinner     2\n",
              "242       17.82  1.75    Male     No   Sat  Dinner     2\n",
              "243       18.78  3.00  Female     No  Thur  Dinner     2\n",
              "\n",
              "[244 rows x 7 columns]"
            ]
          },
          "execution_count": 124,
          "metadata": {},
          "output_type": "execute_result"
        }
      ],
      "source": [
        "tips = sns.load_dataset('tips')\n",
        "tips"
      ]
    },
    {
      "cell_type": "code",
      "execution_count": 125,
      "metadata": {
        "colab": {
          "base_uri": "https://localhost:8080/",
          "height": 285
        },
        "id": "kwt0xVEP5Chj",
        "outputId": "3d6f2dc0-166a-4991-c25d-fd740b21165b"
      },
      "outputs": [
        {
          "data": {
            "image/png": "[encoded data removed]",
            "text/plain": [
              "<Figure size 432x288 with 1 Axes>"
            ]
          },
          "metadata": {},
          "output_type": "display_data"
        }
      ],
      "source": [
        "_ = sns.boxplot(x='day', y='total_bill', hue='smoker', data=tips)"
      ]
    },
    {
      "cell_type": "markdown",
      "metadata": {
        "id": "quNYihVQ5Chk"
      },
      "source": [
        "### Measures of Dispersion"
      ]
    },
    {
      "cell_type": "markdown",
      "metadata": {
        "id": "MKaq4xJ25Chk"
      },
      "source": [
        "IQR is a relatively rare measure of the dispersion of values around the center of a distribution. The most widely-used are: \n",
        "\n",
        "* Variance,\n",
        "* Standard deviation, and\n",
        "* Standard error. "
      ]
    },
    {
      "cell_type": "markdown",
      "metadata": {
        "id": "Ti6GdZeZ5Chk"
      },
      "source": [
        "**Variance** (denoted with $\\sigma^2$) can be written using expected-value notation, but it's easier to understand without it: \n",
        "$$ \\sigma^2 = \\frac{\\sum_{i=1}^n (x_i-\\bar{x})^2}{n} $$"
      ]
    },
    {
      "cell_type": "markdown",
      "metadata": {
        "id": "B1lo6mxN5Chk"
      },
      "source": [
        "(The astute follower of the *Machine Learning Foundations* series may notice that this formula is the same as mean-squared-error cost, except $x_i$ is being compared to the mean $\\mu$ instead of a predicted value $\\hat{x}_i$.)"
      ]
    },
    {
      "cell_type": "markdown",
      "metadata": {
        "id": "wiOq636c5Chk"
      },
      "source": [
        "(Technically speaking, we should divide by $n$-1 with a sample of data, but with the large datasets typical of machine learning, it's a negligible difference. If $n$ were equal to a small number like 8 then it would matter.)"
      ]
    },
    {
      "cell_type": "markdown",
      "metadata": {
        "id": "pD27D-0g5Chk"
      },
      "source": [
        "(Also technically speaking, the variance of a sample is typically denoted with $s^2$ as opposed to the Greek $\\sigma^2$, akin to how $\\bar{x}$ denotes the mean of a sample while the Greek $\\mu$ is reserved for population mean.)"
      ]
    },
    {
      "cell_type": "markdown",
      "metadata": {
        "id": "4G-ogAFP5Chk"
      },
      "source": [
        "As an example let's calculate the variance of the PDF `x` from earlier: "
      ]
    },
    {
      "cell_type": "code",
      "execution_count": 126,
      "metadata": {
        "colab": {
          "base_uri": "https://localhost:8080/"
        },
        "id": "AGO5TXzt5Chk",
        "outputId": "f6fce236-696b-4fae-d2a4-f267eee93302"
      },
      "outputs": [
        {
          "data": {
            "text/plain": [
              "0.8323228070827772"
            ]
          },
          "execution_count": 126,
          "metadata": {},
          "output_type": "execute_result"
        }
      ],
      "source": [
        "xbar = np.mean(x)\n",
        "xbar"
      ]
    },
    {
      "cell_type": "code",
      "execution_count": 127,
      "metadata": {
        "id": "u-fEygHR5Chl"
      },
      "outputs": [],
      "source": [
        "squared_differences = [(x_i - xbar)**2 for x_i in x]"
      ]
    },
    {
      "cell_type": "code",
      "execution_count": 128,
      "metadata": {
        "colab": {
          "base_uri": "https://localhost:8080/"
        },
        "id": "qdvZ5_fg5Chl",
        "outputId": "0ade75a9-c436-4099-b20a-99b21bda336d"
      },
      "outputs": [
        {
          "data": {
            "text/plain": [
              "[1.0736349632558335,\n",
              " 0.9718617727749858,\n",
              " 0.9378040851807624,\n",
              " 0.9321370103205682,\n",
              " 0.8746982354946157,\n",
              " 0.8465127700389343,\n",
              " 0.8399767891725466,\n",
              " 0.8217661028856905,\n",
              " 0.8172224446695369,\n",
              " 0.8159723997351914]"
            ]
          },
          "execution_count": 128,
          "metadata": {},
          "output_type": "execute_result"
        }
      ],
      "source": [
        "squared_differences[0:10]"
      ]
    },
    {
      "cell_type": "code",
      "execution_count": 129,
      "metadata": {
        "colab": {
          "base_uri": "https://localhost:8080/"
        },
        "id": "jduq8CVv5Chl",
        "outputId": "b3bb8d54-ed50-492b-ae28-03c939a89635"
      },
      "outputs": [
        {
          "data": {
            "text/plain": [
              "0.3787659142558431"
            ]
          },
          "execution_count": 129,
          "metadata": {},
          "output_type": "execute_result"
        }
      ],
      "source": [
        "sigma_squared = sum(squared_differences)/len(x)\n",
        "sigma_squared"
      ]
    },
    {
      "cell_type": "markdown",
      "metadata": {
        "id": "mnZoMJAj5Chl"
      },
      "source": [
        "Of course there's a built-in NumPy method: "
      ]
    },
    {
      "cell_type": "code",
      "execution_count": 130,
      "metadata": {
        "colab": {
          "base_uri": "https://localhost:8080/"
        },
        "id": "pIci-1It5Chl",
        "outputId": "cca3029f-17e9-4a41-cf09-6d58844ad25d"
      },
      "outputs": [
        {
          "data": {
            "text/plain": [
              "0.3787659142558432"
            ]
          },
          "execution_count": 130,
          "metadata": {},
          "output_type": "execute_result"
        }
      ],
      "source": [
        "np.var(x)"
      ]
    },
    {
      "cell_type": "markdown",
      "metadata": {
        "id": "TChK1Qii5Chl"
      },
      "source": [
        "#### Standard Deviation"
      ]
    },
    {
      "cell_type": "markdown",
      "metadata": {
        "id": "Ei-js4cF5Chm"
      },
      "source": [
        "A straightforward derivative of variance is **standard deviation** (denoted with $\\sigma$), which is convenient because its units are on the same scale as the values in the distribution: \n",
        "$$ \\sigma = \\sqrt{\\sigma^2} $$"
      ]
    },
    {
      "cell_type": "code",
      "execution_count": 131,
      "metadata": {
        "colab": {
          "base_uri": "https://localhost:8080/"
        },
        "id": "ginsMxgi5Chm",
        "outputId": "2c8b384f-350e-479f-dbe9-eda9b198196e"
      },
      "outputs": [
        {
          "data": {
            "text/plain": [
              "0.6154396105677982"
            ]
          },
          "execution_count": 131,
          "metadata": {},
          "output_type": "execute_result"
        }
      ],
      "source": [
        "sigma = sigma_squared**(1/2)\n",
        "sigma"
      ]
    },
    {
      "cell_type": "code",
      "execution_count": 132,
      "metadata": {
        "colab": {
          "base_uri": "https://localhost:8080/"
        },
        "id": "mT0pi9Qx5Chm",
        "outputId": "f543ffab-48ea-451a-9e87-efcd52ae05c3"
      },
      "outputs": [
        {
          "data": {
            "text/plain": [
              "0.6154396105677983"
            ]
          },
          "execution_count": 132,
          "metadata": {},
          "output_type": "execute_result"
        }
      ],
      "source": [
        "np.std(x)"
      ]
    },
    {
      "cell_type": "code",
      "execution_count": 133,
      "metadata": {
        "colab": {
          "base_uri": "https://localhost:8080/",
          "height": 268
        },
        "id": "k7a_hKT75Chm",
        "outputId": "ad369b32-7091-496e-c7e9-dad5472fc038"
      },
      "outputs": [
        {
          "data": {
            "image/png": "[encoded data removed]",
            "text/plain": [
              "<Figure size 432x288 with 1 Axes>"
            ]
          },
          "metadata": {},
          "output_type": "display_data"
        }
      ],
      "source": [
        "fig, ax = plt.subplots()\n",
        "plt.axvline(x = xbar, color='orange')\n",
        "plt.axvline(x = xbar+sigma, color='olivedrab')\n",
        "plt.axvline(x = xbar-sigma, color='olivedrab')\n",
        "_ = plt.hist(x, color = 'lightgray')"
      ]
    },
    {
      "cell_type": "markdown",
      "metadata": {
        "id": "TghPdBIE5Chm"
      },
      "source": [
        "#### Standard Error"
      ]
    },
    {
      "cell_type": "markdown",
      "metadata": {
        "id": "vuIykMWN5Chm"
      },
      "source": [
        "A further derivation of standard deviation is **standard error**, which is denoted with $\\sigma_\\bar{x}$:\n",
        "$$ \\sigma_\\bar{x} = \\frac{\\sigma}{\\sqrt{n}} $$"
      ]
    },
    {
      "cell_type": "code",
      "execution_count": 134,
      "metadata": {
        "colab": {
          "base_uri": "https://localhost:8080/"
        },
        "id": "6C2xB1UU5Chn",
        "outputId": "caa2a37e-ab30-45b8-f521-c13fc756cfe5"
      },
      "outputs": [
        {
          "data": {
            "text/plain": [
              "0.019461909316812753"
            ]
          },
          "execution_count": 134,
          "metadata": {},
          "output_type": "execute_result"
        }
      ],
      "source": [
        "sigma/(len(x))**(1/2)"
      ]
    },
    {
      "cell_type": "code",
      "execution_count": 135,
      "metadata": {
        "colab": {
          "base_uri": "https://localhost:8080/"
        },
        "id": "Itaub6WD5Chn",
        "outputId": "582806aa-744d-4b14-d50c-d105abd0dd64"
      },
      "outputs": [
        {
          "data": {
            "text/plain": [
              "0.01947164757577433"
            ]
          },
          "execution_count": 135,
          "metadata": {},
          "output_type": "execute_result"
        }
      ],
      "source": [
        "st.sem(x) # defaults to 1 degree of freedom (n-1), which can be ignored with the larger data sets of ML"
      ]
    },
    {
      "cell_type": "code",
      "execution_count": 136,
      "metadata": {
        "colab": {
          "base_uri": "https://localhost:8080/"
        },
        "id": "YAjsX8WB5Chn",
        "outputId": "eb552759-cfc8-4ef5-8952-24ad7389c786"
      },
      "outputs": [
        {
          "data": {
            "text/plain": [
              "0.019461909316812756"
            ]
          },
          "execution_count": 136,
          "metadata": {},
          "output_type": "execute_result"
        }
      ],
      "source": [
        "st.sem(x, ddof=0) # 0 degrees of freedom (n)"
      ]
    },
    {
      "cell_type": "markdown",
      "metadata": {
        "id": "MuPQwbJn5Chn"
      },
      "source": [
        "Standard error enables us to compare whether the means of two distributions differ *significantly*, a focus of *Intro to Stats*."
      ]
    },
    {
      "cell_type": "markdown",
      "metadata": {
        "id": "XwRxQf9E5Chn"
      },
      "source": [
        "### Measures of Relatedness"
      ]
    },
    {
      "cell_type": "markdown",
      "metadata": {
        "id": "ttvO-Q_B5Chn"
      },
      "source": [
        "If we have two vectors of the same length, $x$ and $y$, where each element of $x$ is paired with the corresponding element of $y$, **covariance** provides a measure of how related the variables are to each other:\n",
        "$$ \\text{cov}(x, y) = \\frac{\\sum_{i=1}^n (x_i - \\bar{x})(y_i - \\bar{y}) }{n} $$"
      ]
    },
    {
      "cell_type": "code",
      "execution_count": 138,
      "metadata": {
        "colab": {
          "base_uri": "https://localhost:8080/",
          "height": 0
        },
        "id": "oP01sWnf5Cho",
        "outputId": "d709ebd3-d049-438b-c7eb-3b4a64165afc"
      },
      "outputs": [
        {
          "data": {
            "text/html": [
              "<div>\n",
              "<style scoped>\n",
              "    .dataframe tbody tr th:only-of-type {\n",
              "        vertical-align: middle;\n",
              "    }\n",
              "\n",
              "    .dataframe tbody tr th {\n",
              "        vertical-align: top;\n",
              "    }\n",
              "\n",
              "    .dataframe thead th {\n",
              "        text-align: right;\n",
              "    }\n",
              "</style>\n",
              "<table border=\"1\" class=\"dataframe\">\n",
              "  <thead>\n",
              "    <tr style=\"text-align: right;\">\n",
              "      <th></th>\n",
              "      <th>sepal_length</th>\n",
              "      <th>sepal_width</th>\n",
              "      <th>petal_length</th>\n",
              "      <th>petal_width</th>\n",
              "      <th>species</th>\n",
              "    </tr>\n",
              "  </thead>\n",
              "  <tbody>\n",
              "    <tr>\n",
              "      <th>0</th>\n",
              "      <td>5.1</td>\n",
              "      <td>3.5</td>\n",
              "      <td>1.4</td>\n",
              "      <td>0.2</td>\n",
              "      <td>setosa</td>\n",
              "    </tr>\n",
              "    <tr>\n",
              "      <th>1</th>\n",
              "      <td>4.9</td>\n",
              "      <td>3.0</td>\n",
              "      <td>1.4</td>\n",
              "      <td>0.2</td>\n",
              "      <td>setosa</td>\n",
              "    </tr>\n",
              "    <tr>\n",
              "      <th>2</th>\n",
              "      <td>4.7</td>\n",
              "      <td>3.2</td>\n",
              "      <td>1.3</td>\n",
              "      <td>0.2</td>\n",
              "      <td>setosa</td>\n",
              "    </tr>\n",
              "    <tr>\n",
              "      <th>3</th>\n",
              "      <td>4.6</td>\n",
              "      <td>3.1</td>\n",
              "      <td>1.5</td>\n",
              "      <td>0.2</td>\n",
              "      <td>setosa</td>\n",
              "    </tr>\n",
              "    <tr>\n",
              "      <th>4</th>\n",
              "      <td>5.0</td>\n",
              "      <td>3.6</td>\n",
              "      <td>1.4</td>\n",
              "      <td>0.2</td>\n",
              "      <td>setosa</td>\n",
              "    </tr>\n",
              "    <tr>\n",
              "      <th>...</th>\n",
              "      <td>...</td>\n",
              "      <td>...</td>\n",
              "      <td>...</td>\n",
              "      <td>...</td>\n",
              "      <td>...</td>\n",
              "    </tr>\n",
              "    <tr>\n",
              "      <th>145</th>\n",
              "      <td>6.7</td>\n",
              "      <td>3.0</td>\n",
              "      <td>5.2</td>\n",
              "      <td>2.3</td>\n",
              "      <td>virginica</td>\n",
              "    </tr>\n",
              "    <tr>\n",
              "      <th>146</th>\n",
              "      <td>6.3</td>\n",
              "      <td>2.5</td>\n",
              "      <td>5.0</td>\n",
              "      <td>1.9</td>\n",
              "      <td>virginica</td>\n",
              "    </tr>\n",
              "    <tr>\n",
              "      <th>147</th>\n",
              "      <td>6.5</td>\n",
              "      <td>3.0</td>\n",
              "      <td>5.2</td>\n",
              "      <td>2.0</td>\n",
              "      <td>virginica</td>\n",
              "    </tr>\n",
              "    <tr>\n",
              "      <th>148</th>\n",
              "      <td>6.2</td>\n",
              "      <td>3.4</td>\n",
              "      <td>5.4</td>\n",
              "      <td>2.3</td>\n",
              "      <td>virginica</td>\n",
              "    </tr>\n",
              "    <tr>\n",
              "      <th>149</th>\n",
              "      <td>5.9</td>\n",
              "      <td>3.0</td>\n",
              "      <td>5.1</td>\n",
              "      <td>1.8</td>\n",
              "      <td>virginica</td>\n",
              "    </tr>\n",
              "  </tbody>\n",
              "</table>\n",
              "<p>150 rows × 5 columns</p>\n",
              "</div>"
            ],
            "text/plain": [
              "     sepal_length  sepal_width  petal_length  petal_width    species\n",
              "0             5.1          3.5           1.4          0.2     setosa\n",
              "1             4.9          3.0           1.4          0.2     setosa\n",
              "2             4.7          3.2           1.3          0.2     setosa\n",
              "3             4.6          3.1           1.5          0.2     setosa\n",
              "4             5.0          3.6           1.4          0.2     setosa\n",
              "..            ...          ...           ...          ...        ...\n",
              "145           6.7          3.0           5.2          2.3  virginica\n",
              "146           6.3          2.5           5.0          1.9  virginica\n",
              "147           6.5          3.0           5.2          2.0  virginica\n",
              "148           6.2          3.4           5.4          2.3  virginica\n",
              "149           5.9          3.0           5.1          1.8  virginica\n",
              "\n",
              "[150 rows x 5 columns]"
            ]
          },
          "execution_count": 138,
          "metadata": {},
          "output_type": "execute_result"
        }
      ],
      "source": [
        "iris"
      ]
    },
    {
      "cell_type": "code",
      "execution_count": 139,
      "metadata": {
        "id": "t9rSqTHC5Cho"
      },
      "outputs": [],
      "source": [
        "x = iris.sepal_length\n",
        "y = iris.petal_length"
      ]
    },
    {
      "cell_type": "code",
      "execution_count": 140,
      "metadata": {
        "colab": {
          "base_uri": "https://localhost:8080/",
          "height": 0
        },
        "id": "hM-_V5jF5Cho",
        "outputId": "36a6a622-2e5e-4765-d911-98dde1b108f9"
      },
      "outputs": [
        {
          "data": {
            "image/png": "[encoded data removed]",
            "text/plain": [
              "<Figure size 432x288 with 1 Axes>"
            ]
          },
          "metadata": {},
          "output_type": "display_data"
        }
      ],
      "source": [
        "_ = sns.scatterplot(x=x, y=y)"
      ]
    },
    {
      "cell_type": "code",
      "execution_count": 141,
      "metadata": {
        "id": "rfOYkAzt5Cho"
      },
      "outputs": [],
      "source": [
        "n = len(x)"
      ]
    },
    {
      "cell_type": "code",
      "execution_count": 142,
      "metadata": {
        "id": "-VIXsv3j5Cho"
      },
      "outputs": [],
      "source": [
        "xbar = sum(x)/n\n",
        "ybar = sum(y)/n"
      ]
    },
    {
      "cell_type": "code",
      "execution_count": 152,
      "metadata": {
        "id": "15WoxxTH5Cho"
      },
      "outputs": [],
      "source": [
        "product = [(x[i]-xbar)*(y[i]-ybar) for i in range(n)]"
      ]
    },
    {
      "cell_type": "code",
      "execution_count": 153,
      "metadata": {
        "colab": {
          "base_uri": "https://localhost:8080/"
        },
        "id": "gygz20ti5Cho",
        "outputId": "f3568f0c-9d7b-43fd-b412-9297a780871d"
      },
      "outputs": [
        {
          "data": {
            "text/plain": [
              "1.2658199999999995"
            ]
          },
          "execution_count": 153,
          "metadata": {},
          "output_type": "execute_result"
        }
      ],
      "source": [
        "cov = sum(product)/n\n",
        "cov"
      ]
    },
    {
      "cell_type": "markdown",
      "metadata": {
        "id": "YEc4sv0v5Chp"
      },
      "source": [
        "The NumPy `cov()` method returns a **covariance matrix**, which is a $2 \\times 2$ matrix because $x$ and $y$ together describe a two-dimensional space: "
      ]
    },
    {
      "cell_type": "code",
      "execution_count": 154,
      "metadata": {
        "colab": {
          "base_uri": "https://localhost:8080/"
        },
        "id": "6n9HymBG5Chp",
        "outputId": "3cfd459a-e9ec-4a72-8102-4286d4f31088"
      },
      "outputs": [
        {
          "data": {
            "text/plain": [
              "array([[0.68112222, 1.26582   ],\n",
              "       [1.26582   , 3.09550267]])"
            ]
          },
          "execution_count": 154,
          "metadata": {},
          "output_type": "execute_result"
        }
      ],
      "source": [
        "np.cov(x, y, ddof=0) # again, defaults to ddof=1"
      ]
    },
    {
      "cell_type": "markdown",
      "metadata": {
        "id": "yBXI9B2-5Chp"
      },
      "source": [
        "The diagonal elements of the covariance matrix represent the variance of $x$ and $y$, respectively: "
      ]
    },
    {
      "cell_type": "code",
      "execution_count": 155,
      "metadata": {
        "colab": {
          "base_uri": "https://localhost:8080/"
        },
        "id": "uKhq8mSA5Chp",
        "outputId": "4c169756-f14f-46d1-8471-0a7b55332cc5"
      },
      "outputs": [
        {
          "data": {
            "text/plain": [
              "0.6811222222222223"
            ]
          },
          "execution_count": 155,
          "metadata": {},
          "output_type": "execute_result"
        }
      ],
      "source": [
        "np.var(x)"
      ]
    },
    {
      "cell_type": "code",
      "execution_count": 156,
      "metadata": {
        "colab": {
          "base_uri": "https://localhost:8080/"
        },
        "id": "NrtQqVjr5Chp",
        "outputId": "08b6067c-e857-46a3-e2a3-57f204ed0f99"
      },
      "outputs": [
        {
          "data": {
            "text/plain": [
              "3.0955026666666665"
            ]
          },
          "execution_count": 156,
          "metadata": {},
          "output_type": "execute_result"
        }
      ],
      "source": [
        "np.var(y)"
      ]
    },
    {
      "cell_type": "markdown",
      "metadata": {
        "id": "1y2wfLeD5Chq"
      },
      "source": [
        "If $x$ and $y$ are inversely related, their covariance is negative. The less related they are, the closer their covariance is to zero: "
      ]
    },
    {
      "cell_type": "code",
      "execution_count": 157,
      "metadata": {
        "colab": {
          "base_uri": "https://localhost:8080/",
          "height": 0
        },
        "id": "epIqQ-p25Chq",
        "outputId": "bb7f50c1-f0bf-40c1-9f71-c0716611e735"
      },
      "outputs": [
        {
          "data": {
            "image/png": "[encoded data removed]",
            "text/plain": [
              "<Figure size 432x288 with 1 Axes>"
            ]
          },
          "metadata": {},
          "output_type": "display_data"
        }
      ],
      "source": [
        "_ = sns.scatterplot(x=iris.sepal_length, y=iris.sepal_width)"
      ]
    },
    {
      "cell_type": "code",
      "execution_count": 158,
      "metadata": {
        "colab": {
          "base_uri": "https://localhost:8080/"
        },
        "id": "QoIKgBHf5Chq",
        "outputId": "49f8000b-7d68-4ccd-e523-1222f3262302"
      },
      "outputs": [
        {
          "data": {
            "text/plain": [
              "array([[ 0.68112222, -0.04215111],\n",
              "       [-0.04215111,  0.18871289]])"
            ]
          },
          "execution_count": 158,
          "metadata": {},
          "output_type": "execute_result"
        }
      ],
      "source": [
        "np.cov(iris.sepal_length, iris.sepal_width, ddof=0)"
      ]
    },
    {
      "cell_type": "markdown",
      "metadata": {
        "id": "t7GPaB_m5Chq"
      },
      "source": [
        "#### Correlation"
      ]
    },
    {
      "cell_type": "markdown",
      "metadata": {
        "id": "uFDuVBQE5Chq"
      },
      "source": [
        "A drawback of covariance is that it confounds the relative scale of two variables with a measure of the variables' relatedness. **Correlation** builds on covariance and overcomes this drawback via rescaling, thereby measuring relatedness exclusively. Correlation is much more common because of this difference. \n",
        "\n",
        "The correlation coefficient (developed by Karl Pearson in the 20th c. though known in the 19th c.) is often denoted with $r$ or $\\rho$ and is defined by: \n",
        "$$ \\rho_{x,y} = \\frac{\\text{cov}(x,y)}{\\sigma_x \\sigma_y} $$"
      ]
    },
    {
      "cell_type": "code",
      "execution_count": 159,
      "metadata": {
        "id": "j2FfBUs_5Chq"
      },
      "outputs": [],
      "source": [
        "cov = -0.04215111\n",
        "sigma_sq_x = 0.68112222\n",
        "sigma_sq_y = 0.18871289"
      ]
    },
    {
      "cell_type": "code",
      "execution_count": 160,
      "metadata": {
        "id": "r6fRzR015Chr"
      },
      "outputs": [],
      "source": [
        "sigma_x = sigma_sq_x**(1/2)\n",
        "sigma_y = sigma_sq_y**(1/2)"
      ]
    },
    {
      "cell_type": "code",
      "execution_count": 161,
      "metadata": {
        "colab": {
          "base_uri": "https://localhost:8080/"
        },
        "id": "O3fHMlFY5Chr",
        "outputId": "66679ebd-3fd8-4e84-ed8a-adb993778f6f"
      },
      "outputs": [
        {
          "data": {
            "text/plain": [
              "-0.11756978087951572"
            ]
          },
          "execution_count": 161,
          "metadata": {},
          "output_type": "execute_result"
        }
      ],
      "source": [
        "cov / (sigma_x * sigma_y)"
      ]
    },
    {
      "cell_type": "code",
      "execution_count": 163,
      "metadata": {
        "colab": {
          "base_uri": "https://localhost:8080/"
        },
        "id": "LYHyhLnC5Chr",
        "outputId": "f96f93ca-462e-433a-fc82-118c865aa31a"
      },
      "outputs": [
        {
          "data": {
            "text/plain": [
              "(-0.11756978413300208, 0.15189826071144766)"
            ]
          },
          "execution_count": 163,
          "metadata": {},
          "output_type": "execute_result"
        }
      ],
      "source": [
        "st.pearsonr(iris.sepal_length, iris.sepal_width)"
      ]
    },
    {
      "cell_type": "markdown",
      "metadata": {
        "id": "Jp8yMtiM5Chr"
      },
      "source": [
        "The second value output of `pearsonr` is a measure of statistical significance, which we'll detail in *Intro to Stats*. "
      ]
    },
    {
      "cell_type": "markdown",
      "metadata": {
        "id": "J3HRJ9S7klIp"
      },
      "source": [
        "$\\rho$ has a range of -1 to 1, with values closer to zero indicating less correlation: "
      ]
    },
    {
      "cell_type": "code",
      "execution_count": 164,
      "metadata": {
        "colab": {
          "base_uri": "https://localhost:8080/"
        },
        "id": "6vF_9wgj5Chr",
        "outputId": "6140d8a6-b6d7-40f7-86f4-440606c3b6bd"
      },
      "outputs": [
        {
          "data": {
            "text/plain": [
              "-0.11756978413300208"
            ]
          },
          "execution_count": 164,
          "metadata": {},
          "output_type": "execute_result"
        }
      ],
      "source": [
        "st.pearsonr(iris.sepal_length, iris.sepal_width)[0]"
      ]
    },
    {
      "cell_type": "markdown",
      "metadata": {
        "id": "dUIa7O-6lXy8"
      },
      "source": [
        "The closer $\\rho$ is to 1 or -1, the stronger the positive or negative correlation, respectively: "
      ]
    },
    {
      "cell_type": "code",
      "execution_count": 165,
      "metadata": {
        "colab": {
          "base_uri": "https://localhost:8080/"
        },
        "id": "d9KqkNOr5Chr",
        "outputId": "070c663d-145b-45ff-acae-053b53a89eee"
      },
      "outputs": [
        {
          "data": {
            "text/plain": [
              "0.8717537758865833"
            ]
          },
          "execution_count": 165,
          "metadata": {},
          "output_type": "execute_result"
        }
      ],
      "source": [
        "st.pearsonr(iris.sepal_length, iris.petal_length)[0]"
      ]
    },
    {
      "cell_type": "code",
      "execution_count": 166,
      "metadata": {},
      "outputs": [
        {
          "data": {
            "text/plain": [
              "(0.9628654314027963, 4.6750039073255585e-86)"
            ]
          },
          "execution_count": 166,
          "metadata": {},
          "output_type": "execute_result"
        }
      ],
      "source": [
        "st.pearsonr(iris.petal_length, iris.petal_width)"
      ]
    },
    {
      "cell_type": "markdown",
      "metadata": {
        "id": "negAO_iA5Chs"
      },
      "source": [
        "N.B.: Covariance and correlation only account for linear relationships. Two variables could be non-linearly related to each other and these metrics could come out as zero."
      ]
    },
    {
      "cell_type": "markdown",
      "metadata": {
        "id": "elRFzq495Chs"
      },
      "source": [
        "**Return to slides here.**"
      ]
    },
    {
      "cell_type": "markdown",
      "metadata": {
        "id": "fwp0wDiy5Chs"
      },
      "source": [
        "## Segment 2: Distributions in Machine Learning"
      ]
    },
    {
      "cell_type": "markdown",
      "metadata": {
        "id": "UtNPNOzj5Cht"
      },
      "source": [
        "### Uniform"
      ]
    },
    {
      "cell_type": "markdown",
      "metadata": {
        "id": "mkg5ZlcY5Cht"
      },
      "source": [
        "The uniform distribution is about as straightforward as they come. It has constant probabilities across the entire range of values in its domain: "
      ]
    },
    {
      "cell_type": "code",
      "execution_count": null,
      "metadata": {
        "id": "m3kOc_-t5Cht"
      },
      "outputs": [],
      "source": [
        "u = np.random.uniform(size=10000)"
      ]
    },
    {
      "cell_type": "code",
      "execution_count": null,
      "metadata": {
        "id": "Nfqw-vNJ5Cht"
      },
      "outputs": [],
      "source": [
        "sns.set_style('ticks')"
      ]
    },
    {
      "cell_type": "code",
      "execution_count": null,
      "metadata": {
        "colab": {
          "base_uri": "https://localhost:8080/",
          "height": 0
        },
        "id": "yFF75RyzQCTu",
        "outputId": "b60c7f39-73cd-4170-b831-c02b518a42b7"
      },
      "outputs": [],
      "source": [
        "_ = sns.displot(u)"
      ]
    },
    {
      "cell_type": "markdown",
      "metadata": {
        "id": "iAccWery5Cht"
      },
      "source": [
        "Real-world examples include: \n",
        "\n",
        "* Dice rolling (PMF)\n",
        "* Card drawing (PMF)\n",
        "* Model hyperparameters\n",
        "* Emission of radioactive particles\n",
        "* Economic demand \n",
        "* Analog-to-digital signal quantization errors"
      ]
    },
    {
      "cell_type": "markdown",
      "metadata": {
        "id": "q0cQIl945Cht"
      },
      "source": [
        "### Gaussian"
      ]
    },
    {
      "cell_type": "markdown",
      "metadata": {
        "id": "-rW0khrV5Cht"
      },
      "source": [
        "Carl Friedrich Gauss (early 19th c. German mathematician and scientist) is the namesake of over a hundred concepts across mathematics, physics, and astronomy. One of those concepts is the Gaussian distribution, also known as the \"bell curve\" (though several distributions are bell-shaped) or **normal distribution**: "
      ]
    },
    {
      "cell_type": "code",
      "execution_count": null,
      "metadata": {
        "id": "zhcadaJu5Chu"
      },
      "outputs": [],
      "source": [
        "x = np.random.normal(size=10000)"
      ]
    },
    {
      "cell_type": "code",
      "execution_count": null,
      "metadata": {
        "colab": {
          "base_uri": "https://localhost:8080/",
          "height": 0
        },
        "id": "1cQ6-LIw5Chu",
        "outputId": "0c95c75d-5028-4cee-cb0c-f50c23d0afe1"
      },
      "outputs": [],
      "source": [
        "_ = sns.displot(x)"
      ]
    },
    {
      "cell_type": "code",
      "execution_count": null,
      "metadata": {
        "colab": {
          "base_uri": "https://localhost:8080/",
          "height": 0
        },
        "id": "sFpUGuMX5Chu",
        "outputId": "6468184f-02f6-4ae1-ea4d-04b7eb769cee"
      },
      "outputs": [],
      "source": [
        "_ = sns.displot(x, kde=True)"
      ]
    },
    {
      "cell_type": "markdown",
      "metadata": {
        "id": "fCrRRX1F5Chu"
      },
      "source": [
        "When the normal distribution has a mean ($\\mu$) of zero and standard deviation ($\\sigma$) of one, as it does by default with the NumPy `normal()` method..."
      ]
    },
    {
      "cell_type": "code",
      "execution_count": null,
      "metadata": {
        "colab": {
          "base_uri": "https://localhost:8080/"
        },
        "id": "DMa4Z2h35Chu",
        "outputId": "5ce46af4-0e08-4db0-b0af-fd7462f7b238"
      },
      "outputs": [],
      "source": [
        "np.mean(x)"
      ]
    },
    {
      "cell_type": "code",
      "execution_count": null,
      "metadata": {
        "colab": {
          "base_uri": "https://localhost:8080/"
        },
        "id": "k8QSIvEJ5Chu",
        "outputId": "7cffad89-6ebf-4481-96b3-beaab3d8b73c",
        "scrolled": true
      },
      "outputs": [],
      "source": [
        "np.std(x)"
      ]
    },
    {
      "cell_type": "markdown",
      "metadata": {
        "id": "iD-WgAZd5Chv"
      },
      "source": [
        "...it is a **standard normal distribution** (a.k.a., standard Gaussian distribution). Normal distributions can be denoted with the *math calligraphy* font as $\\mathcal{N}(\\mu, \\sigma^2)$, thus the standard normal distribution can be denoted as $\\mathcal{N}(0, 1)$. \n",
        "\n",
        "(N.B.: $\\sigma^2 = \\sigma$ in this case because $1^2 = 1$.)"
      ]
    },
    {
      "cell_type": "markdown",
      "metadata": {
        "id": "3FelqdY05Chv"
      },
      "source": [
        "Normal distributions are by far the most common distribution in statistics and machine learning. They are typically the default option, particularly if you have limited information about the random process you're modeling, because: \n",
        "\n",
        "1. Normal distributions assume the greatest possible uncertainty about the random variable they represent (relative to any other distribution of equivalent variance). Details of this are beyond the scope of this tutorial. \n",
        "2. Simple and very complex random processes alike are, under all common conditions, normally distributed when we sample values from the process. Since we sample data for statistical and machine learning models alike, this so-called **central limit theorem** (covered next) is a critically important concept. "
      ]
    },
    {
      "cell_type": "markdown",
      "metadata": {
        "id": "WE8R8Y385Chv"
      },
      "source": [
        "Real-world examples include: \n",
        "\n",
        "* Probability of heads across *n* tosses (PMF; $n = 5$ earlier, $n = 100$ below)\n",
        "* Sum of di(c)e rolls (PMF)\n",
        "* Height of adult women\n",
        "* Height of adult men\n",
        "* Education test scores, e.g., SAT"
      ]
    },
    {
      "cell_type": "code",
      "execution_count": null,
      "metadata": {
        "id": "iLylH-4m5Chv"
      },
      "outputs": [],
      "source": [
        "n_experiments = 10000\n",
        "heads_count = [np.random.binomial(100, 0.5) for i in range (n_experiments)]\n",
        "heads, event_count = np.unique(heads_count, return_counts=True)\n",
        "event_proba = event_count/n_experiments"
      ]
    },
    {
      "cell_type": "code",
      "execution_count": null,
      "metadata": {
        "colab": {
          "base_uri": "https://localhost:8080/",
          "height": 0
        },
        "id": "1OAA4vlZ5Chv",
        "outputId": "6504c63c-14a9-45a2-ee1f-2bb4c47583d2"
      },
      "outputs": [],
      "source": [
        "plt.bar(heads, event_proba)\n",
        "_ = plt.xlabel('Heads flips (out of 100 tosses)')"
      ]
    },
    {
      "cell_type": "markdown",
      "metadata": {
        "id": "HOY28bQX5Chv"
      },
      "source": [
        "### The Central Limit Theorem"
      ]
    },
    {
      "cell_type": "markdown",
      "metadata": {
        "id": "9UIXSsAh5Chv"
      },
      "source": [
        "To develop a functional understanding of the CLT, let's sample some values from our normal distribution:"
      ]
    },
    {
      "cell_type": "code",
      "execution_count": null,
      "metadata": {
        "colab": {
          "base_uri": "https://localhost:8080/"
        },
        "id": "GJkIY5N75Chw",
        "outputId": "96bc878f-20e0-41ae-f06e-215a60f2ced9"
      },
      "outputs": [],
      "source": [
        "x_sample = np.random.choice(x, size=10, replace=False)\n",
        "x_sample"
      ]
    },
    {
      "cell_type": "markdown",
      "metadata": {
        "id": "SrS19VdK5Chw"
      },
      "source": [
        "The mean of a sample isn't always going to be close to zero with such a small sample:"
      ]
    },
    {
      "cell_type": "code",
      "execution_count": null,
      "metadata": {
        "colab": {
          "base_uri": "https://localhost:8080/"
        },
        "id": "2B3kjm-H5Chw",
        "outputId": "833e8c16-4202-41f6-f104-65417023a1a2"
      },
      "outputs": [],
      "source": [
        "np.mean(x_sample)"
      ]
    },
    {
      "cell_type": "markdown",
      "metadata": {
        "id": "nOlR7gor5Chw"
      },
      "source": [
        "Let's define a function for generating **sampling distributions** of the mean of a given input distribution:"
      ]
    },
    {
      "cell_type": "code",
      "execution_count": null,
      "metadata": {
        "id": "YiPPxQLF5Chw"
      },
      "outputs": [],
      "source": [
        "def sample_mean_calculator(input_dist, sample_size, n_samples):\n",
        "    sample_means = []\n",
        "    for i in range(n_samples):\n",
        "        sample = np.random.choice(input_dist, size=sample_size, replace=False)\n",
        "        sample_means.append(sample.mean())\n",
        "    return sample_means"
      ]
    },
    {
      "cell_type": "code",
      "execution_count": null,
      "metadata": {
        "colab": {
          "base_uri": "https://localhost:8080/",
          "height": 0
        },
        "id": "0FAWIZvn5Chw",
        "outputId": "6ac55c82-5699-4d5e-dda1-3c469accf4c5"
      },
      "outputs": [],
      "source": [
        "sns.displot(sample_mean_calculator(x, 10, 10), color='green')\n",
        "_ = plt.xlim(-1.5, 1.5)"
      ]
    },
    {
      "cell_type": "markdown",
      "metadata": {
        "id": "5KWmR4HE5Chx"
      },
      "source": [
        "The more samples we take, the more likely that the sampling distribution of the means will be normally distributed: "
      ]
    },
    {
      "cell_type": "code",
      "execution_count": null,
      "metadata": {
        "colab": {
          "base_uri": "https://localhost:8080/",
          "height": 0
        },
        "id": "_8ZtuXJu5Chx",
        "outputId": "95364a7b-3cd7-49b6-9cd9-fcf2e4e9f837"
      },
      "outputs": [],
      "source": [
        "sns.displot(sample_mean_calculator(x, 10, 1000), color='green', kde=True)\n",
        "_ = plt.xlim(-1.5, 1.5)"
      ]
    },
    {
      "cell_type": "markdown",
      "metadata": {
        "id": "jgeYnkEz5Chx"
      },
      "source": [
        "The larger the sample, the tighter the sample means will tend to be around the population mean:"
      ]
    },
    {
      "cell_type": "code",
      "execution_count": null,
      "metadata": {
        "colab": {
          "base_uri": "https://localhost:8080/",
          "height": 0
        },
        "id": "d1plzceb5Chx",
        "outputId": "2a2a3e3a-2ee7-4490-9ece-037545f46e52"
      },
      "outputs": [],
      "source": [
        "sns.displot(sample_mean_calculator(x, 100, 1000), color='green', kde=True)\n",
        "_ = plt.xlim(-1.5, 1.5)"
      ]
    },
    {
      "cell_type": "code",
      "execution_count": null,
      "metadata": {
        "colab": {
          "base_uri": "https://localhost:8080/",
          "height": 0
        },
        "id": "ITeo-nOc5Chx",
        "outputId": "a282293f-372a-4846-92d2-1ae0d6d791f7"
      },
      "outputs": [],
      "source": [
        "sns.displot(sample_mean_calculator(x, 1000, 1000), color='green', kde=True)\n",
        "_ = plt.xlim(-1.5, 1.5)"
      ]
    },
    {
      "cell_type": "markdown",
      "metadata": {
        "id": "Jti_SH175Chx"
      },
      "source": [
        "#### Sampling from a skewed distribution"
      ]
    },
    {
      "cell_type": "code",
      "execution_count": null,
      "metadata": {
        "id": "T-cjJ4K65Chx"
      },
      "outputs": [],
      "source": [
        "s = st.skewnorm.rvs(10, size=10000)"
      ]
    },
    {
      "cell_type": "code",
      "execution_count": null,
      "metadata": {
        "colab": {
          "base_uri": "https://localhost:8080/",
          "height": 0
        },
        "id": "bYcXrbZ45Chx",
        "outputId": "094ea0d9-b484-4c3c-81b3-315d4a882d8c"
      },
      "outputs": [],
      "source": [
        "_ = sns.displot(s, kde=True)"
      ]
    },
    {
      "cell_type": "code",
      "execution_count": null,
      "metadata": {
        "colab": {
          "base_uri": "https://localhost:8080/",
          "height": 0
        },
        "id": "X5asvK2p5Chy",
        "outputId": "6b7be3eb-3386-4b20-c162-849f716ac81d"
      },
      "outputs": [],
      "source": [
        "_ = sns.displot(sample_mean_calculator(s, 10, 1000), color='green', kde=True)"
      ]
    },
    {
      "cell_type": "code",
      "execution_count": null,
      "metadata": {
        "colab": {
          "base_uri": "https://localhost:8080/",
          "height": 0
        },
        "id": "o5-tyS_N5Chy",
        "outputId": "01ffc91e-6977-4700-935f-b1a2030e5ece"
      },
      "outputs": [],
      "source": [
        "_ = sns.displot(sample_mean_calculator(s, 1000, 1000), color='green', kde=True)"
      ]
    },
    {
      "cell_type": "markdown",
      "metadata": {
        "id": "VD1FyOP-5Chy"
      },
      "source": [
        "#### Sampling from a multimodal distribution"
      ]
    },
    {
      "cell_type": "code",
      "execution_count": null,
      "metadata": {
        "id": "qefz7pqq5Chy"
      },
      "outputs": [],
      "source": [
        "m = np.concatenate((np.random.normal(size=5000), np.random.normal(loc = 4.0, size=5000)))"
      ]
    },
    {
      "cell_type": "code",
      "execution_count": null,
      "metadata": {
        "colab": {
          "base_uri": "https://localhost:8080/",
          "height": 0
        },
        "id": "dUVIgXcq5Chy",
        "outputId": "052d3c70-9065-409d-97bc-e0d5b1806348"
      },
      "outputs": [],
      "source": [
        "_ = sns.displot(m, kde=True)"
      ]
    },
    {
      "cell_type": "code",
      "execution_count": null,
      "metadata": {
        "colab": {
          "base_uri": "https://localhost:8080/",
          "height": 0
        },
        "id": "RooddaTD5Chy",
        "outputId": "6c1737cf-2b1d-4d32-df02-ba2ee7443254"
      },
      "outputs": [],
      "source": [
        "_ = sns.displot(sample_mean_calculator(m, 1000, 1000), color='green', kde=True)"
      ]
    },
    {
      "cell_type": "markdown",
      "metadata": {
        "id": "5LjEuVP85Chz"
      },
      "source": [
        "#### Sampling from uniform"
      ]
    },
    {
      "cell_type": "markdown",
      "metadata": {
        "id": "IwjCW3vY5Chz"
      },
      "source": [
        "Even sampling from the highly non-normal uniform distribution, the sampling distribution comes out normal: "
      ]
    },
    {
      "cell_type": "code",
      "execution_count": null,
      "metadata": {
        "colab": {
          "base_uri": "https://localhost:8080/",
          "height": 0
        },
        "id": "9yf6jQQW5Chz",
        "outputId": "5ee15ae4-fd80-4e72-95b0-d9b77d869a60"
      },
      "outputs": [],
      "source": [
        "_ = sns.displot(u)"
      ]
    },
    {
      "cell_type": "code",
      "execution_count": null,
      "metadata": {
        "colab": {
          "base_uri": "https://localhost:8080/",
          "height": 0
        },
        "id": "AKEuTLxd5Chz",
        "outputId": "c7cecbd5-c6c4-4c0c-cde0-fbe49151146d"
      },
      "outputs": [],
      "source": [
        "_ = sns.displot(sample_mean_calculator(u, 1000, 1000), color='green', kde=True)"
      ]
    },
    {
      "cell_type": "markdown",
      "metadata": {
        "id": "3rU0m--S5Chz"
      },
      "source": [
        "Therefore, with large enough sample sizes, we can assume the sampling distribution of the means will be normally distributed, allowing us to apply statistical and ML models that are configured for normally distributed noise, which is often the default assumption.\n",
        "\n",
        "As an example, the \"*t*-test\" (covered in *Intro to Stats*) allows us to infer whether two samples come from different populations (say, an experimental group that receives a treatment and a control group that receives a placebo). Thanks to the CLT, we can use this test even if we have no idea what the underlying distributions of the populations being tested are, which may be the case more frequently than not. "
      ]
    },
    {
      "cell_type": "markdown",
      "metadata": {
        "id": "UHfmjg3I5Chz"
      },
      "source": [
        "(Despite being associated with such a key concept as the CLT, the name \"normal distribution\" wasn't originally intended to imply that other distributions are \"abnormal\". It's a historical quirk related to Gauss describing orthogonal (technically a.k.a. \"normal\") equations associated with applied uses of the distribution.)"
      ]
    },
    {
      "cell_type": "markdown",
      "metadata": {
        "id": "I7HILoi55Chz"
      },
      "source": [
        "(Finally, you may wonder what the purpose of sampling means is! Well, when we gather data from the real world we are nearly always sampling a subset of all the available data produced by a given random process. And, once we've collected a sample of data, the aspect of it we're often most interested in above all else is its mean.)"
      ]
    },
    {
      "cell_type": "markdown",
      "metadata": {
        "id": "cY6d8KLa5Chz"
      },
      "source": [
        "### Log-Normal Distribution"
      ]
    },
    {
      "cell_type": "markdown",
      "metadata": {
        "id": "JhgvQLTF5Ch0"
      },
      "source": [
        "The natural logarithm of the **log-normal** distribution is normally distributed: "
      ]
    },
    {
      "cell_type": "code",
      "execution_count": null,
      "metadata": {
        "id": "nwf4rsyP5Ch0"
      },
      "outputs": [],
      "source": [
        "x = np.random.lognormal(size=10000) # defaults to standard normal mu=0, sigma=1"
      ]
    },
    {
      "cell_type": "code",
      "execution_count": null,
      "metadata": {
        "colab": {
          "base_uri": "https://localhost:8080/",
          "height": 0
        },
        "id": "SwTmkQTu5Ch0",
        "outputId": "f1c890de-faf0-4fd0-97d0-8c69e743a959"
      },
      "outputs": [],
      "source": [
        "_ = sns.displot(x, kde=True)"
      ]
    },
    {
      "cell_type": "code",
      "execution_count": null,
      "metadata": {
        "colab": {
          "base_uri": "https://localhost:8080/",
          "height": 0
        },
        "id": "WPw_gPIY5Ch0",
        "outputId": "a2209a99-9d1e-4f26-bcf4-7b79699a16cb"
      },
      "outputs": [],
      "source": [
        "_ = sns.displot(np.log(x), color='brown', kde=True)"
      ]
    },
    {
      "cell_type": "markdown",
      "metadata": {
        "id": "DaSbudQP5Ch0"
      },
      "source": [
        "Real-world examples: \n",
        "\n",
        "* Income\n",
        "* Length of comments in online forums\n",
        "* Duration of chess games or Rubik's Cube solves\n",
        "* Size of publicly-available video files \n",
        "* Number of hospitalized cases in an epidemic where public interventions are involved"
      ]
    },
    {
      "cell_type": "markdown",
      "metadata": {
        "id": "pj-m50lH5Ch0"
      },
      "source": [
        "### Exponential Distribution"
      ]
    },
    {
      "cell_type": "markdown",
      "metadata": {
        "id": "oBeXEmHF5Ch0"
      },
      "source": [
        "Relatively squished up against zero and then decreases exponentially toward higher values. Log-normal distribution, in contrast, could take negative values and both increases and decreases."
      ]
    },
    {
      "cell_type": "code",
      "execution_count": null,
      "metadata": {
        "id": "tQy3DRwB5Ch0"
      },
      "outputs": [],
      "source": [
        "x = np.random.exponential(scale=4, size=10000) # \"scale\" parameter defaults to one"
      ]
    },
    {
      "cell_type": "code",
      "execution_count": null,
      "metadata": {
        "colab": {
          "base_uri": "https://localhost:8080/",
          "height": 0
        },
        "id": "sTFF5gku5Ch0",
        "outputId": "8cf29bbf-d3de-461a-ee2a-c6fd1d77493b"
      },
      "outputs": [],
      "source": [
        "_ = sns.displot(x)"
      ]
    },
    {
      "cell_type": "markdown",
      "metadata": {
        "id": "NMC_Fxai5Ch1"
      },
      "source": [
        "Its logarithm has a skewed distribution: "
      ]
    },
    {
      "cell_type": "code",
      "execution_count": null,
      "metadata": {
        "colab": {
          "base_uri": "https://localhost:8080/",
          "height": 0
        },
        "id": "dV1cUVv65Ch1",
        "outputId": "0c74772d-c1f0-4e32-ece7-db75874a6782"
      },
      "outputs": [],
      "source": [
        "_ = sns.displot(np.log(x), color='brown', kde=True)"
      ]
    },
    {
      "cell_type": "markdown",
      "metadata": {
        "id": "5T79UJ9c5Ch1"
      },
      "source": [
        "Real-world examples: \n",
        "\n",
        "* Time between requests to access Wikipedia pages\n",
        "* Used frequently in deep learning"
      ]
    },
    {
      "cell_type": "markdown",
      "metadata": {
        "id": "xwnjFNt25Ch1"
      },
      "source": [
        "### Laplace Distribution"
      ]
    },
    {
      "cell_type": "markdown",
      "metadata": {
        "id": "tpfYwTti5Ch1"
      },
      "source": [
        "Named after Pierre-Simon Laplace, whom we mentioned (and pictured) earlier as a key figure in the development of Bayesian statistics."
      ]
    },
    {
      "cell_type": "code",
      "execution_count": null,
      "metadata": {
        "id": "o-sFY5c_5Ch1"
      },
      "outputs": [],
      "source": [
        "x = np.random.laplace(size=10000)"
      ]
    },
    {
      "cell_type": "markdown",
      "metadata": {
        "id": "IGOrnTD25Ch1"
      },
      "source": [
        "Alternatively referred to as the \"double exponential distribution\":"
      ]
    },
    {
      "cell_type": "code",
      "execution_count": null,
      "metadata": {
        "colab": {
          "base_uri": "https://localhost:8080/",
          "height": 0
        },
        "id": "J9xS2v3K5Ch1",
        "outputId": "cbce87bb-f83d-457b-9215-b8f4bd23499c"
      },
      "outputs": [],
      "source": [
        "_ = sns.displot(x, kde=True)"
      ]
    },
    {
      "cell_type": "markdown",
      "metadata": {
        "id": "_Yq0Lj3h5Ch2"
      },
      "source": [
        "In addition to the scale parameter of the exponential function, it has a location parameter that allows it to be centered on any value: "
      ]
    },
    {
      "cell_type": "code",
      "execution_count": null,
      "metadata": {
        "colab": {
          "base_uri": "https://localhost:8080/",
          "height": 0
        },
        "id": "HkgA0XMm5Ch2",
        "outputId": "c00b3235-5071-4895-87d9-4ca7f86cdf15"
      },
      "outputs": [],
      "source": [
        "_ = sns.displot(np.random.laplace(loc=25, size=10000), kde=True)"
      ]
    },
    {
      "cell_type": "markdown",
      "metadata": {
        "id": "KfY4anzI5Ch2"
      },
      "source": [
        "Real-world examples: \n",
        "\n",
        "* Extreme weather events, e.g., maximum rainfall in a day\n",
        "* Many machine learning applications; wherever an acute peak of probability is desired"
      ]
    },
    {
      "cell_type": "markdown",
      "metadata": {
        "id": "9Dvi1l8o5Ch2"
      },
      "source": [
        "### Binomial Distribution"
      ]
    },
    {
      "cell_type": "markdown",
      "metadata": {
        "id": "Yco-2t4s5Ch2"
      },
      "source": [
        "All distributions so far have been for continuous variables (PDFs). This one is discrete (PMF). \n",
        "\n",
        "We've already been using it for coin flips; it's used for binary (0 or 1) outcome. \n",
        "\n",
        "Its parameters are: \n",
        "\n",
        "* *n*: number of trials\n",
        "* *p*: probability of outcome of 1\n",
        "* *size*: number of experiments with *n* trials each"
      ]
    },
    {
      "cell_type": "code",
      "execution_count": null,
      "metadata": {
        "id": "LmaDYQm75Ch2"
      },
      "outputs": [],
      "source": [
        "n = 5\n",
        "n_experiments = 1000"
      ]
    },
    {
      "cell_type": "markdown",
      "metadata": {
        "id": "vfSCVQer5Ch2"
      },
      "source": [
        "#### Fair coin (p = 0.5)"
      ]
    },
    {
      "cell_type": "code",
      "execution_count": null,
      "metadata": {
        "id": "YnyWevsS5Ch2"
      },
      "outputs": [],
      "source": [
        "heads_count = np.random.binomial(n, 0.5, n_experiments)\n",
        "heads, event_count = np.unique(heads_count, return_counts=True)\n",
        "event_proba = event_count/n_experiments"
      ]
    },
    {
      "cell_type": "code",
      "execution_count": null,
      "metadata": {
        "colab": {
          "base_uri": "https://localhost:8080/",
          "height": 0
        },
        "id": "5i0myZqv5Ch2",
        "outputId": "90d76e09-730e-4aeb-ac5b-7ee74e7614aa"
      },
      "outputs": [],
      "source": [
        "plt.bar(heads, event_proba, color='mediumpurple')\n",
        "plt.xlabel('Heads flips (out of 5 tosses)')\n",
        "_ = plt.ylabel('Event probability')"
      ]
    },
    {
      "cell_type": "markdown",
      "metadata": {
        "id": "i5qIJ8-m5Ch3"
      },
      "source": [
        "#### Weighted coin (p = 0.8)"
      ]
    },
    {
      "cell_type": "code",
      "execution_count": null,
      "metadata": {
        "id": "eT0s3yiI5Ch3"
      },
      "outputs": [],
      "source": [
        "heads_count = np.random.binomial(n, 0.8, n_experiments)\n",
        "heads, event_count = np.unique(heads_count, return_counts=True)\n",
        "event_proba = event_count/n_experiments"
      ]
    },
    {
      "cell_type": "code",
      "execution_count": null,
      "metadata": {
        "colab": {
          "base_uri": "https://localhost:8080/",
          "height": 0
        },
        "id": "SB2qD95l5Ch3",
        "outputId": "50819300-bc9e-45c3-fbed-37e61eaed595"
      },
      "outputs": [],
      "source": [
        "plt.bar(heads, event_proba, color='mediumpurple')\n",
        "plt.xlabel('Heads flips (out of 5 tosses)')\n",
        "_ = plt.ylabel('Event probability')"
      ]
    },
    {
      "cell_type": "markdown",
      "metadata": {
        "id": "cjCnz1zD5Ch3"
      },
      "source": [
        "Technically, binomial distributions are created by sampling $n>1$ \"Bernoulli trials\". The **Bernoulli** distribution is equivalent to the binomial distribution where $n=1$: "
      ]
    },
    {
      "cell_type": "code",
      "execution_count": null,
      "metadata": {
        "colab": {
          "base_uri": "https://localhost:8080/"
        },
        "id": "9j9WlO9v5Ch3",
        "outputId": "c747772c-b3fb-45f2-d78c-5522ba6f3f4c"
      },
      "outputs": [],
      "source": [
        "np.random.binomial(1, 0.5)"
      ]
    },
    {
      "cell_type": "markdown",
      "metadata": {
        "id": "xuv_176n5Ch3"
      },
      "source": [
        "Real-world examples:\n",
        "\n",
        "* Making it to work on time\n",
        "* Candidate being invited to interview\n",
        "* Epidemiology: probability of death or catching disease"
      ]
    },
    {
      "cell_type": "markdown",
      "metadata": {
        "id": "dXZYgPdw5Ch4"
      },
      "source": [
        "### Multinomial Distribution"
      ]
    },
    {
      "cell_type": "markdown",
      "metadata": {
        "id": "aVhAIJvE5Ch4"
      },
      "source": [
        "Generalization of the binomial distribution to discrete random variables with more than two possible outcomes, e.g., the roll of a die: "
      ]
    },
    {
      "cell_type": "code",
      "execution_count": null,
      "metadata": {
        "id": "bvnRByqA5Ch4"
      },
      "outputs": [],
      "source": [
        "n = 1000"
      ]
    },
    {
      "cell_type": "code",
      "execution_count": null,
      "metadata": {
        "colab": {
          "base_uri": "https://localhost:8080/"
        },
        "id": "tYPHmsMT5Ch4",
        "outputId": "eb1aabde-9da8-4d8b-e948-35a3f95e1931"
      },
      "outputs": [],
      "source": [
        "rolls = np.random.multinomial(n, [1/6.]*6)\n",
        "rolls"
      ]
    },
    {
      "cell_type": "code",
      "execution_count": null,
      "metadata": {
        "id": "dB9d5Zo_5Ch4"
      },
      "outputs": [],
      "source": [
        "event_proba = rolls/n"
      ]
    },
    {
      "cell_type": "code",
      "execution_count": null,
      "metadata": {
        "colab": {
          "base_uri": "https://localhost:8080/",
          "height": 0
        },
        "id": "04T9DyGf5Ch4",
        "outputId": "c103b175-8a41-40d4-fcfa-c7c121b75925"
      },
      "outputs": [],
      "source": [
        "plt.bar(range(1, 7), event_proba, color='mediumpurple')\n",
        "plt.xlabel('Die roll')\n",
        "_ = plt.ylabel('Event probability')"
      ]
    },
    {
      "cell_type": "markdown",
      "metadata": {
        "id": "aWl-KRXL5Ch4"
      },
      "source": [
        "As in the binomial case, multinomial distributions are created by sampling $n>1$ multinoulli distributions, where the multinoulli distribution is equivalent to the multinomial distribution when $n=1$: "
      ]
    },
    {
      "cell_type": "code",
      "execution_count": null,
      "metadata": {
        "colab": {
          "base_uri": "https://localhost:8080/"
        },
        "id": "MrwYus375Ch4",
        "outputId": "bf26093d-5206-4d40-d70b-b61ab1213dbe"
      },
      "outputs": [],
      "source": [
        "np.random.multinomial(1, [1/6.]*6)"
      ]
    },
    {
      "cell_type": "markdown",
      "metadata": {
        "id": "Bs2JiMaN5Ch5"
      },
      "source": [
        "Since multinomial distributions can represent any categorical variable (e.g., burger, hot dog, pizza; 52 playing cards; NFL teams), not just integer values, we can't always calculate an expected value."
      ]
    },
    {
      "cell_type": "markdown",
      "metadata": {
        "id": "dKoLXZ5I5Ch5"
      },
      "source": [
        "### Poisson Distribution"
      ]
    },
    {
      "cell_type": "markdown",
      "metadata": {
        "id": "Z3EQEF9u5Ch5"
      },
      "source": [
        "**Poisson** is a third widely-used distribution for discrete random variables and it's the final distribution we'll cover."
      ]
    },
    {
      "cell_type": "markdown",
      "metadata": {
        "id": "C_9PDyAf5Ch5"
      },
      "source": [
        "It's named after French mathematician Simeon Denis Poisson and is used for count data, e.g.: \n",
        "\n",
        "* Number of cars that drive by in a minute\n",
        "* Number of guests at restaurant in an evening\n",
        "* Number of new hires in a month"
      ]
    },
    {
      "cell_type": "markdown",
      "metadata": {
        "id": "CcX5Mtbl5Ch5"
      },
      "source": [
        "First argument to NumPy `poisson()` method is $\\lambda$, which must be greater than zero and guides peak of probability distribution. E.g., sampling from Poisson with $\\lambda=5$ will tend to draw samples near 5."
      ]
    },
    {
      "cell_type": "code",
      "execution_count": null,
      "metadata": {
        "id": "zi31GP2P5Ch5"
      },
      "outputs": [],
      "source": [
        "lam=5"
      ]
    },
    {
      "cell_type": "markdown",
      "metadata": {
        "id": "d45vG8QF5Ch5"
      },
      "source": [
        "Second argument is number of samples to draw: "
      ]
    },
    {
      "cell_type": "code",
      "execution_count": null,
      "metadata": {
        "id": "Y3VB3Y1P5Ch5"
      },
      "outputs": [],
      "source": [
        "n=1000"
      ]
    },
    {
      "cell_type": "code",
      "execution_count": null,
      "metadata": {
        "id": "WxtctajF5Ch5"
      },
      "outputs": [],
      "source": [
        "samples = np.random.poisson(lam, n) "
      ]
    },
    {
      "cell_type": "code",
      "execution_count": null,
      "metadata": {
        "colab": {
          "base_uri": "https://localhost:8080/"
        },
        "id": "2Ayn0Vfb5Ch6",
        "outputId": "f77ebc01-8ff3-4484-bf6d-665fb9b9ea83"
      },
      "outputs": [],
      "source": [
        "samples[0:20]"
      ]
    },
    {
      "cell_type": "code",
      "execution_count": null,
      "metadata": {
        "id": "F2ys381P5Ch6"
      },
      "outputs": [],
      "source": [
        "x, x_count = np.unique(samples, return_counts=True)"
      ]
    },
    {
      "cell_type": "code",
      "execution_count": null,
      "metadata": {
        "colab": {
          "base_uri": "https://localhost:8080/"
        },
        "id": "_JSi8Jtc5Ch6",
        "outputId": "df825367-8515-41a9-e4fd-c359b02447a9"
      },
      "outputs": [],
      "source": [
        "x"
      ]
    },
    {
      "cell_type": "code",
      "execution_count": null,
      "metadata": {
        "colab": {
          "base_uri": "https://localhost:8080/"
        },
        "id": "APZbiuhN5Ch6",
        "outputId": "8534e999-9792-4ab1-f808-d975f51d71df"
      },
      "outputs": [],
      "source": [
        "x_count"
      ]
    },
    {
      "cell_type": "code",
      "execution_count": null,
      "metadata": {
        "id": "BqXl7-hB5Ch6"
      },
      "outputs": [],
      "source": [
        "Px = x_count/n"
      ]
    },
    {
      "cell_type": "code",
      "execution_count": null,
      "metadata": {
        "colab": {
          "base_uri": "https://localhost:8080/",
          "height": 0
        },
        "id": "mwzYi1QW5Ch7",
        "outputId": "875ac55f-f7c5-4e7c-8581-c697cb2b7a0c"
      },
      "outputs": [],
      "source": [
        "plt.bar(x, Px, color='mediumpurple')\n",
        "plt.title('PMF of Poisson with lambda = {}'.format(lam))\n",
        "plt.xlabel('x')\n",
        "_ = plt.ylabel('P(x)')"
      ]
    },
    {
      "cell_type": "markdown",
      "metadata": {
        "id": "Ekuyn4Zx5Ch7"
      },
      "source": [
        "### Mixture Distributions"
      ]
    },
    {
      "cell_type": "markdown",
      "metadata": {
        "id": "gHHStGFb5Ch7"
      },
      "source": [
        "Adapted from [Stack Overflow post](https://stackoverflow.com/questions/47759577/creating-a-mixture-of-probability-distributions-for-sampling):"
      ]
    },
    {
      "cell_type": "markdown",
      "metadata": {
        "id": "gD4x2RJu5Ch7"
      },
      "source": [
        "Multinomial distribution (driven by `np.random.choice()`) with probabilities set by `coefficients` array determines which of the three distributions to sample from."
      ]
    },
    {
      "cell_type": "code",
      "execution_count": null,
      "metadata": {
        "colab": {
          "base_uri": "https://localhost:8080/",
          "height": 0
        },
        "id": "v4-2kJVr5Ch7",
        "outputId": "81aebbd4-dd07-492e-9b1c-6b150305f8c3"
      },
      "outputs": [],
      "source": [
        "distributions = [\n",
        "    {\"type\": np.random.normal, \"kwargs\": {\"loc\": -3, \"scale\": 2}},\n",
        "    {\"type\": np.random.uniform, \"kwargs\": {\"low\": 4, \"high\": 6}},\n",
        "    {\"type\": np.random.normal, \"kwargs\": {\"loc\": 2, \"scale\": 1}},\n",
        "]\n",
        "\n",
        "coefficients = np.array([0.5, 0.2, 0.3])\n",
        "coefficients /= coefficients.sum()      # in case these did not add up to 1\n",
        "sample_size = 10000\n",
        "\n",
        "num_distr = len(distributions)\n",
        "data = np.zeros((sample_size, num_distr))\n",
        "for idx, distr in enumerate(distributions):\n",
        "    data[:, idx] = distr[\"type\"](size=(sample_size,), **distr[\"kwargs\"])\n",
        "\n",
        "random_idx = np.random.choice(np.arange(num_distr), size=(sample_size,), p=coefficients)\n",
        "sample = data[np.arange(sample_size), random_idx]\n",
        "_ = sns.displot(sample, bins=100, kde=True)"
      ]
    },
    {
      "cell_type": "markdown",
      "metadata": {
        "id": "zctZVQbB5Ch7"
      },
      "source": [
        "**Gaussian mixture model** (GMM) is common type of mixture distribution, wherein all of the component distributions are normal."
      ]
    },
    {
      "cell_type": "markdown",
      "metadata": {
        "id": "Lvje2Own5Ch8"
      },
      "source": [
        "**Return to slides here.**"
      ]
    },
    {
      "cell_type": "markdown",
      "metadata": {
        "id": "tAvcSl185Ch8"
      },
      "source": [
        "## Segment 3: Information Theory"
      ]
    },
    {
      "cell_type": "markdown",
      "metadata": {
        "id": "CIj2L7gD5Ch8"
      },
      "source": [
        "From the slides, the **self-information** formula is: \n",
        "$$ I(x)=-\\text{log}P(x) $$"
      ]
    },
    {
      "cell_type": "code",
      "execution_count": null,
      "metadata": {
        "id": "xcm3rorj5Ch8"
      },
      "outputs": [],
      "source": [
        "def self_info(my_p):\n",
        "    return -1*np.log(my_p)"
      ]
    },
    {
      "cell_type": "code",
      "execution_count": null,
      "metadata": {
        "colab": {
          "base_uri": "https://localhost:8080/"
        },
        "id": "d2PfIyUV5Ch8",
        "outputId": "976f1acf-1ada-43c3-f9fd-2c2b98b48ecd"
      },
      "outputs": [],
      "source": [
        "self_info(1)"
      ]
    },
    {
      "cell_type": "code",
      "execution_count": null,
      "metadata": {
        "colab": {
          "base_uri": "https://localhost:8080/"
        },
        "id": "W8xI5mfL5Ch8",
        "outputId": "01e535af-7c91-4d7c-804a-0dfe2fbb9486"
      },
      "outputs": [],
      "source": [
        "self_info(0.1)"
      ]
    },
    {
      "cell_type": "code",
      "execution_count": null,
      "metadata": {
        "colab": {
          "base_uri": "https://localhost:8080/"
        },
        "id": "sF-OyYxq5Ch8",
        "outputId": "a3cd8db3-cd20-49c6-c276-01f4f5dfe966"
      },
      "outputs": [],
      "source": [
        "self_info(0.01)"
      ]
    },
    {
      "cell_type": "code",
      "execution_count": null,
      "metadata": {
        "colab": {
          "base_uri": "https://localhost:8080/"
        },
        "id": "82cIxElx5Ch8",
        "outputId": "20c8312a-4d71-4ecf-c1db-53208a16d773"
      },
      "outputs": [],
      "source": [
        "self_info(0.5)"
      ]
    },
    {
      "cell_type": "code",
      "execution_count": null,
      "metadata": {
        "colab": {
          "base_uri": "https://localhost:8080/"
        },
        "id": "PycwWSm_5Ch9",
        "outputId": "4a94088b-aa1a-442b-b29f-fd1ab02ffb13"
      },
      "outputs": [],
      "source": [
        "self_info(0.5) + self_info(0.5)"
      ]
    },
    {
      "cell_type": "markdown",
      "metadata": {
        "id": "xRSf8Q7M5Ch9"
      },
      "source": [
        "Depending on what logarithm base we use, the units of self-information vary. Most frequently, the units are either:\n",
        "\n",
        "* **nats**: \n",
        "    * Natural logarithm, as above with `np.log()` \n",
        "    * Typical in ML\n",
        "* **bits**: \n",
        "    * Base-2 logarithm\n",
        "    * A.k.a. **shannons**\n",
        "    * Typical in computer science\n",
        "\n",
        "So, the self-information of $P(x) = 0.1$ is ~2.3 nats."
      ]
    },
    {
      "cell_type": "markdown",
      "metadata": {
        "id": "892saRjz5Ch9"
      },
      "source": [
        "### Shannon and Differential Entropy"
      ]
    },
    {
      "cell_type": "markdown",
      "metadata": {
        "id": "gy2ByHs35Ch9"
      },
      "source": [
        "To quantify uncertainty about a probability distribution (as opposed to a single event), we can use **Shannon entropy**, which is denoted $H(x)$ or $H(P)$: \n",
        "$$ H(x) = \\mathbb{E}_{\\text{x}\\sim P}[I(x)] \\\\\n",
        "= -\\mathbb{E}_{\\text{x}\\sim P}[\\text{log}P(x)] $$\n",
        "\n",
        "Conveys the expected informational content associated with an event drawn from the distribution:\n",
        "* **Low entropy**: \n",
        "    * Distribution is ~deterministic and outcomes are ~certain\n",
        "    * E.g., weighted coin always lands heads up ($P(1)=1$)\n",
        "* **High entropy**: \n",
        "    * Outcomes are uncertain\n",
        "    * Uniform distribution can be highest entropy\n",
        "    * E.g., coin is as likely to be heads as tails ($P(0)=P(1)=0.5$)"
      ]
    },
    {
      "cell_type": "markdown",
      "metadata": {
        "id": "1h_CUdNh5Ch9"
      },
      "source": [
        "As an example, Shannon entropy for a binary random variable (e.g., coin flip) is: \n",
        "$$ (p-1)\\text{log}(1-p)-p \\text{log}p $$"
      ]
    },
    {
      "cell_type": "code",
      "execution_count": null,
      "metadata": {
        "id": "MQAUp05w5Ch9"
      },
      "outputs": [],
      "source": [
        "def binary_entropy(my_p):\n",
        "    return (my_p-1)*np.log(1-my_p) - my_p*np.log(my_p)"
      ]
    },
    {
      "cell_type": "markdown",
      "metadata": {
        "id": "og4zT2kS5Ch-"
      },
      "source": [
        "Will throw `nan` with $p=0$ (always tails) or $p=1$ (always heads), but we can get close: "
      ]
    },
    {
      "cell_type": "code",
      "execution_count": null,
      "metadata": {
        "colab": {
          "base_uri": "https://localhost:8080/"
        },
        "id": "TohThggW5Ch-",
        "outputId": "9d556db7-4aed-4e62-8b3c-13a02616b7f3"
      },
      "outputs": [],
      "source": [
        "binary_entropy(0.00001)"
      ]
    },
    {
      "cell_type": "code",
      "execution_count": null,
      "metadata": {
        "colab": {
          "base_uri": "https://localhost:8080/"
        },
        "id": "Pg8tz7f95Ch-",
        "outputId": "06fc0d82-f3be-40d5-8cd9-78e56be494fc"
      },
      "outputs": [],
      "source": [
        "binary_entropy(0.99999)"
      ]
    },
    {
      "cell_type": "code",
      "execution_count": null,
      "metadata": {
        "colab": {
          "base_uri": "https://localhost:8080/"
        },
        "id": "9cJU5CP-5Ch-",
        "outputId": "88af8954-f221-4e49-a883-ef123a36d07a"
      },
      "outputs": [],
      "source": [
        "binary_entropy(0.9)"
      ]
    },
    {
      "cell_type": "code",
      "execution_count": null,
      "metadata": {
        "colab": {
          "base_uri": "https://localhost:8080/"
        },
        "id": "zASdy_6X5Ch-",
        "outputId": "7c4cea3b-30ba-4d45-d62f-a30520ffb941"
      },
      "outputs": [],
      "source": [
        "binary_entropy(0.5)"
      ]
    },
    {
      "cell_type": "code",
      "execution_count": null,
      "metadata": {
        "id": "hEFpmgMF5Ch-"
      },
      "outputs": [],
      "source": [
        "p = np.linspace(0.001, 0.999, 1000) # start, finish, n points"
      ]
    },
    {
      "cell_type": "code",
      "execution_count": null,
      "metadata": {
        "id": "63lu2Yda5Ch-"
      },
      "outputs": [],
      "source": [
        "H = binary_entropy(p)"
      ]
    },
    {
      "cell_type": "code",
      "execution_count": null,
      "metadata": {
        "colab": {
          "base_uri": "https://localhost:8080/",
          "height": 0
        },
        "id": "g7oaT7kb5Ch_",
        "outputId": "0d1af4b1-30a6-46ce-a6e8-ce4ba7b83151"
      },
      "outputs": [],
      "source": [
        "fig, ax = plt.subplots()\n",
        "plt.title('Shannon entropy of Bernoulli trial')\n",
        "plt.xlabel('p')\n",
        "plt.ylabel('H (nats)')\n",
        "_ = ax.plot(p,H)"
      ]
    },
    {
      "cell_type": "markdown",
      "metadata": {
        "id": "Gg4IxIJ25Ch_"
      },
      "source": [
        "**Differential entropy**: simply the term for Shannon entropy if distribution is PDF"
      ]
    },
    {
      "cell_type": "markdown",
      "metadata": {
        "id": "uVpOXC3K5Ch_"
      },
      "source": [
        "### Kullback-Leibler Divergence"
      ]
    },
    {
      "cell_type": "markdown",
      "metadata": {
        "id": "b-qE4xHD5Ch_"
      },
      "source": [
        "**KL divergence** enables us to quantify the relative Shannon (or differential) entropy of two probability distributions that are over the same random variable x.\n",
        "\n",
        "For example, if we have one probability distribution described by $P(x)$ and another by $Q(x)$, their KL divergence (denoted $D_\\text{KL}$) is: \n",
        "$$ D_\\text{KL}(P||Q) = \\mathbb{E}_{\\text{x} \\sim P}[\\text{log}P(x) - \\text{log}Q(x)] $$"
      ]
    },
    {
      "cell_type": "markdown",
      "metadata": {
        "id": "0IGVYCUx5Ch_"
      },
      "source": [
        "### Cross-Entropy"
      ]
    },
    {
      "cell_type": "markdown",
      "metadata": {
        "id": "TaFwwQIC5Ch_"
      },
      "source": [
        "Cross-entropy is a concept derived from KL divergence. Its detail is beyond the scope of this series except to mention that it provides us with the **cross-entropy cost** function. \n",
        "\n",
        "This cost function is ubiquitous in neural networks as it's the cost function of choice for predicting discrete, categorical outcomes. E.g., for a binary classifier, the cross-entropy cost ($C$) is: \n",
        "\n",
        "$$ C = -(y \\cdot \\text{log}(\\hat{y}) + (1-y) \\cdot \\text{log}(1-\\hat{y})) $$"
      ]
    },
    {
      "cell_type": "code",
      "execution_count": null,
      "metadata": {
        "id": "vSUxkRMX5Ch_"
      },
      "outputs": [],
      "source": [
        "def cross_entropy(y, a):\n",
        "    return -1*(y*np.log(a) + (1-y)*np.log(1-a))"
      ]
    },
    {
      "cell_type": "code",
      "execution_count": null,
      "metadata": {
        "colab": {
          "base_uri": "https://localhost:8080/"
        },
        "id": "0RNuubWo5Ch_",
        "outputId": "23c36fab-64de-4b1b-c954-45faf965fe0c"
      },
      "outputs": [],
      "source": [
        "cross_entropy(1, 0.9997)"
      ]
    },
    {
      "cell_type": "code",
      "execution_count": null,
      "metadata": {
        "colab": {
          "base_uri": "https://localhost:8080/"
        },
        "id": "rRiZkkxX5CiA",
        "outputId": "d57b50f1-458d-4511-f2b0-9fa4f6044f20"
      },
      "outputs": [],
      "source": [
        "cross_entropy(1, 0.9)"
      ]
    },
    {
      "cell_type": "code",
      "execution_count": null,
      "metadata": {
        "colab": {
          "base_uri": "https://localhost:8080/"
        },
        "id": "kvQ-JUk45CiA",
        "outputId": "9e057fdc-0984-47a8-a546-c1dfee6cc9c9"
      },
      "outputs": [],
      "source": [
        "cross_entropy(1, 0.6)"
      ]
    },
    {
      "cell_type": "code",
      "execution_count": null,
      "metadata": {
        "colab": {
          "base_uri": "https://localhost:8080/"
        },
        "id": "__hYqZuT5CiA",
        "outputId": "aca233e2-a142-456f-c1b2-72b4347da472"
      },
      "outputs": [],
      "source": [
        "cross_entropy(1, 0.3)"
      ]
    }
  ],
  "metadata": {
    "colab": {
      "include_colab_link": true,
      "name": "5-probability.ipynb",
      "provenance": []
    },
    "kernelspec": {
      "display_name": "Python 3",
      "language": "python",
      "name": "python3"
    },
    "language_info": {
      "codemirror_mode": {
        "name": "ipython",
        "version": 3
      },
      "file_extension": ".py",
      "mimetype": "text/x-python",
      "name": "python",
      "nbconvert_exporter": "python",
      "pygments_lexer": "ipython3",
      "version": "3.10.2"
    }
  },
  "nbformat": 4,
  "nbformat_minor": 0
}
