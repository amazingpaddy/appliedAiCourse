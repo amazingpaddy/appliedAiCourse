{
  "cells": [
    {
      "cell_type": "markdown",
      "metadata": {
        "colab_type": "text",
        "id": "view-in-github"
      },
      "source": [
        "<a href=\"https://colab.research.google.com/github/jonkrohn/ML-foundations/blob/master/notebooks/5-probability.ipynb\" target=\"_parent\"><img src=\"https://colab.research.google.com/assets/colab-badge.svg\" alt=\"Open In Colab\"/></a>"
      ]
    },
    {
      "cell_type": "markdown",
      "metadata": {
        "id": "aTOLgsbN69-P"
      },
      "source": [
        "# Probability & Information Theory"
      ]
    },
    {
      "cell_type": "markdown",
      "metadata": {
        "id": "yqUB9FTRAxd-"
      },
      "source": [
        "This class, *Probability & Information Theory*, introduces the mathematical fields that enable us to quantify uncertainty as well as to make predictions despite uncertainty. These fields are essential because machine learning algorithms are both trained by imperfect data and deployed into noisy, real-world scenarios they haven’t encountered before. \n",
        "\n",
        "Through the measured exposition of theory paired with interactive examples, you’ll develop a working understanding of variables, probability distributions, metrics for assessing distributions, and graphical models. You’ll also learn how to use information theory to measure how much meaningful signal there is within some given data. The content covered in this class is itself foundational for several other classes in the *Machine Learning Foundations* series, especially *Intro to Statistics* and *Optimization*."
      ]
    },
    {
      "cell_type": "markdown",
      "metadata": {
        "id": "d4tBvI88BheF"
      },
      "source": [
        "Over the course of studying this topic, you'll: \n",
        "\n",
        "* Develop an understanding of what’s going on beneath the hood of predictive statistical models and machine learning algorithms, including those used for deep learning. \n",
        "* Understand the appropriate variable type and probability distribution for representing a given class of data, as well as the standard techniques for assessing the relationships between distributions.\n",
        "* Apply information theory to quantify the proportion of valuable signal that’s present amongst the noise of a given probability distribution. \n"
      ]
    },
    {
      "cell_type": "markdown",
      "metadata": {
        "id": "Z68nQ0ekCYhF"
      },
      "source": [
        "**Note that this Jupyter notebook is not intended to stand alone. It is the companion code to a lecture or to videos from Jon Krohn's [Machine Learning Foundations](https://github.com/jonkrohn/ML-foundations) series, which offer detail on the following:**\n",
        "\n",
        "*Segment 1: Introduction to Probability*\n",
        "* What Probability Theory Is\n",
        "* A Brief History: Frequentists vs Bayesians\n",
        "* Applications of Probability to Machine Learning\n",
        "* Random Variables\n",
        "* Discrete vs Continuous Variables\n",
        "* Probability Mass and Probability Density Functions\n",
        "* Expected Value\n",
        "* Measures of Central Tendency: Mean, Median, and Mode\n",
        "* Quantiles: Quartiles, Deciles, and Percentiles\n",
        "* The Box-and-Whisker Plot\n",
        "* Measures of Dispersion: Variance, Standard Deviation, and Standard Error\n",
        "* Measures of Relatedness: Covariance and Correlation\n",
        "* Marginal and Conditional Probabilities\n",
        "* Independence and Conditional Independence\n",
        "\n",
        "*Segment 2: Distributions in Machine Learning*\n",
        "* Uniform\n",
        "* Gaussian: Normal and Standard Normal\n",
        "* The Central Limit Theorem\n",
        "* Log-Normal\n",
        "* Exponential and Laplace\n",
        "* Binomial and Multinomial\n",
        "* Poisson\n",
        "* Mixture Distributions\n",
        "* Preprocessing Data for Model Input\n",
        "\n",
        "*Segment 3: Information Theory*\n",
        "* What Information Theory Is\n",
        "* Self-Information\n",
        "* Nats, Bits and Shannons\n",
        "* Shannon and Differential Entropy\n",
        "* Kullback-Leibler Divergence\n",
        "* Cross-Entropy"
      ]
    },
    {
      "cell_type": "markdown",
      "metadata": {
        "id": "HDE74CXX5ChI"
      },
      "source": [
        "## Segment 1: Introduction to Probability"
      ]
    },
    {
      "cell_type": "code",
      "execution_count": 1,
      "metadata": {
        "id": "kzRpCm2a5ChJ"
      },
      "outputs": [],
      "source": [
        "import numpy as np\n",
        "import scipy.stats as st\n",
        "import matplotlib.pyplot as plt\n",
        "import seaborn as sns"
      ]
    },
    {
      "cell_type": "markdown",
      "metadata": {
        "id": "U_680ypO5ChJ"
      },
      "source": [
        "### What Probability Theory Is"
      ]
    },
    {
      "cell_type": "markdown",
      "metadata": {
        "id": "fwEAqIqR5ChJ"
      },
      "source": [
        "Let's assume we have a fair coin, which is equally likely to come up heads (H) or tails (T)."
      ]
    },
    {
      "cell_type": "markdown",
      "metadata": {
        "id": "kFl3g0GW5ChK"
      },
      "source": [
        "In instances like this, where the two outcomes are equally likely, we can use probability theory to express the likelihood of a particular **event** by comparing it with the **sample space** (the set of all possible outcomes; can be denoted as $\\Omega$): "
      ]
    },
    {
      "cell_type": "markdown",
      "metadata": {
        "id": "X82RIGz15ChK"
      },
      "source": [
        "$$ P(\\text{event}) = \\frac{\\text{no. of outcomes of event}}{\\text{no. of outcomes in }\\Omega} $$"
      ]
    },
    {
      "cell_type": "markdown",
      "metadata": {
        "id": "VuVWT8NI5ChK"
      },
      "source": [
        "If we're only flipping the coin once, then there are only two possible outcomes in the sample space $\\Omega$: it will either be H or T (using set notation, we could write this as $\\Omega$ = {H, T})."
      ]
    },
    {
      "cell_type": "markdown",
      "metadata": {
        "id": "9W5MsKt15ChK"
      },
      "source": [
        "Therefore: $$ P(H) = \\frac{1}{2} = 0.5 $$"
      ]
    },
    {
      "cell_type": "markdown",
      "metadata": {
        "id": "V_bzjMvs5ChK"
      },
      "source": [
        "Equally: $$ P(T) = \\frac{1}{2} = 0.5 $$"
      ]
    },
    {
      "cell_type": "markdown",
      "metadata": {
        "id": "PfHEQzcd5ChL"
      },
      "source": [
        "As a separate example, consider drawing a single card from a standard deck of 52 playing cards. In this case, the number of possible outcomes in the sample space $\\Omega$ is 52. "
      ]
    },
    {
      "cell_type": "markdown",
      "metadata": {
        "id": "qtAa3aRW5ChL"
      },
      "source": [
        "There is only one ace of spades in the deck, so the probability of drawing it is: $$ P(\\text{ace of spades}) = \\frac{1}{52} \\approx 0.019 $$"
      ]
    },
    {
      "cell_type": "markdown",
      "metadata": {
        "id": "81-uQ4ug5ChL"
      },
      "source": [
        "In contrast there are four aces, so the probability of drawing an ace is: $$ P(\\text{ace}) = \\frac{4}{52} \\approx 0.077 $$"
      ]
    },
    {
      "cell_type": "markdown",
      "metadata": {
        "id": "uqco79Cd5ChL"
      },
      "source": [
        "Some additional examples: \n",
        "$$ P(\\text{spade}) = \\frac{13}{52} = 0.25 $$\n",
        "$$ P(\\text{ace OR spade}) = \\frac{16}{52} \\approx 0.307 $$\n",
        "$$ P(\\text{card}) = \\frac{52}{52} = 1 $$\n",
        "$$ P(\\text{turnip}) = \\frac{0}{52} = 0 $$"
      ]
    },
    {
      "cell_type": "markdown",
      "metadata": {
        "id": "snINg1tz5ChL"
      },
      "source": [
        "#### Multiple independent observations"
      ]
    },
    {
      "cell_type": "markdown",
      "metadata": {
        "id": "gIPR6og95ChL"
      },
      "source": [
        "Let's return to coin flipping to illustrate situations where we have an event consisting of multiple independent observations. For example, the probability of throwing two consecutive heads is: $$ P(\\text{HH}) = \\frac{1}{4} = 0.25 $$ ...because there is one HH event in the sample set of four possible events ($\\Omega$ = {HH, HT, TH, TT})."
      ]
    },
    {
      "cell_type": "markdown",
      "metadata": {
        "id": "rT11_oHg5ChM"
      },
      "source": [
        "Likewise, the probability of throwing *three* consecutive heads is: $$ P(\\text{HHH}) = \\frac{1}{8} = 0.125 $$ ...because there is one HHH event in the sample set of eight possible events ($\\Omega$ = {HHH, HHT, HTH, THH, HTT, THT, TTH, TTT})."
      ]
    },
    {
      "cell_type": "markdown",
      "metadata": {
        "id": "ru44PKUe5ChM"
      },
      "source": [
        "As final examples, the probability of throwing exactly two heads in three tosses is $ P = \\frac{3}{8} = 0.375 $ while the probability of throwing at least two heads in three tosses is $ P = \\frac{4}{8} = 0.5 $."
      ]
    },
    {
      "cell_type": "markdown",
      "metadata": {
        "id": "vh3WnRhm5ChM"
      },
      "source": [
        "#### Combining probabilities"
      ]
    },
    {
      "cell_type": "markdown",
      "metadata": {
        "id": "YInbLu1i5ChM"
      },
      "source": [
        "In order to combine probabilities, we can multiply them. So the probability of throwing five consecutive heads, for example, is the product of probabilities we've already calculated: $$ P(\\text{HHHHH}) = P(\\text{HH}) \\times P(\\text{HHH}) = \\frac{1}{4} \\times \\frac{1}{8} = \\frac{1}{32} \\approx 0.031 $$"
      ]
    },
    {
      "cell_type": "markdown",
      "metadata": {
        "id": "w-wlHpI05ChM"
      },
      "source": [
        "#### Combinatorics"
      ]
    },
    {
      "cell_type": "markdown",
      "metadata": {
        "id": "1ckSVU3p5ChM"
      },
      "source": [
        "*Combinatorics* is a field of mathematics devoted to counting that can be helpful to studying probabilities. We can use **factorials** (e.g., $4! = 4 \\times 3 \\times 2 \\times 1 = 24$), which feature prominently in combinatorics, to calculate probabilities instead of painstakingly determining all of the members of the sample space $\\Omega$ and counting subsets within $\\Omega$. "
      ]
    },
    {
      "cell_type": "markdown",
      "metadata": {
        "id": "zYL4ODP75ChN"
      },
      "source": [
        "More specifically, we can calculate the number of outcomes of an event using the \"number of combinations\" equation: $$ {n \\choose k} = \\frac{n!}{k!(n - k)!} $$"
      ]
    },
    {
      "cell_type": "markdown",
      "metadata": {
        "id": "kQhpdNEL5ChN"
      },
      "source": [
        "The left-hand side of the equation is read \"$n$ choose $k$\" and is most quickly understood via an example: If we have three coin flips, $n = 3$, and if we're interested in the number of ways to get two head flips (or two tail flips, for that matter), $k = 2$. We would read this as \"3 choose 2\" and calculate it as:\n",
        "$$ {n \\choose k} = {3 \\choose 2} = \\frac{3!}{2!(3 - 2)!} = \\frac{3!}{(2!)(1!)} = \\frac{3 \\times 2 \\times 1}{(2 \\times 1)(1)} = \\frac{6}{(2)(1)} = \\frac{6}{2} = 3 $$"
      ]
    },
    {
      "cell_type": "markdown",
      "metadata": {
        "id": "PoPfNW275ChN"
      },
      "source": [
        "This provide us with the numerator for event-probability equation from above: $$ P(\\text{event}) = \\frac{\\text{no. of outcomes of event}}{\\text{no. of outcomes in }\\Omega} $$"
      ]
    },
    {
      "cell_type": "markdown",
      "metadata": {
        "id": "ThoyCpl35ChO"
      },
      "source": [
        "In the case of coin-flipping (or any binary process with equally probable outcomes), the denominator can be calculated with $2^n$ (where $n$ is again the number of coin flips), so: $$ \\frac{\\text{no. of outcomes of event}}{\\text{no. of outcomes in }\\Omega} = \\frac{3}{2^n} = \\frac{3}{2^3} = \\frac{3}{8} = 0.375 $$"
      ]
    },
    {
      "cell_type": "markdown",
      "metadata": {
        "id": "QKRugWrQ5ChO"
      },
      "source": [
        "**Exercises**:\n",
        "\n",
        "1. What is the probability of drawing the ace of spades twice in a row? (Assume that any card drawn on the first draw will be put back in the deck before the second draw.)\n",
        "2. You draw a card from a deck of cards. After replacing the drawn card back in the deck and shuffling thoroughly, what is the probability of drawing the same card again? \n",
        "3. Use $n \\choose k$ to calculate the probability of throwing three heads in five coin tosses.\n",
        "4. Create a Python method that solves exercise 3 and incorporates the $n \\choose k$ formula $\\frac{n!}{k!(n - k)!}$. With the method in hand, calculate the probability of -- in five tosses -- throwing each of zero, one, two, three, four, and five heads."
      ]
    },
    {
      "cell_type": "markdown",
      "metadata": {
        "id": "X1d1mBjR5ChO"
      },
      "source": [
        "**Spoiler alert**: Solutions are below so scroll carefully..."
      ]
    },
    {
      "cell_type": "code",
      "execution_count": null,
      "metadata": {
        "id": "_ZzjXjHy5ChO"
      },
      "outputs": [],
      "source": []
    },
    {
      "cell_type": "code",
      "execution_count": null,
      "metadata": {
        "id": "sbq5esRv5ChO"
      },
      "outputs": [],
      "source": []
    },
    {
      "cell_type": "code",
      "execution_count": null,
      "metadata": {
        "id": "oPtm03U95ChO"
      },
      "outputs": [],
      "source": []
    },
    {
      "cell_type": "markdown",
      "metadata": {
        "id": "U7IgNJwV5ChO"
      },
      "source": [
        "**Solutions**:"
      ]
    },
    {
      "cell_type": "markdown",
      "metadata": {
        "id": "qiSjQ1mR5ChP"
      },
      "source": [
        "1. $$ P(\\text{ace of spades}) \\times P(\\text{ace of spades}) = \\left(\\frac{1}{52}\\right)^2 = \\frac{1}{2704} = 0.00037 = 0.037\\% $$"
      ]
    },
    {
      "cell_type": "markdown",
      "metadata": {
        "id": "R3aUyZvi5ChP"
      },
      "source": [
        "2. $$ P(\\text{any card}) = \\frac{52}{52} = 1 $$\n",
        "$$ P(\\text{same card as first draw}) = \\frac{1}{52} \\approx 0.019 $$\n",
        "$$ P(\\text{any card})P(\\text{same card as first draw}) = (1)(\\frac{1}{52}) = \\frac{1}{52} \\approx 0.019$$"
      ]
    },
    {
      "cell_type": "markdown",
      "metadata": {
        "id": "S8tA4XlQ5ChP"
      },
      "source": [
        "3. $$ {n \\choose k} = {5 \\choose 3} = \\frac{5!}{3!(5 - 3)!} = \\frac{5!}{(3!)(2!)} = \\frac{5 \\times 4 \\times 3 \\times 2 \\times 1}{(3 \\times 2 \\times 1)(2 \\times 1)} = \\frac{120}{(6)(2)} = \\frac{120}{12} = 10 $$"
      ]
    },
    {
      "cell_type": "markdown",
      "metadata": {
        "id": "aS4bc83U5ChP"
      },
      "source": [
        "$$P = \\frac{10}{2^n} = \\frac{10}{2^5} = \\frac{10}{32} = 0.3125 $$"
      ]
    },
    {
      "cell_type": "code",
      "execution_count": 2,
      "metadata": {
        "id": "0_3pRRTX5ChP"
      },
      "outputs": [],
      "source": [
        "from math import factorial"
      ]
    },
    {
      "cell_type": "code",
      "execution_count": 3,
      "metadata": {
        "id": "MgdCyK805ChP"
      },
      "outputs": [],
      "source": [
        "def coinflip_prob(n, k):\n",
        "    n_choose_k = factorial(n)/(factorial(k)*factorial(n-k))\n",
        "    return n_choose_k/2**n"
      ]
    },
    {
      "cell_type": "code",
      "execution_count": 4,
      "metadata": {
        "colab": {
          "base_uri": "https://localhost:8080/"
        },
        "id": "4N3_Ebkum1Vh",
        "outputId": "72187c55-1762-426a-9018-4de46b0949a2"
      },
      "outputs": [
        {
          "data": {
            "text/plain": [
              "0.3125"
            ]
          },
          "execution_count": 4,
          "metadata": {},
          "output_type": "execute_result"
        }
      ],
      "source": [
        "coinflip_prob(5, 3)"
      ]
    },
    {
      "cell_type": "code",
      "execution_count": 5,
      "metadata": {
        "colab": {
          "base_uri": "https://localhost:8080/"
        },
        "id": "6UO8q5N45ChQ",
        "outputId": "ae6b418a-aa75-4f2a-d4e0-ca4cd748ada8"
      },
      "outputs": [
        {
          "data": {
            "text/plain": [
              "[0.03125, 0.15625, 0.3125, 0.3125, 0.15625, 0.03125]"
            ]
          },
          "execution_count": 5,
          "metadata": {},
          "output_type": "execute_result"
        }
      ],
      "source": [
        "[coinflip_prob(5, h) for h in range(6)]"
      ]
    },
    {
      "cell_type": "markdown",
      "metadata": {
        "id": "gjSkHJ8r5ChQ"
      },
      "source": [
        "#### The Law of Large Numbers"
      ]
    },
    {
      "cell_type": "markdown",
      "metadata": {
        "id": "U9NDLpfo5ChR"
      },
      "source": [
        "While a fair coin should land heads up 50% of the time, as we've seen above, with small sample sizes, there is a non-trivial possibility that in a given experiment we could flip heads on all of the tosses. For example, we've calculated that there's a 3.1% chance that we'll get heads on every toss in a small five-toss experiment. "
      ]
    },
    {
      "cell_type": "markdown",
      "metadata": {
        "id": "7rfVQfP55ChR"
      },
      "source": [
        "The **law of large numbers** states that the more experiments we run, the closer we will tend to get to the expected probability. "
      ]
    },
    {
      "cell_type": "markdown",
      "metadata": {
        "id": "7A3Va-dB5ChR"
      },
      "source": [
        "Let's run some code to examine this in practice. To start, we'll create a vector of exponentially increasing $n$umbers of coin tosses per experiment: "
      ]
    },
    {
      "cell_type": "code",
      "execution_count": 6,
      "metadata": {
        "id": "ymsouctT5ChR"
      },
      "outputs": [],
      "source": [
        "ns = np.array([2, 4, 8, 16, 32, 64, 128, 256, 512, 1024, 2048, 4096]) "
      ]
    },
    {
      "cell_type": "code",
      "execution_count": 7,
      "metadata": {
        "id": "hgmoAn2g5ChR"
      },
      "outputs": [],
      "source": [
        "np.random.seed(42) # for reproducibility"
      ]
    },
    {
      "cell_type": "markdown",
      "metadata": {
        "id": "hKtZzZKK5ChR"
      },
      "source": [
        "We will discuss the `binomial()` method in more detail in *Segment 2*. For now it suffices to think of its two arguments as *number of coin flips in experiment* and *probability of heads*, while it returns the number of flips that are heads in the experiment."
      ]
    },
    {
      "cell_type": "code",
      "execution_count": 8,
      "metadata": {
        "colab": {
          "base_uri": "https://localhost:8080/"
        },
        "id": "xRQh-0iG5ChS",
        "outputId": "ff056a15-cfc1-43fd-dda1-7ba5ca1c661b"
      },
      "outputs": [
        {
          "data": {
            "text/plain": [
              "0"
            ]
          },
          "execution_count": 8,
          "metadata": {},
          "output_type": "execute_result"
        }
      ],
      "source": [
        "np.random.binomial(1, 0.5)"
      ]
    },
    {
      "cell_type": "code",
      "execution_count": 9,
      "metadata": {
        "colab": {
          "base_uri": "https://localhost:8080/"
        },
        "id": "OwfWWhFm5ChS",
        "outputId": "b6ad355c-36e3-4be6-8836-15fa78ae6172"
      },
      "outputs": [
        {
          "data": {
            "text/plain": [
              "[2, 3, 4, 6, 13, 27, 54, 136, 258, 509, 1038, 2094]"
            ]
          },
          "execution_count": 9,
          "metadata": {},
          "output_type": "execute_result"
        }
      ],
      "source": [
        "heads_count = [np.random.binomial(n, 0.5) for n in ns]\n",
        "heads_count"
      ]
    },
    {
      "cell_type": "code",
      "execution_count": 10,
      "metadata": {
        "colab": {
          "base_uri": "https://localhost:8080/"
        },
        "id": "rL4PbNmY5ChS",
        "outputId": "ef2e0569-a621-4628-ee15-e4cdc767e45e"
      },
      "outputs": [
        {
          "data": {
            "text/plain": [
              "array([1.        , 0.75      , 0.5       , 0.375     , 0.40625   ,\n",
              "       0.421875  , 0.421875  , 0.53125   , 0.50390625, 0.49707031,\n",
              "       0.50683594, 0.51123047])"
            ]
          },
          "execution_count": 10,
          "metadata": {},
          "output_type": "execute_result"
        }
      ],
      "source": [
        "proportion_heads = heads_count/ns\n",
        "proportion_heads"
      ]
    },
    {
      "cell_type": "code",
      "execution_count": 11,
      "metadata": {
        "colab": {
          "base_uri": "https://localhost:8080/",
          "height": 285
        },
        "id": "vlz7a5DU5ChS",
        "outputId": "cbb706c8-ce3a-4d42-ce11-69cb5f5cd7b0"
      },
      "outputs": [
        {
          "data": {
            "image/png": "[encoded data removed]",
            "text/plain": [
              "<Figure size 432x288 with 1 Axes>"
            ]
          },
          "metadata": {
            "needs_background": "light"
          },
          "output_type": "display_data"
        }
      ],
      "source": [
        "fig, ax = plt.subplots()\n",
        "plt.xlabel('Number of coin flips in experiment')\n",
        "plt.ylabel('Proportion of flips that are heads')\n",
        "plt.axhline(0.5, color='orange')\n",
        "_ = ax.scatter(ns, proportion_heads)"
      ]
    },
    {
      "cell_type": "markdown",
      "metadata": {
        "id": "RvrI0woM5ChS"
      },
      "source": [
        "It is important at this juncture to address the **gambler's fallacy**. It is a common misconception that the law of large numbers dictates that if, say, five heads have been flipped in a row, then the probability of tails is higher on the sixth flip. In fact, probability theory holds that each coin flip is completely independent of all others. Thus, every single flip of a fair coin has a 50% chance of being heads, no matter what happened on preceding flips."
      ]
    },
    {
      "cell_type": "markdown",
      "metadata": {
        "id": "j2-wA_6E5ChT"
      },
      "source": [
        "(To capitalize on this misunderstanding, roulette tables at casinos often have prominent displays tracking the history of red versus black even though there's a 47.4% chance of each on every spin of the roulette wheel no matter what happened on preceding spins. Gamblers will note, say, five reds in a row at a given table and flock to it to bet on black.) "
      ]
    },
    {
      "cell_type": "markdown",
      "metadata": {
        "id": "hKciO43C5ChT"
      },
      "source": [
        "#### Statistics"
      ]
    },
    {
      "cell_type": "markdown",
      "metadata": {
        "id": "WqitDIkk5ChT"
      },
      "source": [
        "The field of statistics applies probability theory to make inferences with a quantifiable degree of confidence. For example, let's say we ran the five-coin-flip experiment 1000 times with a fair coin: "
      ]
    },
    {
      "cell_type": "code",
      "execution_count": 12,
      "metadata": {
        "id": "Nvc9rCnq5ChT"
      },
      "outputs": [],
      "source": [
        "n_experiments = 100000000\n",
        "heads_count = np.random.binomial(5, 0.5, n_experiments)"
      ]
    },
    {
      "cell_type": "markdown",
      "metadata": {
        "id": "siW-zTqm5ChT"
      },
      "source": [
        "We can plot the results of our experiment to create a **probability distribution**: "
      ]
    },
    {
      "cell_type": "code",
      "execution_count": 13,
      "metadata": {
        "id": "FRiZSpwy5ChT"
      },
      "outputs": [],
      "source": [
        "heads, event_count = np.unique(heads_count, return_counts=True)"
      ]
    },
    {
      "cell_type": "code",
      "execution_count": 14,
      "metadata": {
        "colab": {
          "base_uri": "https://localhost:8080/"
        },
        "id": "8TEmy-_c5ChT",
        "outputId": "0ec5558e-9011-4c7f-cd4c-768d515001c2"
      },
      "outputs": [
        {
          "data": {
            "text/plain": [
              "array([0, 1, 2, 3, 4, 5])"
            ]
          },
          "execution_count": 14,
          "metadata": {},
          "output_type": "execute_result"
        }
      ],
      "source": [
        "heads"
      ]
    },
    {
      "cell_type": "code",
      "execution_count": 15,
      "metadata": {
        "colab": {
          "base_uri": "https://localhost:8080/"
        },
        "id": "Yn5wlP-A5ChU",
        "outputId": "a21f3138-a350-4dab-a284-c400bd7134c3"
      },
      "outputs": [
        {
          "data": {
            "text/plain": [
              "array([ 3126843, 15621370, 31256931, 31252309, 15618366,  3124181])"
            ]
          },
          "execution_count": 15,
          "metadata": {},
          "output_type": "execute_result"
        }
      ],
      "source": [
        "event_count"
      ]
    },
    {
      "cell_type": "code",
      "execution_count": 16,
      "metadata": {
        "colab": {
          "base_uri": "https://localhost:8080/"
        },
        "id": "LaBGlw-95ChU",
        "outputId": "6b572131-2b3c-4ebf-8d34-7ffe3eee6708"
      },
      "outputs": [
        {
          "data": {
            "text/plain": [
              "array([0.03126843, 0.1562137 , 0.31256931, 0.31252309, 0.15618366,\n",
              "       0.03124181])"
            ]
          },
          "execution_count": 16,
          "metadata": {},
          "output_type": "execute_result"
        }
      ],
      "source": [
        "event_proba = event_count/n_experiments\n",
        "event_proba"
      ]
    },
    {
      "cell_type": "code",
      "execution_count": 17,
      "metadata": {
        "colab": {
          "base_uri": "https://localhost:8080/",
          "height": 285
        },
        "id": "ecU6IMfE5ChU",
        "outputId": "d9434f55-a4fb-4226-8a6b-7f77b0094c44"
      },
      "outputs": [
        {
          "data": {
            "image/png": "[encoded data removed]",
            "text/plain": [
              "<Figure size 432x288 with 1 Axes>"
            ]
          },
          "metadata": {
            "needs_background": "light"
          },
          "output_type": "display_data"
        }
      ],
      "source": [
        "plt.bar(heads, event_proba, color='mediumpurple')\n",
        "plt.xlabel('Heads flips (out of 5 tosses)')\n",
        "_ = plt.ylabel('Event probability')"
      ]
    },
    {
      "cell_type": "markdown",
      "metadata": {
        "id": "KwhO9Zn75ChU"
      },
      "source": [
        "Let's say we'd like to now test a coin as to whether it's fair or not. We flip it five times and all five times it comes up heads. Does this imply it's not a fair coin? Statistics arms us with tools to use the probability distribution above to answer this question with a particular degree of confidence. "
      ]
    },
    {
      "cell_type": "markdown",
      "metadata": {
        "id": "AENw26_O5ChU"
      },
      "source": [
        "**Return to slides here.**"
      ]
    },
    {
      "cell_type": "markdown",
      "metadata": {
        "id": "LMC_Cvs85ChV"
      },
      "source": [
        "### Expected Value"
      ]
    },
    {
      "cell_type": "code",
      "execution_count": 18,
      "metadata": {
        "colab": {
          "base_uri": "https://localhost:8080/"
        },
        "id": "XOyKNFZw5ChV",
        "outputId": "c4b00706-4351-4427-bff5-99e81f7e8053"
      },
      "outputs": [
        {
          "data": {
            "text/plain": [
              "[0.03125, 0.15625, 0.3125, 0.3125, 0.15625, 0.03125]"
            ]
          },
          "execution_count": 18,
          "metadata": {},
          "output_type": "execute_result"
        }
      ],
      "source": [
        "P = [coinflip_prob(5, x) for x in range(6)]\n",
        "P"
      ]
    },
    {
      "cell_type": "markdown",
      "metadata": {
        "id": "XCCclUvR5ChV"
      },
      "source": [
        "From the slides:\n",
        "$$ \\mathbb{E} = \\sum_x xP(x) $$"
      ]
    },
    {
      "cell_type": "code",
      "execution_count": 19,
      "metadata": {
        "colab": {
          "base_uri": "https://localhost:8080/"
        },
        "id": "37gjROzg5ChV",
        "outputId": "a7cd7980-ae88-4698-abe0-cfa566521d86"
      },
      "outputs": [
        {
          "data": {
            "text/plain": [
              "2.5"
            ]
          },
          "execution_count": 19,
          "metadata": {},
          "output_type": "execute_result"
        }
      ],
      "source": [
        "E = sum([P[x]*x for x in range(6)])\n",
        "E"
      ]
    },
    {
      "cell_type": "markdown",
      "metadata": {
        "id": "xOq8r0Ud5ChV"
      },
      "source": [
        "**Exercises**:\n",
        "\n",
        "1. Assuming heads = 1 and tails = 0, what’s the expected value of the toss of a fair coin? \n",
        "2. ...and of two tosses of a fair coin? \n",
        "3. You are one of a thousand people to purchase a lottery ticket. The ticket costs $10 and pays out $5000. What value should you expect from this transaction? \n"
      ]
    },
    {
      "cell_type": "markdown",
      "metadata": {
        "id": "uziVFQUR6A4x"
      },
      "source": [
        "**Spoiler Alert**: Solutions below"
      ]
    },
    {
      "cell_type": "code",
      "execution_count": null,
      "metadata": {
        "id": "vsl_1I3n5ChV"
      },
      "outputs": [],
      "source": []
    },
    {
      "cell_type": "code",
      "execution_count": null,
      "metadata": {
        "id": "sZLZtHsN5ChV"
      },
      "outputs": [],
      "source": []
    },
    {
      "cell_type": "code",
      "execution_count": null,
      "metadata": {
        "id": "q2Th7Qb-5ChW"
      },
      "outputs": [],
      "source": []
    },
    {
      "cell_type": "markdown",
      "metadata": {
        "id": "ZYyeFfVW5ChW"
      },
      "source": [
        "**Solutions**:\n",
        "\n",
        "1. (½)0 + (½)1 = 0 + ½ = ½ \n",
        "2. (¼)0 + (½)1 + (¼)2 = 0 + ½ + ½ = 1 \n",
        "\n",
        "3. \n",
        "(1/1000)(\\\\$5000-\\\\$10) + (999/1000)(-\\\\$10) \\\n",
        "= (1/1000)(\\\\$4990) + (999/1000)(-\\\\$10) \\\n",
        "= \\\\$4.99 + (\\\\$-9.99) \\\n",
        "= -\\\\$5\n"
      ]
    },
    {
      "cell_type": "markdown",
      "metadata": {
        "id": "IwCzvbE05ChW"
      },
      "source": [
        "### Measures of Central Tendency"
      ]
    },
    {
      "cell_type": "markdown",
      "metadata": {
        "id": "Nz_RAtEf5ChW"
      },
      "source": [
        "Measures of central tendency provide a summary statistic on the center of a given distribution, a.k.a., the \"average\" value of the distribution."
      ]
    },
    {
      "cell_type": "markdown",
      "metadata": {
        "id": "HrAt0oVb5ChW"
      },
      "source": [
        "#### Mean"
      ]
    },
    {
      "cell_type": "markdown",
      "metadata": {
        "id": "pCKs9uFF5ChW"
      },
      "source": [
        "The most common measure of central tendency, synonomous with the term \"average\", is the **mean**, often symbolized with $\\mu$ (population) or $\\bar{x}$ (sample):"
      ]
    },
    {
      "cell_type": "markdown",
      "metadata": {
        "id": "sBIObqs05ChW"
      },
      "source": [
        "$$ \\bar{x} = \\frac{\\sum_{i=1}^n x_i}{n} $$"
      ]
    },
    {
      "cell_type": "markdown",
      "metadata": {
        "id": "-O0hmQam5ChX"
      },
      "source": [
        "Expected value is in fact the long-term *mean* of some function (i.e., $\\mu = \\mathbb{E}$). Let's calculate how close the sample mean, $\\bar{x}$, of our five-coin-flip experiments comes to the expected value, $\\mathbb{E} = 2.5$."
      ]
    },
    {
      "cell_type": "code",
      "execution_count": 20,
      "metadata": {
        "colab": {
          "base_uri": "https://localhost:8080/"
        },
        "id": "fJY0mexL5ChX",
        "outputId": "14608989-92e0-4945-f1ec-07e3f8f1d655"
      },
      "outputs": [
        {
          "data": {
            "text/plain": [
              "100000000"
            ]
          },
          "execution_count": 20,
          "metadata": {},
          "output_type": "execute_result"
        }
      ],
      "source": [
        "len(heads_count)"
      ]
    },
    {
      "cell_type": "code",
      "execution_count": 21,
      "metadata": {
        "colab": {
          "base_uri": "https://localhost:8080/"
        },
        "id": "sU3-c-EJ5ChX",
        "outputId": "c2230a6e-4352-457e-9700-6831e5c035ef"
      },
      "outputs": [
        {
          "data": {
            "text/plain": [
              "array([2, 2, 2, 3, 2, 3, 3, 1, 3, 1, 1, 4, 4, 3, 2, 1, 3, 2, 1, 2])"
            ]
          },
          "execution_count": 21,
          "metadata": {},
          "output_type": "execute_result"
        }
      ],
      "source": [
        "heads_count[0:20]"
      ]
    },
    {
      "cell_type": "code",
      "execution_count": 22,
      "metadata": {
        "colab": {
          "base_uri": "https://localhost:8080/"
        },
        "id": "pA0ai4I45ChX",
        "outputId": "e476dd5e-2eb0-40be-9a04-1218ff02cf5d"
      },
      "outputs": [
        {
          "data": {
            "text/plain": [
              "2.49986528"
            ]
          },
          "execution_count": 22,
          "metadata": {},
          "output_type": "execute_result"
        }
      ],
      "source": [
        "sum(heads_count)/len(heads_count)"
      ]
    },
    {
      "cell_type": "markdown",
      "metadata": {
        "id": "fN9wBEb55ChX"
      },
      "source": [
        "Unsurprisingly, NumPy comes with a built-in function:"
      ]
    },
    {
      "cell_type": "code",
      "execution_count": 23,
      "metadata": {
        "colab": {
          "base_uri": "https://localhost:8080/"
        },
        "id": "OXRi9fki-5CB",
        "outputId": "b6d3446a-1e82-4909-b37f-3a8d1a219b8f"
      },
      "outputs": [
        {
          "data": {
            "text/plain": [
              "2.49986528"
            ]
          },
          "execution_count": 23,
          "metadata": {},
          "output_type": "execute_result"
        }
      ],
      "source": [
        "np.mean(heads_count)"
      ]
    },
    {
      "cell_type": "code",
      "execution_count": 24,
      "metadata": {
        "colab": {
          "base_uri": "https://localhost:8080/"
        },
        "id": "4c6p-UVK-aok",
        "outputId": "a4edc6bc-c77d-428b-fdd5-780121aaff9c"
      },
      "outputs": [
        {
          "data": {
            "text/plain": [
              "2.49986528"
            ]
          },
          "execution_count": 24,
          "metadata": {},
          "output_type": "execute_result"
        }
      ],
      "source": [
        "heads_count.mean() # fun!"
      ]
    },
    {
      "cell_type": "markdown",
      "metadata": {
        "id": "vD8bvjix5ChY"
      },
      "source": [
        "Pretty close! The law of large numbers implies that as we increase the number of experiments (e.g., to a million -- you're welcome to try it), we'll converge on $\\mathbb{E}=2.5$."
      ]
    },
    {
      "cell_type": "markdown",
      "metadata": {
        "id": "Q1qtow1O5ChY"
      },
      "source": [
        "#### Median"
      ]
    },
    {
      "cell_type": "markdown",
      "metadata": {
        "id": "4TZHQsES5ChY"
      },
      "source": [
        "The second most common measure of central tendency is the **median**, the midpoint value in the distribution: "
      ]
    },
    {
      "cell_type": "code",
      "execution_count": 25,
      "metadata": {
        "id": "Ff3aQam65ChY"
      },
      "outputs": [],
      "source": [
        "heads_count.sort()"
      ]
    },
    {
      "cell_type": "code",
      "execution_count": 26,
      "metadata": {
        "colab": {
          "base_uri": "https://localhost:8080/"
        },
        "id": "0ECSOjaA5ChY",
        "outputId": "36a903cb-c8e3-45e6-91e2-507f892a7ee4"
      },
      "outputs": [
        {
          "data": {
            "text/plain": [
              "array([0, 0, 0, 0, 0, 0, 0, 0, 0, 0, 0, 0, 0, 0, 0, 0, 0, 0, 0, 0])"
            ]
          },
          "execution_count": 26,
          "metadata": {},
          "output_type": "execute_result"
        }
      ],
      "source": [
        "heads_count[0:20]"
      ]
    },
    {
      "cell_type": "code",
      "execution_count": 27,
      "metadata": {
        "colab": {
          "base_uri": "https://localhost:8080/"
        },
        "id": "ySeyJ81I5ChY",
        "outputId": "ab23b26e-98ed-4513-e4e7-cc1c74cbde62"
      },
      "outputs": [
        {
          "data": {
            "text/plain": [
              "array([5, 5, 5, 5, 5, 5, 5, 5, 5, 5, 5, 5, 5, 5, 5, 5, 5, 5, 5, 5])"
            ]
          },
          "execution_count": 27,
          "metadata": {},
          "output_type": "execute_result"
        }
      ],
      "source": [
        "heads_count[-20:]"
      ]
    },
    {
      "cell_type": "code",
      "execution_count": 28,
      "metadata": {
        "colab": {
          "base_uri": "https://localhost:8080/"
        },
        "id": "SdeMf4RR5ChZ",
        "outputId": "cbc87b84-19b0-415c-c326-dacb0fb4ef4d"
      },
      "outputs": [
        {
          "data": {
            "text/plain": [
              "100000000"
            ]
          },
          "execution_count": 28,
          "metadata": {},
          "output_type": "execute_result"
        }
      ],
      "source": [
        "len(heads_count)"
      ]
    },
    {
      "cell_type": "markdown",
      "metadata": {
        "id": "WWfqQ4rI5ChZ"
      },
      "source": [
        "With an odd number of values in a distribution, we consider the single midpoint to be the median, e.g., the midpoint of the sorted array `[2, 4, 6, 9, 10]` is six.\n",
        "\n",
        "With an even number, we take the mean of the two values that straddle the midpoint: "
      ]
    },
    {
      "cell_type": "code",
      "execution_count": 29,
      "metadata": {
        "colab": {
          "base_uri": "https://localhost:8080/"
        },
        "id": "xQPz0RT45ChZ",
        "outputId": "d8eacfe5-cc2b-44ef-8f5a-5da36f03ff0a"
      },
      "outputs": [
        {
          "data": {
            "text/plain": [
              "0"
            ]
          },
          "execution_count": 29,
          "metadata": {},
          "output_type": "execute_result"
        }
      ],
      "source": [
        "heads_count[499]"
      ]
    },
    {
      "cell_type": "code",
      "execution_count": 30,
      "metadata": {
        "colab": {
          "base_uri": "https://localhost:8080/"
        },
        "id": "RavYR6JX5ChZ",
        "outputId": "a5ea31d2-5faa-43b5-f5b9-87c920a56ce8"
      },
      "outputs": [
        {
          "data": {
            "text/plain": [
              "0"
            ]
          },
          "execution_count": 30,
          "metadata": {},
          "output_type": "execute_result"
        }
      ],
      "source": [
        "heads_count[500]"
      ]
    },
    {
      "cell_type": "markdown",
      "metadata": {
        "id": "o7CLGD4z5ChZ"
      },
      "source": [
        "...which in this case is obviously three: "
      ]
    },
    {
      "cell_type": "code",
      "execution_count": 31,
      "metadata": {
        "colab": {
          "base_uri": "https://localhost:8080/"
        },
        "id": "MZ6cEUJ25ChZ",
        "outputId": "bf560ac7-2829-4ef5-9066-c76df108d94a"
      },
      "outputs": [
        {
          "data": {
            "text/plain": [
              "3.0"
            ]
          },
          "execution_count": 31,
          "metadata": {},
          "output_type": "execute_result"
        }
      ],
      "source": [
        "(3+3)/2"
      ]
    },
    {
      "cell_type": "markdown",
      "metadata": {
        "id": "udtzZf_X5Cha"
      },
      "source": [
        "Built-in method:"
      ]
    },
    {
      "cell_type": "code",
      "execution_count": 32,
      "metadata": {
        "colab": {
          "base_uri": "https://localhost:8080/"
        },
        "id": "dxxtSiCp5Cha",
        "outputId": "1d742957-f9a2-4c59-f5a5-da1e9b1b7506"
      },
      "outputs": [
        {
          "data": {
            "text/plain": [
              "2.0"
            ]
          },
          "execution_count": 32,
          "metadata": {},
          "output_type": "execute_result"
        }
      ],
      "source": [
        "np.median(heads_count)"
      ]
    },
    {
      "cell_type": "markdown",
      "metadata": {
        "id": "k3Fv1AMu5Cha"
      },
      "source": [
        "#### Mode"
      ]
    },
    {
      "cell_type": "markdown",
      "metadata": {
        "id": "RiUTOi3U5Cha"
      },
      "source": [
        "The **mode** is the final common measure of central tendency. It is simply the value in the distribution that occurs most frequently.\n",
        "\n",
        "As is clear in the most recently output chart, in the case of our five-coin-toss experiment, the mode is three. "
      ]
    },
    {
      "cell_type": "markdown",
      "metadata": {
        "id": "ukKeQScV5Cha"
      },
      "source": [
        "Method available in the SciPy `stats` module:"
      ]
    },
    {
      "cell_type": "code",
      "execution_count": 33,
      "metadata": {
        "colab": {
          "base_uri": "https://localhost:8080/"
        },
        "id": "FPrHiYh65Cha",
        "outputId": "c78a4daa-74ed-44db-9f6e-75fd69304e06"
      },
      "outputs": [
        {
          "data": {
            "text/plain": [
              "ModeResult(mode=array([2]), count=array([31256931]))"
            ]
          },
          "execution_count": 33,
          "metadata": {},
          "output_type": "execute_result"
        }
      ],
      "source": [
        "st.mode(heads_count)"
      ]
    },
    {
      "cell_type": "code",
      "execution_count": 34,
      "metadata": {
        "colab": {
          "base_uri": "https://localhost:8080/"
        },
        "id": "PFUn0iJX5Chb",
        "outputId": "59f138f3-f4df-4a16-c736-98b083db5719"
      },
      "outputs": [
        {
          "data": {
            "text/plain": [
              "2"
            ]
          },
          "execution_count": 34,
          "metadata": {},
          "output_type": "execute_result"
        }
      ],
      "source": [
        "st.mode(heads_count)[0][0]"
      ]
    },
    {
      "cell_type": "markdown",
      "metadata": {
        "id": "36qtYyry5Chb"
      },
      "source": [
        "With small sample sizes, the mean typically provides the most accurate measure of central tendency.\n",
        "\n",
        "With larger sample sizes, the mean, median, and mode will tend to coincide, as long as the distribution isn't skewed: "
      ]
    },
    {
      "cell_type": "code",
      "execution_count": 35,
      "metadata": {
        "id": "NcU6qKo35Chb"
      },
      "outputs": [
        {
          "data": {
            "text/plain": [
              "array([-1.49351184e+00,  3.24385106e-02, -1.35949706e-01, -6.64342507e-02,\n",
              "        6.01035596e-01, -6.62810505e-01,  9.94101268e-01,  1.99752108e-03,\n",
              "       -9.31670234e-01,  1.88005525e-01,  3.09893483e-01,  8.00609209e-01,\n",
              "        3.84321346e-01, -2.02137200e-02, -4.40625386e-01, -8.32510119e-01,\n",
              "       -1.14710427e+00,  8.02909432e-01, -1.88628922e+00,  1.21462336e+00,\n",
              "        1.84269514e+00, -8.93392027e-01, -1.48366832e+00,  6.90199452e-01,\n",
              "       -1.23307787e+00,  1.43736069e+00,  4.99535278e-01, -2.91910681e-01,\n",
              "       -7.58313544e-01, -3.13164709e-02,  9.69971626e-02, -1.44681692e+00,\n",
              "        5.98758469e-01,  1.35017280e+00, -3.64446768e-01, -8.92557213e-01,\n",
              "        1.45508103e+00, -2.02590038e+00,  3.39383744e-01,  6.48672531e-01,\n",
              "        7.53770194e-01,  1.10676768e+00, -1.45122604e+00,  3.22714452e+00,\n",
              "        8.95325761e-02,  5.55445272e-01, -6.57983174e-01, -1.05345320e+00,\n",
              "        7.69684933e-01,  5.54170844e-01,  4.83885885e-01, -4.21193097e-02,\n",
              "        1.88946225e-01, -1.89747395e+00, -3.63865286e-01, -4.78439091e-01,\n",
              "       -5.38333646e-01,  1.00606053e+00,  2.17348418e+00,  8.92928343e-01,\n",
              "       -6.11076753e-03, -9.97339424e-01,  1.82903625e+00, -3.94277494e-01,\n",
              "        4.68660684e-01, -6.17176838e-01,  2.32638954e+00,  4.21277686e-01,\n",
              "        1.56513154e-01, -2.59789503e-01,  9.93446107e-02,  6.15454028e-02,\n",
              "        1.30361056e+00, -2.01880666e+00,  2.58120348e+00,  4.12101781e-01,\n",
              "        1.32500470e+00,  1.28915148e+00,  9.11961111e-01,  1.86433225e+00,\n",
              "        2.84008902e-01,  5.19101716e-01, -1.10605433e+00,  3.02031772e+00,\n",
              "       -1.51724691e+00,  1.40598744e+00,  5.71618088e-01, -5.93404865e-01,\n",
              "        1.07328053e+00, -5.61534781e-01,  3.26630301e-01,  2.38962941e-01,\n",
              "        3.93223364e-01,  8.56918740e-01, -8.22808377e-01,  5.88702731e-02,\n",
              "        1.08890746e+00,  1.01705955e+00, -4.58854235e-01,  9.24864142e-01,\n",
              "       -1.26120641e+00, -5.36869198e-01,  1.25617060e+00, -8.14268819e-01,\n",
              "       -6.23969210e-01, -2.14140821e+00,  1.15232846e+00,  3.80129968e-01,\n",
              "        3.27917644e-01, -9.62227848e-01,  1.77248866e-01, -4.01646541e-01,\n",
              "       -2.35674759e+00,  1.12020799e+00, -2.74239540e+00, -1.70952598e-01,\n",
              "        5.38973201e-01, -5.62704175e-01, -4.60342389e-01, -9.12718146e-01,\n",
              "       -4.09719129e-03,  1.63118426e-01, -1.30088711e+00, -1.30400178e+00,\n",
              "        8.36290333e-01,  5.80348614e-01,  5.55008821e-01,  2.59428351e+00,\n",
              "       -9.64241894e-01, -1.38044920e+00, -4.33268624e-01, -9.41548656e-01,\n",
              "       -1.16993289e+00,  2.48422257e-01,  4.26212079e-01,  2.51726572e-01,\n",
              "        1.93717906e+00,  2.54622054e-03,  1.51838253e+00, -6.33211068e-02,\n",
              "       -1.56532676e+00, -4.21928652e-01, -1.88186125e+00, -2.14473032e+00,\n",
              "       -4.05020984e-01,  1.00970157e+00, -1.24338935e+00,  1.88447872e-01,\n",
              "        2.12026700e-01,  1.51285458e+00,  7.01385928e-01, -9.49789553e-01,\n",
              "        6.46679019e-01,  1.04639682e+00, -1.36336711e+00, -1.27591117e+00,\n",
              "        4.40430139e-01, -2.90259218e-01,  1.25625971e+00,  1.53515195e-01,\n",
              "        7.84949574e-01,  1.32245011e+00,  4.92515917e-01,  8.05462819e-01,\n",
              "       -1.65373949e+00,  7.61133490e-01,  5.71312714e-01,  1.12381249e+00,\n",
              "        8.90969825e-02, -8.69358625e-01, -3.20524957e-01, -8.32406255e-01,\n",
              "        1.16586061e+00, -2.51912664e-01, -1.16356075e+00,  1.66787345e+00,\n",
              "       -3.62402732e-01,  4.84716556e-01, -2.61156740e-01,  2.06520610e-01,\n",
              "        2.32023929e+00, -1.14570691e-01,  9.53650740e-02, -9.41756677e-01,\n",
              "       -5.96788956e-01,  5.16234041e-01,  5.16084558e-01, -6.92779467e-01,\n",
              "       -7.58173984e-01,  5.77237728e-01, -8.50542965e-01, -9.83439440e-02,\n",
              "       -1.08758022e+00, -8.08605125e-01, -2.14986202e-01, -4.79760411e-01,\n",
              "       -2.22800986e-01,  8.76480560e-02, -1.09447742e-01, -1.03005674e+00,\n",
              "       -2.43254097e-01, -1.41338640e+00, -1.06411054e+00, -3.60716689e-01,\n",
              "        4.41751785e-01, -3.66561674e-01,  2.33740363e+00, -7.52776447e-01,\n",
              "        2.08983138e+00, -6.60399247e-01,  1.84974350e+00, -7.65347857e-01,\n",
              "       -8.86572693e-02, -3.52032714e-01,  4.39414385e-01,  8.41061598e-01,\n",
              "        1.95064529e+00, -1.47958298e+00,  5.56643668e-01, -2.04205317e+00,\n",
              "       -4.24329851e-02,  1.31551606e+00,  8.22658617e-01, -2.47015073e-01,\n",
              "        3.00502498e-01, -2.01306703e-01,  1.70202750e-01, -2.02230299e+00,\n",
              "        1.19229397e+00,  2.26606653e-01,  5.88687062e-01, -1.65365432e+00,\n",
              "        6.63015671e-01,  3.41629419e-01, -1.35876879e+00,  1.55796105e+00,\n",
              "       -9.47705614e-02, -7.24349379e-01,  1.41319750e+00, -2.63317971e-01,\n",
              "        2.63547714e-01,  8.80468712e-01,  7.02264673e-01,  9.27922994e-02,\n",
              "       -1.35133989e+00, -1.87525079e+00, -1.98848920e-01, -2.23766592e+00,\n",
              "        3.18544503e-01,  9.66908393e-01, -1.69962593e+00,  2.10808406e-01,\n",
              "       -2.88717521e+00,  5.77609574e-01, -1.17761637e+00,  8.16504264e-02,\n",
              "       -9.50684752e-01,  1.45441896e+00, -1.50366368e+00, -1.32046626e+00,\n",
              "        6.43318670e-01, -3.55670891e-01,  1.34850627e-01, -6.39276387e-01,\n",
              "        1.04136517e+00, -5.05720718e-01, -3.96129506e-01,  4.06707459e-01,\n",
              "       -8.34560781e-01, -1.58285064e+00, -1.35091394e+00,  4.61224158e-01,\n",
              "        4.29651909e-01,  6.51554952e-01,  1.61335199e+00, -2.38784507e+00,\n",
              "        1.47004110e+00, -3.59458997e-01,  4.68107725e-01,  1.33506659e+00,\n",
              "        6.21182175e-01,  3.70277813e-01,  1.35205998e+00, -3.93580410e-01,\n",
              "        6.23163054e-01, -1.50944900e+00, -3.65330088e-01, -2.72008299e-01,\n",
              "       -9.76997139e-01,  9.98459026e-01, -2.14450099e+00,  4.70915243e-01,\n",
              "        9.74716153e-01,  1.70962347e-02,  1.04200368e+00,  5.79884773e-01,\n",
              "       -1.10064659e+00, -4.76521078e-01,  1.32822844e+00,  6.44860014e-01,\n",
              "       -3.79154352e-01, -5.22301703e-01,  1.55167680e+00,  1.70876824e+00,\n",
              "       -3.22941377e-01,  1.28842631e+00, -9.84990789e-02,  1.63944149e+00,\n",
              "        1.29425820e+00,  1.27302263e+00, -8.08995684e-01, -1.67664254e+00,\n",
              "       -1.25870210e+00,  1.49156775e-01,  5.82828998e-01, -7.65756814e-02,\n",
              "        2.26216529e-01, -4.15630570e-01, -1.65617702e+00,  1.51802311e-01,\n",
              "       -7.15582278e-01, -1.58891286e+00,  9.79352396e-01, -1.14286239e+00,\n",
              "       -1.49776926e+00,  1.09648516e+00,  8.09500654e-01, -4.59443138e-01,\n",
              "        7.23013328e-02, -1.13258336e+00, -1.26348310e+00,  7.86285099e-02,\n",
              "       -9.35475902e-01, -7.73704349e-01, -5.94588607e-01,  6.84583253e-01,\n",
              "        8.76130137e-02, -7.95897043e-01, -1.06042761e+00,  3.31018158e-01,\n",
              "       -1.10496184e+00,  4.00729690e-01,  1.09322024e+00,  2.61021535e-01,\n",
              "        1.28727792e+00, -7.53313445e-01,  3.87096309e-01, -5.29020129e-01,\n",
              "        2.62045805e-01,  1.26337581e-01, -6.25326377e-01, -1.07798167e+00,\n",
              "       -1.92378725e+00, -7.69947268e-01, -3.48512002e-01,  1.92245899e+00,\n",
              "       -4.78644858e-01, -4.13935944e-01,  2.17607792e+00, -2.62344553e-01,\n",
              "       -1.26807056e+00, -1.00410176e-01, -2.10833223e+00, -7.87144899e-01,\n",
              "       -1.66824270e+00, -8.32770623e-01,  5.38870261e-01,  9.08941606e-01,\n",
              "        1.22530208e-01, -1.04624116e+00, -1.72955982e-01,  2.21000222e-01,\n",
              "        1.97022090e-01, -1.02565663e+00, -1.57836621e+00,  3.38481452e-01,\n",
              "       -5.28127283e-01, -3.02694739e-01, -1.99116153e-01,  7.73777731e-01,\n",
              "       -3.88509801e-01,  1.96181151e-02, -9.95324331e-02,  8.41899591e-01,\n",
              "        6.03791599e-01,  1.53561414e+00,  1.02822532e+00, -9.89178362e-01,\n",
              "        8.42411574e-01,  3.09403979e-01,  1.08240456e+00, -1.01078436e+00,\n",
              "       -3.15979836e-01,  6.21338920e-01, -9.60334970e-01,  1.13194866e+00,\n",
              "       -1.02554957e+00, -5.79944720e-01, -1.13820713e+00,  1.80584320e+00,\n",
              "       -1.23767121e-01, -5.70336334e-01,  1.57195476e+00, -1.84428175e+00,\n",
              "       -1.95192610e+00,  2.16910215e-01,  6.34865869e-01,  1.63968101e-01,\n",
              "       -7.56304729e-01, -1.17517071e+00, -1.39272215e+00, -4.89446889e-01,\n",
              "        8.71124763e-01, -4.26313591e-03, -4.33793953e-01, -4.19405109e-01,\n",
              "        5.87589014e-02, -7.25139167e-02,  6.66348837e-01,  8.48417446e-01,\n",
              "        3.90323884e-01, -6.24842195e-01,  1.77770557e+00,  6.37996708e-01,\n",
              "        1.03928073e+00, -3.67282697e-02,  1.59038497e-02, -1.36741928e+00,\n",
              "       -8.22001499e-02, -9.30693481e-01,  4.02293246e-01, -6.42930947e-01,\n",
              "        1.74617023e+00,  4.47929903e-01, -6.60815705e-01,  1.45031919e+00,\n",
              "        4.01166612e-01,  4.52530285e-01,  7.57948545e-01, -6.75415251e-01,\n",
              "        1.06849690e+00, -1.32074461e+00, -1.13998655e+00,  8.43105821e-01,\n",
              "        1.30174781e+00, -9.20137659e-01, -1.53910385e+00, -2.81289418e-01,\n",
              "       -6.45762835e-01,  1.52340283e-01, -8.13309895e-01, -9.13689970e-01,\n",
              "        2.32939441e+00, -2.52912664e-01,  1.96554167e-01, -7.36603598e-01,\n",
              "       -1.74807827e-01, -1.43275984e+00, -2.93781821e-01, -4.05686081e-01,\n",
              "       -1.19815982e-01,  5.37401333e-02,  3.80396285e-01,  1.96952034e+00,\n",
              "       -5.63134058e-01, -2.70319173e+00, -3.26529510e-02,  5.13383441e-01,\n",
              "       -4.02906278e-01,  1.30728492e+00,  2.83208186e-01,  1.16575203e+00,\n",
              "        1.14251755e-01, -4.39083476e-01, -4.05342044e-01, -1.71540169e-01,\n",
              "       -1.08587068e+00, -1.26122296e+00, -1.31025770e+00, -2.73205144e+00,\n",
              "       -8.57222324e-01, -1.45511533e+00,  9.14157977e-01,  9.17254789e-01,\n",
              "       -1.07408264e+00,  8.76964484e-01,  1.81676321e-01,  1.53913780e+00,\n",
              "       -1.12470887e+00,  2.72522940e-01,  3.61990087e-01,  2.55799363e+00,\n",
              "        1.97227104e+00,  1.75938771e-01,  5.72855854e-03,  1.64583470e-02,\n",
              "       -4.71002104e-01, -1.85656599e-01,  2.81202130e+00,  5.77228552e-01,\n",
              "        2.14420494e-01,  2.69273555e-01, -2.58278686e+00,  4.91127298e-01,\n",
              "        1.07889020e+00, -9.46542233e-01, -6.34114164e-01, -3.04958090e-01,\n",
              "        1.19100667e+00, -1.24232486e-01,  1.46349845e-01, -2.61125721e+00,\n",
              "        1.93982956e-01, -2.13671752e-01, -5.56894957e-01, -2.13787320e+00,\n",
              "        2.64647390e-02,  5.25319461e-01, -7.36753835e-01,  1.72912297e+00,\n",
              "       -1.06144637e+00,  4.89115609e-02,  5.01358455e-01,  1.09528648e+00,\n",
              "        1.99935185e-01,  4.70564840e-01, -5.00779130e-01,  1.44062561e+00,\n",
              "       -8.70328278e-01, -7.37732641e-01,  9.35884732e-01, -1.22124458e+00,\n",
              "        2.16154720e+00, -2.05914649e-01,  1.82885176e+00, -1.15335337e+00,\n",
              "        8.17382884e-01, -1.01117862e+00,  2.41432258e+00, -3.27469519e-01,\n",
              "       -6.95656057e-01, -1.81744694e-02,  1.52005840e+00,  2.14707829e-01,\n",
              "        9.03860280e-01,  1.81732498e+00, -8.27949446e-01,  1.13689490e+00,\n",
              "        1.52475768e-01,  1.08120065e+00,  1.06379001e+00, -8.53967183e-01,\n",
              "        1.82587749e-01, -2.30297681e-01, -2.37943490e-01, -7.67324211e-03,\n",
              "        1.51147153e+00, -1.48863844e+00, -2.41153126e-01,  1.17888026e+00,\n",
              "        1.64552006e+00,  8.71634572e-02,  9.25376858e-01, -1.13900654e+00,\n",
              "       -2.08892852e+00,  1.98401530e-01,  3.92520964e-01, -6.48096508e-01,\n",
              "        2.96671951e-01, -4.91394123e-01,  2.88258053e-01, -1.56868701e+00,\n",
              "        6.37771868e-01, -3.25056866e-01,  1.22561832e+00, -3.61893234e-01,\n",
              "        7.57011394e-01, -9.06000410e-01,  5.81168457e-01,  5.44819104e-01,\n",
              "        1.22652054e+00, -2.15505480e+00, -5.24795555e-01, -4.67037132e-01,\n",
              "        3.22824021e-01, -4.73781262e-01,  7.95712144e-01, -2.68670755e+00,\n",
              "        1.14891062e-01,  9.62437121e-01,  7.21737897e-01, -9.88160417e-01,\n",
              "        2.53490368e+00, -1.41019090e+00,  1.26264274e-01,  1.31361101e-03,\n",
              "        1.01801843e+00, -1.35121921e+00,  2.03093228e-01,  1.16113213e+00,\n",
              "       -1.47543130e+00,  3.60381915e-01,  7.42252741e-01, -9.20048425e-01,\n",
              "       -2.75612611e-01,  8.74574820e-01, -6.45793871e-01,  6.65137373e-01,\n",
              "        2.93744227e-02,  6.55451654e-01,  5.71664326e-01, -1.60730210e+00,\n",
              "        5.79005957e-01,  7.93501186e-01,  5.13542795e-02, -8.46091487e-01,\n",
              "       -1.01587175e+00, -1.01061314e+00, -1.62946427e+00, -8.62928777e-01,\n",
              "        4.53134573e-02, -2.70754295e-01, -1.07195240e+00,  8.43962491e-01,\n",
              "       -3.74440788e-01, -1.00674801e+00, -7.99338905e-02,  7.18856134e-01,\n",
              "       -8.03263618e-02,  4.46117557e-01,  1.43313601e+00,  3.62903541e-01,\n",
              "        1.17443764e+00, -1.17926161e+00, -2.63068551e-01, -1.78665983e-01,\n",
              "        4.89401018e-01, -5.10008334e-01,  6.30192951e-01,  1.35813643e+00,\n",
              "       -1.33761486e+00, -2.02227282e+00, -4.65598117e-01, -8.51096290e-01,\n",
              "        1.69522877e+00,  5.39641396e-02, -9.00937728e-01,  6.87781302e-01,\n",
              "        1.75631760e-01, -1.30807644e+00,  8.69620785e-01, -8.09749874e-02,\n",
              "        1.23951540e+00,  3.35319988e-01, -5.44573319e-01, -5.21260142e-01,\n",
              "        1.31543320e+00, -1.49653044e+00,  6.66121387e-01, -1.97278428e-01,\n",
              "        3.29759114e-01, -6.53187833e-01,  3.16552816e-01,  8.79314785e-01,\n",
              "        1.87675226e+00, -3.19164176e-01, -2.81215029e-01,  1.33026247e-01,\n",
              "        2.48346445e-01,  1.25925443e+00,  9.15702076e-01,  1.42709844e+00,\n",
              "        1.80851216e-01,  1.70035479e+00, -6.02938762e-01, -1.32024162e-01,\n",
              "        7.33699466e-01,  9.18578595e-01,  7.42706554e-01, -1.10747193e+00,\n",
              "        1.77526367e+00, -2.83900258e-01, -1.06882038e+00, -6.89230388e-01,\n",
              "       -6.37178807e-01, -4.65006745e-01, -2.58912329e+00,  1.82064529e+00,\n",
              "       -1.81503670e+00, -1.50176742e+00, -9.61411640e-01, -5.99181380e-03,\n",
              "       -8.87219600e-01,  1.35296667e-01, -3.91753282e-01, -1.14066716e+00,\n",
              "       -1.23833161e+00, -4.02612564e-01,  2.79160947e-01, -3.63265885e-01,\n",
              "        5.29472454e-01, -8.40712315e-01, -2.66111749e-01,  1.32460283e-01,\n",
              "       -2.52931501e-01, -6.88655715e-01,  2.44720198e-01,  1.08279468e+00,\n",
              "        6.38327240e-01, -1.98470223e+00, -1.19469238e+00, -8.47769721e-01,\n",
              "        3.78490527e-01, -4.27719838e-01,  1.15471799e+00, -3.85774996e-01,\n",
              "       -8.51707878e-01, -6.18778286e-01, -1.02334964e+00,  2.00341231e-01,\n",
              "        3.83083987e-02, -2.04323314e+00,  8.58252829e-01, -3.31895155e-01,\n",
              "       -2.22370284e-01, -9.29764500e-01,  5.70708807e-01,  4.22671395e-01,\n",
              "        1.36118742e-01, -1.12036617e+00,  4.42639825e-01,  5.17308339e-01,\n",
              "        9.88480811e-01, -5.80322677e-01, -5.06066581e-01, -7.92109662e-02,\n",
              "       -1.31592060e-01,  1.88551614e+00, -1.42405365e+00, -5.25497845e-01,\n",
              "        1.05951575e-01,  3.67017143e-02, -1.66518680e-01, -1.82901400e+00,\n",
              "        5.26408373e-01,  1.57335083e-01,  2.26709940e-01, -7.05740720e-01,\n",
              "        3.39700325e-01,  8.85771119e-03, -2.24253636e-01,  1.97973481e+00,\n",
              "       -2.22506929e+00, -1.15071895e+00, -1.24397554e+00,  1.82750169e+00,\n",
              "        8.83918514e-01,  1.23286115e+00,  1.24218093e+00, -1.21458248e+00,\n",
              "       -5.61520267e-01, -7.37757114e-01, -2.34027857e-01, -6.24815271e-01,\n",
              "       -1.77100415e+00, -2.05572868e+00, -1.05877579e+00,  1.08320802e+00,\n",
              "        7.30691200e-01,  6.22541085e-01,  1.03056831e+00, -7.05690893e-01,\n",
              "        6.05807821e-01,  4.99439689e-01,  1.90608784e+00,  2.28303114e-01,\n",
              "       -1.30941960e+00,  1.43156636e+00,  1.11722597e-01, -2.32368175e+00,\n",
              "       -1.77635708e-01,  6.30295383e-02,  9.91387009e-02,  5.58958792e-01,\n",
              "       -3.81831811e-02,  2.03393597e+00, -1.04820436e+00, -1.30638604e+00,\n",
              "       -6.69876700e-01, -2.46346683e-01, -1.45643616e+00, -8.52150954e-01,\n",
              "       -4.14489329e-01,  6.90103951e-01, -1.99950493e-01,  2.94811052e-01,\n",
              "        1.32282354e+00, -1.08066200e+00,  2.14548692e-01,  7.26568900e-01,\n",
              "        8.75710826e-01, -9.05058567e-01,  2.51245554e+00,  1.15348792e+00,\n",
              "        5.57373717e-02,  8.18562640e-01, -1.32078719e+00, -2.92545749e-01,\n",
              "        2.21465262e+00, -6.08830344e-01, -4.79412864e-01,  1.16312755e+00,\n",
              "       -3.26248340e-01,  1.03870548e+00, -7.39529497e-01, -8.31266708e-01,\n",
              "       -4.20248030e-01,  1.22875986e-01, -5.02978515e-01,  8.61285937e-02,\n",
              "       -5.96722293e-01, -2.52563776e-02,  1.50518185e-01, -9.14485043e-01,\n",
              "       -6.74393298e-01,  6.90683372e-02,  9.34552182e-02, -3.92920598e-02,\n",
              "        3.83336966e-01, -2.19864263e-01,  1.77155740e+00, -2.94641819e+00,\n",
              "       -1.30373849e+00,  1.03125929e+00, -1.41569125e+00,  6.37740329e-01,\n",
              "        5.12675661e-01,  2.91309420e-01,  5.13755895e-01,  8.24297254e-01,\n",
              "        1.32831820e-01, -4.43034009e-01, -3.35274414e-01, -1.35972527e-01,\n",
              "        6.04556718e-01, -8.93069844e-02,  1.24885126e+00,  9.41599695e-01,\n",
              "       -9.46451401e-01,  2.27794468e-01,  1.42965052e+00, -8.17077894e-02,\n",
              "        2.69407989e-01, -7.06722097e-01, -6.09794537e-01, -9.30862809e-02,\n",
              "       -3.52640464e-01,  2.54055952e-01,  1.49861936e-01, -1.67193253e-01,\n",
              "        6.98435424e-01, -2.81070718e-02, -7.60170881e-01,  1.71985509e-01,\n",
              "       -8.32737742e-01,  8.71257869e-01,  1.25279791e-01, -1.43353460e+00,\n",
              "       -1.41184394e-01, -6.38103277e-01, -3.73727392e-01, -2.69607303e-01,\n",
              "        1.59826984e+00,  7.98500191e-01,  3.93034883e-01,  6.30386968e-01,\n",
              "        8.21241866e-02, -7.08538041e-01,  2.19117939e-01,  1.30045800e+00,\n",
              "        8.54077194e-01,  1.45276590e+00,  9.70893496e-02,  3.53956713e-01,\n",
              "        1.19302066e-01, -1.14074346e-01, -5.39893674e-01,  6.17102932e-01,\n",
              "        3.99805504e-01,  4.89921653e-01,  1.22196989e+00,  7.88583548e-01,\n",
              "       -1.00649478e+00,  9.65427529e-01,  3.86578757e-01,  1.29727654e+00,\n",
              "       -5.90431705e-01, -1.02297156e-01,  2.30129086e+00, -3.33193738e-01,\n",
              "       -9.89518678e-01,  2.39648075e-01,  4.63174589e-01, -2.13429726e+00,\n",
              "       -4.53285913e-01,  4.60147127e-01, -3.08279018e-02, -3.84125737e-01,\n",
              "        1.07268552e+00, -2.36164265e-01,  1.94214301e-01,  2.38204675e+00,\n",
              "       -1.09423794e-01,  4.24928033e-01,  9.33863428e-01,  1.89445603e+00,\n",
              "        2.12258390e+00, -8.63446889e-01,  2.21715208e-01, -6.96533295e-01,\n",
              "       -5.82447619e-02,  2.09739111e+00,  1.28440473e+00, -1.02562151e+00,\n",
              "       -1.86194536e+00,  1.26275636e+00,  1.73414248e-03, -2.81024938e-01,\n",
              "       -3.91125967e-01,  3.17811690e-01, -7.15782841e-01, -1.41931818e-01,\n",
              "       -7.82271748e-01,  1.28233601e+00, -7.59818013e-01,  1.29180695e-01,\n",
              "        1.11547067e-01, -1.06306770e+00, -9.63240229e-01, -8.84155905e-01,\n",
              "        7.24641104e-01,  3.17905662e-01,  5.06245380e-01, -3.12464067e-01,\n",
              "       -7.85143384e-01,  4.27859076e-02, -1.42123764e+00,  7.65842930e-01,\n",
              "        2.02373773e+00,  6.23031411e-01,  1.90324332e+00,  3.17584409e-01,\n",
              "       -4.89370343e-02, -1.68844991e-01,  3.26794986e-02, -5.85566502e-01,\n",
              "        3.83652081e-02, -7.83978407e-02,  7.67571212e-01, -4.67432040e-01,\n",
              "       -3.23694182e-01, -1.02433477e+00, -1.33089959e+00, -3.81703504e-01,\n",
              "       -3.27912418e-01, -4.07970082e-01, -4.37364564e-01, -2.39156083e-01,\n",
              "        4.46010294e-01, -6.75903461e-01,  1.23575258e+00,  9.11269382e-01,\n",
              "       -9.97973348e-01,  1.20041126e+00, -6.45609475e-01,  1.05461472e+00,\n",
              "       -4.19191316e-01, -4.00325220e-01, -6.10576947e-01, -5.57463903e-01,\n",
              "        1.10083877e+00,  6.61845915e-01,  2.88331609e-01, -8.76314979e-01,\n",
              "       -6.84897528e-01, -8.67121038e-01, -2.81709425e-01, -7.64995243e-01,\n",
              "        1.62516509e+00, -4.32375879e-02, -1.02915752e+00, -2.62546212e-01,\n",
              "       -5.08239366e-01, -1.01976742e+00, -1.52720679e+00, -5.99185767e-01,\n",
              "        2.21307629e-01,  1.18888733e+00, -1.61767421e+00, -1.12026633e+00])"
            ]
          },
          "execution_count": 35,
          "metadata": {},
          "output_type": "execute_result"
        }
      ],
      "source": [
        "x = st.skewnorm.rvs(0, size=1000)\n",
        "x # first argument is \"skewness\"; 0 has no skew"
      ]
    },
    {
      "cell_type": "code",
      "execution_count": 36,
      "metadata": {
        "colab": {
          "base_uri": "https://localhost:8080/",
          "height": 268
        },
        "id": "c13nv_wO5Chb",
        "outputId": "d7207523-cbe5-4a1f-9f26-231f6a90cfbd"
      },
      "outputs": [
        {
          "data": {
            "image/png": "[encoded data removed]",
            "text/plain": [
              "<Figure size 432x288 with 1 Axes>"
            ]
          },
          "metadata": {
            "needs_background": "light"
          },
          "output_type": "display_data"
        }
      ],
      "source": [
        "fig, ax = plt.subplots()\n",
        "plt.axvline(x = np.mean(x), color='orange')\n",
        "plt.axvline(x = np.median(x), color='green')\n",
        "_ = plt.hist(x, color = 'lightgray')\n",
        "# Note: Mode typically only applies to PMFs; this is a PDF"
      ]
    },
    {
      "cell_type": "markdown",
      "metadata": {
        "id": "EdRT_Lme5Chb"
      },
      "source": [
        "Skewed distributions, in contrast, drag the mean away from the center and toward the tail: "
      ]
    },
    {
      "cell_type": "code",
      "execution_count": 37,
      "metadata": {
        "id": "85C_EFZZ5Chb"
      },
      "outputs": [],
      "source": [
        "x = st.skewnorm.rvs(10, size=1000) "
      ]
    },
    {
      "cell_type": "code",
      "execution_count": 38,
      "metadata": {
        "colab": {
          "base_uri": "https://localhost:8080/",
          "height": 268
        },
        "id": "pT0zxSPd5Chb",
        "outputId": "70cdec46-3bf2-4d3e-bc04-45c3d1a0b9ff"
      },
      "outputs": [
        {
          "data": {
            "image/png": "[encoded data removed]",
            "text/plain": [
              "<Figure size 432x288 with 1 Axes>"
            ]
          },
          "metadata": {
            "needs_background": "light"
          },
          "output_type": "display_data"
        }
      ],
      "source": [
        "fig, ax = plt.subplots()\n",
        "plt.axvline(x = np.mean(x), color='orange')\n",
        "_ = plt.hist(x, color = 'lightgray')"
      ]
    },
    {
      "cell_type": "markdown",
      "metadata": {
        "id": "-uDxp8YT5Chc"
      },
      "source": [
        "The mode is least impacted by skew, but is only applicable to discrete distributions. For continuous distributions with skew (e.g., salary data), median is typically the choice measure of central tendency:"
      ]
    },
    {
      "cell_type": "code",
      "execution_count": 39,
      "metadata": {
        "colab": {
          "base_uri": "https://localhost:8080/",
          "height": 268
        },
        "id": "zzrBO1fg5Chc",
        "outputId": "656c2b2b-5364-45d0-c506-8853850654d3"
      },
      "outputs": [
        {
          "data": {
            "image/png": "[encoded data removed]",
            "text/plain": [
              "<Figure size 432x288 with 1 Axes>"
            ]
          },
          "metadata": {
            "needs_background": "light"
          },
          "output_type": "display_data"
        }
      ],
      "source": [
        "fig, ax = plt.subplots()\n",
        "plt.axvline(x = np.mean(x), color='orange')\n",
        "plt.axvline(x = np.median(x), color='green')\n",
        "_ = plt.hist(x, color = 'lightgray')"
      ]
    },
    {
      "cell_type": "markdown",
      "metadata": {
        "id": "RRr8oPbC5Chc"
      },
      "source": [
        "### Quantiles"
      ]
    },
    {
      "cell_type": "markdown",
      "metadata": {
        "id": "Sorh-6kS5Chc"
      },
      "source": [
        "The median, which divides a distribution in two at its midpoint, is the most well-known example of a quantile:"
      ]
    },
    {
      "cell_type": "code",
      "execution_count": 40,
      "metadata": {
        "colab": {
          "base_uri": "https://localhost:8080/"
        },
        "id": "CZfX5qP95Chc",
        "outputId": "34fb02f2-be04-47d8-d466-b8826d9fcda8"
      },
      "outputs": [
        {
          "data": {
            "text/plain": [
              "0.7150499620469634"
            ]
          },
          "execution_count": 40,
          "metadata": {},
          "output_type": "execute_result"
        }
      ],
      "source": [
        "np.median(x)"
      ]
    },
    {
      "cell_type": "code",
      "execution_count": 41,
      "metadata": {
        "colab": {
          "base_uri": "https://localhost:8080/"
        },
        "id": "YqPFRjcO5Chc",
        "outputId": "8b60b364-f1f5-4ca8-89f0-41503e9cd1ec"
      },
      "outputs": [
        {
          "data": {
            "text/plain": [
              "0.7150499620469634"
            ]
          },
          "execution_count": 41,
          "metadata": {},
          "output_type": "execute_result"
        }
      ],
      "source": [
        "np.quantile(x, 0.5)"
      ]
    },
    {
      "cell_type": "markdown",
      "metadata": {
        "id": "HpK3wcmy5Chd"
      },
      "source": [
        "Generally speaking, quantiles divide up distributions and the most common are:\n",
        "\n",
        "* Percentiles, \n",
        "* Quartiles, and\n",
        "* Deciles."
      ]
    },
    {
      "cell_type": "markdown",
      "metadata": {
        "id": "kIB-rEJQ5Chd"
      },
      "source": [
        "**Percentiles** divide the distribution at any point out of one hundred (\"pour cent\" is French for \"out of a hundred\"). For example, if we'd like to identify the threshold for the top 5% of a distribution, we'd cut it at the 95th percentile. Or, for the top 1%, we'd cut at the 99th percentile."
      ]
    },
    {
      "cell_type": "code",
      "execution_count": 42,
      "metadata": {
        "colab": {
          "base_uri": "https://localhost:8080/"
        },
        "id": "3T9AE9aS5Chd",
        "outputId": "b84e3138-ae2c-4783-c199-9eeacb6346ff"
      },
      "outputs": [
        {
          "data": {
            "text/plain": [
              "array([1.97400212, 2.48920099])"
            ]
          },
          "execution_count": 42,
          "metadata": {},
          "output_type": "execute_result"
        }
      ],
      "source": [
        "p = np.percentile(x, [95, 99])\n",
        "p"
      ]
    },
    {
      "cell_type": "code",
      "execution_count": 43,
      "metadata": {
        "colab": {
          "base_uri": "https://localhost:8080/",
          "height": 268
        },
        "id": "A_guMMCh5Chd",
        "outputId": "e34bbb23-87c9-4151-adea-64f4cfa6c3ae"
      },
      "outputs": [
        {
          "data": {
            "image/png": "[encoded data removed]",
            "text/plain": [
              "<Figure size 432x288 with 1 Axes>"
            ]
          },
          "metadata": {
            "needs_background": "light"
          },
          "output_type": "display_data"
        }
      ],
      "source": [
        "fig, ax = plt.subplots()\n",
        "plt.axvline(x = p[0], color='orange')\n",
        "plt.axvline(x = p[1], color='red')\n",
        "_ = plt.hist(x, color = 'lightgray')"
      ]
    },
    {
      "cell_type": "markdown",
      "metadata": {
        "id": "atT5Wbtn5Chd"
      },
      "source": [
        "Note that the Numpy `quantile()` method is identical to the `percentile()` method except we pass proportions (ranging from zero to one) into the former and percentages (ranging from zero to 100) into the latter: "
      ]
    },
    {
      "cell_type": "code",
      "execution_count": 44,
      "metadata": {
        "colab": {
          "base_uri": "https://localhost:8080/"
        },
        "id": "xEQo8y7u5Chd",
        "outputId": "05060988-b132-4e7a-c9a1-e08945559cde"
      },
      "outputs": [
        {
          "data": {
            "text/plain": [
              "array([1.97400212, 2.48920099])"
            ]
          },
          "execution_count": 44,
          "metadata": {},
          "output_type": "execute_result"
        }
      ],
      "source": [
        "np.quantile(x, [.95, .99])"
      ]
    },
    {
      "cell_type": "markdown",
      "metadata": {
        "id": "vDhFcNWj5Che"
      },
      "source": [
        "**Quartiles**, as their name suggests, are quantiles that divide a distribution into quarters by splitting the distribution at the 25th percentile, the median (a.k.a. the 50th percentile), and the 75th percentile: "
      ]
    },
    {
      "cell_type": "code",
      "execution_count": 45,
      "metadata": {
        "colab": {
          "base_uri": "https://localhost:8080/"
        },
        "id": "miEwAsQV5Che",
        "outputId": "14991cd2-d6b2-47b8-8347-43af7fd8277e"
      },
      "outputs": [
        {
          "data": {
            "text/plain": [
              "array([0.35322025, 0.71504996, 1.21455617, 1.97400212, 3.01241614])"
            ]
          },
          "execution_count": 45,
          "metadata": {},
          "output_type": "execute_result"
        }
      ],
      "source": [
        "q = np.percentile(x, [25, 50, 75, 95, 100])\n",
        "q"
      ]
    },
    {
      "cell_type": "code",
      "execution_count": 46,
      "metadata": {
        "colab": {
          "base_uri": "https://localhost:8080/",
          "height": 268
        },
        "id": "kQvjcq3O5Che",
        "outputId": "bad6bed6-6116-4dc5-b1e2-bf05828c29c9"
      },
      "outputs": [
        {
          "data": {
            "image/png": "[encoded data removed]",
            "text/plain": [
              "<Figure size 432x288 with 1 Axes>"
            ]
          },
          "metadata": {
            "needs_background": "light"
          },
          "output_type": "display_data"
        }
      ],
      "source": [
        "fig, ax = plt.subplots()\n",
        "plt.axvline(x = q[0], color='cornflowerblue')\n",
        "plt.axvline(x = q[1], color='green')\n",
        "plt.axvline(x = q[2], color='cornflowerblue')\n",
        "plt.axvline(x = q[3], color='orange')\n",
        "plt.axvline(x = q[4], color='red')\n",
        "_ = plt.hist(x, color = 'lightgray')"
      ]
    },
    {
      "cell_type": "markdown",
      "metadata": {
        "id": "JWVX933i5Che"
      },
      "source": [
        "Finally, **deciles** (from Latin *decimus*, meaning \"tenth\") divide a distribution into ten evenly-sized segments: "
      ]
    },
    {
      "cell_type": "code",
      "execution_count": 47,
      "metadata": {
        "colab": {
          "base_uri": "https://localhost:8080/"
        },
        "id": "SD59HmMa5Che",
        "outputId": "f5fd934f-b639-4593-eb5d-7fdf67094f2c"
      },
      "outputs": [
        {
          "data": {
            "text/plain": [
              "[10, 20, 30, 40, 50, 60, 70, 80, 90]"
            ]
          },
          "execution_count": 47,
          "metadata": {},
          "output_type": "execute_result"
        }
      ],
      "source": [
        "[i for i in range(10, 100, 10)]"
      ]
    },
    {
      "cell_type": "code",
      "execution_count": 48,
      "metadata": {
        "colab": {
          "base_uri": "https://localhost:8080/"
        },
        "id": "pVuo_iTo5Chf",
        "outputId": "e8ec24ac-c7ec-48c9-8105-7ea09073ae42"
      },
      "outputs": [
        {
          "data": {
            "text/plain": [
              "array([0.11857142, 0.28153945, 0.42521071, 0.55409046, 0.71504996,\n",
              "       0.90537967, 1.09715918, 1.33450591, 1.70106779])"
            ]
          },
          "execution_count": 48,
          "metadata": {},
          "output_type": "execute_result"
        }
      ],
      "source": [
        "d = np.percentile(x, range(10, 100, 10))\n",
        "d"
      ]
    },
    {
      "cell_type": "code",
      "execution_count": 49,
      "metadata": {
        "colab": {
          "base_uri": "https://localhost:8080/",
          "height": 268
        },
        "id": "wex6mxXx5Chf",
        "outputId": "53c1ac09-4fc8-47af-cfb6-be9fee3d5fc1"
      },
      "outputs": [
        {
          "data": {
            "image/png": "[encoded data removed]",
            "text/plain": [
              "<Figure size 432x288 with 1 Axes>"
            ]
          },
          "metadata": {
            "needs_background": "light"
          },
          "output_type": "display_data"
        }
      ],
      "source": [
        "fig, ax = plt.subplots()\n",
        "[plt.axvline(x = d_i, color='cornflowerblue') for d_i in d]\n",
        "_ = plt.hist(x, color = 'lightgray')"
      ]
    },
    {
      "cell_type": "markdown",
      "metadata": {
        "id": "ul0eYeis5Chf"
      },
      "source": [
        "As examples, we can refer to the bottom 10% as the bottom decile or the first decile, while the top 10% is the top decile or tenth decile."
      ]
    },
    {
      "cell_type": "markdown",
      "metadata": {
        "id": "hW2cvXR45Chf"
      },
      "source": [
        "### The Box-and-Whisker Plot"
      ]
    },
    {
      "cell_type": "code",
      "execution_count": 50,
      "metadata": {
        "id": "hstuGQgw5Chf"
      },
      "outputs": [],
      "source": [
        "sns.set(style='whitegrid')"
      ]
    },
    {
      "cell_type": "code",
      "execution_count": 51,
      "metadata": {
        "colab": {
          "base_uri": "https://localhost:8080/",
          "height": 268
        },
        "id": "KTJsZfB25Chg",
        "outputId": "55ffe131-1b07-49b0-819e-a350766289c6"
      },
      "outputs": [
        {
          "data": {
            "image/png": "[encoded data removed]",
            "text/plain": [
              "<Figure size 432x288 with 1 Axes>"
            ]
          },
          "metadata": {},
          "output_type": "display_data"
        }
      ],
      "source": [
        "_ = sns.boxplot(x=x)"
      ]
    },
    {
      "cell_type": "markdown",
      "metadata": {
        "id": "LYTGM6aL5Chg"
      },
      "source": [
        "Box edges and median are determined by quartiles:"
      ]
    },
    {
      "cell_type": "code",
      "execution_count": 52,
      "metadata": {
        "colab": {
          "base_uri": "https://localhost:8080/"
        },
        "id": "cwobiHMQ5Chg",
        "outputId": "c4406d19-3047-400e-8583-ef46c897b995"
      },
      "outputs": [
        {
          "data": {
            "text/plain": [
              "array([0.35322025, 0.71504996, 1.21455617, 1.97400212, 3.01241614])"
            ]
          },
          "execution_count": 52,
          "metadata": {},
          "output_type": "execute_result"
        }
      ],
      "source": [
        "q"
      ]
    },
    {
      "cell_type": "markdown",
      "metadata": {
        "id": "87xWa_O25Chg"
      },
      "source": [
        "Box edges define the **inter-quartile range** (IQR): "
      ]
    },
    {
      "cell_type": "code",
      "execution_count": 53,
      "metadata": {
        "colab": {
          "base_uri": "https://localhost:8080/"
        },
        "id": "geDTr1LS5Chg",
        "outputId": "1360d383-690e-4a53-ed7f-3df3451bb0c9"
      },
      "outputs": [
        {
          "data": {
            "text/plain": [
              "0.869"
            ]
          },
          "execution_count": 53,
          "metadata": {},
          "output_type": "execute_result"
        }
      ],
      "source": [
        "r = 1.194 - 0.325\n",
        "r"
      ]
    },
    {
      "cell_type": "markdown",
      "metadata": {
        "id": "AoLruNpq5Chh"
      },
      "source": [
        "Whisker lengths are determined by furthest data points within $1.5 \\times \\text{IQR}$ of the box edges."
      ]
    },
    {
      "cell_type": "markdown",
      "metadata": {
        "id": "or6R8lpL5Chh"
      },
      "source": [
        "In this case, the lower whisker could stretch as far down (to the left in the plot) as:"
      ]
    },
    {
      "cell_type": "code",
      "execution_count": 54,
      "metadata": {
        "colab": {
          "base_uri": "https://localhost:8080/"
        },
        "id": "PgFCmy2g5Chh",
        "outputId": "d41d0952-f9f5-4c5a-f93e-662fba80d496"
      },
      "outputs": [
        {
          "data": {
            "text/plain": [
              "-0.9785000000000001"
            ]
          },
          "execution_count": 54,
          "metadata": {},
          "output_type": "execute_result"
        }
      ],
      "source": [
        "0.325 - 1.5*r"
      ]
    },
    {
      "cell_type": "markdown",
      "metadata": {
        "id": "1jGgu10C5Chh"
      },
      "source": [
        "The lowest value is inside of that so the whisker is plotted where that lowest value is: "
      ]
    },
    {
      "cell_type": "code",
      "execution_count": 55,
      "metadata": {
        "colab": {
          "base_uri": "https://localhost:8080/"
        },
        "id": "DoTmuS6h5Chh",
        "outputId": "18f9d9e6-c206-4fd1-d581-37ee2a10bb53"
      },
      "outputs": [
        {
          "data": {
            "text/plain": [
              "-0.14812123882018174"
            ]
          },
          "execution_count": 55,
          "metadata": {},
          "output_type": "execute_result"
        }
      ],
      "source": [
        "np.min(x)"
      ]
    },
    {
      "cell_type": "markdown",
      "metadata": {
        "id": "VAqf6jZ25Chi"
      },
      "source": [
        "The upper whisker could stretch as far up (to the right in the plot) as: "
      ]
    },
    {
      "cell_type": "code",
      "execution_count": 56,
      "metadata": {
        "colab": {
          "base_uri": "https://localhost:8080/"
        },
        "id": "owW6yEe75Chi",
        "outputId": "2215258f-b68e-4d1d-d4dc-af79637c2b49"
      },
      "outputs": [
        {
          "data": {
            "text/plain": [
              "2.4975"
            ]
          },
          "execution_count": 56,
          "metadata": {},
          "output_type": "execute_result"
        }
      ],
      "source": [
        "1.194 + 1.5*r"
      ]
    },
    {
      "cell_type": "markdown",
      "metadata": {
        "id": "wdC_HHjO5Chi"
      },
      "source": [
        "There are several (eleven) values beyond this threshold in the distribution. These values are considered **outliers** and are plotted as individual points:"
      ]
    },
    {
      "cell_type": "code",
      "execution_count": 57,
      "metadata": {
        "id": "MB1QCond5Chi"
      },
      "outputs": [],
      "source": [
        "x.sort()"
      ]
    },
    {
      "cell_type": "code",
      "execution_count": 58,
      "metadata": {
        "colab": {
          "base_uri": "https://localhost:8080/"
        },
        "id": "mrWngeiJ5Chi",
        "outputId": "7c524f07-3b91-4612-92b7-f7decd23f1fd"
      },
      "outputs": [
        {
          "data": {
            "text/plain": [
              "array([2.4402303 , 2.44671553, 2.46502887, 2.47320689, 2.48907907,\n",
              "       2.50127113, 2.51202146, 2.59499397, 2.60113704, 2.69094987,\n",
              "       2.76950169, 2.77213837, 2.81903223, 2.8235988 , 3.01241614])"
            ]
          },
          "execution_count": 58,
          "metadata": {},
          "output_type": "execute_result"
        }
      ],
      "source": [
        "x[-15:]"
      ]
    },
    {
      "cell_type": "markdown",
      "metadata": {
        "id": "myU38cQq5Chi"
      },
      "source": [
        "The twelth-highest value, 2.435, is the largest within the upper whisker's maximum reach and so the upper whisker is plotted there. "
      ]
    },
    {
      "cell_type": "markdown",
      "metadata": {
        "id": "plWdKLkK5Chj"
      },
      "source": [
        "Useful for examining distributions on their own, box-and-whisker plots are especially helpful for comparing distributions:"
      ]
    },
    {
      "cell_type": "code",
      "execution_count": 59,
      "metadata": {
        "colab": {
          "base_uri": "https://localhost:8080/",
          "height": 423
        },
        "id": "hU6gylwx5Chj",
        "outputId": "e47842a7-f615-433d-e671-0692bbc7fac8"
      },
      "outputs": [
        {
          "name": "stdout",
          "output_type": "stream",
          "text": [
            "<class 'pandas.core.frame.DataFrame'>\n"
          ]
        },
        {
          "data": {
            "text/html": [
              "<div>\n",
              "<style scoped>\n",
              "    .dataframe tbody tr th:only-of-type {\n",
              "        vertical-align: middle;\n",
              "    }\n",
              "\n",
              "    .dataframe tbody tr th {\n",
              "        vertical-align: top;\n",
              "    }\n",
              "\n",
              "    .dataframe thead th {\n",
              "        text-align: right;\n",
              "    }\n",
              "</style>\n",
              "<table border=\"1\" class=\"dataframe\">\n",
              "  <thead>\n",
              "    <tr style=\"text-align: right;\">\n",
              "      <th></th>\n",
              "      <th>sepal_length</th>\n",
              "      <th>sepal_width</th>\n",
              "      <th>petal_length</th>\n",
              "      <th>petal_width</th>\n",
              "      <th>species</th>\n",
              "    </tr>\n",
              "  </thead>\n",
              "  <tbody>\n",
              "    <tr>\n",
              "      <th>0</th>\n",
              "      <td>5.1</td>\n",
              "      <td>3.5</td>\n",
              "      <td>1.4</td>\n",
              "      <td>0.2</td>\n",
              "      <td>setosa</td>\n",
              "    </tr>\n",
              "    <tr>\n",
              "      <th>1</th>\n",
              "      <td>4.9</td>\n",
              "      <td>3.0</td>\n",
              "      <td>1.4</td>\n",
              "      <td>0.2</td>\n",
              "      <td>setosa</td>\n",
              "    </tr>\n",
              "    <tr>\n",
              "      <th>2</th>\n",
              "      <td>4.7</td>\n",
              "      <td>3.2</td>\n",
              "      <td>1.3</td>\n",
              "      <td>0.2</td>\n",
              "      <td>setosa</td>\n",
              "    </tr>\n",
              "    <tr>\n",
              "      <th>3</th>\n",
              "      <td>4.6</td>\n",
              "      <td>3.1</td>\n",
              "      <td>1.5</td>\n",
              "      <td>0.2</td>\n",
              "      <td>setosa</td>\n",
              "    </tr>\n",
              "    <tr>\n",
              "      <th>4</th>\n",
              "      <td>5.0</td>\n",
              "      <td>3.6</td>\n",
              "      <td>1.4</td>\n",
              "      <td>0.2</td>\n",
              "      <td>setosa</td>\n",
              "    </tr>\n",
              "    <tr>\n",
              "      <th>...</th>\n",
              "      <td>...</td>\n",
              "      <td>...</td>\n",
              "      <td>...</td>\n",
              "      <td>...</td>\n",
              "      <td>...</td>\n",
              "    </tr>\n",
              "    <tr>\n",
              "      <th>145</th>\n",
              "      <td>6.7</td>\n",
              "      <td>3.0</td>\n",
              "      <td>5.2</td>\n",
              "      <td>2.3</td>\n",
              "      <td>virginica</td>\n",
              "    </tr>\n",
              "    <tr>\n",
              "      <th>146</th>\n",
              "      <td>6.3</td>\n",
              "      <td>2.5</td>\n",
              "      <td>5.0</td>\n",
              "      <td>1.9</td>\n",
              "      <td>virginica</td>\n",
              "    </tr>\n",
              "    <tr>\n",
              "      <th>147</th>\n",
              "      <td>6.5</td>\n",
              "      <td>3.0</td>\n",
              "      <td>5.2</td>\n",
              "      <td>2.0</td>\n",
              "      <td>virginica</td>\n",
              "    </tr>\n",
              "    <tr>\n",
              "      <th>148</th>\n",
              "      <td>6.2</td>\n",
              "      <td>3.4</td>\n",
              "      <td>5.4</td>\n",
              "      <td>2.3</td>\n",
              "      <td>virginica</td>\n",
              "    </tr>\n",
              "    <tr>\n",
              "      <th>149</th>\n",
              "      <td>5.9</td>\n",
              "      <td>3.0</td>\n",
              "      <td>5.1</td>\n",
              "      <td>1.8</td>\n",
              "      <td>virginica</td>\n",
              "    </tr>\n",
              "  </tbody>\n",
              "</table>\n",
              "<p>150 rows × 5 columns</p>\n",
              "</div>"
            ],
            "text/plain": [
              "     sepal_length  sepal_width  petal_length  petal_width    species\n",
              "0             5.1          3.5           1.4          0.2     setosa\n",
              "1             4.9          3.0           1.4          0.2     setosa\n",
              "2             4.7          3.2           1.3          0.2     setosa\n",
              "3             4.6          3.1           1.5          0.2     setosa\n",
              "4             5.0          3.6           1.4          0.2     setosa\n",
              "..            ...          ...           ...          ...        ...\n",
              "145           6.7          3.0           5.2          2.3  virginica\n",
              "146           6.3          2.5           5.0          1.9  virginica\n",
              "147           6.5          3.0           5.2          2.0  virginica\n",
              "148           6.2          3.4           5.4          2.3  virginica\n",
              "149           5.9          3.0           5.1          1.8  virginica\n",
              "\n",
              "[150 rows x 5 columns]"
            ]
          },
          "execution_count": 59,
          "metadata": {},
          "output_type": "execute_result"
        }
      ],
      "source": [
        "iris = sns.load_dataset('iris')\n",
        "print(type(iris))\n",
        "iris"
      ]
    },
    {
      "cell_type": "code",
      "execution_count": 60,
      "metadata": {
        "colab": {
          "base_uri": "https://localhost:8080/",
          "height": 269
        },
        "id": "vKqPo2sn5Chj",
        "outputId": "fd4a5c17-3606-458e-f667-1a883ee43ce4"
      },
      "outputs": [
        {
          "data": {
            "image/png": "[encoded data removed]",
            "text/plain": [
              "<Figure size 432x288 with 1 Axes>"
            ]
          },
          "metadata": {},
          "output_type": "display_data"
        }
      ],
      "source": [
        "_ = sns.boxplot(data=iris)"
      ]
    },
    {
      "cell_type": "code",
      "execution_count": 61,
      "metadata": {
        "colab": {
          "base_uri": "https://localhost:8080/",
          "height": 423
        },
        "id": "lYtj4rTU5Chj",
        "outputId": "622b5ec2-4a2a-4195-913b-afb55650ae52"
      },
      "outputs": [
        {
          "data": {
            "text/html": [
              "<div>\n",
              "<style scoped>\n",
              "    .dataframe tbody tr th:only-of-type {\n",
              "        vertical-align: middle;\n",
              "    }\n",
              "\n",
              "    .dataframe tbody tr th {\n",
              "        vertical-align: top;\n",
              "    }\n",
              "\n",
              "    .dataframe thead th {\n",
              "        text-align: right;\n",
              "    }\n",
              "</style>\n",
              "<table border=\"1\" class=\"dataframe\">\n",
              "  <thead>\n",
              "    <tr style=\"text-align: right;\">\n",
              "      <th></th>\n",
              "      <th>total_bill</th>\n",
              "      <th>tip</th>\n",
              "      <th>sex</th>\n",
              "      <th>smoker</th>\n",
              "      <th>day</th>\n",
              "      <th>time</th>\n",
              "      <th>size</th>\n",
              "    </tr>\n",
              "  </thead>\n",
              "  <tbody>\n",
              "    <tr>\n",
              "      <th>0</th>\n",
              "      <td>16.99</td>\n",
              "      <td>1.01</td>\n",
              "      <td>Female</td>\n",
              "      <td>No</td>\n",
              "      <td>Sun</td>\n",
              "      <td>Dinner</td>\n",
              "      <td>2</td>\n",
              "    </tr>\n",
              "    <tr>\n",
              "      <th>1</th>\n",
              "      <td>10.34</td>\n",
              "      <td>1.66</td>\n",
              "      <td>Male</td>\n",
              "      <td>No</td>\n",
              "      <td>Sun</td>\n",
              "      <td>Dinner</td>\n",
              "      <td>3</td>\n",
              "    </tr>\n",
              "    <tr>\n",
              "      <th>2</th>\n",
              "      <td>21.01</td>\n",
              "      <td>3.50</td>\n",
              "      <td>Male</td>\n",
              "      <td>No</td>\n",
              "      <td>Sun</td>\n",
              "      <td>Dinner</td>\n",
              "      <td>3</td>\n",
              "    </tr>\n",
              "    <tr>\n",
              "      <th>3</th>\n",
              "      <td>23.68</td>\n",
              "      <td>3.31</td>\n",
              "      <td>Male</td>\n",
              "      <td>No</td>\n",
              "      <td>Sun</td>\n",
              "      <td>Dinner</td>\n",
              "      <td>2</td>\n",
              "    </tr>\n",
              "    <tr>\n",
              "      <th>4</th>\n",
              "      <td>24.59</td>\n",
              "      <td>3.61</td>\n",
              "      <td>Female</td>\n",
              "      <td>No</td>\n",
              "      <td>Sun</td>\n",
              "      <td>Dinner</td>\n",
              "      <td>4</td>\n",
              "    </tr>\n",
              "    <tr>\n",
              "      <th>...</th>\n",
              "      <td>...</td>\n",
              "      <td>...</td>\n",
              "      <td>...</td>\n",
              "      <td>...</td>\n",
              "      <td>...</td>\n",
              "      <td>...</td>\n",
              "      <td>...</td>\n",
              "    </tr>\n",
              "    <tr>\n",
              "      <th>239</th>\n",
              "      <td>29.03</td>\n",
              "      <td>5.92</td>\n",
              "      <td>Male</td>\n",
              "      <td>No</td>\n",
              "      <td>Sat</td>\n",
              "      <td>Dinner</td>\n",
              "      <td>3</td>\n",
              "    </tr>\n",
              "    <tr>\n",
              "      <th>240</th>\n",
              "      <td>27.18</td>\n",
              "      <td>2.00</td>\n",
              "      <td>Female</td>\n",
              "      <td>Yes</td>\n",
              "      <td>Sat</td>\n",
              "      <td>Dinner</td>\n",
              "      <td>2</td>\n",
              "    </tr>\n",
              "    <tr>\n",
              "      <th>241</th>\n",
              "      <td>22.67</td>\n",
              "      <td>2.00</td>\n",
              "      <td>Male</td>\n",
              "      <td>Yes</td>\n",
              "      <td>Sat</td>\n",
              "      <td>Dinner</td>\n",
              "      <td>2</td>\n",
              "    </tr>\n",
              "    <tr>\n",
              "      <th>242</th>\n",
              "      <td>17.82</td>\n",
              "      <td>1.75</td>\n",
              "      <td>Male</td>\n",
              "      <td>No</td>\n",
              "      <td>Sat</td>\n",
              "      <td>Dinner</td>\n",
              "      <td>2</td>\n",
              "    </tr>\n",
              "    <tr>\n",
              "      <th>243</th>\n",
              "      <td>18.78</td>\n",
              "      <td>3.00</td>\n",
              "      <td>Female</td>\n",
              "      <td>No</td>\n",
              "      <td>Thur</td>\n",
              "      <td>Dinner</td>\n",
              "      <td>2</td>\n",
              "    </tr>\n",
              "  </tbody>\n",
              "</table>\n",
              "<p>244 rows × 7 columns</p>\n",
              "</div>"
            ],
            "text/plain": [
              "     total_bill   tip     sex smoker   day    time  size\n",
              "0         16.99  1.01  Female     No   Sun  Dinner     2\n",
              "1         10.34  1.66    Male     No   Sun  Dinner     3\n",
              "2         21.01  3.50    Male     No   Sun  Dinner     3\n",
              "3         23.68  3.31    Male     No   Sun  Dinner     2\n",
              "4         24.59  3.61  Female     No   Sun  Dinner     4\n",
              "..          ...   ...     ...    ...   ...     ...   ...\n",
              "239       29.03  5.92    Male     No   Sat  Dinner     3\n",
              "240       27.18  2.00  Female    Yes   Sat  Dinner     2\n",
              "241       22.67  2.00    Male    Yes   Sat  Dinner     2\n",
              "242       17.82  1.75    Male     No   Sat  Dinner     2\n",
              "243       18.78  3.00  Female     No  Thur  Dinner     2\n",
              "\n",
              "[244 rows x 7 columns]"
            ]
          },
          "execution_count": 61,
          "metadata": {},
          "output_type": "execute_result"
        }
      ],
      "source": [
        "tips = sns.load_dataset('tips')\n",
        "tips"
      ]
    },
    {
      "cell_type": "code",
      "execution_count": 62,
      "metadata": {
        "colab": {
          "base_uri": "https://localhost:8080/",
          "height": 285
        },
        "id": "kwt0xVEP5Chj",
        "outputId": "3d6f2dc0-166a-4991-c25d-fd740b21165b"
      },
      "outputs": [
        {
          "data": {
            "image/png": "[encoded data removed]",
            "text/plain": [
              "<Figure size 432x288 with 1 Axes>"
            ]
          },
          "metadata": {},
          "output_type": "display_data"
        }
      ],
      "source": [
        "_ = sns.boxplot(x='day', y='total_bill', hue='smoker', data=tips)"
      ]
    },
    {
      "cell_type": "markdown",
      "metadata": {
        "id": "quNYihVQ5Chk"
      },
      "source": [
        "### Measures of Dispersion"
      ]
    },
    {
      "cell_type": "markdown",
      "metadata": {
        "id": "MKaq4xJ25Chk"
      },
      "source": [
        "IQR is a relatively rare measure of the dispersion of values around the center of a distribution. The most widely-used are: \n",
        "\n",
        "* Variance,\n",
        "* Standard deviation, and\n",
        "* Standard error. "
      ]
    },
    {
      "cell_type": "markdown",
      "metadata": {
        "id": "Ti6GdZeZ5Chk"
      },
      "source": [
        "**Variance** (denoted with $\\sigma^2$) can be written using expected-value notation, but it's easier to understand without it: \n",
        "$$ \\sigma^2 = \\frac{\\sum_{i=1}^n (x_i-\\bar{x})^2}{n} $$"
      ]
    },
    {
      "cell_type": "markdown",
      "metadata": {
        "id": "B1lo6mxN5Chk"
      },
      "source": [
        "(The astute follower of the *Machine Learning Foundations* series may notice that this formula is the same as mean-squared-error cost, except $x_i$ is being compared to the mean $\\mu$ instead of a predicted value $\\hat{x}_i$.)"
      ]
    },
    {
      "cell_type": "markdown",
      "metadata": {
        "id": "wiOq636c5Chk"
      },
      "source": [
        "(Technically speaking, we should divide by $n$-1 with a sample of data, but with the large datasets typical of machine learning, it's a negligible difference. If $n$ were equal to a small number like 8 then it would matter.)"
      ]
    },
    {
      "cell_type": "markdown",
      "metadata": {
        "id": "pD27D-0g5Chk"
      },
      "source": [
        "(Also technically speaking, the variance of a sample is typically denoted with $s^2$ as opposed to the Greek $\\sigma^2$, akin to how $\\bar{x}$ denotes the mean of a sample while the Greek $\\mu$ is reserved for population mean.)"
      ]
    },
    {
      "cell_type": "markdown",
      "metadata": {
        "id": "4G-ogAFP5Chk"
      },
      "source": [
        "As an example let's calculate the variance of the PDF `x` from earlier: "
      ]
    },
    {
      "cell_type": "code",
      "execution_count": 63,
      "metadata": {
        "colab": {
          "base_uri": "https://localhost:8080/"
        },
        "id": "AGO5TXzt5Chk",
        "outputId": "f6fce236-696b-4fae-d2a4-f267eee93302"
      },
      "outputs": [
        {
          "data": {
            "text/plain": [
              "0.8285775359757375"
            ]
          },
          "execution_count": 63,
          "metadata": {},
          "output_type": "execute_result"
        }
      ],
      "source": [
        "xbar = np.mean(x)\n",
        "xbar"
      ]
    },
    {
      "cell_type": "code",
      "execution_count": 64,
      "metadata": {
        "id": "u-fEygHR5Chl"
      },
      "outputs": [],
      "source": [
        "squared_differences = [(x_i - xbar)**2 for x_i in x]"
      ]
    },
    {
      "cell_type": "code",
      "execution_count": 65,
      "metadata": {
        "colab": {
          "base_uri": "https://localhost:8080/"
        },
        "id": "qdvZ5_fg5Chl",
        "outputId": "0ade75a9-c436-4099-b20a-99b21bda336d"
      },
      "outputs": [
        {
          "data": {
            "text/plain": [
              "[0.9539404966878499,\n",
              " 0.9506790911790766,\n",
              " 0.942942857127218,\n",
              " 0.9333447886607278,\n",
              " 0.9173162212515705,\n",
              " 0.8984359347281907,\n",
              " 0.8648774089035169,\n",
              " 0.8264404622295904,\n",
              " 0.8252439636954871,\n",
              " 0.8164393500851668]"
            ]
          },
          "execution_count": 65,
          "metadata": {},
          "output_type": "execute_result"
        }
      ],
      "source": [
        "squared_differences[0:10]"
      ]
    },
    {
      "cell_type": "code",
      "execution_count": 66,
      "metadata": {
        "colab": {
          "base_uri": "https://localhost:8080/"
        },
        "id": "jduq8CVv5Chl",
        "outputId": "b3bb8d54-ed50-492b-ae28-03c939a89635"
      },
      "outputs": [
        {
          "data": {
            "text/plain": [
              "0.3696273311505307"
            ]
          },
          "execution_count": 66,
          "metadata": {},
          "output_type": "execute_result"
        }
      ],
      "source": [
        "sigma_squared = sum(squared_differences)/len(x)\n",
        "sigma_squared"
      ]
    },
    {
      "cell_type": "markdown",
      "metadata": {
        "id": "mnZoMJAj5Chl"
      },
      "source": [
        "Of course there's a built-in NumPy method: "
      ]
    },
    {
      "cell_type": "code",
      "execution_count": 67,
      "metadata": {
        "colab": {
          "base_uri": "https://localhost:8080/"
        },
        "id": "pIci-1It5Chl",
        "outputId": "cca3029f-17e9-4a41-cf09-6d58844ad25d"
      },
      "outputs": [
        {
          "data": {
            "text/plain": [
              "0.36962733115053104"
            ]
          },
          "execution_count": 67,
          "metadata": {},
          "output_type": "execute_result"
        }
      ],
      "source": [
        "np.var(x)"
      ]
    },
    {
      "cell_type": "markdown",
      "metadata": {
        "id": "TChK1Qii5Chl"
      },
      "source": [
        "#### Standard Deviation"
      ]
    },
    {
      "cell_type": "markdown",
      "metadata": {
        "id": "Ei-js4cF5Chm"
      },
      "source": [
        "A straightforward derivative of variance is **standard deviation** (denoted with $\\sigma$), which is convenient because its units are on the same scale as the values in the distribution: \n",
        "$$ \\sigma = \\sqrt{\\sigma^2} $$"
      ]
    },
    {
      "cell_type": "code",
      "execution_count": 68,
      "metadata": {
        "colab": {
          "base_uri": "https://localhost:8080/"
        },
        "id": "ginsMxgi5Chm",
        "outputId": "2c8b384f-350e-479f-dbe9-eda9b198196e"
      },
      "outputs": [
        {
          "data": {
            "text/plain": [
              "0.6079698439483086"
            ]
          },
          "execution_count": 68,
          "metadata": {},
          "output_type": "execute_result"
        }
      ],
      "source": [
        "sigma = sigma_squared**(1/2)\n",
        "sigma"
      ]
    },
    {
      "cell_type": "code",
      "execution_count": 69,
      "metadata": {
        "colab": {
          "base_uri": "https://localhost:8080/"
        },
        "id": "mT0pi9Qx5Chm",
        "outputId": "f543ffab-48ea-451a-9e87-efcd52ae05c3"
      },
      "outputs": [
        {
          "data": {
            "text/plain": [
              "0.6079698439483089"
            ]
          },
          "execution_count": 69,
          "metadata": {},
          "output_type": "execute_result"
        }
      ],
      "source": [
        "np.std(x)"
      ]
    },
    {
      "cell_type": "code",
      "execution_count": 70,
      "metadata": {
        "colab": {
          "base_uri": "https://localhost:8080/",
          "height": 268
        },
        "id": "k7a_hKT75Chm",
        "outputId": "ad369b32-7091-496e-c7e9-dad5472fc038"
      },
      "outputs": [
        {
          "data": {
            "image/png": "[encoded data removed]",
            "text/plain": [
              "<Figure size 432x288 with 1 Axes>"
            ]
          },
          "metadata": {},
          "output_type": "display_data"
        }
      ],
      "source": [
        "fig, ax = plt.subplots()\n",
        "plt.axvline(x = xbar, color='orange')\n",
        "plt.axvline(x = xbar+sigma, color='olivedrab')\n",
        "plt.axvline(x = xbar-sigma, color='olivedrab')\n",
        "_ = plt.hist(x, color = 'lightgray')"
      ]
    },
    {
      "cell_type": "markdown",
      "metadata": {
        "id": "TghPdBIE5Chm"
      },
      "source": [
        "#### Standard Error"
      ]
    },
    {
      "cell_type": "markdown",
      "metadata": {
        "id": "vuIykMWN5Chm"
      },
      "source": [
        "A further derivation of standard deviation is **standard error**, which is denoted with $\\sigma_\\bar{x}$:\n",
        "$$ \\sigma_\\bar{x} = \\frac{\\sigma}{\\sqrt{n}} $$"
      ]
    },
    {
      "cell_type": "code",
      "execution_count": 71,
      "metadata": {
        "colab": {
          "base_uri": "https://localhost:8080/"
        },
        "id": "6C2xB1UU5Chn",
        "outputId": "caa2a37e-ab30-45b8-f521-c13fc756cfe5"
      },
      "outputs": [
        {
          "data": {
            "text/plain": [
              "0.01922569455573792"
            ]
          },
          "execution_count": 71,
          "metadata": {},
          "output_type": "execute_result"
        }
      ],
      "source": [
        "sigma/(len(x))**(1/2)"
      ]
    },
    {
      "cell_type": "code",
      "execution_count": 72,
      "metadata": {
        "colab": {
          "base_uri": "https://localhost:8080/"
        },
        "id": "Itaub6WD5Chn",
        "outputId": "582806aa-744d-4b14-d50c-d105abd0dd64"
      },
      "outputs": [
        {
          "data": {
            "text/plain": [
              "0.01923531461866455"
            ]
          },
          "execution_count": 72,
          "metadata": {},
          "output_type": "execute_result"
        }
      ],
      "source": [
        "st.sem(x) # defaults to 1 degree of freedom (n-1), which can be ignored with the larger data sets of ML"
      ]
    },
    {
      "cell_type": "code",
      "execution_count": 73,
      "metadata": {
        "colab": {
          "base_uri": "https://localhost:8080/"
        },
        "id": "YAjsX8WB5Chn",
        "outputId": "eb552759-cfc8-4ef5-8952-24ad7389c786"
      },
      "outputs": [
        {
          "data": {
            "text/plain": [
              "0.01922569455573793"
            ]
          },
          "execution_count": 73,
          "metadata": {},
          "output_type": "execute_result"
        }
      ],
      "source": [
        "st.sem(x, ddof=0) # 0 degrees of freedom (n)"
      ]
    },
    {
      "cell_type": "markdown",
      "metadata": {
        "id": "MuPQwbJn5Chn"
      },
      "source": [
        "Standard error enables us to compare whether the means of two distributions differ *significantly*, a focus of *Intro to Stats*."
      ]
    },
    {
      "cell_type": "markdown",
      "metadata": {
        "id": "XwRxQf9E5Chn"
      },
      "source": [
        "### Measures of Relatedness"
      ]
    },
    {
      "cell_type": "markdown",
      "metadata": {
        "id": "ttvO-Q_B5Chn"
      },
      "source": [
        "If we have two vectors of the same length, $x$ and $y$, where each element of $x$ is paired with the corresponding element of $y$, **covariance** provides a measure of how related the variables are to each other:\n",
        "$$ \\text{cov}(x, y) = \\frac{\\sum_{i=1}^n (x_i - \\bar{x})(y_i - \\bar{y}) }{n} $$"
      ]
    },
    {
      "cell_type": "code",
      "execution_count": 74,
      "metadata": {
        "colab": {
          "base_uri": "https://localhost:8080/",
          "height": 0
        },
        "id": "oP01sWnf5Cho",
        "outputId": "d709ebd3-d049-438b-c7eb-3b4a64165afc"
      },
      "outputs": [
        {
          "data": {
            "text/html": [
              "<div>\n",
              "<style scoped>\n",
              "    .dataframe tbody tr th:only-of-type {\n",
              "        vertical-align: middle;\n",
              "    }\n",
              "\n",
              "    .dataframe tbody tr th {\n",
              "        vertical-align: top;\n",
              "    }\n",
              "\n",
              "    .dataframe thead th {\n",
              "        text-align: right;\n",
              "    }\n",
              "</style>\n",
              "<table border=\"1\" class=\"dataframe\">\n",
              "  <thead>\n",
              "    <tr style=\"text-align: right;\">\n",
              "      <th></th>\n",
              "      <th>sepal_length</th>\n",
              "      <th>sepal_width</th>\n",
              "      <th>petal_length</th>\n",
              "      <th>petal_width</th>\n",
              "      <th>species</th>\n",
              "    </tr>\n",
              "  </thead>\n",
              "  <tbody>\n",
              "    <tr>\n",
              "      <th>0</th>\n",
              "      <td>5.1</td>\n",
              "      <td>3.5</td>\n",
              "      <td>1.4</td>\n",
              "      <td>0.2</td>\n",
              "      <td>setosa</td>\n",
              "    </tr>\n",
              "    <tr>\n",
              "      <th>1</th>\n",
              "      <td>4.9</td>\n",
              "      <td>3.0</td>\n",
              "      <td>1.4</td>\n",
              "      <td>0.2</td>\n",
              "      <td>setosa</td>\n",
              "    </tr>\n",
              "    <tr>\n",
              "      <th>2</th>\n",
              "      <td>4.7</td>\n",
              "      <td>3.2</td>\n",
              "      <td>1.3</td>\n",
              "      <td>0.2</td>\n",
              "      <td>setosa</td>\n",
              "    </tr>\n",
              "    <tr>\n",
              "      <th>3</th>\n",
              "      <td>4.6</td>\n",
              "      <td>3.1</td>\n",
              "      <td>1.5</td>\n",
              "      <td>0.2</td>\n",
              "      <td>setosa</td>\n",
              "    </tr>\n",
              "    <tr>\n",
              "      <th>4</th>\n",
              "      <td>5.0</td>\n",
              "      <td>3.6</td>\n",
              "      <td>1.4</td>\n",
              "      <td>0.2</td>\n",
              "      <td>setosa</td>\n",
              "    </tr>\n",
              "    <tr>\n",
              "      <th>...</th>\n",
              "      <td>...</td>\n",
              "      <td>...</td>\n",
              "      <td>...</td>\n",
              "      <td>...</td>\n",
              "      <td>...</td>\n",
              "    </tr>\n",
              "    <tr>\n",
              "      <th>145</th>\n",
              "      <td>6.7</td>\n",
              "      <td>3.0</td>\n",
              "      <td>5.2</td>\n",
              "      <td>2.3</td>\n",
              "      <td>virginica</td>\n",
              "    </tr>\n",
              "    <tr>\n",
              "      <th>146</th>\n",
              "      <td>6.3</td>\n",
              "      <td>2.5</td>\n",
              "      <td>5.0</td>\n",
              "      <td>1.9</td>\n",
              "      <td>virginica</td>\n",
              "    </tr>\n",
              "    <tr>\n",
              "      <th>147</th>\n",
              "      <td>6.5</td>\n",
              "      <td>3.0</td>\n",
              "      <td>5.2</td>\n",
              "      <td>2.0</td>\n",
              "      <td>virginica</td>\n",
              "    </tr>\n",
              "    <tr>\n",
              "      <th>148</th>\n",
              "      <td>6.2</td>\n",
              "      <td>3.4</td>\n",
              "      <td>5.4</td>\n",
              "      <td>2.3</td>\n",
              "      <td>virginica</td>\n",
              "    </tr>\n",
              "    <tr>\n",
              "      <th>149</th>\n",
              "      <td>5.9</td>\n",
              "      <td>3.0</td>\n",
              "      <td>5.1</td>\n",
              "      <td>1.8</td>\n",
              "      <td>virginica</td>\n",
              "    </tr>\n",
              "  </tbody>\n",
              "</table>\n",
              "<p>150 rows × 5 columns</p>\n",
              "</div>"
            ],
            "text/plain": [
              "     sepal_length  sepal_width  petal_length  petal_width    species\n",
              "0             5.1          3.5           1.4          0.2     setosa\n",
              "1             4.9          3.0           1.4          0.2     setosa\n",
              "2             4.7          3.2           1.3          0.2     setosa\n",
              "3             4.6          3.1           1.5          0.2     setosa\n",
              "4             5.0          3.6           1.4          0.2     setosa\n",
              "..            ...          ...           ...          ...        ...\n",
              "145           6.7          3.0           5.2          2.3  virginica\n",
              "146           6.3          2.5           5.0          1.9  virginica\n",
              "147           6.5          3.0           5.2          2.0  virginica\n",
              "148           6.2          3.4           5.4          2.3  virginica\n",
              "149           5.9          3.0           5.1          1.8  virginica\n",
              "\n",
              "[150 rows x 5 columns]"
            ]
          },
          "execution_count": 74,
          "metadata": {},
          "output_type": "execute_result"
        }
      ],
      "source": [
        "iris"
      ]
    },
    {
      "cell_type": "code",
      "execution_count": 75,
      "metadata": {
        "id": "t9rSqTHC5Cho"
      },
      "outputs": [],
      "source": [
        "x = iris.sepal_length\n",
        "y = iris.petal_length"
      ]
    },
    {
      "cell_type": "code",
      "execution_count": 76,
      "metadata": {
        "colab": {
          "base_uri": "https://localhost:8080/",
          "height": 0
        },
        "id": "hM-_V5jF5Cho",
        "outputId": "36a6a622-2e5e-4765-d911-98dde1b108f9"
      },
      "outputs": [
        {
          "data": {
            "image/png": "[encoded data removed]",
            "text/plain": [
              "<Figure size 432x288 with 1 Axes>"
            ]
          },
          "metadata": {},
          "output_type": "display_data"
        }
      ],
      "source": [
        "_ = sns.scatterplot(x=x, y=y)"
      ]
    },
    {
      "cell_type": "code",
      "execution_count": 77,
      "metadata": {
        "id": "rfOYkAzt5Cho"
      },
      "outputs": [],
      "source": [
        "n = len(x)"
      ]
    },
    {
      "cell_type": "code",
      "execution_count": 78,
      "metadata": {
        "id": "-VIXsv3j5Cho"
      },
      "outputs": [],
      "source": [
        "xbar = sum(x)/n\n",
        "ybar = sum(y)/n"
      ]
    },
    {
      "cell_type": "code",
      "execution_count": 79,
      "metadata": {
        "id": "15WoxxTH5Cho"
      },
      "outputs": [],
      "source": [
        "product = [(x[i]-xbar)*(y[i]-ybar) for i in range(n)]"
      ]
    },
    {
      "cell_type": "code",
      "execution_count": 80,
      "metadata": {
        "colab": {
          "base_uri": "https://localhost:8080/"
        },
        "id": "gygz20ti5Cho",
        "outputId": "f3568f0c-9d7b-43fd-b412-9297a780871d"
      },
      "outputs": [
        {
          "data": {
            "text/plain": [
              "1.2658199999999995"
            ]
          },
          "execution_count": 80,
          "metadata": {},
          "output_type": "execute_result"
        }
      ],
      "source": [
        "cov = sum(product)/n\n",
        "cov"
      ]
    },
    {
      "cell_type": "markdown",
      "metadata": {
        "id": "YEc4sv0v5Chp"
      },
      "source": [
        "The NumPy `cov()` method returns a **covariance matrix**, which is a $2 \\times 2$ matrix because $x$ and $y$ together describe a two-dimensional space: "
      ]
    },
    {
      "cell_type": "code",
      "execution_count": 81,
      "metadata": {
        "colab": {
          "base_uri": "https://localhost:8080/"
        },
        "id": "6n9HymBG5Chp",
        "outputId": "3cfd459a-e9ec-4a72-8102-4286d4f31088"
      },
      "outputs": [
        {
          "data": {
            "text/plain": [
              "array([[0.68112222, 1.26582   ],\n",
              "       [1.26582   , 3.09550267]])"
            ]
          },
          "execution_count": 81,
          "metadata": {},
          "output_type": "execute_result"
        }
      ],
      "source": [
        "np.cov(x, y, ddof=0) # again, defaults to ddof=1"
      ]
    },
    {
      "cell_type": "markdown",
      "metadata": {
        "id": "yBXI9B2-5Chp"
      },
      "source": [
        "The diagonal elements of the covariance matrix represent the variance of $x$ and $y$, respectively: "
      ]
    },
    {
      "cell_type": "code",
      "execution_count": 82,
      "metadata": {
        "colab": {
          "base_uri": "https://localhost:8080/"
        },
        "id": "uKhq8mSA5Chp",
        "outputId": "4c169756-f14f-46d1-8471-0a7b55332cc5"
      },
      "outputs": [
        {
          "data": {
            "text/plain": [
              "0.6811222222222223"
            ]
          },
          "execution_count": 82,
          "metadata": {},
          "output_type": "execute_result"
        }
      ],
      "source": [
        "np.var(x)"
      ]
    },
    {
      "cell_type": "code",
      "execution_count": 83,
      "metadata": {
        "colab": {
          "base_uri": "https://localhost:8080/"
        },
        "id": "NrtQqVjr5Chp",
        "outputId": "08b6067c-e857-46a3-e2a3-57f204ed0f99"
      },
      "outputs": [
        {
          "data": {
            "text/plain": [
              "3.0955026666666665"
            ]
          },
          "execution_count": 83,
          "metadata": {},
          "output_type": "execute_result"
        }
      ],
      "source": [
        "np.var(y)"
      ]
    },
    {
      "cell_type": "markdown",
      "metadata": {
        "id": "1y2wfLeD5Chq"
      },
      "source": [
        "If $x$ and $y$ are inversely related, their covariance is negative. The less related they are, the closer their covariance is to zero: "
      ]
    },
    {
      "cell_type": "code",
      "execution_count": 84,
      "metadata": {
        "colab": {
          "base_uri": "https://localhost:8080/",
          "height": 0
        },
        "id": "epIqQ-p25Chq",
        "outputId": "bb7f50c1-f0bf-40c1-9f71-c0716611e735"
      },
      "outputs": [
        {
          "data": {
            "image/png": "[encoded data removed]",
            "text/plain": [
              "<Figure size 432x288 with 1 Axes>"
            ]
          },
          "metadata": {},
          "output_type": "display_data"
        }
      ],
      "source": [
        "_ = sns.scatterplot(x=iris.sepal_length, y=iris.sepal_width)"
      ]
    },
    {
      "cell_type": "code",
      "execution_count": 85,
      "metadata": {
        "colab": {
          "base_uri": "https://localhost:8080/"
        },
        "id": "QoIKgBHf5Chq",
        "outputId": "49f8000b-7d68-4ccd-e523-1222f3262302"
      },
      "outputs": [
        {
          "data": {
            "text/plain": [
              "array([[ 0.68112222, -0.04215111],\n",
              "       [-0.04215111,  0.18871289]])"
            ]
          },
          "execution_count": 85,
          "metadata": {},
          "output_type": "execute_result"
        }
      ],
      "source": [
        "np.cov(iris.sepal_length, iris.sepal_width, ddof=0)"
      ]
    },
    {
      "cell_type": "markdown",
      "metadata": {
        "id": "t7GPaB_m5Chq"
      },
      "source": [
        "#### Correlation"
      ]
    },
    {
      "cell_type": "markdown",
      "metadata": {
        "id": "uFDuVBQE5Chq"
      },
      "source": [
        "A drawback of covariance is that it confounds the relative scale of two variables with a measure of the variables' relatedness. **Correlation** builds on covariance and overcomes this drawback via rescaling, thereby measuring relatedness exclusively. Correlation is much more common because of this difference. \n",
        "\n",
        "The correlation coefficient (developed by Karl Pearson in the 20th c. though known in the 19th c.) is often denoted with $r$ or $\\rho$ and is defined by: \n",
        "$$ \\rho_{x,y} = \\frac{\\text{cov}(x,y)}{\\sigma_x \\sigma_y} $$"
      ]
    },
    {
      "cell_type": "code",
      "execution_count": 86,
      "metadata": {
        "id": "j2FfBUs_5Chq"
      },
      "outputs": [],
      "source": [
        "cov = -0.04215111\n",
        "sigma_sq_x = 0.68112222\n",
        "sigma_sq_y = 0.18871289"
      ]
    },
    {
      "cell_type": "code",
      "execution_count": 87,
      "metadata": {
        "id": "r6fRzR015Chr"
      },
      "outputs": [],
      "source": [
        "sigma_x = sigma_sq_x**(1/2)\n",
        "sigma_y = sigma_sq_y**(1/2)"
      ]
    },
    {
      "cell_type": "code",
      "execution_count": 88,
      "metadata": {
        "colab": {
          "base_uri": "https://localhost:8080/"
        },
        "id": "O3fHMlFY5Chr",
        "outputId": "66679ebd-3fd8-4e84-ed8a-adb993778f6f"
      },
      "outputs": [
        {
          "data": {
            "text/plain": [
              "-0.11756978087951572"
            ]
          },
          "execution_count": 88,
          "metadata": {},
          "output_type": "execute_result"
        }
      ],
      "source": [
        "cov / (sigma_x * sigma_y)"
      ]
    },
    {
      "cell_type": "code",
      "execution_count": 89,
      "metadata": {
        "colab": {
          "base_uri": "https://localhost:8080/"
        },
        "id": "LYHyhLnC5Chr",
        "outputId": "f96f93ca-462e-433a-fc82-118c865aa31a"
      },
      "outputs": [
        {
          "data": {
            "text/plain": [
              "(-0.11756978413300206, 0.15189826071144766)"
            ]
          },
          "execution_count": 89,
          "metadata": {},
          "output_type": "execute_result"
        }
      ],
      "source": [
        "st.pearsonr(iris.sepal_length, iris.sepal_width)"
      ]
    },
    {
      "cell_type": "markdown",
      "metadata": {
        "id": "Jp8yMtiM5Chr"
      },
      "source": [
        "The second value output of `pearsonr` is a measure of statistical significance, which we'll detail in *Intro to Stats*. "
      ]
    },
    {
      "cell_type": "markdown",
      "metadata": {
        "id": "J3HRJ9S7klIp"
      },
      "source": [
        "$\\rho$ has a range of -1 to 1, with values closer to zero indicating less correlation: "
      ]
    },
    {
      "cell_type": "code",
      "execution_count": 90,
      "metadata": {
        "colab": {
          "base_uri": "https://localhost:8080/"
        },
        "id": "6vF_9wgj5Chr",
        "outputId": "6140d8a6-b6d7-40f7-86f4-440606c3b6bd"
      },
      "outputs": [
        {
          "data": {
            "text/plain": [
              "-0.11756978413300206"
            ]
          },
          "execution_count": 90,
          "metadata": {},
          "output_type": "execute_result"
        }
      ],
      "source": [
        "st.pearsonr(iris.sepal_length, iris.sepal_width)[0]"
      ]
    },
    {
      "cell_type": "markdown",
      "metadata": {
        "id": "dUIa7O-6lXy8"
      },
      "source": [
        "The closer $\\rho$ is to 1 or -1, the stronger the positive or negative correlation, respectively: "
      ]
    },
    {
      "cell_type": "code",
      "execution_count": 91,
      "metadata": {
        "colab": {
          "base_uri": "https://localhost:8080/"
        },
        "id": "d9KqkNOr5Chr",
        "outputId": "070c663d-145b-45ff-acae-053b53a89eee"
      },
      "outputs": [
        {
          "data": {
            "text/plain": [
              "0.8717537758865831"
            ]
          },
          "execution_count": 91,
          "metadata": {},
          "output_type": "execute_result"
        }
      ],
      "source": [
        "st.pearsonr(iris.sepal_length, iris.petal_length)[0]"
      ]
    },
    {
      "cell_type": "code",
      "execution_count": 92,
      "metadata": {},
      "outputs": [
        {
          "data": {
            "text/plain": [
              "(0.962865431402796, 4.6750039073285846e-86)"
            ]
          },
          "execution_count": 92,
          "metadata": {},
          "output_type": "execute_result"
        }
      ],
      "source": [
        "st.pearsonr(iris.petal_length, iris.petal_width)"
      ]
    },
    {
      "cell_type": "markdown",
      "metadata": {
        "id": "negAO_iA5Chs"
      },
      "source": [
        "N.B.: Covariance and correlation only account for linear relationships. Two variables could be non-linearly related to each other and these metrics could come out as zero."
      ]
    },
    {
      "cell_type": "markdown",
      "metadata": {
        "id": "elRFzq495Chs"
      },
      "source": [
        "**Return to slides here.**"
      ]
    },
    {
      "cell_type": "markdown",
      "metadata": {
        "id": "fwp0wDiy5Chs"
      },
      "source": [
        "## Segment 2: Distributions in Machine Learning"
      ]
    },
    {
      "cell_type": "markdown",
      "metadata": {
        "id": "UtNPNOzj5Cht"
      },
      "source": [
        "### Uniform"
      ]
    },
    {
      "cell_type": "markdown",
      "metadata": {
        "id": "mkg5ZlcY5Cht"
      },
      "source": [
        "The uniform distribution is about as straightforward as they come. It has constant probabilities across the entire range of values in its domain: "
      ]
    },
    {
      "cell_type": "code",
      "execution_count": 93,
      "metadata": {
        "id": "m3kOc_-t5Cht"
      },
      "outputs": [],
      "source": [
        "u = np.random.uniform(size=10000)"
      ]
    },
    {
      "cell_type": "code",
      "execution_count": 94,
      "metadata": {
        "id": "Nfqw-vNJ5Cht"
      },
      "outputs": [],
      "source": [
        "sns.set_style('ticks')"
      ]
    },
    {
      "cell_type": "code",
      "execution_count": 95,
      "metadata": {
        "colab": {
          "base_uri": "https://localhost:8080/",
          "height": 0
        },
        "id": "yFF75RyzQCTu",
        "outputId": "b60c7f39-73cd-4170-b831-c02b518a42b7"
      },
      "outputs": [
        {
          "data": {
            "image/png": "[encoded data removed]",
            "text/plain": [
              "<Figure size 360x360 with 1 Axes>"
            ]
          },
          "metadata": {},
          "output_type": "display_data"
        }
      ],
      "source": [
        "_ = sns.displot(u)"
      ]
    },
    {
      "cell_type": "markdown",
      "metadata": {
        "id": "iAccWery5Cht"
      },
      "source": [
        "Real-world examples include: \n",
        "\n",
        "* Dice rolling (PMF)\n",
        "* Card drawing (PMF)\n",
        "* Model hyperparameters\n",
        "* Emission of radioactive particles\n",
        "* Economic demand \n",
        "* Analog-to-digital signal quantization errors"
      ]
    },
    {
      "cell_type": "markdown",
      "metadata": {
        "id": "q0cQIl945Cht"
      },
      "source": [
        "### Gaussian"
      ]
    },
    {
      "cell_type": "markdown",
      "metadata": {
        "id": "-rW0khrV5Cht"
      },
      "source": [
        "Carl Friedrich Gauss (early 19th c. German mathematician and scientist) is the namesake of over a hundred concepts across mathematics, physics, and astronomy. One of those concepts is the Gaussian distribution, also known as the \"bell curve\" (though several distributions are bell-shaped) or **normal distribution**: "
      ]
    },
    {
      "cell_type": "code",
      "execution_count": 96,
      "metadata": {
        "id": "zhcadaJu5Chu"
      },
      "outputs": [],
      "source": [
        "x = np.random.normal(size=10000)"
      ]
    },
    {
      "cell_type": "code",
      "execution_count": 97,
      "metadata": {
        "colab": {
          "base_uri": "https://localhost:8080/",
          "height": 0
        },
        "id": "1cQ6-LIw5Chu",
        "outputId": "0c95c75d-5028-4cee-cb0c-f50c23d0afe1"
      },
      "outputs": [
        {
          "data": {
            "image/png": "[encoded data removed]",
            "text/plain": [
              "<Figure size 360x360 with 1 Axes>"
            ]
          },
          "metadata": {},
          "output_type": "display_data"
        }
      ],
      "source": [
        "_ = sns.displot(x)"
      ]
    },
    {
      "cell_type": "code",
      "execution_count": 98,
      "metadata": {
        "colab": {
          "base_uri": "https://localhost:8080/",
          "height": 0
        },
        "id": "sFpUGuMX5Chu",
        "outputId": "6468184f-02f6-4ae1-ea4d-04b7eb769cee"
      },
      "outputs": [
        {
          "data": {
            "image/png": "[encoded data removed]",
            "text/plain": [
              "<Figure size 360x360 with 1 Axes>"
            ]
          },
          "metadata": {},
          "output_type": "display_data"
        }
      ],
      "source": [
        "_ = sns.displot(x, kde=True)"
      ]
    },
    {
      "cell_type": "markdown",
      "metadata": {
        "id": "fCrRRX1F5Chu"
      },
      "source": [
        "When the normal distribution has a mean ($\\mu$) of zero and standard deviation ($\\sigma$) of one, as it does by default with the NumPy `normal()` method..."
      ]
    },
    {
      "cell_type": "code",
      "execution_count": 99,
      "metadata": {
        "colab": {
          "base_uri": "https://localhost:8080/"
        },
        "id": "DMa4Z2h35Chu",
        "outputId": "5ce46af4-0e08-4db0-b0af-fd7462f7b238"
      },
      "outputs": [
        {
          "data": {
            "text/plain": [
              "0.006305210896740086"
            ]
          },
          "execution_count": 99,
          "metadata": {},
          "output_type": "execute_result"
        }
      ],
      "source": [
        "np.mean(x)"
      ]
    },
    {
      "cell_type": "code",
      "execution_count": 100,
      "metadata": {
        "colab": {
          "base_uri": "https://localhost:8080/"
        },
        "id": "k8QSIvEJ5Chu",
        "outputId": "7cffad89-6ebf-4481-96b3-beaab3d8b73c",
        "scrolled": true
      },
      "outputs": [
        {
          "data": {
            "text/plain": [
              "0.994590237904478"
            ]
          },
          "execution_count": 100,
          "metadata": {},
          "output_type": "execute_result"
        }
      ],
      "source": [
        "np.std(x)"
      ]
    },
    {
      "cell_type": "markdown",
      "metadata": {
        "id": "iD-WgAZd5Chv"
      },
      "source": [
        "...it is a **standard normal distribution** (a.k.a., standard Gaussian distribution). Normal distributions can be denoted with the *math calligraphy* font as $\\mathcal{N}(\\mu, \\sigma^2)$, thus the standard normal distribution can be denoted as $\\mathcal{N}(0, 1)$. \n",
        "\n",
        "(N.B.: $\\sigma^2 = \\sigma$ in this case because $1^2 = 1$.)"
      ]
    },
    {
      "cell_type": "markdown",
      "metadata": {
        "id": "3FelqdY05Chv"
      },
      "source": [
        "Normal distributions are by far the most common distribution in statistics and machine learning. They are typically the default option, particularly if you have limited information about the random process you're modeling, because: \n",
        "\n",
        "1. Normal distributions assume the greatest possible uncertainty about the random variable they represent (relative to any other distribution of equivalent variance). Details of this are beyond the scope of this tutorial. \n",
        "2. Simple and very complex random processes alike are, under all common conditions, normally distributed when we sample values from the process. Since we sample data for statistical and machine learning models alike, this so-called **central limit theorem** (covered next) is a critically important concept. "
      ]
    },
    {
      "cell_type": "markdown",
      "metadata": {
        "id": "WE8R8Y385Chv"
      },
      "source": [
        "Real-world examples include: \n",
        "\n",
        "* Probability of heads across *n* tosses (PMF; $n = 5$ earlier, $n = 100$ below)\n",
        "* Sum of di(c)e rolls (PMF)\n",
        "* Height of adult women\n",
        "* Height of adult men\n",
        "* Education test scores, e.g., SAT"
      ]
    },
    {
      "cell_type": "code",
      "execution_count": 101,
      "metadata": {
        "id": "iLylH-4m5Chv"
      },
      "outputs": [],
      "source": [
        "n_experiments = 10000\n",
        "heads_count = [np.random.binomial(100, 0.5) for i in range (n_experiments)]\n",
        "heads, event_count = np.unique(heads_count, return_counts=True)\n",
        "event_proba = event_count/n_experiments"
      ]
    },
    {
      "cell_type": "code",
      "execution_count": 102,
      "metadata": {
        "colab": {
          "base_uri": "https://localhost:8080/",
          "height": 0
        },
        "id": "1OAA4vlZ5Chv",
        "outputId": "6504c63c-14a9-45a2-ee1f-2bb4c47583d2"
      },
      "outputs": [
        {
          "data": {
            "image/png": "[encoded data removed]",
            "text/plain": [
              "<Figure size 432x288 with 1 Axes>"
            ]
          },
          "metadata": {},
          "output_type": "display_data"
        }
      ],
      "source": [
        "plt.bar(heads, event_proba)\n",
        "_ = plt.xlabel('Heads flips (out of 100 tosses)')"
      ]
    },
    {
      "cell_type": "markdown",
      "metadata": {
        "id": "HOY28bQX5Chv"
      },
      "source": [
        "### The Central Limit Theorem"
      ]
    },
    {
      "cell_type": "markdown",
      "metadata": {
        "id": "9UIXSsAh5Chv"
      },
      "source": [
        "To develop a functional understanding of the CLT, let's sample some values from our normal distribution:"
      ]
    },
    {
      "cell_type": "code",
      "execution_count": 103,
      "metadata": {
        "colab": {
          "base_uri": "https://localhost:8080/"
        },
        "id": "GJkIY5N75Chw",
        "outputId": "96bc878f-20e0-41ae-f06e-215a60f2ced9"
      },
      "outputs": [
        {
          "data": {
            "text/plain": [
              "array([-0.74112864,  0.20110686,  0.86965934, -1.08079373,  0.85088724,\n",
              "        1.47054935, -0.15494123,  0.74858869, -0.36110419, -0.20814296])"
            ]
          },
          "execution_count": 103,
          "metadata": {},
          "output_type": "execute_result"
        }
      ],
      "source": [
        "x_sample = np.random.choice(x, size=10, replace=False)\n",
        "x_sample"
      ]
    },
    {
      "cell_type": "markdown",
      "metadata": {
        "id": "SrS19VdK5Chw"
      },
      "source": [
        "The mean of a sample isn't always going to be close to zero with such a small sample:"
      ]
    },
    {
      "cell_type": "code",
      "execution_count": 104,
      "metadata": {
        "colab": {
          "base_uri": "https://localhost:8080/"
        },
        "id": "2B3kjm-H5Chw",
        "outputId": "833e8c16-4202-41f6-f104-65417023a1a2"
      },
      "outputs": [
        {
          "data": {
            "text/plain": [
              "0.15946807377012712"
            ]
          },
          "execution_count": 104,
          "metadata": {},
          "output_type": "execute_result"
        }
      ],
      "source": [
        "np.mean(x_sample)"
      ]
    },
    {
      "cell_type": "markdown",
      "metadata": {
        "id": "nOlR7gor5Chw"
      },
      "source": [
        "Let's define a function for generating **sampling distributions** of the mean of a given input distribution:"
      ]
    },
    {
      "cell_type": "code",
      "execution_count": 105,
      "metadata": {
        "id": "YiPPxQLF5Chw"
      },
      "outputs": [],
      "source": [
        "def sample_mean_calculator(input_dist, sample_size, n_samples):\n",
        "    sample_means = []\n",
        "    for i in range(n_samples):\n",
        "        sample = np.random.choice(input_dist, size=sample_size, replace=False)\n",
        "        sample_means.append(sample.mean())\n",
        "    return sample_means"
      ]
    },
    {
      "cell_type": "code",
      "execution_count": 106,
      "metadata": {
        "colab": {
          "base_uri": "https://localhost:8080/",
          "height": 0
        },
        "id": "0FAWIZvn5Chw",
        "outputId": "6ac55c82-5699-4d5e-dda1-3c469accf4c5"
      },
      "outputs": [
        {
          "data": {
            "image/png": "[encoded data removed]",
            "text/plain": [
              "<Figure size 360x360 with 1 Axes>"
            ]
          },
          "metadata": {},
          "output_type": "display_data"
        }
      ],
      "source": [
        "sns.displot(sample_mean_calculator(x, 10, 10), color='green')\n",
        "_ = plt.xlim(-1.5, 1.5)"
      ]
    },
    {
      "cell_type": "markdown",
      "metadata": {
        "id": "5KWmR4HE5Chx"
      },
      "source": [
        "The more samples we take, the more likely that the sampling distribution of the means will be normally distributed: "
      ]
    },
    {
      "cell_type": "code",
      "execution_count": 107,
      "metadata": {
        "colab": {
          "base_uri": "https://localhost:8080/",
          "height": 0
        },
        "id": "_8ZtuXJu5Chx",
        "outputId": "95364a7b-3cd7-49b6-9cd9-fcf2e4e9f837"
      },
      "outputs": [
        {
          "data": {
            "image/png": "[encoded data removed]",
            "text/plain": [
              "<Figure size 360x360 with 1 Axes>"
            ]
          },
          "metadata": {},
          "output_type": "display_data"
        }
      ],
      "source": [
        "sns.displot(sample_mean_calculator(x, 10, 1000), color='green', kde=True)\n",
        "_ = plt.xlim(-1.5, 1.5)"
      ]
    },
    {
      "cell_type": "markdown",
      "metadata": {
        "id": "jgeYnkEz5Chx"
      },
      "source": [
        "The larger the sample, the tighter the sample means will tend to be around the population mean:"
      ]
    },
    {
      "cell_type": "code",
      "execution_count": 108,
      "metadata": {
        "colab": {
          "base_uri": "https://localhost:8080/",
          "height": 0
        },
        "id": "d1plzceb5Chx",
        "outputId": "2a2a3e3a-2ee7-4490-9ece-037545f46e52"
      },
      "outputs": [
        {
          "data": {
            "image/png": "[encoded data removed]",
            "text/plain": [
              "<Figure size 360x360 with 1 Axes>"
            ]
          },
          "metadata": {},
          "output_type": "display_data"
        }
      ],
      "source": [
        "sns.displot(sample_mean_calculator(x, 100, 1000), color='green', kde=True)\n",
        "_ = plt.xlim(-1.5, 1.5)"
      ]
    },
    {
      "cell_type": "code",
      "execution_count": 109,
      "metadata": {
        "colab": {
          "base_uri": "https://localhost:8080/",
          "height": 0
        },
        "id": "ITeo-nOc5Chx",
        "outputId": "a282293f-372a-4846-92d2-1ae0d6d791f7"
      },
      "outputs": [
        {
          "data": {
            "image/png": "[encoded data removed]",
            "text/plain": [
              "<Figure size 360x360 with 1 Axes>"
            ]
          },
          "metadata": {},
          "output_type": "display_data"
        }
      ],
      "source": [
        "sns.displot(sample_mean_calculator(x, 1000, 1000), color='green', kde=True)\n",
        "_ = plt.xlim(-1.5, 1.5)"
      ]
    },
    {
      "cell_type": "markdown",
      "metadata": {
        "id": "Jti_SH175Chx"
      },
      "source": [
        "#### Sampling from a skewed distribution"
      ]
    },
    {
      "cell_type": "code",
      "execution_count": 110,
      "metadata": {
        "id": "T-cjJ4K65Chx"
      },
      "outputs": [],
      "source": [
        "s = st.skewnorm.rvs(10, size=10000)"
      ]
    },
    {
      "cell_type": "code",
      "execution_count": 111,
      "metadata": {
        "colab": {
          "base_uri": "https://localhost:8080/",
          "height": 0
        },
        "id": "bYcXrbZ45Chx",
        "outputId": "094ea0d9-b484-4c3c-81b3-315d4a882d8c"
      },
      "outputs": [
        {
          "data": {
            "image/png": "[encoded data removed]",
            "text/plain": [
              "<Figure size 360x360 with 1 Axes>"
            ]
          },
          "metadata": {},
          "output_type": "display_data"
        }
      ],
      "source": [
        "_ = sns.displot(s, kde=True)"
      ]
    },
    {
      "cell_type": "code",
      "execution_count": 112,
      "metadata": {
        "colab": {
          "base_uri": "https://localhost:8080/",
          "height": 0
        },
        "id": "X5asvK2p5Chy",
        "outputId": "6b7be3eb-3386-4b20-c162-849f716ac81d"
      },
      "outputs": [
        {
          "data": {
            "image/png": "[encoded data removed]",
            "text/plain": [
              "<Figure size 360x360 with 1 Axes>"
            ]
          },
          "metadata": {},
          "output_type": "display_data"
        }
      ],
      "source": [
        "_ = sns.displot(sample_mean_calculator(s, 10, 1000), color='green', kde=True)"
      ]
    },
    {
      "cell_type": "code",
      "execution_count": 113,
      "metadata": {
        "colab": {
          "base_uri": "https://localhost:8080/",
          "height": 0
        },
        "id": "o5-tyS_N5Chy",
        "outputId": "01ffc91e-6977-4700-935f-b1a2030e5ece"
      },
      "outputs": [
        {
          "data": {
            "image/png": "[encoded data removed]",
            "text/plain": [
              "<Figure size 360x360 with 1 Axes>"
            ]
          },
          "metadata": {},
          "output_type": "display_data"
        }
      ],
      "source": [
        "_ = sns.displot(sample_mean_calculator(s, 1000, 1000), color='green', kde=True)"
      ]
    },
    {
      "cell_type": "markdown",
      "metadata": {
        "id": "VD1FyOP-5Chy"
      },
      "source": [
        "#### Sampling from a multimodal distribution"
      ]
    },
    {
      "cell_type": "code",
      "execution_count": 114,
      "metadata": {
        "id": "qefz7pqq5Chy"
      },
      "outputs": [],
      "source": [
        "m = np.concatenate((np.random.normal(size=5000), np.random.normal(loc = 4.0, size=5000)))"
      ]
    },
    {
      "cell_type": "code",
      "execution_count": 115,
      "metadata": {
        "colab": {
          "base_uri": "https://localhost:8080/",
          "height": 0
        },
        "id": "dUVIgXcq5Chy",
        "outputId": "052d3c70-9065-409d-97bc-e0d5b1806348"
      },
      "outputs": [
        {
          "data": {
            "image/png": "[encoded data removed]",
            "text/plain": [
              "<Figure size 360x360 with 1 Axes>"
            ]
          },
          "metadata": {},
          "output_type": "display_data"
        }
      ],
      "source": [
        "_ = sns.displot(m, kde=True)"
      ]
    },
    {
      "cell_type": "code",
      "execution_count": 116,
      "metadata": {
        "colab": {
          "base_uri": "https://localhost:8080/",
          "height": 0
        },
        "id": "RooddaTD5Chy",
        "outputId": "6c1737cf-2b1d-4d32-df02-ba2ee7443254"
      },
      "outputs": [
        {
          "data": {
            "image/png": "[encoded data removed]",
            "text/plain": [
              "<Figure size 360x360 with 1 Axes>"
            ]
          },
          "metadata": {},
          "output_type": "display_data"
        }
      ],
      "source": [
        "_ = sns.displot(sample_mean_calculator(m, 1000, 1000), color='green', kde=True)"
      ]
    },
    {
      "cell_type": "markdown",
      "metadata": {
        "id": "5LjEuVP85Chz"
      },
      "source": [
        "#### Sampling from uniform"
      ]
    },
    {
      "cell_type": "markdown",
      "metadata": {
        "id": "IwjCW3vY5Chz"
      },
      "source": [
        "Even sampling from the highly non-normal uniform distribution, the sampling distribution comes out normal: "
      ]
    },
    {
      "cell_type": "code",
      "execution_count": 117,
      "metadata": {
        "colab": {
          "base_uri": "https://localhost:8080/",
          "height": 0
        },
        "id": "9yf6jQQW5Chz",
        "outputId": "5ee15ae4-fd80-4e72-95b0-d9b77d869a60"
      },
      "outputs": [
        {
          "data": {
            "image/png": "[encoded data removed]",
            "text/plain": [
              "<Figure size 360x360 with 1 Axes>"
            ]
          },
          "metadata": {},
          "output_type": "display_data"
        }
      ],
      "source": [
        "_ = sns.displot(u)"
      ]
    },
    {
      "cell_type": "code",
      "execution_count": 118,
      "metadata": {
        "colab": {
          "base_uri": "https://localhost:8080/",
          "height": 0
        },
        "id": "AKEuTLxd5Chz",
        "outputId": "c7cecbd5-c6c4-4c0c-cde0-fbe49151146d"
      },
      "outputs": [
        {
          "data": {
            "image/png": "[encoded data removed]",
            "text/plain": [
              "<Figure size 360x360 with 1 Axes>"
            ]
          },
          "metadata": {},
          "output_type": "display_data"
        }
      ],
      "source": [
        "_ = sns.displot(sample_mean_calculator(u, 1000, 1000), color='green', kde=True)"
      ]
    },
    {
      "cell_type": "markdown",
      "metadata": {
        "id": "3rU0m--S5Chz"
      },
      "source": [
        "Therefore, with large enough sample sizes, we can assume the sampling distribution of the means will be normally distributed, allowing us to apply statistical and ML models that are configured for normally distributed noise, which is often the default assumption.\n",
        "\n",
        "As an example, the \"*t*-test\" (covered in *Intro to Stats*) allows us to infer whether two samples come from different populations (say, an experimental group that receives a treatment and a control group that receives a placebo). Thanks to the CLT, we can use this test even if we have no idea what the underlying distributions of the populations being tested are, which may be the case more frequently than not. "
      ]
    },
    {
      "cell_type": "markdown",
      "metadata": {
        "id": "UHfmjg3I5Chz"
      },
      "source": [
        "(Despite being associated with such a key concept as the CLT, the name \"normal distribution\" wasn't originally intended to imply that other distributions are \"abnormal\". It's a historical quirk related to Gauss describing orthogonal (technically a.k.a. \"normal\") equations associated with applied uses of the distribution.)"
      ]
    },
    {
      "cell_type": "markdown",
      "metadata": {
        "id": "I7HILoi55Chz"
      },
      "source": [
        "(Finally, you may wonder what the purpose of sampling means is! Well, when we gather data from the real world we are nearly always sampling a subset of all the available data produced by a given random process. And, once we've collected a sample of data, the aspect of it we're often most interested in above all else is its mean.)"
      ]
    },
    {
      "cell_type": "markdown",
      "metadata": {
        "id": "cY6d8KLa5Chz"
      },
      "source": [
        "### Log-Normal Distribution"
      ]
    },
    {
      "cell_type": "markdown",
      "metadata": {
        "id": "JhgvQLTF5Ch0"
      },
      "source": [
        "The natural logarithm of the **log-normal** distribution is normally distributed: "
      ]
    },
    {
      "cell_type": "code",
      "execution_count": 119,
      "metadata": {
        "id": "nwf4rsyP5Ch0"
      },
      "outputs": [],
      "source": [
        "x = np.random.lognormal(size=10000) # defaults to standard normal mu=0, sigma=1"
      ]
    },
    {
      "cell_type": "code",
      "execution_count": 120,
      "metadata": {
        "colab": {
          "base_uri": "https://localhost:8080/",
          "height": 0
        },
        "id": "SwTmkQTu5Ch0",
        "outputId": "f1c890de-faf0-4fd0-97d0-8c69e743a959"
      },
      "outputs": [
        {
          "data": {
            "image/png": "[encoded data removed]",
            "text/plain": [
              "<Figure size 360x360 with 1 Axes>"
            ]
          },
          "metadata": {},
          "output_type": "display_data"
        }
      ],
      "source": [
        "_ = sns.displot(x, kde=True)"
      ]
    },
    {
      "cell_type": "code",
      "execution_count": 121,
      "metadata": {
        "colab": {
          "base_uri": "https://localhost:8080/",
          "height": 0
        },
        "id": "WPw_gPIY5Ch0",
        "outputId": "a2209a99-9d1e-4f26-bcf4-7b79699a16cb"
      },
      "outputs": [
        {
          "data": {
            "image/png": "[encoded data removed]",
            "text/plain": [
              "<Figure size 360x360 with 1 Axes>"
            ]
          },
          "metadata": {},
          "output_type": "display_data"
        }
      ],
      "source": [
        "_ = sns.displot(np.log(x), color='brown', kde=True)"
      ]
    },
    {
      "cell_type": "markdown",
      "metadata": {
        "id": "DaSbudQP5Ch0"
      },
      "source": [
        "Real-world examples: \n",
        "\n",
        "* Income\n",
        "* Length of comments in online forums\n",
        "* Duration of chess games or Rubik's Cube solves\n",
        "* Size of publicly-available video files \n",
        "* Number of hospitalized cases in an epidemic where public interventions are involved"
      ]
    },
    {
      "cell_type": "markdown",
      "metadata": {
        "id": "pj-m50lH5Ch0"
      },
      "source": [
        "### Exponential Distribution"
      ]
    },
    {
      "cell_type": "markdown",
      "metadata": {
        "id": "oBeXEmHF5Ch0"
      },
      "source": [
        "Relatively squished up against zero and then decreases exponentially toward higher values. Log-normal distribution, in contrast, could take negative values and both increases and decreases."
      ]
    },
    {
      "cell_type": "code",
      "execution_count": 122,
      "metadata": {
        "id": "tQy3DRwB5Ch0"
      },
      "outputs": [],
      "source": [
        "x = np.random.exponential(scale=4, size=10000) # \"scale\" parameter defaults to one"
      ]
    },
    {
      "cell_type": "code",
      "execution_count": 123,
      "metadata": {
        "colab": {
          "base_uri": "https://localhost:8080/",
          "height": 0
        },
        "id": "sTFF5gku5Ch0",
        "outputId": "8cf29bbf-d3de-461a-ee2a-c6fd1d77493b"
      },
      "outputs": [
        {
          "data": {
            "image/png": "[encoded data removed]",
            "text/plain": [
              "<Figure size 360x360 with 1 Axes>"
            ]
          },
          "metadata": {},
          "output_type": "display_data"
        }
      ],
      "source": [
        "_ = sns.displot(x)"
      ]
    },
    {
      "cell_type": "markdown",
      "metadata": {
        "id": "NMC_Fxai5Ch1"
      },
      "source": [
        "Its logarithm has a skewed distribution: "
      ]
    },
    {
      "cell_type": "code",
      "execution_count": 124,
      "metadata": {
        "colab": {
          "base_uri": "https://localhost:8080/",
          "height": 0
        },
        "id": "dV1cUVv65Ch1",
        "outputId": "0c74772d-c1f0-4e32-ece7-db75874a6782"
      },
      "outputs": [
        {
          "data": {
            "image/png": "[encoded data removed]",
            "text/plain": [
              "<Figure size 360x360 with 1 Axes>"
            ]
          },
          "metadata": {},
          "output_type": "display_data"
        }
      ],
      "source": [
        "_ = sns.displot(np.log(x), color='brown', kde=True)"
      ]
    },
    {
      "cell_type": "markdown",
      "metadata": {
        "id": "5T79UJ9c5Ch1"
      },
      "source": [
        "Real-world examples: \n",
        "\n",
        "* Time between requests to access Wikipedia pages\n",
        "* Used frequently in deep learning"
      ]
    },
    {
      "cell_type": "markdown",
      "metadata": {
        "id": "xwnjFNt25Ch1"
      },
      "source": [
        "### Laplace Distribution"
      ]
    },
    {
      "cell_type": "markdown",
      "metadata": {
        "id": "tpfYwTti5Ch1"
      },
      "source": [
        "Named after Pierre-Simon Laplace, whom we mentioned (and pictured) earlier as a key figure in the development of Bayesian statistics."
      ]
    },
    {
      "cell_type": "code",
      "execution_count": 125,
      "metadata": {
        "id": "o-sFY5c_5Ch1"
      },
      "outputs": [],
      "source": [
        "x = np.random.laplace(size=10000)"
      ]
    },
    {
      "cell_type": "markdown",
      "metadata": {
        "id": "IGOrnTD25Ch1"
      },
      "source": [
        "Alternatively referred to as the \"double exponential distribution\":"
      ]
    },
    {
      "cell_type": "code",
      "execution_count": 126,
      "metadata": {
        "colab": {
          "base_uri": "https://localhost:8080/",
          "height": 0
        },
        "id": "J9xS2v3K5Ch1",
        "outputId": "cbce87bb-f83d-457b-9215-b8f4bd23499c"
      },
      "outputs": [
        {
          "data": {
            "image/png": "[encoded data removed]",
            "text/plain": [
              "<Figure size 360x360 with 1 Axes>"
            ]
          },
          "metadata": {},
          "output_type": "display_data"
        }
      ],
      "source": [
        "_ = sns.displot(x, kde=True)"
      ]
    },
    {
      "cell_type": "markdown",
      "metadata": {
        "id": "_Yq0Lj3h5Ch2"
      },
      "source": [
        "In addition to the scale parameter of the exponential function, it has a location parameter that allows it to be centered on any value: "
      ]
    },
    {
      "cell_type": "code",
      "execution_count": 127,
      "metadata": {
        "colab": {
          "base_uri": "https://localhost:8080/",
          "height": 0
        },
        "id": "HkgA0XMm5Ch2",
        "outputId": "c00b3235-5071-4895-87d9-4ca7f86cdf15"
      },
      "outputs": [
        {
          "data": {
            "image/png": "[encoded data removed]",
            "text/plain": [
              "<Figure size 360x360 with 1 Axes>"
            ]
          },
          "metadata": {},
          "output_type": "display_data"
        }
      ],
      "source": [
        "_ = sns.displot(np.random.laplace(loc=25, size=10000), kde=True)"
      ]
    },
    {
      "cell_type": "markdown",
      "metadata": {
        "id": "KfY4anzI5Ch2"
      },
      "source": [
        "Real-world examples: \n",
        "\n",
        "* Extreme weather events, e.g., maximum rainfall in a day\n",
        "* Many machine learning applications; wherever an acute peak of probability is desired"
      ]
    },
    {
      "cell_type": "markdown",
      "metadata": {
        "id": "9Dvi1l8o5Ch2"
      },
      "source": [
        "### Binomial Distribution"
      ]
    },
    {
      "cell_type": "markdown",
      "metadata": {
        "id": "Yco-2t4s5Ch2"
      },
      "source": [
        "All distributions so far have been for continuous variables (PDFs). This one is discrete (PMF). \n",
        "\n",
        "We've already been using it for coin flips; it's used for binary (0 or 1) outcome. \n",
        "\n",
        "Its parameters are: \n",
        "\n",
        "* *n*: number of trials\n",
        "* *p*: probability of outcome of 1\n",
        "* *size*: number of experiments with *n* trials each"
      ]
    },
    {
      "cell_type": "code",
      "execution_count": 128,
      "metadata": {
        "id": "LmaDYQm75Ch2"
      },
      "outputs": [],
      "source": [
        "n = 5\n",
        "n_experiments = 1000"
      ]
    },
    {
      "cell_type": "markdown",
      "metadata": {
        "id": "vfSCVQer5Ch2"
      },
      "source": [
        "#### Fair coin (p = 0.5)"
      ]
    },
    {
      "cell_type": "code",
      "execution_count": 129,
      "metadata": {
        "id": "YnyWevsS5Ch2"
      },
      "outputs": [],
      "source": [
        "heads_count = np.random.binomial(n, 0.5, n_experiments)\n",
        "heads, event_count = np.unique(heads_count, return_counts=True)\n",
        "event_proba = event_count/n_experiments"
      ]
    },
    {
      "cell_type": "code",
      "execution_count": 130,
      "metadata": {
        "colab": {
          "base_uri": "https://localhost:8080/",
          "height": 0
        },
        "id": "5i0myZqv5Ch2",
        "outputId": "90d76e09-730e-4aeb-ac5b-7ee74e7614aa"
      },
      "outputs": [
        {
          "data": {
            "image/png": "[encoded data removed]",
            "text/plain": [
              "<Figure size 432x288 with 1 Axes>"
            ]
          },
          "metadata": {},
          "output_type": "display_data"
        }
      ],
      "source": [
        "plt.bar(heads, event_proba, color='mediumpurple')\n",
        "plt.xlabel('Heads flips (out of 5 tosses)')\n",
        "_ = plt.ylabel('Event probability')"
      ]
    },
    {
      "cell_type": "markdown",
      "metadata": {
        "id": "i5qIJ8-m5Ch3"
      },
      "source": [
        "#### Weighted coin (p = 0.8)"
      ]
    },
    {
      "cell_type": "code",
      "execution_count": 131,
      "metadata": {
        "id": "eT0s3yiI5Ch3"
      },
      "outputs": [],
      "source": [
        "heads_count = np.random.binomial(n, 0.8, n_experiments)\n",
        "heads, event_count = np.unique(heads_count, return_counts=True)\n",
        "event_proba = event_count/n_experiments"
      ]
    },
    {
      "cell_type": "code",
      "execution_count": 132,
      "metadata": {
        "colab": {
          "base_uri": "https://localhost:8080/",
          "height": 0
        },
        "id": "SB2qD95l5Ch3",
        "outputId": "50819300-bc9e-45c3-fbed-37e61eaed595"
      },
      "outputs": [
        {
          "data": {
            "image/png": "[encoded data removed]",
            "text/plain": [
              "<Figure size 432x288 with 1 Axes>"
            ]
          },
          "metadata": {},
          "output_type": "display_data"
        }
      ],
      "source": [
        "plt.bar(heads, event_proba, color='mediumpurple')\n",
        "plt.xlabel('Heads flips (out of 5 tosses)')\n",
        "_ = plt.ylabel('Event probability')"
      ]
    },
    {
      "cell_type": "markdown",
      "metadata": {
        "id": "cjCnz1zD5Ch3"
      },
      "source": [
        "Technically, binomial distributions are created by sampling $n>1$ \"Bernoulli trials\". The **Bernoulli** distribution is equivalent to the binomial distribution where $n=1$: "
      ]
    },
    {
      "cell_type": "code",
      "execution_count": 133,
      "metadata": {
        "colab": {
          "base_uri": "https://localhost:8080/"
        },
        "id": "9j9WlO9v5Ch3",
        "outputId": "c747772c-b3fb-45f2-d78c-5522ba6f3f4c"
      },
      "outputs": [
        {
          "data": {
            "text/plain": [
              "1"
            ]
          },
          "execution_count": 133,
          "metadata": {},
          "output_type": "execute_result"
        }
      ],
      "source": [
        "np.random.binomial(1, 0.5)"
      ]
    },
    {
      "cell_type": "markdown",
      "metadata": {
        "id": "xuv_176n5Ch3"
      },
      "source": [
        "Real-world examples:\n",
        "\n",
        "* Making it to work on time\n",
        "* Candidate being invited to interview\n",
        "* Epidemiology: probability of death or catching disease"
      ]
    },
    {
      "cell_type": "markdown",
      "metadata": {
        "id": "dXZYgPdw5Ch4"
      },
      "source": [
        "### Multinomial Distribution"
      ]
    },
    {
      "cell_type": "markdown",
      "metadata": {
        "id": "aVhAIJvE5Ch4"
      },
      "source": [
        "Generalization of the binomial distribution to discrete random variables with more than two possible outcomes, e.g., the roll of a die: "
      ]
    },
    {
      "cell_type": "code",
      "execution_count": 134,
      "metadata": {
        "id": "bvnRByqA5Ch4"
      },
      "outputs": [],
      "source": [
        "n = 1000"
      ]
    },
    {
      "cell_type": "code",
      "execution_count": 135,
      "metadata": {
        "colab": {
          "base_uri": "https://localhost:8080/"
        },
        "id": "tYPHmsMT5Ch4",
        "outputId": "eb1aabde-9da8-4d8b-e948-35a3f95e1931"
      },
      "outputs": [
        {
          "data": {
            "text/plain": [
              "array([166, 189, 162, 166, 160, 157])"
            ]
          },
          "execution_count": 135,
          "metadata": {},
          "output_type": "execute_result"
        }
      ],
      "source": [
        "rolls = np.random.multinomial(n, [1/6.]*6)\n",
        "rolls"
      ]
    },
    {
      "cell_type": "code",
      "execution_count": 136,
      "metadata": {
        "id": "dB9d5Zo_5Ch4"
      },
      "outputs": [],
      "source": [
        "event_proba = rolls/n"
      ]
    },
    {
      "cell_type": "code",
      "execution_count": 137,
      "metadata": {
        "colab": {
          "base_uri": "https://localhost:8080/",
          "height": 0
        },
        "id": "04T9DyGf5Ch4",
        "outputId": "c103b175-8a41-40d4-fcfa-c7c121b75925"
      },
      "outputs": [
        {
          "data": {
            "image/png": "[encoded data removed]",
            "text/plain": [
              "<Figure size 432x288 with 1 Axes>"
            ]
          },
          "metadata": {},
          "output_type": "display_data"
        }
      ],
      "source": [
        "plt.bar(range(1, 7), event_proba, color='mediumpurple')\n",
        "plt.xlabel('Die roll')\n",
        "_ = plt.ylabel('Event probability')"
      ]
    },
    {
      "cell_type": "markdown",
      "metadata": {
        "id": "aWl-KRXL5Ch4"
      },
      "source": [
        "As in the binomial case, multinomial distributions are created by sampling $n>1$ multinoulli distributions, where the multinoulli distribution is equivalent to the multinomial distribution when $n=1$: "
      ]
    },
    {
      "cell_type": "code",
      "execution_count": 147,
      "metadata": {
        "colab": {
          "base_uri": "https://localhost:8080/"
        },
        "id": "MrwYus375Ch4",
        "outputId": "bf26093d-5206-4d40-d70b-b61ab1213dbe"
      },
      "outputs": [
        {
          "data": {
            "text/plain": [
              "array([0, 0, 0, 0, 0, 1])"
            ]
          },
          "execution_count": 147,
          "metadata": {},
          "output_type": "execute_result"
        }
      ],
      "source": [
        "np.random.multinomial(1, [1/6.]*6)"
      ]
    },
    {
      "cell_type": "markdown",
      "metadata": {
        "id": "Bs2JiMaN5Ch5"
      },
      "source": [
        "Since multinomial distributions can represent any categorical variable (e.g., burger, hot dog, pizza; 52 playing cards; NFL teams), not just integer values, we can't always calculate an expected value."
      ]
    },
    {
      "cell_type": "markdown",
      "metadata": {
        "id": "dKoLXZ5I5Ch5"
      },
      "source": [
        "### Poisson Distribution"
      ]
    },
    {
      "cell_type": "markdown",
      "metadata": {
        "id": "Z3EQEF9u5Ch5"
      },
      "source": [
        "**Poisson** is a third widely-used distribution for discrete random variables and it's the final distribution we'll cover."
      ]
    },
    {
      "cell_type": "markdown",
      "metadata": {
        "id": "C_9PDyAf5Ch5"
      },
      "source": [
        "It's named after French mathematician Simeon Denis Poisson and is used for count data, e.g.: \n",
        "\n",
        "* Number of cars that drive by in a minute\n",
        "* Number of guests at restaurant in an evening\n",
        "* Number of new hires in a month"
      ]
    },
    {
      "cell_type": "markdown",
      "metadata": {
        "id": "CcX5Mtbl5Ch5"
      },
      "source": [
        "First argument to NumPy `poisson()` method is $\\lambda$, which must be greater than zero and guides peak of probability distribution. E.g., sampling from Poisson with $\\lambda=5$ will tend to draw samples near 5."
      ]
    },
    {
      "cell_type": "code",
      "execution_count": 148,
      "metadata": {
        "id": "zi31GP2P5Ch5"
      },
      "outputs": [],
      "source": [
        "lam=5"
      ]
    },
    {
      "cell_type": "markdown",
      "metadata": {
        "id": "d45vG8QF5Ch5"
      },
      "source": [
        "Second argument is number of samples to draw: "
      ]
    },
    {
      "cell_type": "code",
      "execution_count": 149,
      "metadata": {
        "id": "Y3VB3Y1P5Ch5"
      },
      "outputs": [],
      "source": [
        "n=1000"
      ]
    },
    {
      "cell_type": "code",
      "execution_count": 150,
      "metadata": {
        "id": "WxtctajF5Ch5"
      },
      "outputs": [],
      "source": [
        "samples = np.random.poisson(lam, n) "
      ]
    },
    {
      "cell_type": "code",
      "execution_count": 151,
      "metadata": {
        "colab": {
          "base_uri": "https://localhost:8080/"
        },
        "id": "2Ayn0Vfb5Ch6",
        "outputId": "f77ebc01-8ff3-4484-bf6d-665fb9b9ea83"
      },
      "outputs": [
        {
          "data": {
            "text/plain": [
              "array([2, 6, 3, 3, 8, 4, 2, 7, 7, 5, 7, 5, 4, 8, 6, 3, 6, 8, 5, 7])"
            ]
          },
          "execution_count": 151,
          "metadata": {},
          "output_type": "execute_result"
        }
      ],
      "source": [
        "samples[0:20]"
      ]
    },
    {
      "cell_type": "code",
      "execution_count": 152,
      "metadata": {
        "id": "F2ys381P5Ch6"
      },
      "outputs": [],
      "source": [
        "x, x_count = np.unique(samples, return_counts=True)"
      ]
    },
    {
      "cell_type": "code",
      "execution_count": 153,
      "metadata": {
        "colab": {
          "base_uri": "https://localhost:8080/"
        },
        "id": "_JSi8Jtc5Ch6",
        "outputId": "df825367-8515-41a9-e4fd-c359b02447a9"
      },
      "outputs": [
        {
          "data": {
            "text/plain": [
              "array([ 0,  1,  2,  3,  4,  5,  6,  7,  8,  9, 10, 11, 12, 13])"
            ]
          },
          "execution_count": 153,
          "metadata": {},
          "output_type": "execute_result"
        }
      ],
      "source": [
        "x"
      ]
    },
    {
      "cell_type": "code",
      "execution_count": 154,
      "metadata": {
        "colab": {
          "base_uri": "https://localhost:8080/"
        },
        "id": "APZbiuhN5Ch6",
        "outputId": "8534e999-9792-4ab1-f808-d975f51d71df"
      },
      "outputs": [
        {
          "data": {
            "text/plain": [
              "array([  5,  32,  85, 123, 165, 172, 154, 120,  89,  30,  14,   8,   1,\n",
              "         2])"
            ]
          },
          "execution_count": 154,
          "metadata": {},
          "output_type": "execute_result"
        }
      ],
      "source": [
        "x_count"
      ]
    },
    {
      "cell_type": "code",
      "execution_count": 155,
      "metadata": {
        "id": "BqXl7-hB5Ch6"
      },
      "outputs": [],
      "source": [
        "Px = x_count/n"
      ]
    },
    {
      "cell_type": "code",
      "execution_count": 156,
      "metadata": {
        "colab": {
          "base_uri": "https://localhost:8080/",
          "height": 0
        },
        "id": "mwzYi1QW5Ch7",
        "outputId": "875ac55f-f7c5-4e7c-8581-c697cb2b7a0c"
      },
      "outputs": [
        {
          "data": {
            "image/png": "[encoded data removed]",
            "text/plain": [
              "<Figure size 432x288 with 1 Axes>"
            ]
          },
          "metadata": {},
          "output_type": "display_data"
        }
      ],
      "source": [
        "plt.bar(x, Px, color='mediumpurple')\n",
        "plt.title('PMF of Poisson with lambda = {}'.format(lam))\n",
        "plt.xlabel('x')\n",
        "_ = plt.ylabel('P(x)')"
      ]
    },
    {
      "cell_type": "markdown",
      "metadata": {
        "id": "Ekuyn4Zx5Ch7"
      },
      "source": [
        "### Mixture Distributions"
      ]
    },
    {
      "cell_type": "markdown",
      "metadata": {
        "id": "gHHStGFb5Ch7"
      },
      "source": [
        "Adapted from [Stack Overflow post](https://stackoverflow.com/questions/47759577/creating-a-mixture-of-probability-distributions-for-sampling):"
      ]
    },
    {
      "cell_type": "markdown",
      "metadata": {
        "id": "gD4x2RJu5Ch7"
      },
      "source": [
        "Multinomial distribution (driven by `np.random.choice()`) with probabilities set by `coefficients` array determines which of the three distributions to sample from."
      ]
    },
    {
      "cell_type": "code",
      "execution_count": 162,
      "metadata": {
        "colab": {
          "base_uri": "https://localhost:8080/",
          "height": 0
        },
        "id": "v4-2kJVr5Ch7",
        "outputId": "81aebbd4-dd07-492e-9b1c-6b150305f8c3"
      },
      "outputs": [
        {
          "name": "stdout",
          "output_type": "stream",
          "text": [
            "<class 'builtin_function_or_method'>\n",
            "<class 'builtin_function_or_method'>\n",
            "<class 'builtin_function_or_method'>\n",
            "[[-5.99274735  5.18042241  1.4544517 ]\n",
            " [-4.07416639  4.52344619  2.19608516]\n",
            " [-4.90884524  4.52828242  1.07690193]\n",
            " [-1.14341925  4.83883381  2.75689441]\n",
            " [-0.38331198  5.34440585  3.42618268]\n",
            " [-1.20804363  5.87725081  2.94057525]\n",
            " [-3.56393243  4.33842132  3.18778492]\n",
            " [-4.92499871  4.34021455  2.24381951]\n",
            " [-3.57791284  5.66256235  1.71131901]\n",
            " [-5.16769115  4.07938519  2.78680725]]\n"
          ]
        },
        {
          "data": {
            "image/png": "[encoded data removed]",
            "text/plain": [
              "<Figure size 360x360 with 1 Axes>"
            ]
          },
          "metadata": {},
          "output_type": "display_data"
        }
      ],
      "source": [
        "distributions = [\n",
        "    {\"type\": np.random.normal, \"kwargs\": {\"loc\": -3, \"scale\": 2}},\n",
        "    {\"type\": np.random.uniform, \"kwargs\": {\"low\": 4, \"high\": 6}},\n",
        "    {\"type\": np.random.normal, \"kwargs\": {\"loc\": 2, \"scale\": 1}},\n",
        "]\n",
        "\n",
        "coefficients = np.array([0.5, 0.2, 0.3])\n",
        "coefficients /= coefficients.sum()      # in case these did not add up to 1\n",
        "sample_size = 10\n",
        "\n",
        "num_distr = len(distributions)\n",
        "data = np.zeros((sample_size, num_distr))\n",
        "for idx, distr in enumerate(distributions):\n",
        "    print(type(distr[\"type\"]))\n",
        "    data[:, idx] = distr[\"type\"](size=(sample_size,), **distr[\"kwargs\"])\n",
        "print(data)\n",
        "\n",
        "random_idx = np.random.choice(np.arange(num_distr), size=(sample_size,), p=coefficients)\n",
        "sample = data[np.arange(sample_size), random_idx]\n",
        "_ = sns.displot(sample, bins=100, kde=True)"
      ]
    },
    {
      "cell_type": "markdown",
      "metadata": {
        "id": "zctZVQbB5Ch7"
      },
      "source": [
        "**Gaussian mixture model** (GMM) is common type of mixture distribution, wherein all of the component distributions are normal."
      ]
    },
    {
      "cell_type": "markdown",
      "metadata": {
        "id": "Lvje2Own5Ch8"
      },
      "source": [
        "**Return to slides here.**"
      ]
    },
    {
      "cell_type": "markdown",
      "metadata": {
        "id": "tAvcSl185Ch8"
      },
      "source": [
        "## Segment 3: Information Theory"
      ]
    },
    {
      "cell_type": "markdown",
      "metadata": {
        "id": "CIj2L7gD5Ch8"
      },
      "source": [
        "From the slides, the **self-information** formula is: \n",
        "$$ I(x)=-\\text{log}P(x) $$"
      ]
    },
    {
      "cell_type": "code",
      "execution_count": 163,
      "metadata": {
        "id": "xcm3rorj5Ch8"
      },
      "outputs": [],
      "source": [
        "def self_info(my_p):\n",
        "    return -1*np.log(my_p)"
      ]
    },
    {
      "cell_type": "code",
      "execution_count": 164,
      "metadata": {
        "colab": {
          "base_uri": "https://localhost:8080/"
        },
        "id": "d2PfIyUV5Ch8",
        "outputId": "976f1acf-1ada-43c3-f9fd-2c2b98b48ecd"
      },
      "outputs": [
        {
          "data": {
            "text/plain": [
              "-0.0"
            ]
          },
          "execution_count": 164,
          "metadata": {},
          "output_type": "execute_result"
        }
      ],
      "source": [
        "self_info(1)"
      ]
    },
    {
      "cell_type": "code",
      "execution_count": 165,
      "metadata": {
        "colab": {
          "base_uri": "https://localhost:8080/"
        },
        "id": "W8xI5mfL5Ch8",
        "outputId": "01e535af-7c91-4d7c-804a-0dfe2fbb9486"
      },
      "outputs": [
        {
          "data": {
            "text/plain": [
              "2.3025850929940455"
            ]
          },
          "execution_count": 165,
          "metadata": {},
          "output_type": "execute_result"
        }
      ],
      "source": [
        "self_info(0.1)"
      ]
    },
    {
      "cell_type": "code",
      "execution_count": 166,
      "metadata": {
        "colab": {
          "base_uri": "https://localhost:8080/"
        },
        "id": "sF-OyYxq5Ch8",
        "outputId": "a3cd8db3-cd20-49c6-c276-01f4f5dfe966"
      },
      "outputs": [
        {
          "data": {
            "text/plain": [
              "4.605170185988091"
            ]
          },
          "execution_count": 166,
          "metadata": {},
          "output_type": "execute_result"
        }
      ],
      "source": [
        "self_info(0.01)"
      ]
    },
    {
      "cell_type": "code",
      "execution_count": 167,
      "metadata": {
        "colab": {
          "base_uri": "https://localhost:8080/"
        },
        "id": "82cIxElx5Ch8",
        "outputId": "20c8312a-4d71-4ecf-c1db-53208a16d773"
      },
      "outputs": [
        {
          "data": {
            "text/plain": [
              "0.6931471805599453"
            ]
          },
          "execution_count": 167,
          "metadata": {},
          "output_type": "execute_result"
        }
      ],
      "source": [
        "self_info(0.5)"
      ]
    },
    {
      "cell_type": "code",
      "execution_count": 168,
      "metadata": {
        "colab": {
          "base_uri": "https://localhost:8080/"
        },
        "id": "PycwWSm_5Ch9",
        "outputId": "4a94088b-aa1a-442b-b29f-fd1ab02ffb13"
      },
      "outputs": [
        {
          "data": {
            "text/plain": [
              "1.3862943611198906"
            ]
          },
          "execution_count": 168,
          "metadata": {},
          "output_type": "execute_result"
        }
      ],
      "source": [
        "self_info(0.5) + self_info(0.5)"
      ]
    },
    {
      "cell_type": "markdown",
      "metadata": {
        "id": "xRSf8Q7M5Ch9"
      },
      "source": [
        "Depending on what logarithm base we use, the units of self-information vary. Most frequently, the units are either:\n",
        "\n",
        "* **nats**: \n",
        "    * Natural logarithm, as above with `np.log()` \n",
        "    * Typical in ML\n",
        "* **bits**: \n",
        "    * Base-2 logarithm\n",
        "    * A.k.a. **shannons**\n",
        "    * Typical in computer science\n",
        "\n",
        "So, the self-information of $P(x) = 0.1$ is ~2.3 nats."
      ]
    },
    {
      "cell_type": "markdown",
      "metadata": {
        "id": "892saRjz5Ch9"
      },
      "source": [
        "### Shannon and Differential Entropy"
      ]
    },
    {
      "cell_type": "markdown",
      "metadata": {
        "id": "gy2ByHs35Ch9"
      },
      "source": [
        "To quantify uncertainty about a probability distribution (as opposed to a single event), we can use **Shannon entropy**, which is denoted $H(x)$ or $H(P)$: \n",
        "$$ H(x) = \\mathbb{E}_{\\text{x}\\sim P}[I(x)] \\\\\n",
        "= -\\mathbb{E}_{\\text{x}\\sim P}[\\text{log}P(x)] $$\n",
        "\n",
        "Conveys the expected informational content associated with an event drawn from the distribution:\n",
        "* **Low entropy**: \n",
        "    * Distribution is ~deterministic and outcomes are ~certain\n",
        "    * E.g., weighted coin always lands heads up ($P(1)=1$)\n",
        "* **High entropy**: \n",
        "    * Outcomes are uncertain\n",
        "    * Uniform distribution can be highest entropy\n",
        "    * E.g., coin is as likely to be heads as tails ($P(0)=P(1)=0.5$)"
      ]
    },
    {
      "cell_type": "markdown",
      "metadata": {
        "id": "1h_CUdNh5Ch9"
      },
      "source": [
        "As an example, Shannon entropy for a binary random variable (e.g., coin flip) is: \n",
        "$$ (p-1)\\text{log}(1-p)-p \\text{log}p $$"
      ]
    },
    {
      "cell_type": "code",
      "execution_count": 169,
      "metadata": {
        "id": "MQAUp05w5Ch9"
      },
      "outputs": [],
      "source": [
        "def binary_entropy(my_p):\n",
        "    return (my_p-1)*np.log(1-my_p) - my_p*np.log(my_p)"
      ]
    },
    {
      "cell_type": "markdown",
      "metadata": {
        "id": "og4zT2kS5Ch-"
      },
      "source": [
        "Will throw `nan` with $p=0$ (always tails) or $p=1$ (always heads), but we can get close: "
      ]
    },
    {
      "cell_type": "code",
      "execution_count": 170,
      "metadata": {
        "colab": {
          "base_uri": "https://localhost:8080/"
        },
        "id": "TohThggW5Ch-",
        "outputId": "9d556db7-4aed-4e62-8b3c-13a02616b7f3"
      },
      "outputs": [
        {
          "data": {
            "text/plain": [
              "0.00012512920464949012"
            ]
          },
          "execution_count": 170,
          "metadata": {},
          "output_type": "execute_result"
        }
      ],
      "source": [
        "binary_entropy(0.00001)"
      ]
    },
    {
      "cell_type": "code",
      "execution_count": 171,
      "metadata": {
        "colab": {
          "base_uri": "https://localhost:8080/"
        },
        "id": "Pg8tz7f95Ch-",
        "outputId": "06fc0d82-f3be-40d5-8cd9-78e56be494fc"
      },
      "outputs": [
        {
          "data": {
            "text/plain": [
              "0.00012512920464901166"
            ]
          },
          "execution_count": 171,
          "metadata": {},
          "output_type": "execute_result"
        }
      ],
      "source": [
        "binary_entropy(0.99999)"
      ]
    },
    {
      "cell_type": "code",
      "execution_count": 172,
      "metadata": {
        "colab": {
          "base_uri": "https://localhost:8080/"
        },
        "id": "9cJU5CP-5Ch-",
        "outputId": "88af8954-f221-4e49-a883-ef123a36d07a"
      },
      "outputs": [
        {
          "data": {
            "text/plain": [
              "0.3250829733914482"
            ]
          },
          "execution_count": 172,
          "metadata": {},
          "output_type": "execute_result"
        }
      ],
      "source": [
        "binary_entropy(0.9)"
      ]
    },
    {
      "cell_type": "code",
      "execution_count": 173,
      "metadata": {
        "colab": {
          "base_uri": "https://localhost:8080/"
        },
        "id": "zASdy_6X5Ch-",
        "outputId": "7c4cea3b-30ba-4d45-d62f-a30520ffb941"
      },
      "outputs": [
        {
          "data": {
            "text/plain": [
              "0.6931471805599453"
            ]
          },
          "execution_count": 173,
          "metadata": {},
          "output_type": "execute_result"
        }
      ],
      "source": [
        "binary_entropy(0.5)"
      ]
    },
    {
      "cell_type": "code",
      "execution_count": 174,
      "metadata": {
        "id": "hEFpmgMF5Ch-"
      },
      "outputs": [],
      "source": [
        "p = np.linspace(0.001, 0.999, 1000) # start, finish, n points"
      ]
    },
    {
      "cell_type": "code",
      "execution_count": 175,
      "metadata": {
        "id": "63lu2Yda5Ch-"
      },
      "outputs": [],
      "source": [
        "H = binary_entropy(p)"
      ]
    },
    {
      "cell_type": "code",
      "execution_count": 176,
      "metadata": {
        "colab": {
          "base_uri": "https://localhost:8080/",
          "height": 0
        },
        "id": "g7oaT7kb5Ch_",
        "outputId": "0d1af4b1-30a6-46ce-a6e8-ce4ba7b83151"
      },
      "outputs": [
        {
          "data": {
            "image/png": "[encoded data removed]",
            "text/plain": [
              "<Figure size 432x288 with 1 Axes>"
            ]
          },
          "metadata": {},
          "output_type": "display_data"
        }
      ],
      "source": [
        "fig, ax = plt.subplots()\n",
        "plt.title('Shannon entropy of Bernoulli trial')\n",
        "plt.xlabel('p')\n",
        "plt.ylabel('H (nats)')\n",
        "_ = ax.plot(p,H)"
      ]
    },
    {
      "cell_type": "markdown",
      "metadata": {
        "id": "Gg4IxIJ25Ch_"
      },
      "source": [
        "**Differential entropy**: simply the term for Shannon entropy if distribution is PDF"
      ]
    },
    {
      "cell_type": "markdown",
      "metadata": {
        "id": "uVpOXC3K5Ch_"
      },
      "source": [
        "### Kullback-Leibler Divergence"
      ]
    },
    {
      "cell_type": "markdown",
      "metadata": {
        "id": "b-qE4xHD5Ch_"
      },
      "source": [
        "**KL divergence** enables us to quantify the relative Shannon (or differential) entropy of two probability distributions that are over the same random variable x.\n",
        "\n",
        "For example, if we have one probability distribution described by $P(x)$ and another by $Q(x)$, their KL divergence (denoted $D_\\text{KL}$) is: \n",
        "$$ D_\\text{KL}(P||Q) = \\mathbb{E}_{\\text{x} \\sim P}[\\text{log}P(x) - \\text{log}Q(x)] $$"
      ]
    },
    {
      "cell_type": "markdown",
      "metadata": {
        "id": "0IGVYCUx5Ch_"
      },
      "source": [
        "### Cross-Entropy"
      ]
    },
    {
      "cell_type": "markdown",
      "metadata": {
        "id": "TaFwwQIC5Ch_"
      },
      "source": [
        "Cross-entropy is a concept derived from KL divergence. Its detail is beyond the scope of this series except to mention that it provides us with the **cross-entropy cost** function. \n",
        "\n",
        "This cost function is ubiquitous in neural networks as it's the cost function of choice for predicting discrete, categorical outcomes. E.g., for a binary classifier, the cross-entropy cost ($C$) is: \n",
        "\n",
        "$$ C = -(y \\cdot \\text{log}(\\hat{y}) + (1-y) \\cdot \\text{log}(1-\\hat{y})) $$"
      ]
    },
    {
      "cell_type": "code",
      "execution_count": 177,
      "metadata": {
        "id": "vSUxkRMX5Ch_"
      },
      "outputs": [],
      "source": [
        "def cross_entropy(y, a):\n",
        "    return -1*(y*np.log(a) + (1-y)*np.log(1-a))"
      ]
    },
    {
      "cell_type": "code",
      "execution_count": 178,
      "metadata": {
        "colab": {
          "base_uri": "https://localhost:8080/"
        },
        "id": "0RNuubWo5Ch_",
        "outputId": "23c36fab-64de-4b1b-c954-45faf965fe0c"
      },
      "outputs": [
        {
          "data": {
            "text/plain": [
              "0.00030004500900199243"
            ]
          },
          "execution_count": 178,
          "metadata": {},
          "output_type": "execute_result"
        }
      ],
      "source": [
        "cross_entropy(1, 0.9997)"
      ]
    },
    {
      "cell_type": "code",
      "execution_count": 179,
      "metadata": {
        "colab": {
          "base_uri": "https://localhost:8080/"
        },
        "id": "rRiZkkxX5CiA",
        "outputId": "d57b50f1-458d-4511-f2b0-9fa4f6044f20"
      },
      "outputs": [
        {
          "data": {
            "text/plain": [
              "0.10536051565782628"
            ]
          },
          "execution_count": 179,
          "metadata": {},
          "output_type": "execute_result"
        }
      ],
      "source": [
        "cross_entropy(1, 0.9)"
      ]
    },
    {
      "cell_type": "code",
      "execution_count": 180,
      "metadata": {
        "colab": {
          "base_uri": "https://localhost:8080/"
        },
        "id": "kvQ-JUk45CiA",
        "outputId": "9e057fdc-0984-47a8-a546-c1dfee6cc9c9"
      },
      "outputs": [
        {
          "data": {
            "text/plain": [
              "0.5108256237659907"
            ]
          },
          "execution_count": 180,
          "metadata": {},
          "output_type": "execute_result"
        }
      ],
      "source": [
        "cross_entropy(1, 0.6)"
      ]
    },
    {
      "cell_type": "code",
      "execution_count": 181,
      "metadata": {
        "colab": {
          "base_uri": "https://localhost:8080/"
        },
        "id": "__hYqZuT5CiA",
        "outputId": "aca233e2-a142-456f-c1b2-72b4347da472"
      },
      "outputs": [
        {
          "data": {
            "text/plain": [
              "1.2039728043259361"
            ]
          },
          "execution_count": 181,
          "metadata": {},
          "output_type": "execute_result"
        }
      ],
      "source": [
        "cross_entropy(1, 0.3)"
      ]
    },
    {
      "cell_type": "code",
      "execution_count": null,
      "metadata": {},
      "outputs": [],
      "source": []
    }
  ],
  "metadata": {
    "colab": {
      "include_colab_link": true,
      "name": "5-probability.ipynb",
      "provenance": []
    },
    "kernelspec": {
      "display_name": "Python 3",
      "language": "python",
      "name": "python3"
    },
    "language_info": {
      "codemirror_mode": {
        "name": "ipython",
        "version": 3
      },
      "file_extension": ".py",
      "mimetype": "text/x-python",
      "name": "python",
      "nbconvert_exporter": "python",
      "pygments_lexer": "ipython3",
      "version": "3.9.7"
    }
  },
  "nbformat": 4,
  "nbformat_minor": 0
}
