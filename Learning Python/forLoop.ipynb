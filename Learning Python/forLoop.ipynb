{
 "cells": [
  {
   "cell_type": "code",
   "execution_count": 2,
   "metadata": {
    "collapsed": false,
    "pycharm": {
     "name": "#%%\n"
    }
   },
   "outputs": [
    {
     "name": "stdout",
     "output_type": "stream",
     "text": [
      "Product is 12000000\n"
     ]
    }
   ],
   "source": [
    "lst = [10, 20, 30, 40, 50]\n",
    "product = 1\n",
    "for i in lst:\n",
    "    product *= i\n",
    "print(\"Product is {}\".format(product))"
   ]
  },
  {
   "cell_type": "code",
   "execution_count": 3,
   "outputs": [
    {
     "name": "stdout",
     "output_type": "stream",
     "text": [
      "0\n",
      "1\n",
      "2\n",
      "3\n",
      "4\n"
     ]
    }
   ],
   "source": [
    "for i in range(5):\n",
    "    print(i)"
   ],
   "metadata": {
    "collapsed": false,
    "pycharm": {
     "name": "#%%\n"
    }
   }
  },
  {
   "cell_type": "code",
   "execution_count": 4,
   "outputs": [
    {
     "name": "stdout",
     "output_type": "stream",
     "text": [
      "1\n",
      "3\n",
      "5\n",
      "7\n",
      "9\n"
     ]
    }
   ],
   "source": [
    "for i in range(1, 10, 2):\n",
    "    print(i)"
   ],
   "metadata": {
    "collapsed": false,
    "pycharm": {
     "name": "#%%\n"
    }
   }
  },
  {
   "cell_type": "code",
   "execution_count": 11,
   "outputs": [
    {
     "name": "stdout",
     "output_type": "stream",
     "text": [
      "1\n",
      "2\n",
      "3\n",
      "Printing inside else statement\n",
      "Printing inside else statement for the empty list\n",
      "1\n",
      "2\n",
      "3\n",
      "4\n",
      "inside if statement.. i value - 4\n"
     ]
    }
   ],
   "source": [
    "# In Python for loop has else function. Else statement will execute at the end of foor loop.\n",
    "for i in [1, 2, 3]:\n",
    "    print(i)\n",
    "else:\n",
    "    print(\"Printing inside else statement\")\n",
    "\n",
    "lst = []\n",
    "for i in lst:\n",
    "    print(i)\n",
    "else:\n",
    "    print(\"Printing inside else statement for the empty list\")\n",
    "\n",
    "#if there is a break statement inside for loop and for loop existed in the middle because of break statement, else statement wont execute.\n",
    "\n",
    "for i in [1, 2, 3, 4, 5]:\n",
    "    print(i)\n",
    "    if i >= 4:\n",
    "        print(\"inside if statement.. i value - {}\".format(i))\n",
    "        break\n",
    "else:\n",
    "    print(\"Printing inside else statement if break is encountered\")"
   ],
   "metadata": {
    "collapsed": false,
    "pycharm": {
     "name": "#%%\n"
    }
   }
  },
  {
   "cell_type": "code",
   "execution_count": null,
   "outputs": [],
   "source": [],
   "metadata": {
    "collapsed": false,
    "pycharm": {
     "name": "#%%\n"
    }
   }
  }
 ],
 "metadata": {
  "interpreter": {
   "hash": "9b9f4720e0a21cf68c42ee0eab8a16915f31e611a6c577111aac181a7ffefff6"
  },
  "kernelspec": {
   "display_name": "Python 3.8.3 64-bit ('PycharmWs': conda)",
   "language": "python",
   "name": "python3"
  },
  "language_info": {
   "codemirror_mode": {
    "name": "ipython",
    "version": 3
   },
   "file_extension": ".py",
   "mimetype": "text/x-python",
   "name": "python",
   "nbconvert_exporter": "python",
   "pygments_lexer": "ipython3",
   "version": "3.8.3"
  },
  "orig_nbformat": 4
 },
 "nbformat": 4,
 "nbformat_minor": 2
}