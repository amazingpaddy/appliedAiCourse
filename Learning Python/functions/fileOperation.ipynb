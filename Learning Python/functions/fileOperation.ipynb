{
 "cells": [
  {
   "cell_type": "code",
   "execution_count": 12,
   "metadata": {
    "collapsed": true
   },
   "outputs": [
    {
     "name": "stdout",
     "output_type": "stream",
     "text": [
      "This is Gopi\n"
     ]
    }
   ],
   "source": [
    "f = open(\"input.txt\")\n",
    "print(f.read())\n",
    "f.close()"
   ]
  },
  {
   "cell_type": "code",
   "execution_count": 13,
   "outputs": [
    {
     "name": "stdout",
     "output_type": "stream",
     "text": [
      "This is Gopi\n",
      "False\n",
      "True\n"
     ]
    }
   ],
   "source": [
    "try:\n",
    "    f = open(\"input.txt\")\n",
    "    print(f.read())\n",
    "    print(f.closed)\n",
    "finally:\n",
    "    f.close()\n",
    "\n",
    "print(f.closed)"
   ],
   "metadata": {
    "collapsed": false,
    "pycharm": {
     "name": "#%%\n"
    }
   }
  },
  {
   "cell_type": "code",
   "execution_count": 16,
   "outputs": [
    {
     "data": {
      "text/plain": "15"
     },
     "execution_count": 16,
     "metadata": {},
     "output_type": "execute_result"
    }
   ],
   "source": [
    "fi = open(\"input.txt\", \"w\")\n",
    "fi.write(\"This is Gopi\\n\")\n",
    "fi.write(\"This is Uma\\n\")\n",
    "fi.write(\"This is Harish\\n\")\n",
    "fi.close()"
   ],
   "metadata": {
    "collapsed": false,
    "pycharm": {
     "name": "#%%\n"
    }
   }
  },
  {
   "cell_type": "code",
   "execution_count": 23,
   "outputs": [
    {
     "name": "stdout",
     "output_type": "stream",
     "text": [
      "This is Gopi\n",
      "\n",
      "This is Uma\n",
      "\n",
      "This is Harish\n",
      "\n",
      "True\n"
     ]
    }
   ],
   "source": [
    "fi = open(\"input.txt\", \"r\")\n",
    "print(fi.readline())\n",
    "print(fi.readline())\n",
    "print(fi.readline())\n",
    "\n",
    "print(fi.seekable())"
   ],
   "metadata": {
    "collapsed": false,
    "pycharm": {
     "name": "#%%\n"
    }
   }
  },
  {
   "cell_type": "code",
   "execution_count": 24,
   "outputs": [
    {
     "name": "stdout",
     "output_type": "stream",
     "text": [
      "[]\n",
      "['This is Gopi\\n', 'This is Uma\\n', 'This is Harish\\n']\n"
     ]
    }
   ],
   "source": [
    "print(fi.readlines())  #Its prints empty list because seek is in the last since previous read. reset it as seek0 then read\n",
    "fi.seek(0) #Goes to start of the ile\n",
    "print(fi.readlines())\n",
    "fi.close()"
   ],
   "metadata": {
    "collapsed": false,
    "pycharm": {
     "name": "#%%\n"
    }
   }
  },
  {
   "cell_type": "code",
   "execution_count": 26,
   "outputs": [
    {
     "name": "stdout",
     "output_type": "stream",
     "text": [
      "D:\\Paddy\\PythonWs\\appliedAiCourse\\Learning Python\\functions\n"
     ]
    },
    {
     "data": {
      "text/plain": "['builtinFunctions.ipynb',\n 'fileOperation.ipynb',\n 'functionArguments.ipynb',\n 'functions.ipynb',\n 'input.txt',\n 'lambaFunctions.ipynb',\n 'module.ipynb']"
     },
     "execution_count": 26,
     "metadata": {},
     "output_type": "execute_result"
    }
   ],
   "source": [
    "import os\n",
    "\n",
    "print(os.getcwd())\n",
    "os.listdir(os.getcwd())"
   ],
   "metadata": {
    "collapsed": false,
    "pycharm": {
     "name": "#%%\n"
    }
   }
  },
  {
   "cell_type": "code",
   "execution_count": null,
   "outputs": [],
   "source": [],
   "metadata": {
    "collapsed": false,
    "pycharm": {
     "name": "#%%\n"
    }
   }
  }
 ],
 "metadata": {
  "kernelspec": {
   "display_name": "Python 3",
   "language": "python",
   "name": "python3"
  },
  "language_info": {
   "codemirror_mode": {
    "name": "ipython",
    "version": 2
   },
   "file_extension": ".py",
   "mimetype": "text/x-python",
   "name": "python",
   "nbconvert_exporter": "python",
   "pygments_lexer": "ipython2",
   "version": "2.7.6"
  }
 },
 "nbformat": 4,
 "nbformat_minor": 0
}