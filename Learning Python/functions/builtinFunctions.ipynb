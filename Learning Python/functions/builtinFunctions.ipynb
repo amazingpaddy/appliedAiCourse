{
 "cells": [
  {
   "cell_type": "code",
   "execution_count": 14,
   "metadata": {
    "collapsed": true
   },
   "outputs": [
    {
     "name": "stdout",
     "output_type": "stream",
     "text": [
      "1\n",
      "1\n",
      "5.6\n"
     ]
    }
   ],
   "source": [
    "print(abs(-1))\n",
    "print(abs(1))\n",
    "print(abs(-5.6))"
   ]
  },
  {
   "cell_type": "code",
   "execution_count": 15,
   "outputs": [
    {
     "name": "stdout",
     "output_type": "stream",
     "text": [
      "True\n",
      "True\n",
      "False\n",
      "True\n",
      "False\n"
     ]
    }
   ],
   "source": [
    "print(all([1, 2 , 3]))\n",
    "print(all((1, 2 , 3)))\n",
    "print(all((0, 1, 2 , 3)))\n",
    "print(all((5, 1, 2 , True)))\n",
    "print(all((5, 1, 2 , False)))"
   ],
   "metadata": {
    "collapsed": false,
    "pycharm": {
     "name": "#%%\n"
    }
   }
  },
  {
   "cell_type": "code",
   "execution_count": 16,
   "outputs": [
    {
     "name": "stdout",
     "output_type": "stream",
     "text": [
      "(2, 121)\n",
      "(821, 338)\n"
     ]
    }
   ],
   "source": [
    "print(divmod(545, 212))\n",
    "print(divmod(545482, 664))"
   ],
   "metadata": {
    "collapsed": false,
    "pycharm": {
     "name": "#%%\n"
    }
   }
  },
  {
   "cell_type": "code",
   "execution_count": 17,
   "outputs": [
    {
     "name": "stdout",
     "output_type": "stream",
     "text": [
      "index - 0, value - 1\n",
      "index - 1, value - 2\n",
      "index - 2, value - 3\n",
      "index - 3, value - 4\n",
      "index - 4, value - 5\n"
     ]
    }
   ],
   "source": [
    "num = [1, 2, 3, 4, 5]\n",
    "for i, e in enumerate(num):\n",
    "    print(\"index - {}, value - {}\".format(i, e))"
   ],
   "metadata": {
    "collapsed": false,
    "pycharm": {
     "name": "#%%\n"
    }
   }
  },
  {
   "cell_type": "code",
   "execution_count": 18,
   "outputs": [
    {
     "name": "stdout",
     "output_type": "stream",
     "text": [
      "index - 0, value - 1\n",
      "index - 1, value - 2\n",
      "index - 2, value - 3\n",
      "index - 3, value - 4\n",
      "index - 4, value - 5\n"
     ]
    }
   ],
   "source": [
    "num = (1, 2, 3, 4, 5)\n",
    "for i, e in enumerate(num):\n",
    "    print(\"index - {}, value - {}\".format(i, e))"
   ],
   "metadata": {
    "collapsed": false,
    "pycharm": {
     "name": "#%%\n"
    }
   }
  },
  {
   "cell_type": "code",
   "execution_count": 19,
   "outputs": [
    {
     "name": "stdout",
     "output_type": "stream",
     "text": [
      "index - 500, value - 1\n",
      "index - 501, value - 2\n",
      "index - 502, value - 3\n",
      "index - 503, value - 4\n",
      "index - 504, value - 5\n"
     ]
    }
   ],
   "source": [
    "num = {1, 2, 3, 4, 5}\n",
    "for i, e in enumerate(num, start=500):\n",
    "    print(\"index - {}, value - {}\".format(i, e))"
   ],
   "metadata": {
    "collapsed": false,
    "pycharm": {
     "name": "#%%\n"
    }
   }
  },
  {
   "cell_type": "code",
   "execution_count": 20,
   "outputs": [
    {
     "name": "stdout",
     "output_type": "stream",
     "text": [
      "[1, 2, 3, 4, 5, 6, 7, 8, 9]\n"
     ]
    }
   ],
   "source": [
    "def find_positive_num(num):\n",
    "    if num > 0:\n",
    "        return num\n",
    "\n",
    "lst = range(-10, 10)\n",
    "filtered_list = list(filter(find_positive_num, lst))\n",
    "print(filtered_list)"
   ],
   "metadata": {
    "collapsed": false,
    "pycharm": {
     "name": "#%%\n"
    }
   }
  },
  {
   "cell_type": "code",
   "execution_count": 21,
   "outputs": [
    {
     "name": "stdout",
     "output_type": "stream",
     "text": [
      "True\n",
      "False\n"
     ]
    }
   ],
   "source": [
    "lst = [1, 2, 3]\n",
    "print(isinstance(lst, list))\n",
    "t = (1, 2, 3)\n",
    "print(isinstance(t, list))"
   ],
   "metadata": {
    "collapsed": false,
    "pycharm": {
     "name": "#%%\n"
    }
   }
  },
  {
   "cell_type": "code",
   "execution_count": 22,
   "outputs": [
    {
     "name": "stdout",
     "output_type": "stream",
     "text": [
      "[1, 4, 9, 16, 25, 36, 49, 64, 81, 100, 121, 144, 169, 196]\n"
     ]
    }
   ],
   "source": [
    "def power_of_two(num):\n",
    "    return num ** 2\n",
    "\n",
    "l = range(1, 15)\n",
    "print(list(map(power_of_two, l)))"
   ],
   "metadata": {
    "collapsed": false,
    "pycharm": {
     "name": "#%%\n"
    }
   }
  },
  {
   "cell_type": "code",
   "execution_count": 23,
   "outputs": [
    {
     "name": "stdout",
     "output_type": "stream",
     "text": [
      "24\n"
     ]
    }
   ],
   "source": [
    "from functools import reduce\n",
    "\n",
    "def multiply(x, y):\n",
    "    return x * y\n",
    "\n",
    "print(reduce(multiply, range(1, 5)))"
   ],
   "metadata": {
    "collapsed": false,
    "pycharm": {
     "name": "#%%\n"
    }
   }
  },
  {
   "cell_type": "code",
   "execution_count": 23,
   "outputs": [],
   "source": [],
   "metadata": {
    "collapsed": false,
    "pycharm": {
     "name": "#%%\n"
    }
   }
  }
 ],
 "metadata": {
  "kernelspec": {
   "display_name": "Python 3",
   "language": "python",
   "name": "python3"
  },
  "language_info": {
   "codemirror_mode": {
    "name": "ipython",
    "version": 2
   },
   "file_extension": ".py",
   "mimetype": "text/x-python",
   "name": "python",
   "nbconvert_exporter": "python",
   "pygments_lexer": "ipython2",
   "version": "2.7.6"
  }
 },
 "nbformat": 4,
 "nbformat_minor": 0
}