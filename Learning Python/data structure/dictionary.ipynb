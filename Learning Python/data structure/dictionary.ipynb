{
 "cells": [
  {
   "cell_type": "markdown",
   "metadata": {},
   "source": [
    "# Dictionary is like HTable or HashMap in Java (key, value).  Dictionary is a unordered collections."
   ]
  },
  {
   "cell_type": "code",
   "execution_count": 1,
   "metadata": {
    "ExecuteTime": {
     "end_time": "2022-02-02T19:24:13.458209Z",
     "start_time": "2022-02-02T19:24:13.437164Z"
    }
   },
   "outputs": [
    {
     "name": "stdout",
     "output_type": "stream",
     "text": [
      "{}\n",
      "{}\n",
      "{1: 'abc', 2: 'def', 3: 'ghi'}\n",
      "{1: ['a', 1, 2.5]}\n",
      "{1: 'paddy', 2: 'gopi'}\n"
     ]
    }
   ],
   "source": [
    "empty_dict = {}\n",
    "another_empty_dict = dict()\n",
    "print(empty_dict)\n",
    "print(another_empty_dict)\n",
    "d = {1 : 'abc', 2 : 'def', 3 : 'ghi'}\n",
    "print(d)\n",
    "d = {1 : ['a', 1, 2.5]}\n",
    "print(d)\n",
    "\n",
    "#We can create a dictionary using list of tuples.\n",
    "d = dict([(1,\"paddy\"), (2, \"gopi\")])\n",
    "print(d)\n"
   ]
  },
  {
   "cell_type": "markdown",
   "metadata": {},
   "source": [
    "# This will throw error since the second tuple has more than two elements."
   ]
  },
  {
   "cell_type": "code",
   "execution_count": 2,
   "metadata": {
    "ExecuteTime": {
     "end_time": "2022-02-02T19:24:13.537186Z",
     "start_time": "2022-02-02T19:24:13.460161Z"
    },
    "pycharm": {
     "name": "#%%\n"
    }
   },
   "outputs": [
    {
     "ename": "ValueError",
     "evalue": "dictionary update sequence element #1 has length 3; 2 is required",
     "output_type": "error",
     "traceback": [
      "\u001B[1;31m---------------------------------------------------------------------------\u001B[0m",
      "\u001B[1;31mValueError\u001B[0m                                Traceback (most recent call last)",
      "\u001B[1;32m<ipython-input-2-a2237be6267d>\u001B[0m in \u001B[0;36m<module>\u001B[1;34m\u001B[0m\n\u001B[1;32m----> 1\u001B[1;33m \u001B[0md\u001B[0m \u001B[1;33m=\u001B[0m \u001B[0mdict\u001B[0m\u001B[1;33m(\u001B[0m\u001B[1;33m[\u001B[0m\u001B[1;33m(\u001B[0m\u001B[1;36m1\u001B[0m\u001B[1;33m,\u001B[0m\u001B[1;34m\"paddy\"\u001B[0m\u001B[1;33m)\u001B[0m\u001B[1;33m,\u001B[0m \u001B[1;33m(\u001B[0m\u001B[1;36m2\u001B[0m\u001B[1;33m,\u001B[0m \u001B[1;34m\"gopi\"\u001B[0m\u001B[1;33m,\u001B[0m \u001B[1;34m\"uma\"\u001B[0m\u001B[1;33m)\u001B[0m\u001B[1;33m]\u001B[0m\u001B[1;33m)\u001B[0m\u001B[1;33m\u001B[0m\u001B[1;33m\u001B[0m\u001B[0m\n\u001B[0m\u001B[0;32m      2\u001B[0m \u001B[0mprint\u001B[0m\u001B[1;33m(\u001B[0m\u001B[0md\u001B[0m\u001B[1;33m)\u001B[0m\u001B[1;33m\u001B[0m\u001B[1;33m\u001B[0m\u001B[0m\n",
      "\u001B[1;31mValueError\u001B[0m: dictionary update sequence element #1 has length 3; 2 is required"
     ]
    }
   ],
   "source": [
    "d = dict([(1,\"paddy\"), (2, \"gopi\", \"uma\")])\n",
    "print(d)"
   ]
  },
  {
   "cell_type": "markdown",
   "metadata": {},
   "source": [
    "# Nested Dictionary"
   ]
  },
  {
   "cell_type": "code",
   "execution_count": 3,
   "metadata": {
    "ExecuteTime": {
     "end_time": "2022-02-02T19:24:13.552339Z",
     "start_time": "2022-02-02T19:24:13.539162Z"
    },
    "pycharm": {
     "name": "#%%\n"
    }
   },
   "outputs": [
    {
     "name": "stdout",
     "output_type": "stream",
     "text": [
      "{1: 'a', 'a': {1: 'a'}}\n"
     ]
    }
   ],
   "source": [
    "d = {1 : \"a\", \"a\" : {1 : \"a\"}}\n",
    "print(d)"
   ]
  },
  {
   "cell_type": "code",
   "execution_count": 4,
   "metadata": {
    "ExecuteTime": {
     "end_time": "2022-02-02T19:24:13.568172Z",
     "start_time": "2022-02-02T19:24:13.555542Z"
    },
    "pycharm": {
     "name": "#%%\n"
    }
   },
   "outputs": [
    {
     "name": "stdout",
     "output_type": "stream",
     "text": [
      "def\n",
      "def\n"
     ]
    },
    {
     "ename": "KeyError",
     "evalue": "4",
     "output_type": "error",
     "traceback": [
      "\u001B[1;31m---------------------------------------------------------------------------\u001B[0m",
      "\u001B[1;31mKeyError\u001B[0m                                  Traceback (most recent call last)",
      "\u001B[1;32m<ipython-input-4-13d59ed95362>\u001B[0m in \u001B[0;36m<module>\u001B[1;34m\u001B[0m\n\u001B[0;32m      3\u001B[0m \u001B[0mprint\u001B[0m\u001B[1;33m(\u001B[0m\u001B[0md\u001B[0m\u001B[1;33m.\u001B[0m\u001B[0mget\u001B[0m\u001B[1;33m(\u001B[0m\u001B[1;36m2\u001B[0m\u001B[1;33m)\u001B[0m\u001B[1;33m)\u001B[0m\u001B[1;33m\u001B[0m\u001B[1;33m\u001B[0m\u001B[0m\n\u001B[0;32m      4\u001B[0m \u001B[1;33m\u001B[0m\u001B[0m\n\u001B[1;32m----> 5\u001B[1;33m \u001B[0mprint\u001B[0m\u001B[1;33m(\u001B[0m\u001B[0md\u001B[0m\u001B[1;33m[\u001B[0m\u001B[1;36m4\u001B[0m\u001B[1;33m]\u001B[0m\u001B[1;33m)\u001B[0m  \u001B[1;31m#It will throw KeyError\u001B[0m\u001B[1;33m\u001B[0m\u001B[1;33m\u001B[0m\u001B[0m\n\u001B[0m",
      "\u001B[1;31mKeyError\u001B[0m: 4"
     ]
    }
   ],
   "source": [
    "d = {1 : 'abc', 2 : 'def', 3 : 'ghi'}\n",
    "print(d[2])\n",
    "print(d.get(2))\n",
    "\n",
    "print(d[4])  #It will throw KeyError"
   ]
  },
  {
   "cell_type": "code",
   "execution_count": 5,
   "metadata": {
    "ExecuteTime": {
     "end_time": "2022-02-02T19:24:13.583183Z",
     "start_time": "2022-02-02T19:24:13.572191Z"
    },
    "pycharm": {
     "name": "#%%\n"
    }
   },
   "outputs": [
    {
     "name": "stdout",
     "output_type": "stream",
     "text": [
      "None\n"
     ]
    }
   ],
   "source": [
    "print(d.get(4)) #This wont throw any error, just print None. (Kind of null in Java)"
   ]
  },
  {
   "cell_type": "code",
   "execution_count": 6,
   "metadata": {
    "ExecuteTime": {
     "end_time": "2022-02-02T19:24:13.599191Z",
     "start_time": "2022-02-02T19:24:13.587161Z"
    },
    "pycharm": {
     "name": "#%%\n"
    }
   },
   "outputs": [
    {
     "name": "stdout",
     "output_type": "stream",
     "text": [
      "{1: 'xyz', 2: 'def', 3: 'ghi'}\n",
      "{1: 'xyz', 2: 'def', 3: 'ghi', 4: 'jkl'}\n"
     ]
    }
   ],
   "source": [
    "d = {1 : 'abc', 2 : 'def', 3 : 'ghi'}\n",
    "d[1] = \"xyz\"\n",
    "print(d)\n",
    "d[4] = 'jkl'  #Adding a new value\n",
    "print(d)"
   ]
  },
  {
   "cell_type": "code",
   "execution_count": 7,
   "metadata": {
    "ExecuteTime": {
     "end_time": "2022-02-02T19:24:13.630181Z",
     "start_time": "2022-02-02T19:24:13.602160Z"
    },
    "pycharm": {
     "name": "#%%\n"
    }
   },
   "outputs": [
    {
     "name": "stdout",
     "output_type": "stream",
     "text": [
      "ghi\n"
     ]
    },
    {
     "ename": "KeyError",
     "evalue": "5",
     "output_type": "error",
     "traceback": [
      "\u001B[1;31m---------------------------------------------------------------------------\u001B[0m",
      "\u001B[1;31mKeyError\u001B[0m                                  Traceback (most recent call last)",
      "\u001B[1;32m<ipython-input-7-f2ae5528f761>\u001B[0m in \u001B[0;36m<module>\u001B[1;34m\u001B[0m\n\u001B[0;32m      2\u001B[0m \u001B[0mprint\u001B[0m\u001B[1;33m(\u001B[0m\u001B[0md\u001B[0m\u001B[1;33m.\u001B[0m\u001B[0mpop\u001B[0m\u001B[1;33m(\u001B[0m\u001B[1;36m3\u001B[0m\u001B[1;33m)\u001B[0m\u001B[1;33m)\u001B[0m  \u001B[1;31m#This will remove the keyValue pair and return the value.\u001B[0m\u001B[1;33m\u001B[0m\u001B[1;33m\u001B[0m\u001B[0m\n\u001B[0;32m      3\u001B[0m \u001B[1;33m\u001B[0m\u001B[0m\n\u001B[1;32m----> 4\u001B[1;33m \u001B[0mprint\u001B[0m\u001B[1;33m(\u001B[0m\u001B[0md\u001B[0m\u001B[1;33m.\u001B[0m\u001B[0mpop\u001B[0m\u001B[1;33m(\u001B[0m\u001B[1;36m5\u001B[0m\u001B[1;33m)\u001B[0m\u001B[1;33m)\u001B[0m  \u001B[1;31m#This will throw error\u001B[0m\u001B[1;33m\u001B[0m\u001B[1;33m\u001B[0m\u001B[0m\n\u001B[0m",
      "\u001B[1;31mKeyError\u001B[0m: 5"
     ]
    }
   ],
   "source": [
    "d = {1 : 'abc', 2 : 'def', 3 : 'ghi'}\n",
    "print(d.pop(3))  #This will remove the keyValue pair and return the value.\n",
    "\n",
    "print(d.pop(5))  #This will throw error"
   ]
  },
  {
   "cell_type": "code",
   "execution_count": 8,
   "metadata": {
    "ExecuteTime": {
     "end_time": "2022-02-02T19:24:13.646160Z",
     "start_time": "2022-02-02T19:24:13.633162Z"
    },
    "pycharm": {
     "name": "#%%\n"
    }
   },
   "outputs": [
    {
     "name": "stdout",
     "output_type": "stream",
     "text": [
      "{1: 'abc', 2: 'def'}\n",
      "{1: 'abc', 3: 'ghi'}\n"
     ]
    },
    {
     "ename": "KeyError",
     "evalue": "5",
     "output_type": "error",
     "traceback": [
      "\u001B[1;31m---------------------------------------------------------------------------\u001B[0m",
      "\u001B[1;31mKeyError\u001B[0m                                  Traceback (most recent call last)",
      "\u001B[1;32m<ipython-input-8-2aedcc296c40>\u001B[0m in \u001B[0;36m<module>\u001B[1;34m\u001B[0m\n\u001B[0;32m      8\u001B[0m \u001B[0mprint\u001B[0m\u001B[1;33m(\u001B[0m\u001B[0md\u001B[0m\u001B[1;33m)\u001B[0m\u001B[1;33m\u001B[0m\u001B[1;33m\u001B[0m\u001B[0m\n\u001B[0;32m      9\u001B[0m \u001B[1;33m\u001B[0m\u001B[0m\n\u001B[1;32m---> 10\u001B[1;33m \u001B[1;32mdel\u001B[0m \u001B[0md\u001B[0m\u001B[1;33m[\u001B[0m\u001B[1;36m5\u001B[0m\u001B[1;33m]\u001B[0m  \u001B[1;31m#Returns Error since no key found\u001B[0m\u001B[1;33m\u001B[0m\u001B[1;33m\u001B[0m\u001B[0m\n\u001B[0m",
      "\u001B[1;31mKeyError\u001B[0m: 5"
     ]
    }
   ],
   "source": [
    "d = {1 : 'abc', 2 : 'def', 3 : 'ghi'}\n",
    "d.popitem() #Removes random key value pairs\n",
    "print(d)\n",
    "\n",
    "d = {1 : 'abc', 2 : 'def', 3 : 'ghi'}\n",
    "del d[2]  #delete the specific keyvalue pair and return nothing\n",
    "\n",
    "print(d)\n",
    "\n",
    "del d[5]  #Returns Error since no key found"
   ]
  },
  {
   "cell_type": "code",
   "execution_count": 9,
   "metadata": {
    "ExecuteTime": {
     "end_time": "2022-02-02T19:24:13.661164Z",
     "start_time": "2022-02-02T19:24:13.652163Z"
    },
    "pycharm": {
     "name": "#%%\n"
    }
   },
   "outputs": [
    {
     "name": "stdout",
     "output_type": "stream",
     "text": [
      "{1: 'abc', 2: 'def', 3: 'ghi'}\n",
      "{}\n"
     ]
    }
   ],
   "source": [
    "d = {1 : 'abc', 2 : 'def', 3 : 'ghi'}\n",
    "print(d)\n",
    "d.clear()\n",
    "print(d)\n",
    "\n",
    "del d  #delete whole dictionary"
   ]
  },
  {
   "cell_type": "code",
   "execution_count": 10,
   "metadata": {
    "ExecuteTime": {
     "end_time": "2022-02-02T19:24:13.676563Z",
     "start_time": "2022-02-02T19:24:13.667159Z"
    },
    "pycharm": {
     "name": "#%%\n"
    }
   },
   "outputs": [
    {
     "name": "stdout",
     "output_type": "stream",
     "text": [
      "{1: 'abc', 2: 'def', 3: 'ghi'}\n",
      "{1: 'abc', 2: 'def', 3: 'ghi'}\n",
      "{1: 'abc', 2: 'def', 3: 'ghi'}\n",
      "{1: 'abc', 2: 'def', 3: 'ghi', 4: 'xyz'}\n"
     ]
    }
   ],
   "source": [
    "d = {1 : 'abc', 2 : 'def', 3 : 'ghi'}\n",
    "d1 = d.copy()\n",
    "print(d)\n",
    "print(d1)\n",
    "\n",
    "d1[4] = \"xyz\"\n",
    "\n",
    "print(d)\n",
    "print(d1)"
   ]
  },
  {
   "cell_type": "code",
   "execution_count": 11,
   "metadata": {
    "ExecuteTime": {
     "end_time": "2022-02-02T19:24:13.692160Z",
     "start_time": "2022-02-02T19:24:13.681160Z"
    },
    "pycharm": {
     "name": "#%%\n"
    }
   },
   "outputs": [
    {
     "name": "stdout",
     "output_type": "stream",
     "text": [
      "{1: 'same_value', 2: 'same_value', 3: 'same_value'}\n"
     ]
    }
   ],
   "source": [
    "d = {}.fromkeys([1, 2, 3], \"same_value\")\n",
    "print(d)"
   ]
  },
  {
   "cell_type": "code",
   "execution_count": 12,
   "metadata": {
    "ExecuteTime": {
     "end_time": "2022-02-02T19:24:13.708159Z",
     "start_time": "2022-02-02T19:24:13.694161Z"
    },
    "pycharm": {
     "name": "#%%\n"
    }
   },
   "outputs": [
    {
     "name": "stdout",
     "output_type": "stream",
     "text": [
      "dict_items([(1, 'abc'), (2, 'def'), (3, 'ghi')])\n",
      "dict_keys([1, 2, 3])\n",
      "dict_values(['abc', 'def', 'ghi'])\n"
     ]
    }
   ],
   "source": [
    "d = {1 : 'abc', 2 : 'def', 3 : 'ghi'}\n",
    "print(d.items())\n",
    "print(d.keys())\n",
    "print(d.values())"
   ]
  },
  {
   "cell_type": "code",
   "execution_count": 13,
   "metadata": {
    "ExecuteTime": {
     "end_time": "2022-02-02T19:24:13.724158Z",
     "start_time": "2022-02-02T19:24:13.709159Z"
    },
    "pycharm": {
     "name": "#%%\n"
    }
   },
   "outputs": [
    {
     "name": "stdout",
     "output_type": "stream",
     "text": [
      "['__class__', '__contains__', '__delattr__', '__delitem__', '__dir__', '__doc__', '__eq__', '__format__', '__ge__', '__getattribute__', '__getitem__', '__gt__', '__hash__', '__init__', '__init_subclass__', '__iter__', '__le__', '__len__', '__lt__', '__ne__', '__new__', '__reduce__', '__reduce_ex__', '__repr__', '__setattr__', '__setitem__', '__sizeof__', '__str__', '__subclasshook__', 'clear', 'copy', 'fromkeys', 'get', 'items', 'keys', 'pop', 'popitem', 'setdefault', 'update', 'values']\n"
     ]
    }
   ],
   "source": [
    "d = {}\n",
    "print(dir(d)) #Prints all the functions of dictionary"
   ]
  },
  {
   "cell_type": "markdown",
   "metadata": {},
   "source": [
    "# Dictionary comprehension"
   ]
  },
  {
   "cell_type": "code",
   "execution_count": 14,
   "metadata": {
    "ExecuteTime": {
     "end_time": "2022-02-02T19:24:13.739479Z",
     "start_time": "2022-02-02T19:24:13.725217Z"
    },
    "pycharm": {
     "name": "#%%\n"
    }
   },
   "outputs": [
    {
     "name": "stdout",
     "output_type": "stream",
     "text": [
      "(1, 'abc')\n",
      "(2, 'def')\n",
      "(3, 'ghi')\n",
      "(4, 'jkl')\n",
      "(5, 'mno')\n",
      "#######  Comprehension ###########\n",
      "{1: 'abc', 2: 'def', 3: 'ghi', 4: 'jkl', 5: 'mno'}\n",
      "{3: 'ghi', 4: 'jkl', 5: 'mno'}\n"
     ]
    }
   ],
   "source": [
    "d = {1 : 'abc', 2 : 'def', 3 : 'ghi', 4: 'jkl', 5 : 'mno'}\n",
    "for pair in d.items():\n",
    "    print(pair)\n",
    "\n",
    "print(\"#######  Comprehension ###########\")\n",
    "\n",
    "d1 = {k:v for k,v in d.items()}\n",
    "print(d1)\n",
    "\n",
    "d2 = {k:v for k,v in d.items() if k > 2}\n",
    "print(d2)"
   ]
  },
  {
   "cell_type": "code",
   "execution_count": 15,
   "metadata": {
    "ExecuteTime": {
     "end_time": "2022-02-02T19:24:13.756490Z",
     "start_time": "2022-02-02T19:24:13.744691Z"
    },
    "pycharm": {
     "name": "#%%\n"
    }
   },
   "outputs": [
    {
     "name": "stdout",
     "output_type": "stream",
     "text": [
      "{4: 'ghix', 5: 'jklx', 6: 'mnox'}\n"
     ]
    }
   ],
   "source": [
    "d = {1 : 'abc', 2 : 'def', 3 : 'ghi', 4: 'jkl', 5 : 'mno'}\n",
    "d1 = {k+1 : v + 'x' for k,v in d.items() if k > 2}\n",
    "print(d1)"
   ]
  },
  {
   "cell_type": "code",
   "execution_count": null,
   "metadata": {
    "pycharm": {
     "name": "#%%\n"
    }
   },
   "outputs": [],
   "source": []
  }
 ],
 "metadata": {
  "hide_input": false,
  "kernelspec": {
   "display_name": "Python 3",
   "language": "python",
   "name": "python3"
  },
  "language_info": {
   "codemirror_mode": {
    "name": "ipython",
    "version": 3
   },
   "file_extension": ".py",
   "mimetype": "text/x-python",
   "name": "python",
   "nbconvert_exporter": "python",
   "pygments_lexer": "ipython3",
   "version": "3.7.10"
  },
  "varInspector": {
   "cols": {
    "lenName": 16,
    "lenType": 16,
    "lenVar": 40
   },
   "kernels_config": {
    "python": {
     "delete_cmd_postfix": "",
     "delete_cmd_prefix": "del ",
     "library": "var_list.py",
     "varRefreshCmd": "print(var_dic_list())"
    },
    "r": {
     "delete_cmd_postfix": ") ",
     "delete_cmd_prefix": "rm(",
     "library": "var_list.r",
     "varRefreshCmd": "cat(var_dic_list()) "
    }
   },
   "types_to_exclude": [
    "module",
    "function",
    "builtin_function_or_method",
    "instance",
    "_Feature"
   ],
   "window_display": false
  }
 },
 "nbformat": 4,
 "nbformat_minor": 1
}