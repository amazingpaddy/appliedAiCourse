{
 "cells": [
  {
   "cell_type": "markdown",
   "source": [
    "# Dictionary is like HTable or HashMap in Java (key, value).  Dictionary is a unordered collections."
   ],
   "metadata": {
    "collapsed": false
   }
  },
  {
   "cell_type": "code",
   "execution_count": 33,
   "metadata": {
    "collapsed": true
   },
   "outputs": [
    {
     "name": "stdout",
     "output_type": "stream",
     "text": [
      "{}\n",
      "{}\n",
      "{1: 'abc', 2: 'def', 3: 'ghi'}\n",
      "{1: ['a', 1, 2.5]}\n",
      "{1: 'paddy', 2: 'gopi'}\n"
     ]
    }
   ],
   "source": [
    "empty_dict = {}\n",
    "another_empty_dict = dict()\n",
    "print(empty_dict)\n",
    "print(another_empty_dict)\n",
    "d = {1 : 'abc', 2 : 'def', 3 : 'ghi'}\n",
    "print(d)\n",
    "d = {1 : ['a', 1, 2.5]}\n",
    "print(d)\n",
    "\n",
    "#We can create a dictionary using list of tuples.\n",
    "d = dict([(1,\"paddy\"), (2, \"gopi\")])\n",
    "print(d)\n"
   ]
  },
  {
   "cell_type": "markdown",
   "source": [
    "# This will throw error since the second tuple has more than two elements."
   ],
   "metadata": {
    "collapsed": false
   }
  },
  {
   "cell_type": "code",
   "execution_count": 34,
   "outputs": [
    {
     "ename": "ValueError",
     "evalue": "dictionary update sequence element #1 has length 3; 2 is required",
     "output_type": "error",
     "traceback": [
      "\u001B[1;31m---------------------------------------------------------------------------\u001B[0m",
      "\u001B[1;31mValueError\u001B[0m                                Traceback (most recent call last)",
      "\u001B[1;32m~\\AppData\\Local\\Temp/ipykernel_14164/4050608600.py\u001B[0m in \u001B[0;36m<module>\u001B[1;34m\u001B[0m\n\u001B[1;32m----> 1\u001B[1;33m \u001B[0md\u001B[0m \u001B[1;33m=\u001B[0m \u001B[0mdict\u001B[0m\u001B[1;33m(\u001B[0m\u001B[1;33m[\u001B[0m\u001B[1;33m(\u001B[0m\u001B[1;36m1\u001B[0m\u001B[1;33m,\u001B[0m\u001B[1;34m\"paddy\"\u001B[0m\u001B[1;33m)\u001B[0m\u001B[1;33m,\u001B[0m \u001B[1;33m(\u001B[0m\u001B[1;36m2\u001B[0m\u001B[1;33m,\u001B[0m \u001B[1;34m\"gopi\"\u001B[0m\u001B[1;33m,\u001B[0m \u001B[1;34m\"uma\"\u001B[0m\u001B[1;33m)\u001B[0m\u001B[1;33m]\u001B[0m\u001B[1;33m)\u001B[0m\u001B[1;33m\u001B[0m\u001B[1;33m\u001B[0m\u001B[0m\n\u001B[0m\u001B[0;32m      2\u001B[0m \u001B[0mprint\u001B[0m\u001B[1;33m(\u001B[0m\u001B[0md\u001B[0m\u001B[1;33m)\u001B[0m\u001B[1;33m\u001B[0m\u001B[1;33m\u001B[0m\u001B[0m\n",
      "\u001B[1;31mValueError\u001B[0m: dictionary update sequence element #1 has length 3; 2 is required"
     ]
    }
   ],
   "source": [
    "d = dict([(1,\"paddy\"), (2, \"gopi\", \"uma\")])\n",
    "print(d)"
   ],
   "metadata": {
    "collapsed": false,
    "pycharm": {
     "name": "#%%\n"
    }
   }
  },
  {
   "cell_type": "markdown",
   "source": [
    "# Nested Dictionary"
   ],
   "metadata": {
    "collapsed": false
   }
  },
  {
   "cell_type": "code",
   "execution_count": 35,
   "outputs": [
    {
     "name": "stdout",
     "output_type": "stream",
     "text": [
      "{1: 'a', 'a': {1: 'a'}}\n"
     ]
    }
   ],
   "source": [
    "d = {1 : \"a\", \"a\" : {1 : \"a\"}}\n",
    "print(d)"
   ],
   "metadata": {
    "collapsed": false,
    "pycharm": {
     "name": "#%%\n"
    }
   }
  },
  {
   "cell_type": "code",
   "execution_count": 36,
   "outputs": [
    {
     "name": "stdout",
     "output_type": "stream",
     "text": [
      "def\n",
      "def\n"
     ]
    },
    {
     "ename": "KeyError",
     "evalue": "4",
     "output_type": "error",
     "traceback": [
      "\u001B[1;31m---------------------------------------------------------------------------\u001B[0m",
      "\u001B[1;31mKeyError\u001B[0m                                  Traceback (most recent call last)",
      "\u001B[1;32m~\\AppData\\Local\\Temp/ipykernel_14164/1872633282.py\u001B[0m in \u001B[0;36m<module>\u001B[1;34m\u001B[0m\n\u001B[0;32m      3\u001B[0m \u001B[0mprint\u001B[0m\u001B[1;33m(\u001B[0m\u001B[0md\u001B[0m\u001B[1;33m.\u001B[0m\u001B[0mget\u001B[0m\u001B[1;33m(\u001B[0m\u001B[1;36m2\u001B[0m\u001B[1;33m)\u001B[0m\u001B[1;33m)\u001B[0m\u001B[1;33m\u001B[0m\u001B[1;33m\u001B[0m\u001B[0m\n\u001B[0;32m      4\u001B[0m \u001B[1;33m\u001B[0m\u001B[0m\n\u001B[1;32m----> 5\u001B[1;33m \u001B[0mprint\u001B[0m\u001B[1;33m(\u001B[0m\u001B[0md\u001B[0m\u001B[1;33m[\u001B[0m\u001B[1;36m4\u001B[0m\u001B[1;33m]\u001B[0m\u001B[1;33m)\u001B[0m  \u001B[1;31m#It will throw KeyError\u001B[0m\u001B[1;33m\u001B[0m\u001B[1;33m\u001B[0m\u001B[0m\n\u001B[0m",
      "\u001B[1;31mKeyError\u001B[0m: 4"
     ]
    }
   ],
   "source": [
    "d = {1 : 'abc', 2 : 'def', 3 : 'ghi'}\n",
    "print(d[2])\n",
    "print(d.get(2))\n",
    "\n",
    "print(d[4])  #It will throw KeyError"
   ],
   "metadata": {
    "collapsed": false,
    "pycharm": {
     "name": "#%%\n"
    }
   }
  },
  {
   "cell_type": "code",
   "execution_count": 37,
   "outputs": [
    {
     "name": "stdout",
     "output_type": "stream",
     "text": [
      "None\n"
     ]
    }
   ],
   "source": [
    "print(d.get(4)) #This wont throw any error, just print None. (Kind of null in Java)"
   ],
   "metadata": {
    "collapsed": false,
    "pycharm": {
     "name": "#%%\n"
    }
   }
  },
  {
   "cell_type": "code",
   "execution_count": 38,
   "outputs": [
    {
     "name": "stdout",
     "output_type": "stream",
     "text": [
      "{1: 'xyz', 2: 'def', 3: 'ghi'}\n",
      "{1: 'xyz', 2: 'def', 3: 'ghi', 4: 'jkl'}\n"
     ]
    }
   ],
   "source": [
    "d = {1 : 'abc', 2 : 'def', 3 : 'ghi'}\n",
    "d[1] = \"xyz\"\n",
    "print(d)\n",
    "d[4] = 'jkl'  #Adding a new value\n",
    "print(d)"
   ],
   "metadata": {
    "collapsed": false,
    "pycharm": {
     "name": "#%%\n"
    }
   }
  },
  {
   "cell_type": "code",
   "execution_count": 39,
   "outputs": [
    {
     "name": "stdout",
     "output_type": "stream",
     "text": [
      "ghi\n"
     ]
    },
    {
     "ename": "KeyError",
     "evalue": "5",
     "output_type": "error",
     "traceback": [
      "\u001B[1;31m---------------------------------------------------------------------------\u001B[0m",
      "\u001B[1;31mKeyError\u001B[0m                                  Traceback (most recent call last)",
      "\u001B[1;32m~\\AppData\\Local\\Temp/ipykernel_14164/1859665559.py\u001B[0m in \u001B[0;36m<module>\u001B[1;34m\u001B[0m\n\u001B[0;32m      2\u001B[0m \u001B[0mprint\u001B[0m\u001B[1;33m(\u001B[0m\u001B[0md\u001B[0m\u001B[1;33m.\u001B[0m\u001B[0mpop\u001B[0m\u001B[1;33m(\u001B[0m\u001B[1;36m3\u001B[0m\u001B[1;33m)\u001B[0m\u001B[1;33m)\u001B[0m  \u001B[1;31m#This will remove the keyValue pair and return the value.\u001B[0m\u001B[1;33m\u001B[0m\u001B[1;33m\u001B[0m\u001B[0m\n\u001B[0;32m      3\u001B[0m \u001B[1;33m\u001B[0m\u001B[0m\n\u001B[1;32m----> 4\u001B[1;33m \u001B[0mprint\u001B[0m\u001B[1;33m(\u001B[0m\u001B[0md\u001B[0m\u001B[1;33m.\u001B[0m\u001B[0mpop\u001B[0m\u001B[1;33m(\u001B[0m\u001B[1;36m5\u001B[0m\u001B[1;33m)\u001B[0m\u001B[1;33m)\u001B[0m  \u001B[1;31m#This will throw error\u001B[0m\u001B[1;33m\u001B[0m\u001B[1;33m\u001B[0m\u001B[0m\n\u001B[0m",
      "\u001B[1;31mKeyError\u001B[0m: 5"
     ]
    }
   ],
   "source": [
    "d = {1 : 'abc', 2 : 'def', 3 : 'ghi'}\n",
    "print(d.pop(3))  #This will remove the keyValue pair and return the value.\n",
    "\n",
    "print(d.pop(5))  #This will throw error"
   ],
   "metadata": {
    "collapsed": false,
    "pycharm": {
     "name": "#%%\n"
    }
   }
  },
  {
   "cell_type": "code",
   "execution_count": 40,
   "outputs": [
    {
     "name": "stdout",
     "output_type": "stream",
     "text": [
      "{1: 'abc', 2: 'def'}\n",
      "{1: 'abc', 3: 'ghi'}\n"
     ]
    },
    {
     "ename": "KeyError",
     "evalue": "5",
     "output_type": "error",
     "traceback": [
      "\u001B[1;31m---------------------------------------------------------------------------\u001B[0m",
      "\u001B[1;31mKeyError\u001B[0m                                  Traceback (most recent call last)",
      "\u001B[1;32m~\\AppData\\Local\\Temp/ipykernel_14164/1932381082.py\u001B[0m in \u001B[0;36m<module>\u001B[1;34m\u001B[0m\n\u001B[0;32m      8\u001B[0m \u001B[0mprint\u001B[0m\u001B[1;33m(\u001B[0m\u001B[0md\u001B[0m\u001B[1;33m)\u001B[0m\u001B[1;33m\u001B[0m\u001B[1;33m\u001B[0m\u001B[0m\n\u001B[0;32m      9\u001B[0m \u001B[1;33m\u001B[0m\u001B[0m\n\u001B[1;32m---> 10\u001B[1;33m \u001B[1;32mdel\u001B[0m \u001B[0md\u001B[0m\u001B[1;33m[\u001B[0m\u001B[1;36m5\u001B[0m\u001B[1;33m]\u001B[0m  \u001B[1;31m#Returns Error since no key found\u001B[0m\u001B[1;33m\u001B[0m\u001B[1;33m\u001B[0m\u001B[0m\n\u001B[0m",
      "\u001B[1;31mKeyError\u001B[0m: 5"
     ]
    }
   ],
   "source": [
    "d = {1 : 'abc', 2 : 'def', 3 : 'ghi'}\n",
    "d.popitem() #Removes random key value pairs\n",
    "print(d)\n",
    "\n",
    "d = {1 : 'abc', 2 : 'def', 3 : 'ghi'}\n",
    "del d[2]  #delete the specific keyvalue pair and return nothing\n",
    "\n",
    "print(d)\n",
    "\n",
    "del d[5]  #Returns Error since no key found"
   ],
   "metadata": {
    "collapsed": false,
    "pycharm": {
     "name": "#%%\n"
    }
   }
  },
  {
   "cell_type": "code",
   "execution_count": 41,
   "outputs": [
    {
     "name": "stdout",
     "output_type": "stream",
     "text": [
      "{1: 'abc', 2: 'def', 3: 'ghi'}\n",
      "{}\n"
     ]
    }
   ],
   "source": [
    "d = {1 : 'abc', 2 : 'def', 3 : 'ghi'}\n",
    "print(d)\n",
    "d.clear()\n",
    "print(d)\n",
    "\n",
    "del d  #delete whole dictionary"
   ],
   "metadata": {
    "collapsed": false,
    "pycharm": {
     "name": "#%%\n"
    }
   }
  },
  {
   "cell_type": "code",
   "execution_count": 42,
   "outputs": [
    {
     "name": "stdout",
     "output_type": "stream",
     "text": [
      "{1: 'abc', 2: 'def', 3: 'ghi'}\n",
      "{1: 'abc', 2: 'def', 3: 'ghi'}\n",
      "{1: 'abc', 2: 'def', 3: 'ghi'}\n",
      "{1: 'abc', 2: 'def', 3: 'ghi', 4: 'xyz'}\n"
     ]
    }
   ],
   "source": [
    "d = {1 : 'abc', 2 : 'def', 3 : 'ghi'}\n",
    "d1 = d.copy()\n",
    "print(d)\n",
    "print(d1)\n",
    "\n",
    "d1[4] = \"xyz\"\n",
    "\n",
    "print(d)\n",
    "print(d1)"
   ],
   "metadata": {
    "collapsed": false,
    "pycharm": {
     "name": "#%%\n"
    }
   }
  },
  {
   "cell_type": "code",
   "execution_count": 43,
   "outputs": [
    {
     "name": "stdout",
     "output_type": "stream",
     "text": [
      "{1: 'same_value', 2: 'same_value', 3: 'same_value'}\n"
     ]
    }
   ],
   "source": [
    "d = {}.fromkeys([1, 2, 3], \"same_value\")\n",
    "print(d)"
   ],
   "metadata": {
    "collapsed": false,
    "pycharm": {
     "name": "#%%\n"
    }
   }
  },
  {
   "cell_type": "code",
   "execution_count": 44,
   "outputs": [
    {
     "name": "stdout",
     "output_type": "stream",
     "text": [
      "dict_items([(1, 'abc'), (2, 'def'), (3, 'ghi')])\n",
      "dict_keys([1, 2, 3])\n",
      "dict_values(['abc', 'def', 'ghi'])\n"
     ]
    }
   ],
   "source": [
    "d = {1 : 'abc', 2 : 'def', 3 : 'ghi'}\n",
    "print(d.items())\n",
    "print(d.keys())\n",
    "print(d.values())"
   ],
   "metadata": {
    "collapsed": false,
    "pycharm": {
     "name": "#%%\n"
    }
   }
  },
  {
   "cell_type": "code",
   "execution_count": 45,
   "outputs": [
    {
     "name": "stdout",
     "output_type": "stream",
     "text": [
      "['__class__', '__contains__', '__delattr__', '__delitem__', '__dir__', '__doc__', '__eq__', '__format__', '__ge__', '__getattribute__', '__getitem__', '__gt__', '__hash__', '__init__', '__init_subclass__', '__iter__', '__le__', '__len__', '__lt__', '__ne__', '__new__', '__reduce__', '__reduce_ex__', '__repr__', '__reversed__', '__setattr__', '__setitem__', '__sizeof__', '__str__', '__subclasshook__', 'clear', 'copy', 'fromkeys', 'get', 'items', 'keys', 'pop', 'popitem', 'setdefault', 'update', 'values']\n"
     ]
    }
   ],
   "source": [
    "d = {}\n",
    "print(dir(d)) #Prints all the functions of dictionary"
   ],
   "metadata": {
    "collapsed": false,
    "pycharm": {
     "name": "#%%\n"
    }
   }
  },
  {
   "cell_type": "markdown",
   "source": [
    "# Dictionary comprehension"
   ],
   "metadata": {
    "collapsed": false
   }
  },
  {
   "cell_type": "code",
   "execution_count": 46,
   "outputs": [
    {
     "name": "stdout",
     "output_type": "stream",
     "text": [
      "(1, 'abc')\n",
      "(2, 'def')\n",
      "(3, 'ghi')\n",
      "(4, 'jkl')\n",
      "(5, 'mno')\n",
      "#######  Comprehension ###########\n",
      "{1: 'abc', 2: 'def', 3: 'ghi', 4: 'jkl', 5: 'mno'}\n",
      "{3: 'ghi', 4: 'jkl', 5: 'mno'}\n"
     ]
    }
   ],
   "source": [
    "d = {1 : 'abc', 2 : 'def', 3 : 'ghi', 4: 'jkl', 5 : 'mno'}\n",
    "for pair in d.items():\n",
    "    print(pair)\n",
    "\n",
    "print(\"#######  Comprehension ###########\")\n",
    "\n",
    "d1 = {k:v for k,v in d.items()}\n",
    "print(d1)\n",
    "\n",
    "d2 = {k:v for k,v in d.items() if k > 2}\n",
    "print(d2)"
   ],
   "metadata": {
    "collapsed": false,
    "pycharm": {
     "name": "#%%\n"
    }
   }
  },
  {
   "cell_type": "code",
   "execution_count": 47,
   "outputs": [
    {
     "name": "stdout",
     "output_type": "stream",
     "text": [
      "{4: 'ghix', 5: 'jklx', 6: 'mnox'}\n"
     ]
    }
   ],
   "source": [
    "d = {1 : 'abc', 2 : 'def', 3 : 'ghi', 4: 'jkl', 5 : 'mno'}\n",
    "d1 = {k+1 : v + 'x' for k,v in d.items() if k > 2}\n",
    "print(d1)"
   ],
   "metadata": {
    "collapsed": false,
    "pycharm": {
     "name": "#%%\n"
    }
   }
  },
  {
   "cell_type": "code",
   "execution_count": null,
   "outputs": [],
   "source": [],
   "metadata": {
    "collapsed": false,
    "pycharm": {
     "name": "#%%\n"
    }
   }
  }
 ],
 "metadata": {
  "kernelspec": {
   "display_name": "Python 3",
   "language": "python",
   "name": "python3"
  },
  "language_info": {
   "codemirror_mode": {
    "name": "ipython",
    "version": 2
   },
   "file_extension": ".py",
   "mimetype": "text/x-python",
   "name": "python",
   "nbconvert_exporter": "python",
   "pygments_lexer": "ipython2",
   "version": "2.7.6"
  }
 },
 "nbformat": 4,
 "nbformat_minor": 0
}