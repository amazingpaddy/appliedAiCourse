{
 "cells": [
  {
   "cell_type": "code",
   "execution_count": 1,
   "metadata": {
    "collapsed": true
   },
   "outputs": [
    {
     "data": {
      "text/plain": "'\\nList -> mutable (changeable), but tuble cannot be modified once created. You cannot add or remove elements\\nfrom tuple once created.\\n'"
     },
     "execution_count": 1,
     "metadata": {},
     "output_type": "execute_result"
    }
   ],
   "source": [
    "'''\n",
    "List -> mutable (changeable), but tuble cannot be modified once created. You cannot add or remove elements\n",
    "from tuple once created.\n",
    "'''"
   ]
  },
  {
   "cell_type": "code",
   "execution_count": 2,
   "outputs": [
    {
     "name": "stdout",
     "output_type": "stream",
     "text": [
      "()\n",
      "(1, 2, 3)\n",
      "(1, 'paddy', 2.3)\n",
      "((1, 'a'), 6.3, ['r', 7, 2.6])\n"
     ]
    }
   ],
   "source": [
    "empty_tuple = ()\n",
    "\n",
    "int_tuple = (1, 2, 3)\n",
    "\n",
    "multi_tuple = (1, \"paddy\", 2.3)\n",
    "\n",
    "nested_tuple = ((1, \"a\"), 6.3, [\"r\", 7, 2.6])\n",
    "\n",
    "print(empty_tuple)\n",
    "print(int_tuple)\n",
    "print(multi_tuple)\n",
    "print(nested_tuple)"
   ],
   "metadata": {
    "collapsed": false,
    "pycharm": {
     "name": "#%%\n"
    }
   }
  },
  {
   "cell_type": "code",
   "execution_count": 4,
   "outputs": [
    {
     "name": "stdout",
     "output_type": "stream",
     "text": [
      "<class 'str'>\n",
      "<class 'tuple'>\n",
      "<class 'tuple'>\n"
     ]
    }
   ],
   "source": [
    "t = ('Paddy')\n",
    "print(type(t))\n",
    "t = (\"Paddy\",)\n",
    "print(type(t))\n",
    "t = \"Paddy\",\n",
    "print(type(t))"
   ],
   "metadata": {
    "collapsed": false,
    "pycharm": {
     "name": "#%%\n"
    }
   }
  },
  {
   "cell_type": "markdown",
   "source": [],
   "metadata": {
    "collapsed": false
   }
  },
  {
   "cell_type": "code",
   "execution_count": 7,
   "outputs": [
    {
     "name": "stdout",
     "output_type": "stream",
     "text": [
      "gopi\n",
      "2\n",
      "3\n"
     ]
    }
   ],
   "source": [
    "t = (\"Paddy\", \"naveen\", \"uma\", \"gopi\", \"meera\", (1, 2), [3, 4, 5])\n",
    "print(t[3])\n",
    "\n",
    "print(t[5][1])\n",
    "print(t[6][0])"
   ],
   "metadata": {
    "collapsed": false,
    "pycharm": {
     "name": "#%%\n"
    }
   }
  },
  {
   "cell_type": "markdown",
   "source": [
    "<h3>You cannot modify the elements inside the tuple, but if the element is list and you can modify it</h3>"
   ],
   "metadata": {
    "collapsed": false
   }
  },
  {
   "cell_type": "code",
   "execution_count": 10,
   "outputs": [
    {
     "name": "stdout",
     "output_type": "stream",
     "text": [
      "('Paddy', 'naveen', 'uma', 'gopi', 'meera', (1, 2), [3, 7, 5])\n",
      "modified list ->  [3, 7, 8]\n",
      "tuple also get modified since its also change as its reference -->  ('Paddy', 'naveen', 'uma', 'gopi', 'meera', (1, 2), [3, 7, 8])\n"
     ]
    },
    {
     "ename": "TypeError",
     "evalue": "'tuple' object does not support item assignment",
     "output_type": "error",
     "traceback": [
      "\u001B[1;31m---------------------------------------------------------------------------\u001B[0m",
      "\u001B[1;31mTypeError\u001B[0m                                 Traceback (most recent call last)",
      "\u001B[1;32m~\\AppData\\Local\\Temp/ipykernel_8948/1173454899.py\u001B[0m in \u001B[0;36m<module>\u001B[1;34m\u001B[0m\n\u001B[0;32m      9\u001B[0m \u001B[0mprint\u001B[0m\u001B[1;33m(\u001B[0m\u001B[1;34m\"tuple also get modified since its also change as its reference --> \"\u001B[0m\u001B[1;33m,\u001B[0m \u001B[0mt\u001B[0m\u001B[1;33m)\u001B[0m\u001B[1;33m\u001B[0m\u001B[1;33m\u001B[0m\u001B[0m\n\u001B[0;32m     10\u001B[0m \u001B[1;33m\u001B[0m\u001B[0m\n\u001B[1;32m---> 11\u001B[1;33m \u001B[0mt\u001B[0m\u001B[1;33m[\u001B[0m\u001B[1;36m3\u001B[0m\u001B[1;33m]\u001B[0m \u001B[1;33m=\u001B[0m \u001B[1;34m\"Rajini\"\u001B[0m  \u001B[1;31m#Wont work\u001B[0m\u001B[1;33m\u001B[0m\u001B[1;33m\u001B[0m\u001B[0m\n\u001B[0m",
      "\u001B[1;31mTypeError\u001B[0m: 'tuple' object does not support item assignment"
     ]
    }
   ],
   "source": [
    "t = (\"Paddy\", \"naveen\", \"uma\", \"gopi\", \"meera\", (1, 2), [3, 4, 5])\n",
    "\n",
    "t[6][1] = 7  #Will work since 6th element of tuple is list\n",
    "print(t)\n",
    "\n",
    "lst = t[6]\n",
    "lst[2] = 8\n",
    "print(\"modified list -> \", lst)\n",
    "print(\"tuple also get modified since its also change as its reference --> \", t)\n",
    "\n",
    "t[3] = \"Rajini\"  #Wont work will throw error."
   ],
   "metadata": {
    "collapsed": false,
    "pycharm": {
     "name": "#%%\n"
    }
   }
  },
  {
   "cell_type": "code",
   "execution_count": 15,
   "outputs": [
    {
     "name": "stdout",
     "output_type": "stream",
     "text": [
      "(1, 2, 3, 'Paddy', 6, 7, 1, 2)\n",
      "('Paddy', 'Paddy', 'Paddy', 'Paddy', 'Paddy', 'Paddy')\n"
     ]
    }
   ],
   "source": [
    "t = (1, 2, 3) + (\"Paddy\", 6, 7) + (1, 2)\n",
    "print(t)\n",
    "\n",
    "t = (\"Paddy\",) * 6\n",
    "print(t)"
   ],
   "metadata": {
    "collapsed": false,
    "pycharm": {
     "name": "#%%\n"
    }
   }
  },
  {
   "cell_type": "code",
   "execution_count": 17,
   "outputs": [
    {
     "name": "stdout",
     "output_type": "stream",
     "text": [
      "2\n",
      "4\n"
     ]
    }
   ],
   "source": [
    "t = (1, 2, 3)\n",
    "del t  # To delete a tuple\n",
    "\n",
    "t = (1, 1, 2, 2, 3, 3)\n",
    "print(t.count(1))\n",
    "\n",
    "print(t.index(3)) #prints index of the first occurance of 3"
   ],
   "metadata": {
    "collapsed": false,
    "pycharm": {
     "name": "#%%\n"
    }
   }
  },
  {
   "cell_type": "code",
   "execution_count": 18,
   "outputs": [
    {
     "name": "stdout",
     "output_type": "stream",
     "text": [
      "True\n",
      "False\n"
     ]
    }
   ],
   "source": [
    "t = (4, 7, 9)\n",
    "\n",
    "print(7 in t)\n",
    "print(6 in t)"
   ],
   "metadata": {
    "collapsed": false,
    "pycharm": {
     "name": "#%%\n"
    }
   }
  },
  {
   "cell_type": "code",
   "execution_count": 19,
   "outputs": [
    {
     "name": "stdout",
     "output_type": "stream",
     "text": [
      "------ tuple ---------\n",
      "1\n",
      "10\n",
      "55\n",
      "----- list ------\n",
      "1\n",
      "10\n",
      "55\n"
     ]
    }
   ],
   "source": [
    "t = (1, 2, 3, 4, 5, 6, 7, 8, 9, 10)\n",
    "l = [1, 2, 3, 4, 5, 6, 7, 8, 9, 10]\n",
    "print(\"------ tuple ---------\")\n",
    "print(min(t))\n",
    "print(max(t))\n",
    "print(sum(t))\n",
    "print(\"----- list ------\")\n",
    "print(min(l))\n",
    "print(max(l))\n",
    "print(sum(l))"
   ],
   "metadata": {
    "collapsed": false,
    "pycharm": {
     "name": "#%%\n"
    }
   }
  },
  {
   "cell_type": "code",
   "execution_count": null,
   "outputs": [],
   "source": [],
   "metadata": {
    "collapsed": false,
    "pycharm": {
     "name": "#%%\n"
    }
   }
  }
 ],
 "metadata": {
  "kernelspec": {
   "display_name": "Python 3",
   "language": "python",
   "name": "python3"
  },
  "language_info": {
   "codemirror_mode": {
    "name": "ipython",
    "version": 2
   },
   "file_extension": ".py",
   "mimetype": "text/x-python",
   "name": "python",
   "nbconvert_exporter": "python",
   "pygments_lexer": "ipython2",
   "version": "2.7.6"
  }
 },
 "nbformat": 4,
 "nbformat_minor": 0
}