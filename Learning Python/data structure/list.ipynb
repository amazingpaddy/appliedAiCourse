{
 "cells": [
  {
   "cell_type": "code",
   "execution_count": 67,
   "metadata": {
    "collapsed": true
   },
   "outputs": [
    {
     "name": "stdout",
     "output_type": "stream",
     "text": [
      "['Paddy', 1, 1.24]\n"
     ]
    }
   ],
   "source": [
    "emptyList = []\n",
    "listWithOnlyStrings = [\"Paddy\", \"Uma\"]\n",
    "listWithIntegers = [1, 2]\n",
    "listOfLists = [[1, 2], [2, 3]]\n",
    "listWithDiffTypes = [\"Paddy\", 1, 1.24]\n",
    "\n",
    "print(listWithDiffTypes)"
   ]
  },
  {
   "cell_type": "markdown",
   "metadata": {
    "collapsed": false
   },
   "source": []
  },
  {
   "cell_type": "code",
   "execution_count": 68,
   "metadata": {
    "collapsed": false,
    "pycharm": {
     "name": "#%%\n"
    }
   },
   "outputs": [
    {
     "name": "stdout",
     "output_type": "stream",
     "text": [
      "Size of the list - 3\n"
     ]
    }
   ],
   "source": [
    "print(\"Size of the list - {}\".format(len(listWithDiffTypes)))"
   ]
  },
  {
   "cell_type": "code",
   "execution_count": 69,
   "metadata": {
    "collapsed": false,
    "pycharm": {
     "name": "#%%\n"
    }
   },
   "outputs": [
    {
     "name": "stdout",
     "output_type": "stream",
     "text": [
      "[1, 2, 4]\n",
      "[1, 2, 3, 4]\n"
     ]
    }
   ],
   "source": [
    "listWithIntegers.append(4)\n",
    "print(listWithIntegers)\n",
    "\n",
    "listWithIntegers.insert(2, 3)\n",
    "print(listWithIntegers)\n"
   ]
  },
  {
   "cell_type": "code",
   "execution_count": 70,
   "metadata": {
    "collapsed": false,
    "pycharm": {
     "name": "#%%\n"
    }
   },
   "outputs": [
    {
     "name": "stdout",
     "output_type": "stream",
     "text": [
      "['a', 'b', 'c']\n"
     ]
    }
   ],
   "source": [
    "lst = [\"a\", \"b\", \"c\", \"z\"]\n",
    "lst.remove(\"z\")\n",
    "print(lst)"
   ]
  },
  {
   "cell_type": "code",
   "execution_count": 71,
   "metadata": {
    "collapsed": false,
    "pycharm": {
     "name": "#%%\n"
    }
   },
   "outputs": [
    {
     "name": "stdout",
     "output_type": "stream",
     "text": [
      "['one', 'two', 'three', ['five', 'six']]\n",
      "['one', 'two', 'three', ['five', 'six'], 'five', 'six']\n"
     ]
    }
   ],
   "source": [
    "lst1 = [\"one\", \"two\", \"three\"]\n",
    "lst2 = [\"five\", \"six\"]\n",
    "\n",
    "lst1.append(lst2)\n",
    "print(lst1)\n",
    "lst1.extend(lst2)\n",
    "print(lst1)\n",
    "\n"
   ]
  },
  {
   "cell_type": "code",
   "execution_count": 72,
   "metadata": {
    "collapsed": false,
    "pycharm": {
     "name": "#%%\n"
    }
   },
   "outputs": [
    {
     "name": "stdout",
     "output_type": "stream",
     "text": [
      "['one', 'two', 'four', 'five']\n",
      "Popped element - two\n",
      "['one', 'four', 'five']\n",
      "['one', 'five']\n"
     ]
    }
   ],
   "source": [
    "lst1 = [\"one\", \"two\", \"three\", \"four\", \"five\"]\n",
    "del lst1[2]\n",
    "print(lst1)\n",
    "\n",
    "a = lst1.pop(1)\n",
    "print(\"Popped element - {}\".format(a))\n",
    "print(lst1)\n",
    "\n",
    "lst1.remove(\"four\")\n",
    "print(lst1)"
   ]
  },
  {
   "cell_type": "code",
   "execution_count": 73,
   "outputs": [
    {
     "name": "stdout",
     "output_type": "stream",
     "text": [
      "Existing..\n",
      "Not Found\n"
     ]
    }
   ],
   "source": [
    "lst = [\"one\", 1, \"x\", 100, 1.25]\n",
    "\n",
    "if \"one\" in lst:\n",
    "    print(\"Existing..\")\n",
    "\n",
    "if 3 not in lst:\n",
    "    print(\"Not Found\")"
   ],
   "metadata": {
    "collapsed": false,
    "pycharm": {
     "name": "#%%\n"
    }
   }
  },
  {
   "cell_type": "code",
   "execution_count": 74,
   "outputs": [
    {
     "name": "stdout",
     "output_type": "stream",
     "text": [
      "[1.25, 100, 'x', 1, 'one']\n"
     ]
    }
   ],
   "source": [
    "lst = [\"one\", 1, \"x\", 100, 1.25]\n",
    "lst.reverse()\n",
    "print(lst)"
   ],
   "metadata": {
    "collapsed": false,
    "pycharm": {
     "name": "#%%\n"
    }
   }
  },
  {
   "cell_type": "code",
   "execution_count": 75,
   "outputs": [
    {
     "name": "stdout",
     "output_type": "stream",
     "text": [
      "['five', 'four', 'one', 'three', 'two']\n",
      "Sorted list -->  [-17, -15, -9, 0, 1, 6, 11, 12, 25, 1000]\n",
      "Original list --->  [1000, -15, -17, 0, 25, 6, 12, 11, -9, 1]\n",
      "Reverse Sorted list -->  [1000, 25, 12, 11, 6, 1, 0, -9, -15, -17]\n",
      "Original list after calling sort function on list --->  [-17, -15, -9, 0, 1, 6, 11, 12, 25, 1000]\n",
      "Original list after calling sort function on list reverse --->  [1000, 25, 12, 11, 6, 1, 0, -9, -15, -17]\n"
     ]
    }
   ],
   "source": [
    "lst = [\"one\", \"two\", \"three\", \"four\", \"five\"]\n",
    "sorted_list = sorted(lst)\n",
    "print(sorted_list)\n",
    "\n",
    "lst1 = [1000, -15, -17, 0, 25, 6, 12, 11, -9, 1]\n",
    "sorted_list = sorted(lst1)\n",
    "print(\"Sorted list --> \", sorted_list)\n",
    "print(\"Original list ---> \", lst1)\n",
    "\n",
    "sorted_list_rev = sorted(lst1, reverse=True)\n",
    "print(\"Reverse Sorted list --> \", sorted_list_rev)\n",
    "\n",
    "lst1.sort()\n",
    "print(\"Original list after calling sort function on list ---> \", lst1)\n",
    "lst1.sort(reverse=True)\n",
    "print(\"Original list after calling sort function on list reverse ---> \", lst1)"
   ],
   "metadata": {
    "collapsed": false,
    "pycharm": {
     "name": "#%%\n"
    }
   }
  },
  {
   "cell_type": "code",
   "execution_count": 76,
   "outputs": [
    {
     "name": "stdout",
     "output_type": "stream",
     "text": [
      "Original list - >  ['one', 'two', 'three', 'four', 'five', 'six']\n",
      "referenced list - >  ['one', 'two', 'three', 'four', 'five', 'six']\n"
     ]
    }
   ],
   "source": [
    "lst = [\"one\", \"two\", \"three\", \"four\", \"five\"]\n",
    "abc = lst\n",
    "abc.append(\"six\")\n",
    "print(\"Original list - > \", lst)\n",
    "print(\"referenced list - > \", abc)"
   ],
   "metadata": {
    "collapsed": false,
    "pycharm": {
     "name": "#%%\n"
    }
   }
  },
  {
   "cell_type": "code",
   "execution_count": 77,
   "outputs": [
    {
     "name": "stdout",
     "output_type": "stream",
     "text": [
      "['one', 'two', 'three', 'four', 'five', 'six']\n",
      "['This', 'is', 'Applied', 'AI', 'course']\n"
     ]
    }
   ],
   "source": [
    "s = \"one,two,three,four,five,six\"\n",
    "slist = s.split(\",\")\n",
    "print(slist)\n",
    "\n",
    "s1 = \"This is Applied AI course\"\n",
    "slist = s1.split()\n",
    "print(slist)"
   ],
   "metadata": {
    "collapsed": false,
    "pycharm": {
     "name": "#%%\n"
    }
   }
  },
  {
   "cell_type": "code",
   "execution_count": 78,
   "outputs": [
    {
     "name": "stdout",
     "output_type": "stream",
     "text": [
      "five\n",
      "two\n"
     ]
    }
   ],
   "source": [
    "lst = [\"one\", \"two\", \"three\", \"four\", \"five\"]\n",
    "# index -1 means its last element. -1, -2 so on.\n",
    "print(lst[-1])\n",
    "print(lst[-4])"
   ],
   "metadata": {
    "collapsed": false,
    "pycharm": {
     "name": "#%%\n"
    }
   }
  },
  {
   "cell_type": "code",
   "execution_count": 79,
   "outputs": [
    {
     "name": "stdout",
     "output_type": "stream",
     "text": [
      "[10, 20, 30, 40, 50, 60, 70, 80, 90, 100]\n",
      "[10, 20, 30, 40]\n",
      "[30, 40, 50, 60, 70]\n",
      "[30, 50, 70]\n",
      "[10, 30, 50, 70]\n",
      "[30, 50, 70, 90]\n"
     ]
    }
   ],
   "source": [
    "#List Slicing..\n",
    "lst = [10, 20, 30, 40, 50, 60, 70, 80, 90, 100]\n",
    "#print everything\n",
    "print(lst[:])\n",
    "\n",
    "#Print first 4 elements\n",
    "print(lst[:4])\n",
    "\n",
    "#print from 3rd element to 7th element\n",
    "print(lst[2:7])\n",
    "\n",
    "# lst[startIndex : endIndex : step size]\n",
    "print(lst[2 : 7 : 2])\n",
    "\n",
    "print(lst[ : 7 : 2])\n",
    "\n",
    "print(lst[2 :  : 2])"
   ],
   "metadata": {
    "collapsed": false,
    "pycharm": {
     "name": "#%%\n"
    }
   }
  },
  {
   "cell_type": "code",
   "execution_count": 80,
   "outputs": [
    {
     "name": "stdout",
     "output_type": "stream",
     "text": [
      "['one', 'two', 4, 5]\n"
     ]
    }
   ],
   "source": [
    "lst = [\"one\", \"two\"]\n",
    "lst1 = lst + [4, 5]\n",
    "print(lst1)"
   ],
   "metadata": {
    "collapsed": false,
    "pycharm": {
     "name": "#%%\n"
    }
   }
  },
  {
   "cell_type": "code",
   "execution_count": 81,
   "outputs": [
    {
     "name": "stdout",
     "output_type": "stream",
     "text": [
      "4\n"
     ]
    }
   ],
   "source": [
    "lst = [1 , 2, 1, 5, 7, 7, 1, 5, 1, \"one\"]\n",
    "print(lst.count(1))"
   ],
   "metadata": {
    "collapsed": false,
    "pycharm": {
     "name": "#%%\n"
    }
   }
  },
  {
   "cell_type": "code",
   "execution_count": 82,
   "outputs": [
    {
     "name": "stdout",
     "output_type": "stream",
     "text": [
      "[0, 1, 4, 9, 16, 25, 36, 49, 64, 81]\n",
      "[0, 1, 4, 9, 16, 25, 36, 49, 64, 81]\n"
     ]
    }
   ],
   "source": [
    "squares = []\n",
    "for i in range(10):\n",
    "    squares.append(i ** 2)\n",
    "print(squares)\n",
    "\n",
    "#List Comprehension\n",
    "squares = [i**2 for i in range(10)]\n",
    "print(squares)"
   ],
   "metadata": {
    "collapsed": false,
    "pycharm": {
     "name": "#%%\n"
    }
   }
  },
  {
   "cell_type": "code",
   "execution_count": 83,
   "outputs": [
    {
     "name": "stdout",
     "output_type": "stream",
     "text": [
      "[-20, -40, 20, 40, 100]\n",
      "[10, 20, 50]\n",
      "[(0, 0), (1, 1), (2, 4), (3, 9), (4, 16), (5, 25), (6, 36), (7, 49), (8, 64), (9, 81), (10, 100)]\n"
     ]
    }
   ],
   "source": [
    "lst = [-10, -20, 10, 20, 50]\n",
    "new_list = [i*2 for i in lst]\n",
    "print(new_list)\n",
    "new_list = [i for i in lst if i > 0]\n",
    "print(new_list)\n",
    "\n",
    "new_list = [(i, i**2) for i in range(11)]\n",
    "print(new_list)"
   ],
   "metadata": {
    "collapsed": false,
    "pycharm": {
     "name": "#%%\n"
    }
   }
  },
  {
   "cell_type": "code",
   "execution_count": 84,
   "outputs": [
    {
     "name": "stdout",
     "output_type": "stream",
     "text": [
      "[[1, 2, 6], [3, 7, 7], [5, 9, 2], [1, 2, 3]]\n",
      "[[1, 2, 6], [3, 7, 7], [5, 9, 2], [1, 2, 3]]\n"
     ]
    }
   ],
   "source": [
    "matrix = [[1,3,5,1], [2,7,9,2], [6,7,2,3]]\n",
    "transposed_matrix = []\n",
    "for c in range(4):\n",
    "    lst = []\n",
    "    for row in matrix:\n",
    "        lst.append(row[c])\n",
    "    transposed_matrix.append(lst)\n",
    "print(transposed_matrix)\n",
    "\n",
    "transposed = [[row[i] for row in matrix] for i in range(4)]\n",
    "print(transposed)"
   ],
   "metadata": {
    "collapsed": false,
    "pycharm": {
     "name": "#%%\n"
    }
   }
  },
  {
   "cell_type": "code",
   "execution_count": 84,
   "outputs": [],
   "source": [],
   "metadata": {
    "collapsed": false,
    "pycharm": {
     "name": "#%%\n"
    }
   }
  }
 ],
 "metadata": {
  "kernelspec": {
   "display_name": "Python 3",
   "language": "python",
   "name": "python3"
  },
  "language_info": {
   "codemirror_mode": {
    "name": "ipython",
    "version": 3
   },
   "file_extension": ".py",
   "mimetype": "text/x-python",
   "name": "python",
   "nbconvert_exporter": "python",
   "pygments_lexer": "ipython3",
   "version": "3.8.3"
  }
 },
 "nbformat": 4,
 "nbformat_minor": 0
}