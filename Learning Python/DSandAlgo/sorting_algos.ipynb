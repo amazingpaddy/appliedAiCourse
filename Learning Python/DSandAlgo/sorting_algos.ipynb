{
 "cells": [
  {
   "cell_type": "markdown",
   "metadata": {
    "collapsed": false
   },
   "source": [
    "# Sorting Alogorithms\n"
   ]
  },
  {
   "cell_type": "code",
   "execution_count": 1,
   "metadata": {
    "collapsed": true
   },
   "outputs": [],
   "source": [
    "input_list = [7, 88, 15, 4, 22, 21, 78, 65, 1, 27, 6, 2, 95, 41]"
   ]
  },
  {
   "cell_type": "markdown",
   "source": [
    "#Insertion Sort"
   ],
   "metadata": {
    "collapsed": false
   }
  },
  {
   "cell_type": "code",
   "execution_count": 5,
   "metadata": {
    "collapsed": false,
    "pycharm": {
     "name": "#%%\n"
    }
   },
   "outputs": [
    {
     "name": "stdout",
     "output_type": "stream",
     "text": [
      "accessing index - 1 and value - 88\n",
      "Current index - 1, current value - 88, previous index - 0, prev_value - 7\n",
      "accessing index - 2 and value - 15\n",
      "Current index - 2, current value - 15, previous index - 1, prev_value - 88\n",
      "Current index - 1, current value - 15, previous index - 0, prev_value - 7\n",
      "accessing index - 3 and value - 4\n",
      "Current index - 3, current value - 4, previous index - 2, prev_value - 88\n",
      "Current index - 2, current value - 4, previous index - 1, prev_value - 15\n",
      "Current index - 1, current value - 4, previous index - 0, prev_value - 7\n",
      "accessing index - 4 and value - 22\n",
      "Current index - 4, current value - 22, previous index - 3, prev_value - 88\n",
      "Current index - 3, current value - 22, previous index - 2, prev_value - 15\n",
      "accessing index - 5 and value - 21\n",
      "Current index - 5, current value - 21, previous index - 4, prev_value - 88\n",
      "Current index - 4, current value - 21, previous index - 3, prev_value - 22\n",
      "Current index - 3, current value - 21, previous index - 2, prev_value - 15\n",
      "accessing index - 6 and value - 78\n",
      "Current index - 6, current value - 78, previous index - 5, prev_value - 88\n",
      "Current index - 5, current value - 78, previous index - 4, prev_value - 22\n",
      "accessing index - 7 and value - 65\n",
      "Current index - 7, current value - 65, previous index - 6, prev_value - 88\n",
      "Current index - 6, current value - 65, previous index - 5, prev_value - 78\n",
      "Current index - 5, current value - 65, previous index - 4, prev_value - 22\n",
      "accessing index - 8 and value - 1\n",
      "Current index - 8, current value - 1, previous index - 7, prev_value - 88\n",
      "Current index - 7, current value - 1, previous index - 6, prev_value - 78\n",
      "Current index - 6, current value - 1, previous index - 5, prev_value - 65\n",
      "Current index - 5, current value - 1, previous index - 4, prev_value - 22\n",
      "Current index - 4, current value - 1, previous index - 3, prev_value - 21\n",
      "Current index - 3, current value - 1, previous index - 2, prev_value - 15\n",
      "Current index - 2, current value - 1, previous index - 1, prev_value - 7\n",
      "Current index - 1, current value - 1, previous index - 0, prev_value - 4\n",
      "accessing index - 9 and value - 27\n",
      "Current index - 9, current value - 27, previous index - 8, prev_value - 88\n",
      "Current index - 8, current value - 27, previous index - 7, prev_value - 78\n",
      "Current index - 7, current value - 27, previous index - 6, prev_value - 65\n",
      "Current index - 6, current value - 27, previous index - 5, prev_value - 22\n",
      "accessing index - 10 and value - 6\n",
      "Current index - 10, current value - 6, previous index - 9, prev_value - 88\n",
      "Current index - 9, current value - 6, previous index - 8, prev_value - 78\n",
      "Current index - 8, current value - 6, previous index - 7, prev_value - 65\n",
      "Current index - 7, current value - 6, previous index - 6, prev_value - 27\n",
      "Current index - 6, current value - 6, previous index - 5, prev_value - 22\n",
      "Current index - 5, current value - 6, previous index - 4, prev_value - 21\n",
      "Current index - 4, current value - 6, previous index - 3, prev_value - 15\n",
      "Current index - 3, current value - 6, previous index - 2, prev_value - 7\n",
      "Current index - 2, current value - 6, previous index - 1, prev_value - 4\n",
      "accessing index - 11 and value - 2\n",
      "Current index - 11, current value - 2, previous index - 10, prev_value - 88\n",
      "Current index - 10, current value - 2, previous index - 9, prev_value - 78\n",
      "Current index - 9, current value - 2, previous index - 8, prev_value - 65\n",
      "Current index - 8, current value - 2, previous index - 7, prev_value - 27\n",
      "Current index - 7, current value - 2, previous index - 6, prev_value - 22\n",
      "Current index - 6, current value - 2, previous index - 5, prev_value - 21\n",
      "Current index - 5, current value - 2, previous index - 4, prev_value - 15\n",
      "Current index - 4, current value - 2, previous index - 3, prev_value - 7\n",
      "Current index - 3, current value - 2, previous index - 2, prev_value - 6\n",
      "Current index - 2, current value - 2, previous index - 1, prev_value - 4\n",
      "Current index - 1, current value - 2, previous index - 0, prev_value - 1\n",
      "accessing index - 12 and value - 95\n",
      "Current index - 12, current value - 95, previous index - 11, prev_value - 88\n",
      "accessing index - 13 and value - 41\n",
      "Current index - 13, current value - 41, previous index - 12, prev_value - 95\n",
      "Current index - 12, current value - 41, previous index - 11, prev_value - 88\n",
      "Current index - 11, current value - 41, previous index - 10, prev_value - 78\n",
      "Current index - 10, current value - 41, previous index - 9, prev_value - 65\n",
      "Current index - 9, current value - 41, previous index - 8, prev_value - 27\n",
      "[1, 2, 4, 6, 7, 15, 21, 22, 27, 41, 65, 78, 88, 95]\n"
     ]
    }
   ],
   "source": [
    "def insertion_sort(input_lst: list):\n",
    "    for i in range(1, len(input_lst)):\n",
    "        print(f\"accessing index - {i} and value - {input_lst[i]}\")\n",
    "        current_index = i\n",
    "        while current_index > 0:\n",
    "            previous_index = current_index - 1\n",
    "            current_value = input_lst[current_index]\n",
    "            previous_value = input_lst[previous_index]\n",
    "            print(f\"Current index - {current_index}, current value - {current_value}, previous index - {previous_index}, prev_value - {previous_value}\")\n",
    "            if current_value < previous_value:\n",
    "                input_lst[previous_index] = current_value\n",
    "                input_lst[current_index] = previous_value\n",
    "                current_index = current_index - 1\n",
    "            else:\n",
    "                break\n",
    "    print(input_lst)\n",
    "\n",
    "\n",
    "\n",
    "insertion_sort(input_list)\n"
   ]
  },
  {
   "cell_type": "code",
   "execution_count": null,
   "metadata": {
    "collapsed": false,
    "pycharm": {
     "name": "#%%\n"
    }
   },
   "outputs": [],
   "source": []
  }
 ],
 "metadata": {
  "kernelspec": {
   "display_name": "Python 3",
   "language": "python",
   "name": "python3"
  },
  "language_info": {
   "codemirror_mode": {
    "name": "ipython",
    "version": 2
   },
   "file_extension": ".py",
   "mimetype": "text/x-python",
   "name": "python",
   "nbconvert_exporter": "python",
   "pygments_lexer": "ipython2",
   "version": "2.7.6"
  }
 },
 "nbformat": 4,
 "nbformat_minor": 0
}