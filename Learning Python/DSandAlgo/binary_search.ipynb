{
 "cells": [
  {
   "cell_type": "markdown",
   "metadata": {
    "collapsed": false
   },
   "source": [
    "# Sorting Alogorithms\n"
   ]
  },
  {
   "cell_type": "code",
   "execution_count": 2,
   "metadata": {
    "collapsed": true
   },
   "outputs": [
    {
     "name": "stdout",
     "output_type": "stream",
     "text": [
      "[7, 88, 15, 4, 22, 21, 78, 65, 1, 27, 6, 2, 95, 41]\n",
      "[1, 2, 4, 6, 7, 15, 21, 22, 27, 41, 65, 78, 88, 95]\n"
     ]
    }
   ],
   "source": [
    "input_list = [7, 88, 15, 4, 22, 21, 78, 65, 1, 27, 6, 2, 95, 41]\n",
    "sorted_list = sorted(input_list)\n",
    "print(input_list)\n",
    "print(sorted_list)"
   ]
  },
  {
   "cell_type": "code",
   "execution_count": 5,
   "metadata": {
    "collapsed": false,
    "pycharm": {
     "name": "#%%\n"
    }
   },
   "outputs": [
    {
     "name": "stdout",
     "output_type": "stream",
     "text": [
      "[1, 2, 4, 6, 7, 15, 21, 22, 27, 41, 65, 78, 88, 95]\n",
      "7.0\n"
     ]
    }
   ],
   "source": [
    "def find_num_in_lst(sorted_list: list, num):\n",
    "    list_size = len(sorted_list)\n",
    "    if list_size == 0: return -1\n",
    "    mid = abs(list_size / 2)\n",
    "    \n",
    "\n",
    "find_num_in_lst(sorted_list, 5)"
   ]
  },
  {
   "cell_type": "code",
   "execution_count": null,
   "metadata": {
    "collapsed": false,
    "pycharm": {
     "name": "#%%\n"
    }
   },
   "outputs": [],
   "source": []
  }
 ],
 "metadata": {
  "kernelspec": {
   "display_name": "Python 3",
   "language": "python",
   "name": "python3"
  },
  "language_info": {
   "codemirror_mode": {
    "name": "ipython",
    "version": 2
   },
   "file_extension": ".py",
   "mimetype": "text/x-python",
   "name": "python",
   "nbconvert_exporter": "python",
   "pygments_lexer": "ipython2",
   "version": "2.7.6"
  }
 },
 "nbformat": 4,
 "nbformat_minor": 0
}
