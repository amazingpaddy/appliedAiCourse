{
 "cells": [
  {
   "cell_type": "code",
   "execution_count": 31,
   "metadata": {
    "collapsed": true
   },
   "outputs": [
    {
     "name": "stdout",
     "output_type": "stream",
     "text": [
      "['Paddy', 1, 1.24]\n"
     ]
    }
   ],
   "source": [
    "emptyList = []\n",
    "listWithOnlyStrings = [\"Paddy\", \"Uma\"]\n",
    "listWithIntegers = [1, 2]\n",
    "listOfLists = [[1, 2], [2, 3]]\n",
    "listWithDiffTypes = [\"Paddy\", 1, 1.24]\n",
    "\n",
    "print(listWithDiffTypes)"
   ]
  },
  {
   "cell_type": "markdown",
   "metadata": {
    "collapsed": false
   },
   "source": []
  },
  {
   "cell_type": "code",
   "execution_count": 32,
   "metadata": {
    "collapsed": false,
    "pycharm": {
     "name": "#%%\n"
    }
   },
   "outputs": [
    {
     "name": "stdout",
     "output_type": "stream",
     "text": [
      "Size of the list - 3\n"
     ]
    }
   ],
   "source": [
    "print(\"Size of the list - {}\".format(len(listWithDiffTypes)))"
   ]
  },
  {
   "cell_type": "code",
   "execution_count": 33,
   "metadata": {
    "collapsed": false,
    "pycharm": {
     "name": "#%%\n"
    }
   },
   "outputs": [
    {
     "name": "stdout",
     "output_type": "stream",
     "text": [
      "[1, 2, 4]\n",
      "[1, 2, 3, 4]\n"
     ]
    }
   ],
   "source": [
    "listWithIntegers.append(4)\n",
    "print(listWithIntegers)\n",
    "\n",
    "listWithIntegers.insert(2, 3)\n",
    "print(listWithIntegers)\n"
   ]
  },
  {
   "cell_type": "code",
   "execution_count": 34,
   "metadata": {
    "collapsed": false,
    "pycharm": {
     "name": "#%%\n"
    }
   },
   "outputs": [
    {
     "name": "stdout",
     "output_type": "stream",
     "text": [
      "['a', 'b', 'c']\n"
     ]
    }
   ],
   "source": [
    "lst = [\"a\", \"b\", \"c\", \"z\"]\n",
    "lst.remove(\"z\")\n",
    "print(lst)"
   ]
  },
  {
   "cell_type": "code",
   "execution_count": 35,
   "metadata": {
    "collapsed": false,
    "pycharm": {
     "name": "#%%\n"
    }
   },
   "outputs": [
    {
     "name": "stdout",
     "output_type": "stream",
     "text": [
      "['one', 'two', 'three', ['five', 'six']]\n",
      "['one', 'two', 'three', ['five', 'six'], 'five', 'six']\n"
     ]
    }
   ],
   "source": [
    "lst1 = [\"one\", \"two\", \"three\"]\n",
    "lst2 = [\"five\", \"six\"]\n",
    "\n",
    "lst1.append(lst2)\n",
    "print(lst1)\n",
    "lst1.extend(lst2)\n",
    "print(lst1)\n",
    "\n"
   ]
  },
  {
   "cell_type": "code",
   "execution_count": 36,
   "metadata": {
    "collapsed": false,
    "pycharm": {
     "name": "#%%\n"
    }
   },
   "outputs": [
    {
     "name": "stdout",
     "output_type": "stream",
     "text": [
      "['one', 'two', 'four', 'five']\n",
      "Popped element - two\n",
      "['one', 'four', 'five']\n",
      "['one', 'five']\n"
     ]
    }
   ],
   "source": [
    "lst1 = [\"one\", \"two\", \"three\", \"four\", \"five\"]\n",
    "del lst1[2]\n",
    "print(lst1)\n",
    "\n",
    "a = lst1.pop(1)\n",
    "print(\"Popped element - {}\".format(a))\n",
    "print(lst1)\n",
    "\n",
    "lst1.remove(\"four\")\n",
    "print(lst1)"
   ]
  },
  {
   "cell_type": "code",
   "execution_count": 37,
   "outputs": [
    {
     "name": "stdout",
     "output_type": "stream",
     "text": [
      "Existing..\n",
      "Not Found\n"
     ]
    }
   ],
   "source": [
    "lst = [\"one\", 1, \"x\", 100, 1.25]\n",
    "\n",
    "if \"one\" in lst:\n",
    "    print(\"Existing..\")\n",
    "\n",
    "if 3 not in lst:\n",
    "    print(\"Not Found\")"
   ],
   "metadata": {
    "collapsed": false,
    "pycharm": {
     "name": "#%%\n"
    }
   }
  },
  {
   "cell_type": "code",
   "execution_count": 38,
   "outputs": [
    {
     "name": "stdout",
     "output_type": "stream",
     "text": [
      "[1.25, 100, 'x', 1, 'one']\n"
     ]
    }
   ],
   "source": [
    "lst = [\"one\", 1, \"x\", 100, 1.25]\n",
    "lst.reverse()\n",
    "print(lst)"
   ],
   "metadata": {
    "collapsed": false,
    "pycharm": {
     "name": "#%%\n"
    }
   }
  },
  {
   "cell_type": "code",
   "execution_count": 43,
   "outputs": [
    {
     "name": "stdout",
     "output_type": "stream",
     "text": [
      "['five', 'four', 'one', 'three', 'two']\n",
      "Sorted list -->  [-17, -15, -9, 0, 1, 6, 11, 12, 25, 1000]\n",
      "Original list --->  [1000, -15, -17, 0, 25, 6, 12, 11, -9, 1]\n",
      "Reverse Sorted list -->  [1000, 25, 12, 11, 6, 1, 0, -9, -15, -17]\n",
      "Original list after calling sort function on list --->  [-17, -15, -9, 0, 1, 6, 11, 12, 25, 1000]\n",
      "Original list after calling sort function on list reverse --->  [1000, 25, 12, 11, 6, 1, 0, -9, -15, -17]\n"
     ]
    }
   ],
   "source": [
    "lst = [\"one\", \"two\", \"three\", \"four\", \"five\"]\n",
    "sorted_list = sorted(lst)\n",
    "print(sorted_list)\n",
    "\n",
    "lst1 = [1000, -15, -17, 0, 25, 6, 12, 11, -9, 1]\n",
    "sorted_list = sorted(lst1)\n",
    "print(\"Sorted list --> \", sorted_list)\n",
    "print(\"Original list ---> \", lst1)\n",
    "\n",
    "sorted_list_rev = sorted(lst1, reverse=True)\n",
    "print(\"Reverse Sorted list --> \", sorted_list_rev)\n",
    "\n",
    "lst1.sort()\n",
    "print(\"Original list after calling sort function on list ---> \", lst1)\n",
    "lst1.sort(reverse=True)\n",
    "print(\"Original list after calling sort function on list reverse ---> \", lst1)"
   ],
   "metadata": {
    "collapsed": false,
    "pycharm": {
     "name": "#%%\n"
    }
   }
  },
  {
   "cell_type": "code",
   "execution_count": 44,
   "outputs": [
    {
     "name": "stdout",
     "output_type": "stream",
     "text": [
      "Original list - >  ['one', 'two', 'three', 'four', 'five', 'six']\n",
      "referenced list - >  ['one', 'two', 'three', 'four', 'five', 'six']\n"
     ]
    }
   ],
   "source": [
    "lst = [\"one\", \"two\", \"three\", \"four\", \"five\"]\n",
    "abc = lst\n",
    "abc.append(\"six\")\n",
    "print(\"Original list - > \", lst)\n",
    "print(\"referenced list - > \", abc)"
   ],
   "metadata": {
    "collapsed": false,
    "pycharm": {
     "name": "#%%\n"
    }
   }
  },
  {
   "cell_type": "code",
   "execution_count": 47,
   "outputs": [
    {
     "name": "stdout",
     "output_type": "stream",
     "text": [
      "['one', 'two', 'three', 'four', 'five', 'six']\n",
      "['This', 'is', 'Applied', 'AI', 'course']\n"
     ]
    }
   ],
   "source": [
    "s = \"one,two,three,four,five,six\"\n",
    "slist = s.split(\",\")\n",
    "print(slist)\n",
    "\n",
    "s1 = \"This is Applied AI course\"\n",
    "slist = s1.split()\n",
    "print(slist)"
   ],
   "metadata": {
    "collapsed": false,
    "pycharm": {
     "name": "#%%\n"
    }
   }
  },
  {
   "cell_type": "code",
   "execution_count": 49,
   "outputs": [
    {
     "name": "stdout",
     "output_type": "stream",
     "text": [
      "five\n",
      "two\n"
     ]
    }
   ],
   "source": [
    "lst = [\"one\", \"two\", \"three\", \"four\", \"five\"]\n",
    "# index -1 means its last element. -1, -2 so on.\n",
    "print(lst[-1])\n",
    "print(lst[-4])"
   ],
   "metadata": {
    "collapsed": false,
    "pycharm": {
     "name": "#%%\n"
    }
   }
  },
  {
   "cell_type": "code",
   "execution_count": 55,
   "outputs": [
    {
     "name": "stdout",
     "output_type": "stream",
     "text": [
      "[10, 20, 30, 40, 50, 60, 70, 80, 90, 100]\n",
      "[10, 20, 30, 40]\n",
      "[30, 40, 50, 60, 70]\n",
      "[30, 50, 70]\n",
      "[10, 30, 50, 70]\n",
      "[30, 50, 70, 90]\n"
     ]
    }
   ],
   "source": [
    "#List Slicing..\n",
    "lst = [10, 20, 30, 40, 50, 60, 70, 80, 90, 100]\n",
    "#print everything\n",
    "print(lst[:])\n",
    "\n",
    "#Print first 4 elements\n",
    "print(lst[:4])\n",
    "\n",
    "#print from 3rd element to 7th element\n",
    "print(lst[2:7])\n",
    "\n",
    "# lst[startIndex : endIndex : step size]\n",
    "print(lst[2 : 7 : 2])\n",
    "\n",
    "print(lst[ : 7 : 2])\n",
    "\n",
    "print(lst[2 :  : 2])"
   ],
   "metadata": {
    "collapsed": false,
    "pycharm": {
     "name": "#%%\n"
    }
   }
  },
  {
   "cell_type": "code",
   "execution_count": 56,
   "outputs": [
    {
     "name": "stdout",
     "output_type": "stream",
     "text": [
      "['one', 'two', 4, 5]\n"
     ]
    }
   ],
   "source": [
    "lst = [\"one\", \"two\"]\n",
    "lst1 = lst + [4, 5]\n",
    "print(lst1)"
   ],
   "metadata": {
    "collapsed": false,
    "pycharm": {
     "name": "#%%\n"
    }
   }
  },
  {
   "cell_type": "code",
   "execution_count": 59,
   "outputs": [
    {
     "name": "stdout",
     "output_type": "stream",
     "text": [
      "4\n"
     ]
    }
   ],
   "source": [
    "lst = [1 , 2, 1, 5, 7, 7, 1, 5, 1, \"one\"]\n",
    "print(lst.count(1))"
   ],
   "metadata": {
    "collapsed": false,
    "pycharm": {
     "name": "#%%\n"
    }
   }
  },
  {
   "cell_type": "code",
   "execution_count": null,
   "outputs": [],
   "source": [],
   "metadata": {
    "collapsed": false,
    "pycharm": {
     "name": "#%%\n"
    }
   }
  }
 ],
 "metadata": {
  "kernelspec": {
   "display_name": "Python 3",
   "language": "python",
   "name": "python3"
  },
  "language_info": {
   "codemirror_mode": {
    "name": "ipython",
    "version": 3
   },
   "file_extension": ".py",
   "mimetype": "text/x-python",
   "name": "python",
   "nbconvert_exporter": "python",
   "pygments_lexer": "ipython3",
   "version": "3.8.3"
  }
 },
 "nbformat": 4,
 "nbformat_minor": 0
}