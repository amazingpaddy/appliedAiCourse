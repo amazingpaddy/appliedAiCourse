{
 "cells": [
  {
   "cell_type": "code",
   "execution_count": 1,
   "metadata": {},
   "outputs": [],
   "source": [
    "from datetime import datetime"
   ]
  },
  {
   "cell_type": "code",
   "execution_count": 3,
   "metadata": {},
   "outputs": [
    {
     "data": {
      "text/plain": [
       "datetime.datetime(2022, 3, 10, 22, 25, 13, 84500)"
      ]
     },
     "execution_count": 3,
     "metadata": {},
     "output_type": "execute_result"
    }
   ],
   "source": [
    "datetime.now()"
   ]
  },
  {
   "cell_type": "code",
   "execution_count": 7,
   "metadata": {},
   "outputs": [
    {
     "name": "stdout",
     "output_type": "stream",
     "text": [
      "The stock price of the Apple is 200\n",
      "The stock price of the Google is 300\n",
      "The stock price of the Microsoft is 1000\n",
      "0 -->  The stock price of the Apple is 200\n",
      "1 -->  The stock price of the Google is 300\n",
      "2 -->  The stock price of the Microsoft is 1000\n"
     ]
    }
   ],
   "source": [
    "stock_prices = [('Apple', 200), ('Google', 300), ('Microsoft', 1000)]\n",
    "for comp, price in stock_prices:\n",
    "    print(f\"The stock price of the {comp} is {price}\")\n",
    "\n",
    "for index, (comp, price) in enumerate(stock_prices):\n",
    "    print(f\"{index} -->  The stock price of the {comp} is {price}\")\n"
   ]
  },
  {
   "cell_type": "code",
   "execution_count": 11,
   "metadata": {},
   "outputs": [],
   "source": [
    "def play_guess():\n",
    "    guess = ''\n",
    "    attempt = 0\n",
    "    while guess not in ['0', '1', '2']:\n",
    "        guess = input(\"Pick a number - 1, 2 or 3\")\n",
    "        print(f\"Number of attempts so far - {attempt}\")\n",
    "        attempt = attempt + 1\n",
    "    return int(guess)"
   ]
  },
  {
   "cell_type": "code",
   "execution_count": 12,
   "metadata": {},
   "outputs": [
    {
     "name": "stdout",
     "output_type": "stream",
     "text": [
      "Number of attempts so far - 0\n",
      "Number of attempts so far - 1\n",
      "Number of attempts so far - 2\n",
      "Number of attempts so far - 3\n",
      "Number of attempts so far - 4\n",
      "Number of attempts so far - 5\n",
      "Number of attempts so far - 6\n",
      "Number of attempts so far - 7\n",
      "Number of attempts so far - 8\n"
     ]
    },
    {
     "data": {
      "text/plain": [
       "1"
      ]
     },
     "execution_count": 12,
     "metadata": {},
     "output_type": "execute_result"
    }
   ],
   "source": [
    "play_guess()"
   ]
  },
  {
   "cell_type": "code",
   "execution_count": 15,
   "metadata": {},
   "outputs": [],
   "source": [
    "def add_summ(*args):\n",
    "    return sum(args)"
   ]
  },
  {
   "cell_type": "code",
   "execution_count": 16,
   "metadata": {},
   "outputs": [
    {
     "name": "stdout",
     "output_type": "stream",
     "text": [
      "<class 'tuple'>\n"
     ]
    },
    {
     "data": {
      "text/plain": [
       "60"
      ]
     },
     "execution_count": 16,
     "metadata": {},
     "output_type": "execute_result"
    }
   ],
   "source": [
    "add_summ(10, 20, 30)"
   ]
  },
  {
   "cell_type": "code",
   "execution_count": 19,
   "metadata": {},
   "outputs": [],
   "source": [
    "def myFunc(**kwargs):\n",
    "    if 'fruit' in kwargs:\n",
    "        print(f\"My fruit of choice is {kwargs['fruit']}\")"
   ]
  },
  {
   "cell_type": "code",
   "execution_count": 20,
   "metadata": {},
   "outputs": [
    {
     "name": "stdout",
     "output_type": "stream",
     "text": [
      "My fruit of choice is Apple\n"
     ]
    }
   ],
   "source": [
    "myFunc(fruit='Apple')"
   ]
  },
  {
   "cell_type": "code",
   "execution_count": 23,
   "metadata": {},
   "outputs": [],
   "source": [
    "def myFunc(*args, **kwargs):\n",
    "    print(f\"I would like {args[0]} {kwargs['fruit']}\")"
   ]
  },
  {
   "cell_type": "code",
   "execution_count": 24,
   "metadata": {},
   "outputs": [
    {
     "name": "stdout",
     "output_type": "stream",
     "text": [
      "I would like 15 Apple\n"
     ]
    }
   ],
   "source": [
    "myFunc(15, 10, fruit='Apple')"
   ]
  },
  {
   "cell_type": "code",
   "execution_count": null,
   "metadata": {},
   "outputs": [],
   "source": []
  }
 ],
 "metadata": {
  "interpreter": {
   "hash": "b3ba2566441a7c06988d0923437866b63cedc61552a5af99d1f4fb67d367b25f"
  },
  "kernelspec": {
   "display_name": "Python 3.9.7 ('base')",
   "language": "python",
   "name": "python3"
  },
  "language_info": {
   "codemirror_mode": {
    "name": "ipython",
    "version": 3
   },
   "file_extension": ".py",
   "mimetype": "text/x-python",
   "name": "python",
   "nbconvert_exporter": "python",
   "pygments_lexer": "ipython3",
   "version": "3.9.7"
  },
  "orig_nbformat": 4
 },
 "nbformat": 4,
 "nbformat_minor": 2
}
